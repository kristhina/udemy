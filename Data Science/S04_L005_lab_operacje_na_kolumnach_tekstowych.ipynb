{
 "cells": [
  {
   "cell_type": "code",
   "execution_count": 1,
   "metadata": {},
   "outputs": [],
   "source": [
    "import pandas as pd\n",
    "import numpy as np"
   ]
  },
  {
   "cell_type": "code",
   "execution_count": 3,
   "metadata": {},
   "outputs": [
    {
     "output_type": "execute_result",
     "data": {
      "text/plain": "   Rank               Title       Sector  \\\n0     1             Walmart    Retailing   \n1     2  Berkshire Hathaway   Financials   \n2     3               Apple   Technology   \n3     4         Exxon Mobil       Energy   \n4     5            McKesson  Wholesalers   \n\n                                   Industry         Hqlocation  \n0                     General Merchandisers    Bentonville, AR  \n1  Insurance: Property and Casualty (Stock)          Omaha, NE  \n2               Computers, Office Equipment      Cupertino, CA  \n3                        Petroleum Refining         Irving, TX  \n4                  Wholesalers: Health Care  San Francisco, CA  ",
      "text/html": "<div>\n<style scoped>\n    .dataframe tbody tr th:only-of-type {\n        vertical-align: middle;\n    }\n\n    .dataframe tbody tr th {\n        vertical-align: top;\n    }\n\n    .dataframe thead th {\n        text-align: right;\n    }\n</style>\n<table border=\"1\" class=\"dataframe\">\n  <thead>\n    <tr style=\"text-align: right;\">\n      <th></th>\n      <th>Rank</th>\n      <th>Title</th>\n      <th>Sector</th>\n      <th>Industry</th>\n      <th>Hqlocation</th>\n    </tr>\n  </thead>\n  <tbody>\n    <tr>\n      <th>0</th>\n      <td>1</td>\n      <td>Walmart</td>\n      <td>Retailing</td>\n      <td>General Merchandisers</td>\n      <td>Bentonville, AR</td>\n    </tr>\n    <tr>\n      <th>1</th>\n      <td>2</td>\n      <td>Berkshire Hathaway</td>\n      <td>Financials</td>\n      <td>Insurance: Property and Casualty (Stock)</td>\n      <td>Omaha, NE</td>\n    </tr>\n    <tr>\n      <th>2</th>\n      <td>3</td>\n      <td>Apple</td>\n      <td>Technology</td>\n      <td>Computers, Office Equipment</td>\n      <td>Cupertino, CA</td>\n    </tr>\n    <tr>\n      <th>3</th>\n      <td>4</td>\n      <td>Exxon Mobil</td>\n      <td>Energy</td>\n      <td>Petroleum Refining</td>\n      <td>Irving, TX</td>\n    </tr>\n    <tr>\n      <th>4</th>\n      <td>5</td>\n      <td>McKesson</td>\n      <td>Wholesalers</td>\n      <td>Wholesalers: Health Care</td>\n      <td>San Francisco, CA</td>\n    </tr>\n  </tbody>\n</table>\n</div>"
     },
     "metadata": {},
     "execution_count": 3
    }
   ],
   "source": [
    "fortune = pd.read_csv(\"dane/course-files/Fortune_500_2017.csv\", usecols = ['Rank','Title','Industry','Hqlocation','Sector'])\n",
    "fortune.head()"
   ]
  },
  {
   "cell_type": "code",
   "execution_count": 4,
   "metadata": {},
   "outputs": [
    {
     "output_type": "execute_result",
     "data": {
      "text/plain": "   Rank               Title       Sector  \\\n0     1             Walmart    RETAILING   \n1     2  Berkshire Hathaway   FINANCIALS   \n2     3               Apple   TECHNOLOGY   \n3     4         Exxon Mobil       ENERGY   \n4     5            McKesson  WHOLESALERS   \n\n                                   Industry         Hqlocation  \n0                     General Merchandisers    Bentonville, AR  \n1  Insurance: Property and Casualty (Stock)          Omaha, NE  \n2               Computers, Office Equipment      Cupertino, CA  \n3                        Petroleum Refining         Irving, TX  \n4                  Wholesalers: Health Care  San Francisco, CA  ",
      "text/html": "<div>\n<style scoped>\n    .dataframe tbody tr th:only-of-type {\n        vertical-align: middle;\n    }\n\n    .dataframe tbody tr th {\n        vertical-align: top;\n    }\n\n    .dataframe thead th {\n        text-align: right;\n    }\n</style>\n<table border=\"1\" class=\"dataframe\">\n  <thead>\n    <tr style=\"text-align: right;\">\n      <th></th>\n      <th>Rank</th>\n      <th>Title</th>\n      <th>Sector</th>\n      <th>Industry</th>\n      <th>Hqlocation</th>\n    </tr>\n  </thead>\n  <tbody>\n    <tr>\n      <th>0</th>\n      <td>1</td>\n      <td>Walmart</td>\n      <td>RETAILING</td>\n      <td>General Merchandisers</td>\n      <td>Bentonville, AR</td>\n    </tr>\n    <tr>\n      <th>1</th>\n      <td>2</td>\n      <td>Berkshire Hathaway</td>\n      <td>FINANCIALS</td>\n      <td>Insurance: Property and Casualty (Stock)</td>\n      <td>Omaha, NE</td>\n    </tr>\n    <tr>\n      <th>2</th>\n      <td>3</td>\n      <td>Apple</td>\n      <td>TECHNOLOGY</td>\n      <td>Computers, Office Equipment</td>\n      <td>Cupertino, CA</td>\n    </tr>\n    <tr>\n      <th>3</th>\n      <td>4</td>\n      <td>Exxon Mobil</td>\n      <td>ENERGY</td>\n      <td>Petroleum Refining</td>\n      <td>Irving, TX</td>\n    </tr>\n    <tr>\n      <th>4</th>\n      <td>5</td>\n      <td>McKesson</td>\n      <td>WHOLESALERS</td>\n      <td>Wholesalers: Health Care</td>\n      <td>San Francisco, CA</td>\n    </tr>\n  </tbody>\n</table>\n</div>"
     },
     "metadata": {},
     "execution_count": 4
    }
   ],
   "source": [
    "fortune['Sector'] = fortune['Sector'].str.upper()\n",
    "fortune.head()"
   ]
  },
  {
   "cell_type": "code",
   "execution_count": 8,
   "metadata": {},
   "outputs": [],
   "source": [
    "isComp = fortune['Industry'].str.lower().str.contains(\"comp\")"
   ]
  },
  {
   "cell_type": "code",
   "execution_count": 10,
   "metadata": {},
   "outputs": [
    {
     "output_type": "execute_result",
     "data": {
      "text/plain": "    Rank              Title      Sector  \\\n2      3              Apple  TECHNOLOGY   \n27    28          Microsoft  TECHNOLOGY   \n40    41  Dell Technologies  TECHNOLOGY   \n46    47              Intel  TECHNOLOGY   \n60    61                 HP  TECHNOLOGY   \n\n                                          Industry       Hqlocation  \n2                      Computers, Office Equipment    Cupertino, CA  \n27                               Computer Software      Redmond, WA  \n40                     Computers, Office Equipment   Round Rock, TX  \n46  Semiconductors and Other Electronic Components  Santa Clara, CA  \n60                     Computers, Office Equipment    Palo Alto, CA  ",
      "text/html": "<div>\n<style scoped>\n    .dataframe tbody tr th:only-of-type {\n        vertical-align: middle;\n    }\n\n    .dataframe tbody tr th {\n        vertical-align: top;\n    }\n\n    .dataframe thead th {\n        text-align: right;\n    }\n</style>\n<table border=\"1\" class=\"dataframe\">\n  <thead>\n    <tr style=\"text-align: right;\">\n      <th></th>\n      <th>Rank</th>\n      <th>Title</th>\n      <th>Sector</th>\n      <th>Industry</th>\n      <th>Hqlocation</th>\n    </tr>\n  </thead>\n  <tbody>\n    <tr>\n      <th>2</th>\n      <td>3</td>\n      <td>Apple</td>\n      <td>TECHNOLOGY</td>\n      <td>Computers, Office Equipment</td>\n      <td>Cupertino, CA</td>\n    </tr>\n    <tr>\n      <th>27</th>\n      <td>28</td>\n      <td>Microsoft</td>\n      <td>TECHNOLOGY</td>\n      <td>Computer Software</td>\n      <td>Redmond, WA</td>\n    </tr>\n    <tr>\n      <th>40</th>\n      <td>41</td>\n      <td>Dell Technologies</td>\n      <td>TECHNOLOGY</td>\n      <td>Computers, Office Equipment</td>\n      <td>Round Rock, TX</td>\n    </tr>\n    <tr>\n      <th>46</th>\n      <td>47</td>\n      <td>Intel</td>\n      <td>TECHNOLOGY</td>\n      <td>Semiconductors and Other Electronic Components</td>\n      <td>Santa Clara, CA</td>\n    </tr>\n    <tr>\n      <th>60</th>\n      <td>61</td>\n      <td>HP</td>\n      <td>TECHNOLOGY</td>\n      <td>Computers, Office Equipment</td>\n      <td>Palo Alto, CA</td>\n    </tr>\n  </tbody>\n</table>\n</div>"
     },
     "metadata": {},
     "execution_count": 10
    }
   ],
   "source": [
    "fortune[isComp].head()"
   ]
  },
  {
   "cell_type": "code",
   "execution_count": 11,
   "metadata": {},
   "outputs": [],
   "source": [
    "fortune[['City', 'State']] = fortune['Hqlocation'].str.split(',', expand=True)"
   ]
  },
  {
   "cell_type": "code",
   "execution_count": 12,
   "metadata": {},
   "outputs": [
    {
     "output_type": "execute_result",
     "data": {
      "text/plain": "   Rank               Title       Sector  \\\n0     1             Walmart    RETAILING   \n1     2  Berkshire Hathaway   FINANCIALS   \n2     3               Apple   TECHNOLOGY   \n3     4         Exxon Mobil       ENERGY   \n4     5            McKesson  WHOLESALERS   \n\n                                   Industry         Hqlocation           City  \\\n0                     General Merchandisers    Bentonville, AR    Bentonville   \n1  Insurance: Property and Casualty (Stock)          Omaha, NE          Omaha   \n2               Computers, Office Equipment      Cupertino, CA      Cupertino   \n3                        Petroleum Refining         Irving, TX         Irving   \n4                  Wholesalers: Health Care  San Francisco, CA  San Francisco   \n\n  State  \n0    AR  \n1    NE  \n2    CA  \n3    TX  \n4    CA  ",
      "text/html": "<div>\n<style scoped>\n    .dataframe tbody tr th:only-of-type {\n        vertical-align: middle;\n    }\n\n    .dataframe tbody tr th {\n        vertical-align: top;\n    }\n\n    .dataframe thead th {\n        text-align: right;\n    }\n</style>\n<table border=\"1\" class=\"dataframe\">\n  <thead>\n    <tr style=\"text-align: right;\">\n      <th></th>\n      <th>Rank</th>\n      <th>Title</th>\n      <th>Sector</th>\n      <th>Industry</th>\n      <th>Hqlocation</th>\n      <th>City</th>\n      <th>State</th>\n    </tr>\n  </thead>\n  <tbody>\n    <tr>\n      <th>0</th>\n      <td>1</td>\n      <td>Walmart</td>\n      <td>RETAILING</td>\n      <td>General Merchandisers</td>\n      <td>Bentonville, AR</td>\n      <td>Bentonville</td>\n      <td>AR</td>\n    </tr>\n    <tr>\n      <th>1</th>\n      <td>2</td>\n      <td>Berkshire Hathaway</td>\n      <td>FINANCIALS</td>\n      <td>Insurance: Property and Casualty (Stock)</td>\n      <td>Omaha, NE</td>\n      <td>Omaha</td>\n      <td>NE</td>\n    </tr>\n    <tr>\n      <th>2</th>\n      <td>3</td>\n      <td>Apple</td>\n      <td>TECHNOLOGY</td>\n      <td>Computers, Office Equipment</td>\n      <td>Cupertino, CA</td>\n      <td>Cupertino</td>\n      <td>CA</td>\n    </tr>\n    <tr>\n      <th>3</th>\n      <td>4</td>\n      <td>Exxon Mobil</td>\n      <td>ENERGY</td>\n      <td>Petroleum Refining</td>\n      <td>Irving, TX</td>\n      <td>Irving</td>\n      <td>TX</td>\n    </tr>\n    <tr>\n      <th>4</th>\n      <td>5</td>\n      <td>McKesson</td>\n      <td>WHOLESALERS</td>\n      <td>Wholesalers: Health Care</td>\n      <td>San Francisco, CA</td>\n      <td>San Francisco</td>\n      <td>CA</td>\n    </tr>\n  </tbody>\n</table>\n</div>"
     },
     "metadata": {},
     "execution_count": 12
    }
   ],
   "source": [
    "fortune.head()"
   ]
  },
  {
   "cell_type": "code",
   "execution_count": 19,
   "metadata": {},
   "outputs": [],
   "source": [
    "def BuildShortcut(row):\n",
    "    industry = row['Industry']\n",
    "    result = ''\n",
    "    industry = industry.split(' ')\n",
    "    for i in industry:\n",
    "        result += i[0]\n",
    "    return result"
   ]
  },
  {
   "cell_type": "code",
   "execution_count": 20,
   "metadata": {},
   "outputs": [],
   "source": [
    "dict = {'Industry':'Factory Under Newspaper'}"
   ]
  },
  {
   "cell_type": "code",
   "execution_count": 21,
   "metadata": {},
   "outputs": [
    {
     "output_type": "execute_result",
     "data": {
      "text/plain": "'FUN'"
     },
     "metadata": {},
     "execution_count": 21
    }
   ],
   "source": [
    "BuildShortcut(dict)"
   ]
  },
  {
   "cell_type": "code",
   "execution_count": 24,
   "metadata": {},
   "outputs": [],
   "source": [
    "fortune['Industry Short'] = fortune.apply(BuildShortcut, axis = 1)"
   ]
  },
  {
   "cell_type": "code",
   "execution_count": 25,
   "metadata": {},
   "outputs": [
    {
     "output_type": "execute_result",
     "data": {
      "text/plain": "   Rank               Title       Sector  \\\n0     1             Walmart    RETAILING   \n1     2  Berkshire Hathaway   FINANCIALS   \n2     3               Apple   TECHNOLOGY   \n3     4         Exxon Mobil       ENERGY   \n4     5            McKesson  WHOLESALERS   \n\n                                   Industry         Hqlocation           City  \\\n0                     General Merchandisers    Bentonville, AR    Bentonville   \n1  Insurance: Property and Casualty (Stock)          Omaha, NE          Omaha   \n2               Computers, Office Equipment      Cupertino, CA      Cupertino   \n3                        Petroleum Refining         Irving, TX         Irving   \n4                  Wholesalers: Health Care  San Francisco, CA  San Francisco   \n\n  State Industry Short  \n0    AR             GM  \n1    NE          IPaC(  \n2    CA            COE  \n3    TX             PR  \n4    CA            WHC  ",
      "text/html": "<div>\n<style scoped>\n    .dataframe tbody tr th:only-of-type {\n        vertical-align: middle;\n    }\n\n    .dataframe tbody tr th {\n        vertical-align: top;\n    }\n\n    .dataframe thead th {\n        text-align: right;\n    }\n</style>\n<table border=\"1\" class=\"dataframe\">\n  <thead>\n    <tr style=\"text-align: right;\">\n      <th></th>\n      <th>Rank</th>\n      <th>Title</th>\n      <th>Sector</th>\n      <th>Industry</th>\n      <th>Hqlocation</th>\n      <th>City</th>\n      <th>State</th>\n      <th>Industry Short</th>\n    </tr>\n  </thead>\n  <tbody>\n    <tr>\n      <th>0</th>\n      <td>1</td>\n      <td>Walmart</td>\n      <td>RETAILING</td>\n      <td>General Merchandisers</td>\n      <td>Bentonville, AR</td>\n      <td>Bentonville</td>\n      <td>AR</td>\n      <td>GM</td>\n    </tr>\n    <tr>\n      <th>1</th>\n      <td>2</td>\n      <td>Berkshire Hathaway</td>\n      <td>FINANCIALS</td>\n      <td>Insurance: Property and Casualty (Stock)</td>\n      <td>Omaha, NE</td>\n      <td>Omaha</td>\n      <td>NE</td>\n      <td>IPaC(</td>\n    </tr>\n    <tr>\n      <th>2</th>\n      <td>3</td>\n      <td>Apple</td>\n      <td>TECHNOLOGY</td>\n      <td>Computers, Office Equipment</td>\n      <td>Cupertino, CA</td>\n      <td>Cupertino</td>\n      <td>CA</td>\n      <td>COE</td>\n    </tr>\n    <tr>\n      <th>3</th>\n      <td>4</td>\n      <td>Exxon Mobil</td>\n      <td>ENERGY</td>\n      <td>Petroleum Refining</td>\n      <td>Irving, TX</td>\n      <td>Irving</td>\n      <td>TX</td>\n      <td>PR</td>\n    </tr>\n    <tr>\n      <th>4</th>\n      <td>5</td>\n      <td>McKesson</td>\n      <td>WHOLESALERS</td>\n      <td>Wholesalers: Health Care</td>\n      <td>San Francisco, CA</td>\n      <td>San Francisco</td>\n      <td>CA</td>\n      <td>WHC</td>\n    </tr>\n  </tbody>\n</table>\n</div>"
     },
     "metadata": {},
     "execution_count": 25
    }
   ],
   "source": [
    "fortune.head()"
   ]
  }
 ],
 "metadata": {
  "language_info": {
   "codemirror_mode": {
    "name": "ipython",
    "version": 3
   },
   "file_extension": ".py",
   "mimetype": "text/x-python",
   "name": "python",
   "nbconvert_exporter": "python",
   "pygments_lexer": "ipython3",
   "version": "3.8.2-final"
  },
  "orig_nbformat": 2,
  "kernelspec": {
   "name": "python38264bitdatasciencef2t2jzuxvenv755777717192484c92e98af808cd61d4",
   "display_name": "Python 3.8.2 64-bit ('Data_Science-f2T2jZux': venv)"
  }
 },
 "nbformat": 4,
 "nbformat_minor": 2
}