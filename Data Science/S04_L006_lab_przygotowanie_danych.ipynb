{
 "cells": [
  {
   "cell_type": "code",
   "execution_count": 26,
   "metadata": {},
   "outputs": [],
   "source": [
    "import pandas as pd\n",
    "import numpy as np"
   ]
  },
  {
   "cell_type": "code",
   "execution_count": 27,
   "metadata": {},
   "outputs": [
    {
     "output_type": "execute_result",
     "data": {
      "text/plain": "                       status_id  \\\n0  17774451468_10154154735571469   \n1  17774451468_10154146584106469   \n2  17774451468_10154135502911469   \n3  17774451468_10154138120151469   \n4  17774451468_10154135502476469   \n\n                                      status_message  \\\n0  It's time for Mr Bean and Teddy to get ready f...   \n1                                                NaN   \n2                                                NaN   \n3  Mr Bean is ready to do some shopping but bewar...   \n4                                                NaN   \n\n                           link_name status_type  \\\n0  Mr Bean - Preparing To Go Camping       video   \n1                    Timeline Photos       photo   \n2                    Timeline Photos       photo   \n3                    www.youtube.com       video   \n4                    Timeline Photos       photo   \n\n                                         status_link     status_published  \\\n0                       https://youtu.be/fgURU75gTMQ  2016-06-23 11:35:48   \n1  https://www.facebook.com/MrBean/photos/a.10150...  2016-06-21 10:00:01   \n2  https://www.facebook.com/MrBean/photos/a.10150...  2016-06-19 10:00:01   \n3        https://www.youtube.com/watch?v=58Z8J0PbLS8  2016-06-18 11:00:02   \n4  https://www.facebook.com/MrBean/photos/a.10150...  2016-06-17 09:00:01   \n\n   num_reactions  num_comments  num_shares  num_likes  num_loves  num_wows  \\\n0        16570.0         223.0       338.0      16079        166         6   \n1       119886.0        2171.0      1657.0     114008        946       104   \n2            NaN        2395.0     10050.0     218579       2988       188   \n3        20913.0         214.0       257.0      20338        211        20   \n4       223602.0         880.0      2228.0     215591       2872       259   \n\n   num_hahas  num_sads  num_angrys  \n0        320         0           0  \n1       4795        16          17  \n2      13992        52          53  \n3        336         0           8  \n4       4814        27          39  ",
      "text/html": "<div>\n<style scoped>\n    .dataframe tbody tr th:only-of-type {\n        vertical-align: middle;\n    }\n\n    .dataframe tbody tr th {\n        vertical-align: top;\n    }\n\n    .dataframe thead th {\n        text-align: right;\n    }\n</style>\n<table border=\"1\" class=\"dataframe\">\n  <thead>\n    <tr style=\"text-align: right;\">\n      <th></th>\n      <th>status_id</th>\n      <th>status_message</th>\n      <th>link_name</th>\n      <th>status_type</th>\n      <th>status_link</th>\n      <th>status_published</th>\n      <th>num_reactions</th>\n      <th>num_comments</th>\n      <th>num_shares</th>\n      <th>num_likes</th>\n      <th>num_loves</th>\n      <th>num_wows</th>\n      <th>num_hahas</th>\n      <th>num_sads</th>\n      <th>num_angrys</th>\n    </tr>\n  </thead>\n  <tbody>\n    <tr>\n      <th>0</th>\n      <td>17774451468_10154154735571469</td>\n      <td>It's time for Mr Bean and Teddy to get ready f...</td>\n      <td>Mr Bean - Preparing To Go Camping</td>\n      <td>video</td>\n      <td>https://youtu.be/fgURU75gTMQ</td>\n      <td>2016-06-23 11:35:48</td>\n      <td>16570.0</td>\n      <td>223.0</td>\n      <td>338.0</td>\n      <td>16079</td>\n      <td>166</td>\n      <td>6</td>\n      <td>320</td>\n      <td>0</td>\n      <td>0</td>\n    </tr>\n    <tr>\n      <th>1</th>\n      <td>17774451468_10154146584106469</td>\n      <td>NaN</td>\n      <td>Timeline Photos</td>\n      <td>photo</td>\n      <td>https://www.facebook.com/MrBean/photos/a.10150...</td>\n      <td>2016-06-21 10:00:01</td>\n      <td>119886.0</td>\n      <td>2171.0</td>\n      <td>1657.0</td>\n      <td>114008</td>\n      <td>946</td>\n      <td>104</td>\n      <td>4795</td>\n      <td>16</td>\n      <td>17</td>\n    </tr>\n    <tr>\n      <th>2</th>\n      <td>17774451468_10154135502911469</td>\n      <td>NaN</td>\n      <td>Timeline Photos</td>\n      <td>photo</td>\n      <td>https://www.facebook.com/MrBean/photos/a.10150...</td>\n      <td>2016-06-19 10:00:01</td>\n      <td>NaN</td>\n      <td>2395.0</td>\n      <td>10050.0</td>\n      <td>218579</td>\n      <td>2988</td>\n      <td>188</td>\n      <td>13992</td>\n      <td>52</td>\n      <td>53</td>\n    </tr>\n    <tr>\n      <th>3</th>\n      <td>17774451468_10154138120151469</td>\n      <td>Mr Bean is ready to do some shopping but bewar...</td>\n      <td>www.youtube.com</td>\n      <td>video</td>\n      <td>https://www.youtube.com/watch?v=58Z8J0PbLS8</td>\n      <td>2016-06-18 11:00:02</td>\n      <td>20913.0</td>\n      <td>214.0</td>\n      <td>257.0</td>\n      <td>20338</td>\n      <td>211</td>\n      <td>20</td>\n      <td>336</td>\n      <td>0</td>\n      <td>8</td>\n    </tr>\n    <tr>\n      <th>4</th>\n      <td>17774451468_10154135502476469</td>\n      <td>NaN</td>\n      <td>Timeline Photos</td>\n      <td>photo</td>\n      <td>https://www.facebook.com/MrBean/photos/a.10150...</td>\n      <td>2016-06-17 09:00:01</td>\n      <td>223602.0</td>\n      <td>880.0</td>\n      <td>2228.0</td>\n      <td>215591</td>\n      <td>2872</td>\n      <td>259</td>\n      <td>4814</td>\n      <td>27</td>\n      <td>39</td>\n    </tr>\n  </tbody>\n</table>\n</div>"
     },
     "metadata": {},
     "execution_count": 27
    }
   ],
   "source": [
    "fb = pd.read_csv(\"dane/course-files/mrbean_facebook_statuses_with_nulls.csv\")\n",
    "fb.head()"
   ]
  },
  {
   "cell_type": "code",
   "execution_count": 28,
   "metadata": {},
   "outputs": [
    {
     "output_type": "stream",
     "name": "stdout",
     "text": "<class 'pandas.core.frame.DataFrame'>\nRangeIndex: 56 entries, 0 to 55\nData columns (total 15 columns):\n #   Column            Non-Null Count  Dtype  \n---  ------            --------------  -----  \n 0   status_id         56 non-null     object \n 1   status_message    40 non-null     object \n 2   link_name         56 non-null     object \n 3   status_type       56 non-null     object \n 4   status_link       56 non-null     object \n 5   status_published  56 non-null     object \n 6   num_reactions     54 non-null     float64\n 7   num_comments      55 non-null     float64\n 8   num_shares        56 non-null     float64\n 9   num_likes         56 non-null     int64  \n 10  num_loves         56 non-null     int64  \n 11  num_wows          56 non-null     int64  \n 12  num_hahas         56 non-null     int64  \n 13  num_sads          56 non-null     int64  \n 14  num_angrys        56 non-null     int64  \ndtypes: float64(3), int64(6), object(6)\nmemory usage: 34.4 KB\n"
    }
   ],
   "source": [
    "fb.info(memory_usage=\"deep\")"
   ]
  },
  {
   "cell_type": "code",
   "execution_count": 29,
   "metadata": {},
   "outputs": [
    {
     "output_type": "execute_result",
     "data": {
      "text/plain": "                                      status_message  \\\n0  It's time for Mr Bean and Teddy to get ready f...   \n1                                                NaN   \n2                                                NaN   \n3  Mr Bean is ready to do some shopping but bewar...   \n4                                                NaN   \n\n                           link_name status_type  num_reactions  num_shares  \\\n0  Mr Bean - Preparing To Go Camping       video        16570.0       338.0   \n1                    Timeline Photos       photo       119886.0      1657.0   \n2                    Timeline Photos       photo            NaN     10050.0   \n3                    www.youtube.com       video        20913.0       257.0   \n4                    Timeline Photos       photo       223602.0      2228.0   \n\n   num_likes  \n0      16079  \n1     114008  \n2     218579  \n3      20338  \n4     215591  ",
      "text/html": "<div>\n<style scoped>\n    .dataframe tbody tr th:only-of-type {\n        vertical-align: middle;\n    }\n\n    .dataframe tbody tr th {\n        vertical-align: top;\n    }\n\n    .dataframe thead th {\n        text-align: right;\n    }\n</style>\n<table border=\"1\" class=\"dataframe\">\n  <thead>\n    <tr style=\"text-align: right;\">\n      <th></th>\n      <th>status_message</th>\n      <th>link_name</th>\n      <th>status_type</th>\n      <th>num_reactions</th>\n      <th>num_shares</th>\n      <th>num_likes</th>\n    </tr>\n  </thead>\n  <tbody>\n    <tr>\n      <th>0</th>\n      <td>It's time for Mr Bean and Teddy to get ready f...</td>\n      <td>Mr Bean - Preparing To Go Camping</td>\n      <td>video</td>\n      <td>16570.0</td>\n      <td>338.0</td>\n      <td>16079</td>\n    </tr>\n    <tr>\n      <th>1</th>\n      <td>NaN</td>\n      <td>Timeline Photos</td>\n      <td>photo</td>\n      <td>119886.0</td>\n      <td>1657.0</td>\n      <td>114008</td>\n    </tr>\n    <tr>\n      <th>2</th>\n      <td>NaN</td>\n      <td>Timeline Photos</td>\n      <td>photo</td>\n      <td>NaN</td>\n      <td>10050.0</td>\n      <td>218579</td>\n    </tr>\n    <tr>\n      <th>3</th>\n      <td>Mr Bean is ready to do some shopping but bewar...</td>\n      <td>www.youtube.com</td>\n      <td>video</td>\n      <td>20913.0</td>\n      <td>257.0</td>\n      <td>20338</td>\n    </tr>\n    <tr>\n      <th>4</th>\n      <td>NaN</td>\n      <td>Timeline Photos</td>\n      <td>photo</td>\n      <td>223602.0</td>\n      <td>2228.0</td>\n      <td>215591</td>\n    </tr>\n  </tbody>\n</table>\n</div>"
     },
     "metadata": {},
     "execution_count": 29
    }
   ],
   "source": [
    "fb = pd.read_csv(\"dane/course-files/mrbean_facebook_statuses_with_nulls.csv\", usecols=[\"status_message\", \"status_type\", \"link_name\",\n",
    "\"num_reactions\", \"num_shares\", \"num_likes\"])\n",
    "fb.head()"
   ]
  },
  {
   "cell_type": "code",
   "execution_count": 30,
   "metadata": {},
   "outputs": [
    {
     "output_type": "stream",
     "name": "stdout",
     "text": "<class 'pandas.core.frame.DataFrame'>\nRangeIndex: 56 entries, 0 to 55\nData columns (total 6 columns):\n #   Column          Non-Null Count  Dtype  \n---  ------          --------------  -----  \n 0   status_message  40 non-null     object \n 1   link_name       56 non-null     object \n 2   status_type     56 non-null     object \n 3   num_reactions   54 non-null     float64\n 4   num_shares      56 non-null     float64\n 5   num_likes       56 non-null     int64  \ndtypes: float64(2), int64(1), object(3)\nmemory usage: 16.1 KB\n"
    }
   ],
   "source": [
    "fb.info(memory_usage=\"deep\")"
   ]
  },
  {
   "cell_type": "code",
   "execution_count": 31,
   "metadata": {},
   "outputs": [
    {
     "output_type": "execute_result",
     "data": {
      "text/plain": "status_message    40\nlink_name         56\nstatus_type       56\nnum_reactions     54\nnum_shares        56\nnum_likes         56\ndtype: int64"
     },
     "metadata": {},
     "execution_count": 31
    }
   ],
   "source": [
    "fb.count()"
   ]
  },
  {
   "cell_type": "code",
   "execution_count": 37,
   "metadata": {},
   "outputs": [
    {
     "output_type": "execute_result",
     "data": {
      "text/plain": "3"
     },
     "metadata": {},
     "execution_count": 37
    }
   ],
   "source": [
    "fb[\"status_type\"].nunique()"
   ]
  },
  {
   "cell_type": "code",
   "execution_count": 38,
   "metadata": {},
   "outputs": [
    {
     "output_type": "execute_result",
     "data": {
      "text/plain": "video    32\nphoto    22\nlink      2\nName: status_type, dtype: int64"
     },
     "metadata": {},
     "execution_count": 38
    }
   ],
   "source": [
    "fb[\"status_type\"].value_counts()"
   ]
  },
  {
   "cell_type": "code",
   "execution_count": 41,
   "metadata": {},
   "outputs": [],
   "source": [
    "fb[\"status_type\"]=fb[\"status_type\"].astype(\"category\")"
   ]
  },
  {
   "cell_type": "code",
   "execution_count": 42,
   "metadata": {},
   "outputs": [
    {
     "output_type": "stream",
     "name": "stdout",
     "text": "<class 'pandas.core.frame.DataFrame'>\nRangeIndex: 56 entries, 0 to 55\nData columns (total 6 columns):\n #   Column          Non-Null Count  Dtype   \n---  ------          --------------  -----   \n 0   status_message  40 non-null     object  \n 1   link_name       56 non-null     object  \n 2   status_type     56 non-null     category\n 3   num_reactions   54 non-null     float64 \n 4   num_shares      56 non-null     float64 \n 5   num_likes       56 non-null     int64   \ndtypes: category(1), float64(2), int64(1), object(2)\nmemory usage: 13.0 KB\n"
    }
   ],
   "source": [
    "fb.info(memory_usage=\"deep\")"
   ]
  },
  {
   "cell_type": "code",
   "execution_count": 43,
   "metadata": {},
   "outputs": [
    {
     "output_type": "execute_result",
     "data": {
      "text/plain": "32"
     },
     "metadata": {},
     "execution_count": 43
    }
   ],
   "source": [
    "fb.link_name.nunique()"
   ]
  },
  {
   "cell_type": "code",
   "execution_count": 44,
   "metadata": {},
   "outputs": [
    {
     "output_type": "execute_result",
     "data": {
      "text/plain": "Timeline Photos                                                               22\nwww.youtube.com                                                                4\nMr. Bean - Alarm Clock                                                         1\nEven in LEGO, Mr. Bean travels in comfort | The Brothers Brick | LEGO Blog     1\nMr. Bean - Sneezing and Snoozing In Church                                     1\nMr Bean - Country fete games -- Volksfest Spiele                               1\nMr. Bean - Making A Sandwich                                                   1\nMr. Bean - Elderly people on stairs                                            1\nMr Bean - Preparing To Go Camping                                              1\nMr. Bean - High Dive                                                           1\nMr. Bean - Shopping for Towels                                                 1\nMr Bean - Crazy Golf                                                           1\nMr Bean (NEW series) - Litterbugs Clip                                         1\nMr Bean - Ray Of Sunshine                                                      1\nRowan Atkinson: I will never wave goodbye to Mr Bean                           1\nMr Bean - Prison Break                                                         1\nMr. Bean - Saxophone Player                                                    1\nMr. Bean (NEW series) - The Lift                                               1\nMr. Bean - Mystery creature                                                    1\nMr. Bean's Happy Moments                                                       1\nMr. Bean - Counting Sheep.                                                     1\nMr Bean - Restaurant Etiquette                                                 1\nMr. Bean - Fixing Your Own Teeth                                               1\nMr Bean - Broken Tooth                                                         1\nMr. Bean - How to stop a baby from crying                                      1\nMr. Bean (NEW Series) - Dancing Bean                                           1\nMr. Bean - Embarrassing Moments Compilation                                    1\nMr Bean - Sun Block                                                            1\nMr Bean - Dinner for Two                                                       1\nMr Bean - Chemistry experiment                                                 1\nMr. Bean - At the Disco                                                        1\nMr. Bean (NEW series) - Ice Cream                                              1\nName: link_name, dtype: int64"
     },
     "metadata": {},
     "execution_count": 44
    }
   ],
   "source": [
    "fb.link_name.value_counts()"
   ]
  },
  {
   "cell_type": "code",
   "execution_count": 46,
   "metadata": {},
   "outputs": [],
   "source": [
    "fb[\"link_name\"]=fb[\"link_name\"].astype(\"category\")"
   ]
  },
  {
   "cell_type": "code",
   "execution_count": 47,
   "metadata": {},
   "outputs": [
    {
     "output_type": "stream",
     "name": "stdout",
     "text": "<class 'pandas.core.frame.DataFrame'>\nRangeIndex: 56 entries, 0 to 55\nData columns (total 6 columns):\n #   Column          Non-Null Count  Dtype   \n---  ------          --------------  -----   \n 0   status_message  40 non-null     object  \n 1   link_name       56 non-null     category\n 2   status_type     56 non-null     category\n 3   num_reactions   54 non-null     float64 \n 4   num_shares      56 non-null     float64 \n 5   num_likes       56 non-null     int64   \ndtypes: category(2), float64(2), int64(1), object(1)\nmemory usage: 12.6 KB\n"
    }
   ],
   "source": [
    "fb.info(memory_usage=\"deep\")"
   ]
  },
  {
   "cell_type": "code",
   "execution_count": 54,
   "metadata": {},
   "outputs": [],
   "source": [
    "fb.num_reactions.fillna(0, inplace=True)"
   ]
  },
  {
   "cell_type": "code",
   "execution_count": 55,
   "metadata": {},
   "outputs": [],
   "source": [
    "fb.num_shares.fillna(0, inplace=True)"
   ]
  },
  {
   "cell_type": "code",
   "execution_count": 59,
   "metadata": {},
   "outputs": [],
   "source": [
    "fb[\"num_reactions\"]=fb[\"num_reactions\"].astype(\"int32\")"
   ]
  },
  {
   "cell_type": "code",
   "execution_count": 61,
   "metadata": {},
   "outputs": [],
   "source": [
    "fb[\"num_shares\"] = fb[\"num_shares\"].astype('int32')\n",
    "fb[\"num_likes\"] = fb[\"num_likes\"].astype('int32')"
   ]
  },
  {
   "cell_type": "code",
   "execution_count": 62,
   "metadata": {},
   "outputs": [
    {
     "output_type": "stream",
     "name": "stdout",
     "text": "<class 'pandas.core.frame.DataFrame'>\nRangeIndex: 56 entries, 0 to 55\nData columns (total 6 columns):\n #   Column          Non-Null Count  Dtype   \n---  ------          --------------  -----   \n 0   status_message  40 non-null     object  \n 1   link_name       56 non-null     category\n 2   status_type     56 non-null     category\n 3   num_reactions   56 non-null     int32   \n 4   num_shares      56 non-null     int32   \n 5   num_likes       56 non-null     int32   \ndtypes: category(2), int32(3), object(1)\nmemory usage: 12.0 KB\n"
    }
   ],
   "source": [
    "fb.info(memory_usage=\"deep\")"
   ]
  }
 ],
 "metadata": {
  "language_info": {
   "codemirror_mode": {
    "name": "ipython",
    "version": 3
   },
   "file_extension": ".py",
   "mimetype": "text/x-python",
   "name": "python",
   "nbconvert_exporter": "python",
   "pygments_lexer": "ipython3",
   "version": "3.8.2-final"
  },
  "orig_nbformat": 2,
  "kernelspec": {
   "name": "python38264bitdatasciencef2t2jzuxvenv755777717192484c92e98af808cd61d4",
   "display_name": "Python 3.8.2 64-bit ('Data_Science-f2T2jZux': venv)"
  }
 },
 "nbformat": 4,
 "nbformat_minor": 2
}