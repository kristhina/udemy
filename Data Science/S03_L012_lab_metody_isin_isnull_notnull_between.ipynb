{
 "cells": [
  {
   "cell_type": "code",
   "execution_count": 23,
   "metadata": {},
   "outputs": [],
   "source": [
    "import pandas as pd\n",
    "import numpy as np"
   ]
  },
  {
   "cell_type": "code",
   "execution_count": 24,
   "metadata": {},
   "outputs": [
    {
     "output_type": "execute_result",
     "data": {
      "text/plain": "   Vehicle ID  Year        Make               Model  \\\n0       26587  1984  Alfa Romeo           GT V6 2.5   \n1       27705  1984  Alfa Romeo           GT V6 2.5   \n2       26561  1984  Alfa Romeo  Spider Veloce 2000   \n3       27681  1984  Alfa Romeo  Spider Veloce 2000   \n4       27550  1984  AM General   DJ Po Vehicle 2WD   \n\n                         Class Fuel Type  Combined MPG (FT1)  \\\n0             Minicompact Cars   Regular                20.0   \n1             Minicompact Cars   Regular                20.0   \n2                  Two Seaters   Regular                21.0   \n3                  Two Seaters   Regular                21.0   \n4  Special Purpose Vehicle 2WD   Regular                17.0   \n\n  Start Stop Technology  \n0                   NaN  \n1                   NaN  \n2                   NaN  \n3                   NaN  \n4                   NaN  ",
      "text/html": "<div>\n<style scoped>\n    .dataframe tbody tr th:only-of-type {\n        vertical-align: middle;\n    }\n\n    .dataframe tbody tr th {\n        vertical-align: top;\n    }\n\n    .dataframe thead th {\n        text-align: right;\n    }\n</style>\n<table border=\"1\" class=\"dataframe\">\n  <thead>\n    <tr style=\"text-align: right;\">\n      <th></th>\n      <th>Vehicle ID</th>\n      <th>Year</th>\n      <th>Make</th>\n      <th>Model</th>\n      <th>Class</th>\n      <th>Fuel Type</th>\n      <th>Combined MPG (FT1)</th>\n      <th>Start Stop Technology</th>\n    </tr>\n  </thead>\n  <tbody>\n    <tr>\n      <th>0</th>\n      <td>26587</td>\n      <td>1984</td>\n      <td>Alfa Romeo</td>\n      <td>GT V6 2.5</td>\n      <td>Minicompact Cars</td>\n      <td>Regular</td>\n      <td>20.0</td>\n      <td>NaN</td>\n    </tr>\n    <tr>\n      <th>1</th>\n      <td>27705</td>\n      <td>1984</td>\n      <td>Alfa Romeo</td>\n      <td>GT V6 2.5</td>\n      <td>Minicompact Cars</td>\n      <td>Regular</td>\n      <td>20.0</td>\n      <td>NaN</td>\n    </tr>\n    <tr>\n      <th>2</th>\n      <td>26561</td>\n      <td>1984</td>\n      <td>Alfa Romeo</td>\n      <td>Spider Veloce 2000</td>\n      <td>Two Seaters</td>\n      <td>Regular</td>\n      <td>21.0</td>\n      <td>NaN</td>\n    </tr>\n    <tr>\n      <th>3</th>\n      <td>27681</td>\n      <td>1984</td>\n      <td>Alfa Romeo</td>\n      <td>Spider Veloce 2000</td>\n      <td>Two Seaters</td>\n      <td>Regular</td>\n      <td>21.0</td>\n      <td>NaN</td>\n    </tr>\n    <tr>\n      <th>4</th>\n      <td>27550</td>\n      <td>1984</td>\n      <td>AM General</td>\n      <td>DJ Po Vehicle 2WD</td>\n      <td>Special Purpose Vehicle 2WD</td>\n      <td>Regular</td>\n      <td>17.0</td>\n      <td>NaN</td>\n    </tr>\n  </tbody>\n</table>\n</div>"
     },
     "metadata": {},
     "execution_count": 24
    }
   ],
   "source": [
    "fuel = pd.read_csv(\"dane/course-files/fuel.csv\", low_memory=False, usecols=['Vehicle ID','Year','Make','Model','Class','Fuel Type',  'Combined MPG (FT1)','Start Stop Technology'])\n",
    "fuel.head()"
   ]
  },
  {
   "cell_type": "code",
   "execution_count": 25,
   "metadata": {},
   "outputs": [],
   "source": [
    "listOfCars = ['Renault', 'Toyota', 'Ford']"
   ]
  },
  {
   "cell_type": "code",
   "execution_count": 27,
   "metadata": {},
   "outputs": [],
   "source": [
    "isInList = fuel['Make'].isin(listOfCars)"
   ]
  },
  {
   "cell_type": "code",
   "execution_count": 29,
   "metadata": {},
   "outputs": [
    {
     "output_type": "execute_result",
     "data": {
      "text/plain": "       Vehicle ID  Year  Make                      Model  \\\n668         27613  1984  Ford                 Bronco 4WD   \n669         27616  1984  Ford                 Bronco 4WD   \n670         27619  1984  Ford                 Bronco 4WD   \n671         27622  1984  Ford                 Bronco 4WD   \n672         28472  1984  Ford                 Bronco 4WD   \n...           ...   ...   ...                        ...   \n31266       31786  2012  Ford                 Taurus AWD   \n31267       31784  2012  Ford                 Taurus FWD   \n31268       31785  2012  Ford                 Taurus FWD   \n31269       31458  2012  Ford        Transit Connect Van   \n31270       31460  2012  Ford  Transit Connect Wagon FWD   \n\n                             Class Fuel Type  Combined MPG (FT1)  \\\n668    Special Purpose Vehicle 4WD   Regular                13.0   \n669    Special Purpose Vehicle 4WD   Regular                11.0   \n670    Special Purpose Vehicle 4WD   Regular                10.0   \n671    Special Purpose Vehicle 4WD   Regular                11.0   \n672    Special Purpose Vehicle 4WD   Regular                13.0   \n...                            ...       ...                 ...   \n31266                   Large Cars   Regular                20.0   \n31267                   Large Cars   Regular                21.0   \n31268                   Large Cars   Regular                22.0   \n31269  Special Purpose Vehicle 2WD   Regular                23.0   \n31270  Special Purpose Vehicle 2WD   Regular                23.0   \n\n      Start Stop Technology  \n668                     NaN  \n669                     NaN  \n670                     NaN  \n671                     NaN  \n672                     NaN  \n...                     ...  \n31266                   NaN  \n31267                   NaN  \n31268                   NaN  \n31269                   NaN  \n31270                   NaN  \n\n[4376 rows x 8 columns]",
      "text/html": "<div>\n<style scoped>\n    .dataframe tbody tr th:only-of-type {\n        vertical-align: middle;\n    }\n\n    .dataframe tbody tr th {\n        vertical-align: top;\n    }\n\n    .dataframe thead th {\n        text-align: right;\n    }\n</style>\n<table border=\"1\" class=\"dataframe\">\n  <thead>\n    <tr style=\"text-align: right;\">\n      <th></th>\n      <th>Vehicle ID</th>\n      <th>Year</th>\n      <th>Make</th>\n      <th>Model</th>\n      <th>Class</th>\n      <th>Fuel Type</th>\n      <th>Combined MPG (FT1)</th>\n      <th>Start Stop Technology</th>\n    </tr>\n  </thead>\n  <tbody>\n    <tr>\n      <th>668</th>\n      <td>27613</td>\n      <td>1984</td>\n      <td>Ford</td>\n      <td>Bronco 4WD</td>\n      <td>Special Purpose Vehicle 4WD</td>\n      <td>Regular</td>\n      <td>13.0</td>\n      <td>NaN</td>\n    </tr>\n    <tr>\n      <th>669</th>\n      <td>27616</td>\n      <td>1984</td>\n      <td>Ford</td>\n      <td>Bronco 4WD</td>\n      <td>Special Purpose Vehicle 4WD</td>\n      <td>Regular</td>\n      <td>11.0</td>\n      <td>NaN</td>\n    </tr>\n    <tr>\n      <th>670</th>\n      <td>27619</td>\n      <td>1984</td>\n      <td>Ford</td>\n      <td>Bronco 4WD</td>\n      <td>Special Purpose Vehicle 4WD</td>\n      <td>Regular</td>\n      <td>10.0</td>\n      <td>NaN</td>\n    </tr>\n    <tr>\n      <th>671</th>\n      <td>27622</td>\n      <td>1984</td>\n      <td>Ford</td>\n      <td>Bronco 4WD</td>\n      <td>Special Purpose Vehicle 4WD</td>\n      <td>Regular</td>\n      <td>11.0</td>\n      <td>NaN</td>\n    </tr>\n    <tr>\n      <th>672</th>\n      <td>28472</td>\n      <td>1984</td>\n      <td>Ford</td>\n      <td>Bronco 4WD</td>\n      <td>Special Purpose Vehicle 4WD</td>\n      <td>Regular</td>\n      <td>13.0</td>\n      <td>NaN</td>\n    </tr>\n    <tr>\n      <th>...</th>\n      <td>...</td>\n      <td>...</td>\n      <td>...</td>\n      <td>...</td>\n      <td>...</td>\n      <td>...</td>\n      <td>...</td>\n      <td>...</td>\n    </tr>\n    <tr>\n      <th>31266</th>\n      <td>31786</td>\n      <td>2012</td>\n      <td>Ford</td>\n      <td>Taurus AWD</td>\n      <td>Large Cars</td>\n      <td>Regular</td>\n      <td>20.0</td>\n      <td>NaN</td>\n    </tr>\n    <tr>\n      <th>31267</th>\n      <td>31784</td>\n      <td>2012</td>\n      <td>Ford</td>\n      <td>Taurus FWD</td>\n      <td>Large Cars</td>\n      <td>Regular</td>\n      <td>21.0</td>\n      <td>NaN</td>\n    </tr>\n    <tr>\n      <th>31268</th>\n      <td>31785</td>\n      <td>2012</td>\n      <td>Ford</td>\n      <td>Taurus FWD</td>\n      <td>Large Cars</td>\n      <td>Regular</td>\n      <td>22.0</td>\n      <td>NaN</td>\n    </tr>\n    <tr>\n      <th>31269</th>\n      <td>31458</td>\n      <td>2012</td>\n      <td>Ford</td>\n      <td>Transit Connect Van</td>\n      <td>Special Purpose Vehicle 2WD</td>\n      <td>Regular</td>\n      <td>23.0</td>\n      <td>NaN</td>\n    </tr>\n    <tr>\n      <th>31270</th>\n      <td>31460</td>\n      <td>2012</td>\n      <td>Ford</td>\n      <td>Transit Connect Wagon FWD</td>\n      <td>Special Purpose Vehicle 2WD</td>\n      <td>Regular</td>\n      <td>23.0</td>\n      <td>NaN</td>\n    </tr>\n  </tbody>\n</table>\n<p>4376 rows × 8 columns</p>\n</div>"
     },
     "metadata": {},
     "execution_count": 29
    }
   ],
   "source": [
    "fuel[isInList]"
   ]
  },
  {
   "cell_type": "code",
   "execution_count": 30,
   "metadata": {},
   "outputs": [],
   "source": [
    "isNoStartStopDefined = fuel['Start Stop Technology'].isnull()"
   ]
  },
  {
   "cell_type": "code",
   "execution_count": 31,
   "metadata": {},
   "outputs": [
    {
     "output_type": "execute_result",
     "data": {
      "text/plain": "       Vehicle ID  Year        Make               Model  \\\n0           26587  1984  Alfa Romeo           GT V6 2.5   \n1           27705  1984  Alfa Romeo           GT V6 2.5   \n2           26561  1984  Alfa Romeo  Spider Veloce 2000   \n3           27681  1984  Alfa Romeo  Spider Veloce 2000   \n4           27550  1984  AM General   DJ Po Vehicle 2WD   \n...           ...   ...         ...                 ...   \n31679       32060  2012  Mitsubishi              Lancer   \n31680       32063  2012  Mitsubishi          Lancer AWD   \n31681       32065  2012  Mitsubishi    Lancer Evolution   \n31682       32064  2012  Mitsubishi    Lancer Evolution   \n31683       32106  2012   Mitsubish                 NaN   \n\n                             Class Fuel Type  Combined MPG (FT1)  \\\n0                 Minicompact Cars   Regular                20.0   \n1                 Minicompact Cars   Regular                20.0   \n2                      Two Seaters   Regular                21.0   \n3                      Two Seaters   Regular                21.0   \n4      Special Purpose Vehicle 2WD   Regular                17.0   \n...                            ...       ...                 ...   \n31679                 Compact Cars   Regular                25.0   \n31680                 Compact Cars   Regular                25.0   \n31681                 Compact Cars   Premium                19.0   \n31682                 Compact Cars   Premium                19.0   \n31683                          NaN       NaN                 NaN   \n\n      Start Stop Technology  \n0                       NaN  \n1                       NaN  \n2                       NaN  \n3                       NaN  \n4                       NaN  \n...                     ...  \n31679                   NaN  \n31680                   NaN  \n31681                   NaN  \n31682                   NaN  \n31683                   NaN  \n\n[31374 rows x 8 columns]",
      "text/html": "<div>\n<style scoped>\n    .dataframe tbody tr th:only-of-type {\n        vertical-align: middle;\n    }\n\n    .dataframe tbody tr th {\n        vertical-align: top;\n    }\n\n    .dataframe thead th {\n        text-align: right;\n    }\n</style>\n<table border=\"1\" class=\"dataframe\">\n  <thead>\n    <tr style=\"text-align: right;\">\n      <th></th>\n      <th>Vehicle ID</th>\n      <th>Year</th>\n      <th>Make</th>\n      <th>Model</th>\n      <th>Class</th>\n      <th>Fuel Type</th>\n      <th>Combined MPG (FT1)</th>\n      <th>Start Stop Technology</th>\n    </tr>\n  </thead>\n  <tbody>\n    <tr>\n      <th>0</th>\n      <td>26587</td>\n      <td>1984</td>\n      <td>Alfa Romeo</td>\n      <td>GT V6 2.5</td>\n      <td>Minicompact Cars</td>\n      <td>Regular</td>\n      <td>20.0</td>\n      <td>NaN</td>\n    </tr>\n    <tr>\n      <th>1</th>\n      <td>27705</td>\n      <td>1984</td>\n      <td>Alfa Romeo</td>\n      <td>GT V6 2.5</td>\n      <td>Minicompact Cars</td>\n      <td>Regular</td>\n      <td>20.0</td>\n      <td>NaN</td>\n    </tr>\n    <tr>\n      <th>2</th>\n      <td>26561</td>\n      <td>1984</td>\n      <td>Alfa Romeo</td>\n      <td>Spider Veloce 2000</td>\n      <td>Two Seaters</td>\n      <td>Regular</td>\n      <td>21.0</td>\n      <td>NaN</td>\n    </tr>\n    <tr>\n      <th>3</th>\n      <td>27681</td>\n      <td>1984</td>\n      <td>Alfa Romeo</td>\n      <td>Spider Veloce 2000</td>\n      <td>Two Seaters</td>\n      <td>Regular</td>\n      <td>21.0</td>\n      <td>NaN</td>\n    </tr>\n    <tr>\n      <th>4</th>\n      <td>27550</td>\n      <td>1984</td>\n      <td>AM General</td>\n      <td>DJ Po Vehicle 2WD</td>\n      <td>Special Purpose Vehicle 2WD</td>\n      <td>Regular</td>\n      <td>17.0</td>\n      <td>NaN</td>\n    </tr>\n    <tr>\n      <th>...</th>\n      <td>...</td>\n      <td>...</td>\n      <td>...</td>\n      <td>...</td>\n      <td>...</td>\n      <td>...</td>\n      <td>...</td>\n      <td>...</td>\n    </tr>\n    <tr>\n      <th>31679</th>\n      <td>32060</td>\n      <td>2012</td>\n      <td>Mitsubishi</td>\n      <td>Lancer</td>\n      <td>Compact Cars</td>\n      <td>Regular</td>\n      <td>25.0</td>\n      <td>NaN</td>\n    </tr>\n    <tr>\n      <th>31680</th>\n      <td>32063</td>\n      <td>2012</td>\n      <td>Mitsubishi</td>\n      <td>Lancer AWD</td>\n      <td>Compact Cars</td>\n      <td>Regular</td>\n      <td>25.0</td>\n      <td>NaN</td>\n    </tr>\n    <tr>\n      <th>31681</th>\n      <td>32065</td>\n      <td>2012</td>\n      <td>Mitsubishi</td>\n      <td>Lancer Evolution</td>\n      <td>Compact Cars</td>\n      <td>Premium</td>\n      <td>19.0</td>\n      <td>NaN</td>\n    </tr>\n    <tr>\n      <th>31682</th>\n      <td>32064</td>\n      <td>2012</td>\n      <td>Mitsubishi</td>\n      <td>Lancer Evolution</td>\n      <td>Compact Cars</td>\n      <td>Premium</td>\n      <td>19.0</td>\n      <td>NaN</td>\n    </tr>\n    <tr>\n      <th>31683</th>\n      <td>32106</td>\n      <td>2012</td>\n      <td>Mitsubish</td>\n      <td>NaN</td>\n      <td>NaN</td>\n      <td>NaN</td>\n      <td>NaN</td>\n      <td>NaN</td>\n    </tr>\n  </tbody>\n</table>\n<p>31374 rows × 8 columns</p>\n</div>"
     },
     "metadata": {},
     "execution_count": 31
    }
   ],
   "source": [
    "fuel[isNoStartStopDefined]"
   ]
  },
  {
   "cell_type": "code",
   "execution_count": 32,
   "metadata": {},
   "outputs": [],
   "source": [
    "isStartStopDefined = fuel['Start Stop Technology'].notnull()"
   ]
  },
  {
   "cell_type": "code",
   "execution_count": 33,
   "metadata": {},
   "outputs": [
    {
     "output_type": "execute_result",
     "data": {
      "text/plain": "       Vehicle ID  Year           Make                      Model  \\\n16448       30976  1998      Chevrolet               S10 Electric   \n16449       30977  1998      Chevrolet               S10 Electric   \n16711       30975  1998          Honda                    EV Plus   \n17323       30973  1999          Dodge  Caravan/Grand Caravan 2WD   \n17433       30971  1999           Ford          Ranger Pickup 2WD   \n...           ...   ...            ...                        ...   \n31525       31926  2012          Lexus                    RX 450h   \n31526       31971  2012          Lexus                RX 450h AWD   \n31536       31395  2012        Lincoln             MKZ Hybrid FWD   \n31623       31799  2012  Mercedes-Benz                S400 Hybrid   \n31674       31673  2012     Mitsubishi                     i-MiEV   \n\n                             Class    Fuel Type  Combined MPG (FT1)  \\\n16448      Small Pickup Trucks 2WD  Electricity                55.0   \n16449      Small Pickup Trucks 2WD  Electricity                28.0   \n16711                 Compact Cars  Electricity                48.0   \n17323                Minivan - 2WD  Electricity                35.0   \n17433   Standard Pickup Trucks 2WD  Electricity                58.0   \n...                            ...          ...                 ...   \n31525  Sport Utility Vehicle - 2WD      Premium                29.0   \n31526  Sport Utility Vehicle - 4WD      Premium                28.0   \n31536                 Midsize Cars      Regular                38.0   \n31623                   Large Cars      Premium                21.0   \n31674              Subcompact Cars  Electricity               112.0   \n\n      Start Stop Technology  \n16448                     N  \n16449                     N  \n16711                     N  \n17323                     N  \n17433                     N  \n...                     ...  \n31525                     Y  \n31526                     Y  \n31536                     Y  \n31623                     Y  \n31674                     N  \n\n[310 rows x 8 columns]",
      "text/html": "<div>\n<style scoped>\n    .dataframe tbody tr th:only-of-type {\n        vertical-align: middle;\n    }\n\n    .dataframe tbody tr th {\n        vertical-align: top;\n    }\n\n    .dataframe thead th {\n        text-align: right;\n    }\n</style>\n<table border=\"1\" class=\"dataframe\">\n  <thead>\n    <tr style=\"text-align: right;\">\n      <th></th>\n      <th>Vehicle ID</th>\n      <th>Year</th>\n      <th>Make</th>\n      <th>Model</th>\n      <th>Class</th>\n      <th>Fuel Type</th>\n      <th>Combined MPG (FT1)</th>\n      <th>Start Stop Technology</th>\n    </tr>\n  </thead>\n  <tbody>\n    <tr>\n      <th>16448</th>\n      <td>30976</td>\n      <td>1998</td>\n      <td>Chevrolet</td>\n      <td>S10 Electric</td>\n      <td>Small Pickup Trucks 2WD</td>\n      <td>Electricity</td>\n      <td>55.0</td>\n      <td>N</td>\n    </tr>\n    <tr>\n      <th>16449</th>\n      <td>30977</td>\n      <td>1998</td>\n      <td>Chevrolet</td>\n      <td>S10 Electric</td>\n      <td>Small Pickup Trucks 2WD</td>\n      <td>Electricity</td>\n      <td>28.0</td>\n      <td>N</td>\n    </tr>\n    <tr>\n      <th>16711</th>\n      <td>30975</td>\n      <td>1998</td>\n      <td>Honda</td>\n      <td>EV Plus</td>\n      <td>Compact Cars</td>\n      <td>Electricity</td>\n      <td>48.0</td>\n      <td>N</td>\n    </tr>\n    <tr>\n      <th>17323</th>\n      <td>30973</td>\n      <td>1999</td>\n      <td>Dodge</td>\n      <td>Caravan/Grand Caravan 2WD</td>\n      <td>Minivan - 2WD</td>\n      <td>Electricity</td>\n      <td>35.0</td>\n      <td>N</td>\n    </tr>\n    <tr>\n      <th>17433</th>\n      <td>30971</td>\n      <td>1999</td>\n      <td>Ford</td>\n      <td>Ranger Pickup 2WD</td>\n      <td>Standard Pickup Trucks 2WD</td>\n      <td>Electricity</td>\n      <td>58.0</td>\n      <td>N</td>\n    </tr>\n    <tr>\n      <th>...</th>\n      <td>...</td>\n      <td>...</td>\n      <td>...</td>\n      <td>...</td>\n      <td>...</td>\n      <td>...</td>\n      <td>...</td>\n      <td>...</td>\n    </tr>\n    <tr>\n      <th>31525</th>\n      <td>31926</td>\n      <td>2012</td>\n      <td>Lexus</td>\n      <td>RX 450h</td>\n      <td>Sport Utility Vehicle - 2WD</td>\n      <td>Premium</td>\n      <td>29.0</td>\n      <td>Y</td>\n    </tr>\n    <tr>\n      <th>31526</th>\n      <td>31971</td>\n      <td>2012</td>\n      <td>Lexus</td>\n      <td>RX 450h AWD</td>\n      <td>Sport Utility Vehicle - 4WD</td>\n      <td>Premium</td>\n      <td>28.0</td>\n      <td>Y</td>\n    </tr>\n    <tr>\n      <th>31536</th>\n      <td>31395</td>\n      <td>2012</td>\n      <td>Lincoln</td>\n      <td>MKZ Hybrid FWD</td>\n      <td>Midsize Cars</td>\n      <td>Regular</td>\n      <td>38.0</td>\n      <td>Y</td>\n    </tr>\n    <tr>\n      <th>31623</th>\n      <td>31799</td>\n      <td>2012</td>\n      <td>Mercedes-Benz</td>\n      <td>S400 Hybrid</td>\n      <td>Large Cars</td>\n      <td>Premium</td>\n      <td>21.0</td>\n      <td>Y</td>\n    </tr>\n    <tr>\n      <th>31674</th>\n      <td>31673</td>\n      <td>2012</td>\n      <td>Mitsubishi</td>\n      <td>i-MiEV</td>\n      <td>Subcompact Cars</td>\n      <td>Electricity</td>\n      <td>112.0</td>\n      <td>N</td>\n    </tr>\n  </tbody>\n</table>\n<p>310 rows × 8 columns</p>\n</div>"
     },
     "metadata": {},
     "execution_count": 33
    }
   ],
   "source": [
    "fuel[isStartStopDefined]"
   ]
  },
  {
   "cell_type": "code",
   "execution_count": 34,
   "metadata": {},
   "outputs": [
    {
     "output_type": "execute_result",
     "data": {
      "text/plain": "0    False\n1    False\n2    False\n3    False\n4    False\nName: Combined MPG (FT1), dtype: bool"
     },
     "metadata": {},
     "execution_count": 34
    }
   ],
   "source": [
    "mpg50_60 = fuel['Combined MPG (FT1)'].between(50, 60)\n",
    "mpg50_60.head()"
   ]
  },
  {
   "cell_type": "code",
   "execution_count": 35,
   "metadata": {},
   "outputs": [
    {
     "output_type": "execute_result",
     "data": {
      "text/plain": "       Vehicle ID  Year       Make              Model  \\\n16448       30976  1998  Chevrolet       S10 Electric   \n17433       30971  1999       Ford  Ranger Pickup 2WD   \n18295       30966  2000       Ford  Ranger Pickup 2WD   \n18296       30967  2000       Ford  Ranger Pickup 2WD   \n18371       15606  2000      Honda            Insight   \n\n                            Class    Fuel Type  Combined MPG (FT1)  \\\n16448     Small Pickup Trucks 2WD  Electricity                55.0   \n17433  Standard Pickup Trucks 2WD  Electricity                58.0   \n18295  Standard Pickup Trucks 2WD  Electricity                58.0   \n18296  Standard Pickup Trucks 2WD  Electricity                56.0   \n18371                 Two Seaters      Regular                53.0   \n\n      Start Stop Technology  \n16448                     N  \n17433                     N  \n18295                     N  \n18296                     N  \n18371                     Y  ",
      "text/html": "<div>\n<style scoped>\n    .dataframe tbody tr th:only-of-type {\n        vertical-align: middle;\n    }\n\n    .dataframe tbody tr th {\n        vertical-align: top;\n    }\n\n    .dataframe thead th {\n        text-align: right;\n    }\n</style>\n<table border=\"1\" class=\"dataframe\">\n  <thead>\n    <tr style=\"text-align: right;\">\n      <th></th>\n      <th>Vehicle ID</th>\n      <th>Year</th>\n      <th>Make</th>\n      <th>Model</th>\n      <th>Class</th>\n      <th>Fuel Type</th>\n      <th>Combined MPG (FT1)</th>\n      <th>Start Stop Technology</th>\n    </tr>\n  </thead>\n  <tbody>\n    <tr>\n      <th>16448</th>\n      <td>30976</td>\n      <td>1998</td>\n      <td>Chevrolet</td>\n      <td>S10 Electric</td>\n      <td>Small Pickup Trucks 2WD</td>\n      <td>Electricity</td>\n      <td>55.0</td>\n      <td>N</td>\n    </tr>\n    <tr>\n      <th>17433</th>\n      <td>30971</td>\n      <td>1999</td>\n      <td>Ford</td>\n      <td>Ranger Pickup 2WD</td>\n      <td>Standard Pickup Trucks 2WD</td>\n      <td>Electricity</td>\n      <td>58.0</td>\n      <td>N</td>\n    </tr>\n    <tr>\n      <th>18295</th>\n      <td>30966</td>\n      <td>2000</td>\n      <td>Ford</td>\n      <td>Ranger Pickup 2WD</td>\n      <td>Standard Pickup Trucks 2WD</td>\n      <td>Electricity</td>\n      <td>58.0</td>\n      <td>N</td>\n    </tr>\n    <tr>\n      <th>18296</th>\n      <td>30967</td>\n      <td>2000</td>\n      <td>Ford</td>\n      <td>Ranger Pickup 2WD</td>\n      <td>Standard Pickup Trucks 2WD</td>\n      <td>Electricity</td>\n      <td>56.0</td>\n      <td>N</td>\n    </tr>\n    <tr>\n      <th>18371</th>\n      <td>15606</td>\n      <td>2000</td>\n      <td>Honda</td>\n      <td>Insight</td>\n      <td>Two Seaters</td>\n      <td>Regular</td>\n      <td>53.0</td>\n      <td>Y</td>\n    </tr>\n  </tbody>\n</table>\n</div>"
     },
     "metadata": {},
     "execution_count": 35
    }
   ],
   "source": [
    "fuel[mpg50_60].head()"
   ]
  },
  {
   "cell_type": "code",
   "execution_count": 38,
   "metadata": {},
   "outputs": [
    {
     "output_type": "stream",
     "name": "stdout",
     "text": "There are 4376 cars within the list ['Renault', 'Toyota', 'Ford']\n"
    }
   ],
   "source": [
    "print(\"There are {} cars within the list {}\".format(len(fuel[isInList]), listOfCars))"
   ]
  },
  {
   "cell_type": "code",
   "execution_count": 39,
   "metadata": {},
   "outputs": [
    {
     "output_type": "stream",
     "name": "stdout",
     "text": "There are 31374 cars where Start/Stop technology is not determined\nThere are 310 cars where Start/Stop technology is determined\nThere are 13 cars with MPG value between 50 and 60\n"
    }
   ],
   "source": [
    "print(\"There are {} cars where Start/Stop technology is not determined\".format(len(fuel[isNoStartStopDefined])))\n",
    "print(\"There are {} cars where Start/Stop technology is determined\".format(len(fuel[isStartStopDefined])))\n",
    "print(\"There are {} cars with MPG value between 50 and 60\".format(len(fuel[mpg50_60])))"
   ]
  },
  {
   "cell_type": "code",
   "execution_count": null,
   "metadata": {},
   "outputs": [],
   "source": []
  }
 ],
 "metadata": {
  "language_info": {
   "codemirror_mode": {
    "name": "ipython",
    "version": 3
   },
   "file_extension": ".py",
   "mimetype": "text/x-python",
   "name": "python",
   "nbconvert_exporter": "python",
   "pygments_lexer": "ipython3",
   "version": "3.8.2-final"
  },
  "orig_nbformat": 2,
  "kernelspec": {
   "name": "python38264bitdatasciencef2t2jzuxvenv755777717192484c92e98af808cd61d4",
   "display_name": "Python 3.8.2 64-bit ('Data_Science-f2T2jZux': venv)"
  }
 },
 "nbformat": 4,
 "nbformat_minor": 2
}