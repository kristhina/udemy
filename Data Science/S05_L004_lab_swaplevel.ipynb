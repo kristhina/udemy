{
 "cells": [
  {
   "cell_type": "code",
   "execution_count": 1,
   "metadata": {},
   "outputs": [],
   "source": [
    "import pandas as pd\n",
    "import numpy as np"
   ]
  },
  {
   "cell_type": "code",
   "execution_count": 2,
   "metadata": {},
   "outputs": [
    {
     "output_type": "execute_result",
     "data": {
      "text/plain": "   Year        Make               Model  Range (FT1)  City Range (FT1)\n0  1984  Alfa Romeo           GT V6 2.5          0.0               0.0\n1  1984  Alfa Romeo           GT V6 2.5          0.0               0.0\n2  1984  Alfa Romeo  Spider Veloce 2000          0.0               0.0\n3  1984  Alfa Romeo  Spider Veloce 2000          0.0               0.0\n4  1984  AM General   DJ Po Vehicle 2WD          0.0               0.0",
      "text/html": "<div>\n<style scoped>\n    .dataframe tbody tr th:only-of-type {\n        vertical-align: middle;\n    }\n\n    .dataframe tbody tr th {\n        vertical-align: top;\n    }\n\n    .dataframe thead th {\n        text-align: right;\n    }\n</style>\n<table border=\"1\" class=\"dataframe\">\n  <thead>\n    <tr style=\"text-align: right;\">\n      <th></th>\n      <th>Year</th>\n      <th>Make</th>\n      <th>Model</th>\n      <th>Range (FT1)</th>\n      <th>City Range (FT1)</th>\n    </tr>\n  </thead>\n  <tbody>\n    <tr>\n      <th>0</th>\n      <td>1984</td>\n      <td>Alfa Romeo</td>\n      <td>GT V6 2.5</td>\n      <td>0.0</td>\n      <td>0.0</td>\n    </tr>\n    <tr>\n      <th>1</th>\n      <td>1984</td>\n      <td>Alfa Romeo</td>\n      <td>GT V6 2.5</td>\n      <td>0.0</td>\n      <td>0.0</td>\n    </tr>\n    <tr>\n      <th>2</th>\n      <td>1984</td>\n      <td>Alfa Romeo</td>\n      <td>Spider Veloce 2000</td>\n      <td>0.0</td>\n      <td>0.0</td>\n    </tr>\n    <tr>\n      <th>3</th>\n      <td>1984</td>\n      <td>Alfa Romeo</td>\n      <td>Spider Veloce 2000</td>\n      <td>0.0</td>\n      <td>0.0</td>\n    </tr>\n    <tr>\n      <th>4</th>\n      <td>1984</td>\n      <td>AM General</td>\n      <td>DJ Po Vehicle 2WD</td>\n      <td>0.0</td>\n      <td>0.0</td>\n    </tr>\n  </tbody>\n</table>\n</div>"
     },
     "metadata": {},
     "execution_count": 2
    }
   ],
   "source": [
    "fuel = pd.read_csv(\"dane/course-files/fuel.csv\", usecols=['Year','Make','Model','Range (FT1)','City Range (FT1)'])\n",
    "fuel.head()"
   ]
  },
  {
   "cell_type": "code",
   "execution_count": 3,
   "metadata": {},
   "outputs": [
    {
     "output_type": "execute_result",
     "data": {
      "text/plain": "                                    Range (FT1)  City Range (FT1)\nYear Make       Model                                            \n1984 Alfa Romeo GT V6 2.5                   0.0               0.0\n                GT V6 2.5                   0.0               0.0\n                Spider Veloce 2000          0.0               0.0\n                Spider Veloce 2000          0.0               0.0\n     AM General DJ Po Vehicle 2WD           0.0               0.0",
      "text/html": "<div>\n<style scoped>\n    .dataframe tbody tr th:only-of-type {\n        vertical-align: middle;\n    }\n\n    .dataframe tbody tr th {\n        vertical-align: top;\n    }\n\n    .dataframe thead th {\n        text-align: right;\n    }\n</style>\n<table border=\"1\" class=\"dataframe\">\n  <thead>\n    <tr style=\"text-align: right;\">\n      <th></th>\n      <th></th>\n      <th></th>\n      <th>Range (FT1)</th>\n      <th>City Range (FT1)</th>\n    </tr>\n    <tr>\n      <th>Year</th>\n      <th>Make</th>\n      <th>Model</th>\n      <th></th>\n      <th></th>\n    </tr>\n  </thead>\n  <tbody>\n    <tr>\n      <th rowspan=\"5\" valign=\"top\">1984</th>\n      <th rowspan=\"4\" valign=\"top\">Alfa Romeo</th>\n      <th>GT V6 2.5</th>\n      <td>0.0</td>\n      <td>0.0</td>\n    </tr>\n    <tr>\n      <th>GT V6 2.5</th>\n      <td>0.0</td>\n      <td>0.0</td>\n    </tr>\n    <tr>\n      <th>Spider Veloce 2000</th>\n      <td>0.0</td>\n      <td>0.0</td>\n    </tr>\n    <tr>\n      <th>Spider Veloce 2000</th>\n      <td>0.0</td>\n      <td>0.0</td>\n    </tr>\n    <tr>\n      <th>AM General</th>\n      <th>DJ Po Vehicle 2WD</th>\n      <td>0.0</td>\n      <td>0.0</td>\n    </tr>\n  </tbody>\n</table>\n</div>"
     },
     "metadata": {},
     "execution_count": 3
    }
   ],
   "source": [
    "fuel.set_index([\"Year\", \"Make\", \"Model\"], inplace=True)\n",
    "fuel.head()"
   ]
  },
  {
   "cell_type": "code",
   "execution_count": 4,
   "metadata": {},
   "outputs": [
    {
     "output_type": "execute_result",
     "data": {
      "text/plain": "                                   Range (FT1)  City Range (FT1)\nYear Make       Model                                           \n1984 AM General DJ Po Vehicle 2WD          0.0               0.0\n                DJ Po Vehicle 2WD          0.0               0.0\n                FJ8c Post Office           0.0               0.0\n                FJ8c Post Office           0.0               0.0\n     Alfa Romeo GT V6 2.5                  0.0               0.0",
      "text/html": "<div>\n<style scoped>\n    .dataframe tbody tr th:only-of-type {\n        vertical-align: middle;\n    }\n\n    .dataframe tbody tr th {\n        vertical-align: top;\n    }\n\n    .dataframe thead th {\n        text-align: right;\n    }\n</style>\n<table border=\"1\" class=\"dataframe\">\n  <thead>\n    <tr style=\"text-align: right;\">\n      <th></th>\n      <th></th>\n      <th></th>\n      <th>Range (FT1)</th>\n      <th>City Range (FT1)</th>\n    </tr>\n    <tr>\n      <th>Year</th>\n      <th>Make</th>\n      <th>Model</th>\n      <th></th>\n      <th></th>\n    </tr>\n  </thead>\n  <tbody>\n    <tr>\n      <th rowspan=\"5\" valign=\"top\">1984</th>\n      <th rowspan=\"4\" valign=\"top\">AM General</th>\n      <th>DJ Po Vehicle 2WD</th>\n      <td>0.0</td>\n      <td>0.0</td>\n    </tr>\n    <tr>\n      <th>DJ Po Vehicle 2WD</th>\n      <td>0.0</td>\n      <td>0.0</td>\n    </tr>\n    <tr>\n      <th>FJ8c Post Office</th>\n      <td>0.0</td>\n      <td>0.0</td>\n    </tr>\n    <tr>\n      <th>FJ8c Post Office</th>\n      <td>0.0</td>\n      <td>0.0</td>\n    </tr>\n    <tr>\n      <th>Alfa Romeo</th>\n      <th>GT V6 2.5</th>\n      <td>0.0</td>\n      <td>0.0</td>\n    </tr>\n  </tbody>\n</table>\n</div>"
     },
     "metadata": {},
     "execution_count": 4
    }
   ],
   "source": [
    "fuel.sort_index(inplace=True)\n",
    "fuel.head()"
   ]
  },
  {
   "cell_type": "code",
   "execution_count": 5,
   "metadata": {},
   "outputs": [
    {
     "output_type": "stream",
     "name": "stdout",
     "text": "Range (FT1)  City Range (FT1)\nYear Make       Model                                            \n1984 Alfa Romeo Spider Veloce 2000          0.0               0.0\n                Spider Veloce 2000          0.0               0.0\n"
    }
   ],
   "source": [
    "print(fuel.loc[(1984, \"Alfa Romeo\", \"Spider Veloce 2000\")])\n"
   ]
  },
  {
   "cell_type": "code",
   "execution_count": 6,
   "metadata": {},
   "outputs": [
    {
     "output_type": "execute_result",
     "data": {
      "text/plain": "                                           Range (FT1)  City Range (FT1)\nMake             Year Model                                             \nAM General       1984 DJ Po Vehicle 2WD            0.0               0.0\n                      DJ Po Vehicle 2WD            0.0               0.0\n                      FJ8c Post Office             0.0               0.0\n                      FJ8c Post Office             0.0               0.0\n                 1985 Post Office DJ5 2WD          0.0               0.0\n                      Post Office DJ8 2WD          0.0               0.0\nASC Incorporated 1987 GNX                          0.0               0.0\nAcura            1986 Integra                      0.0               0.0\n                      Integra                      0.0               0.0\n                      Legend                       0.0               0.0",
      "text/html": "<div>\n<style scoped>\n    .dataframe tbody tr th:only-of-type {\n        vertical-align: middle;\n    }\n\n    .dataframe tbody tr th {\n        vertical-align: top;\n    }\n\n    .dataframe thead th {\n        text-align: right;\n    }\n</style>\n<table border=\"1\" class=\"dataframe\">\n  <thead>\n    <tr style=\"text-align: right;\">\n      <th></th>\n      <th></th>\n      <th></th>\n      <th>Range (FT1)</th>\n      <th>City Range (FT1)</th>\n    </tr>\n    <tr>\n      <th>Make</th>\n      <th>Year</th>\n      <th>Model</th>\n      <th></th>\n      <th></th>\n    </tr>\n  </thead>\n  <tbody>\n    <tr>\n      <th rowspan=\"6\" valign=\"top\">AM General</th>\n      <th rowspan=\"4\" valign=\"top\">1984</th>\n      <th>DJ Po Vehicle 2WD</th>\n      <td>0.0</td>\n      <td>0.0</td>\n    </tr>\n    <tr>\n      <th>DJ Po Vehicle 2WD</th>\n      <td>0.0</td>\n      <td>0.0</td>\n    </tr>\n    <tr>\n      <th>FJ8c Post Office</th>\n      <td>0.0</td>\n      <td>0.0</td>\n    </tr>\n    <tr>\n      <th>FJ8c Post Office</th>\n      <td>0.0</td>\n      <td>0.0</td>\n    </tr>\n    <tr>\n      <th rowspan=\"2\" valign=\"top\">1985</th>\n      <th>Post Office DJ5 2WD</th>\n      <td>0.0</td>\n      <td>0.0</td>\n    </tr>\n    <tr>\n      <th>Post Office DJ8 2WD</th>\n      <td>0.0</td>\n      <td>0.0</td>\n    </tr>\n    <tr>\n      <th>ASC Incorporated</th>\n      <th>1987</th>\n      <th>GNX</th>\n      <td>0.0</td>\n      <td>0.0</td>\n    </tr>\n    <tr>\n      <th rowspan=\"3\" valign=\"top\">Acura</th>\n      <th rowspan=\"3\" valign=\"top\">1986</th>\n      <th>Integra</th>\n      <td>0.0</td>\n      <td>0.0</td>\n    </tr>\n    <tr>\n      <th>Integra</th>\n      <td>0.0</td>\n      <td>0.0</td>\n    </tr>\n    <tr>\n      <th>Legend</th>\n      <td>0.0</td>\n      <td>0.0</td>\n    </tr>\n  </tbody>\n</table>\n</div>"
     },
     "metadata": {},
     "execution_count": 6
    }
   ],
   "source": [
    "fuel = fuel.swaplevel(i = 0, j = 1)\n",
    "fuel.sort_index(inplace = True)\n",
    "fuel.head(10)"
   ]
  },
  {
   "cell_type": "code",
   "execution_count": 7,
   "metadata": {},
   "outputs": [
    {
     "output_type": "execute_result",
     "data": {
      "text/plain": "                                    Range (FT1)  City Range (FT1)\nMake       Year Model                                            \nAlfa Romeo 1984 Spider Veloce 2000          0.0               0.0\n                Spider Veloce 2000          0.0               0.0",
      "text/html": "<div>\n<style scoped>\n    .dataframe tbody tr th:only-of-type {\n        vertical-align: middle;\n    }\n\n    .dataframe tbody tr th {\n        vertical-align: top;\n    }\n\n    .dataframe thead th {\n        text-align: right;\n    }\n</style>\n<table border=\"1\" class=\"dataframe\">\n  <thead>\n    <tr style=\"text-align: right;\">\n      <th></th>\n      <th></th>\n      <th></th>\n      <th>Range (FT1)</th>\n      <th>City Range (FT1)</th>\n    </tr>\n    <tr>\n      <th>Make</th>\n      <th>Year</th>\n      <th>Model</th>\n      <th></th>\n      <th></th>\n    </tr>\n  </thead>\n  <tbody>\n    <tr>\n      <th rowspan=\"2\" valign=\"top\">Alfa Romeo</th>\n      <th rowspan=\"2\" valign=\"top\">1984</th>\n      <th>Spider Veloce 2000</th>\n      <td>0.0</td>\n      <td>0.0</td>\n    </tr>\n    <tr>\n      <th>Spider Veloce 2000</th>\n      <td>0.0</td>\n      <td>0.0</td>\n    </tr>\n  </tbody>\n</table>\n</div>"
     },
     "metadata": {},
     "execution_count": 7
    }
   ],
   "source": [
    "fuel.loc[(\"Alfa Romeo\", 1984, \"Spider Veloce 2000\")]"
   ]
  },
  {
   "cell_type": "code",
   "execution_count": 8,
   "metadata": {},
   "outputs": [
    {
     "output_type": "execute_result",
     "data": {
      "text/plain": "                                           Range (FT1)  City Range (FT1)\nMake             Model               Year                               \nAM General       DJ Po Vehicle 2WD   1984          0.0               0.0\n                                     1984          0.0               0.0\n                 FJ8c Post Office    1984          0.0               0.0\n                                     1984          0.0               0.0\n                 Post Office DJ5 2WD 1985          0.0               0.0\n                 Post Office DJ8 2WD 1985          0.0               0.0\nASC Incorporated GNX                 1987          0.0               0.0\nAcura            2.2CL/3.0CL         1997          0.0               0.0\n                                     1997          0.0               0.0\n                                     1997          0.0               0.0",
      "text/html": "<div>\n<style scoped>\n    .dataframe tbody tr th:only-of-type {\n        vertical-align: middle;\n    }\n\n    .dataframe tbody tr th {\n        vertical-align: top;\n    }\n\n    .dataframe thead th {\n        text-align: right;\n    }\n</style>\n<table border=\"1\" class=\"dataframe\">\n  <thead>\n    <tr style=\"text-align: right;\">\n      <th></th>\n      <th></th>\n      <th></th>\n      <th>Range (FT1)</th>\n      <th>City Range (FT1)</th>\n    </tr>\n    <tr>\n      <th>Make</th>\n      <th>Model</th>\n      <th>Year</th>\n      <th></th>\n      <th></th>\n    </tr>\n  </thead>\n  <tbody>\n    <tr>\n      <th rowspan=\"6\" valign=\"top\">AM General</th>\n      <th rowspan=\"2\" valign=\"top\">DJ Po Vehicle 2WD</th>\n      <th>1984</th>\n      <td>0.0</td>\n      <td>0.0</td>\n    </tr>\n    <tr>\n      <th>1984</th>\n      <td>0.0</td>\n      <td>0.0</td>\n    </tr>\n    <tr>\n      <th rowspan=\"2\" valign=\"top\">FJ8c Post Office</th>\n      <th>1984</th>\n      <td>0.0</td>\n      <td>0.0</td>\n    </tr>\n    <tr>\n      <th>1984</th>\n      <td>0.0</td>\n      <td>0.0</td>\n    </tr>\n    <tr>\n      <th>Post Office DJ5 2WD</th>\n      <th>1985</th>\n      <td>0.0</td>\n      <td>0.0</td>\n    </tr>\n    <tr>\n      <th>Post Office DJ8 2WD</th>\n      <th>1985</th>\n      <td>0.0</td>\n      <td>0.0</td>\n    </tr>\n    <tr>\n      <th>ASC Incorporated</th>\n      <th>GNX</th>\n      <th>1987</th>\n      <td>0.0</td>\n      <td>0.0</td>\n    </tr>\n    <tr>\n      <th rowspan=\"3\" valign=\"top\">Acura</th>\n      <th rowspan=\"3\" valign=\"top\">2.2CL/3.0CL</th>\n      <th>1997</th>\n      <td>0.0</td>\n      <td>0.0</td>\n    </tr>\n    <tr>\n      <th>1997</th>\n      <td>0.0</td>\n      <td>0.0</td>\n    </tr>\n    <tr>\n      <th>1997</th>\n      <td>0.0</td>\n      <td>0.0</td>\n    </tr>\n  </tbody>\n</table>\n</div>"
     },
     "metadata": {},
     "execution_count": 8
    }
   ],
   "source": [
    "fuel = fuel.swaplevel(i = 1, j = 2)\n",
    "fuel.sort_index(inplace = True)\n",
    "fuel.head(10)"
   ]
  },
  {
   "cell_type": "code",
   "execution_count": 9,
   "metadata": {},
   "outputs": [
    {
     "output_type": "execute_result",
     "data": {
      "text/plain": "                                    Range (FT1)  City Range (FT1)\nMake       Model              Year                               \nAlfa Romeo Spider Veloce 2000 1984          0.0               0.0\n                              1984          0.0               0.0",
      "text/html": "<div>\n<style scoped>\n    .dataframe tbody tr th:only-of-type {\n        vertical-align: middle;\n    }\n\n    .dataframe tbody tr th {\n        vertical-align: top;\n    }\n\n    .dataframe thead th {\n        text-align: right;\n    }\n</style>\n<table border=\"1\" class=\"dataframe\">\n  <thead>\n    <tr style=\"text-align: right;\">\n      <th></th>\n      <th></th>\n      <th></th>\n      <th>Range (FT1)</th>\n      <th>City Range (FT1)</th>\n    </tr>\n    <tr>\n      <th>Make</th>\n      <th>Model</th>\n      <th>Year</th>\n      <th></th>\n      <th></th>\n    </tr>\n  </thead>\n  <tbody>\n    <tr>\n      <th rowspan=\"2\" valign=\"top\">Alfa Romeo</th>\n      <th rowspan=\"2\" valign=\"top\">Spider Veloce 2000</th>\n      <th>1984</th>\n      <td>0.0</td>\n      <td>0.0</td>\n    </tr>\n    <tr>\n      <th>1984</th>\n      <td>0.0</td>\n      <td>0.0</td>\n    </tr>\n  </tbody>\n</table>\n</div>"
     },
     "metadata": {},
     "execution_count": 9
    }
   ],
   "source": [
    "fuel.loc[(\"Alfa Romeo\", \"Spider Veloce 2000\", 1984)]"
   ]
  },
  {
   "cell_type": "code",
   "execution_count": null,
   "metadata": {},
   "outputs": [],
   "source": []
  }
 ],
 "metadata": {
  "language_info": {
   "codemirror_mode": {
    "name": "ipython",
    "version": 3
   },
   "file_extension": ".py",
   "mimetype": "text/x-python",
   "name": "python",
   "nbconvert_exporter": "python",
   "pygments_lexer": "ipython3",
   "version": "3.8.2-final"
  },
  "orig_nbformat": 2,
  "kernelspec": {
   "name": "python38264bitdatasciencef2t2jzuxvenv755777717192484c92e98af808cd61d4",
   "display_name": "Python 3.8.2 64-bit ('Data_Science-f2T2jZux': venv)"
  }
 },
 "nbformat": 4,
 "nbformat_minor": 2
}