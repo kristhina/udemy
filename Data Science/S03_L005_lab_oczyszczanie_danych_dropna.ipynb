{
 "cells": [
  {
   "cell_type": "code",
   "execution_count": 30,
   "metadata": {},
   "outputs": [],
   "source": [
    "import pandas as pd\n",
    "import numpy as np"
   ]
  },
  {
   "cell_type": "code",
   "execution_count": 44,
   "metadata": {},
   "outputs": [
    {
     "output_type": "execute_result",
     "data": {
      "text/plain": "            Year        Make               Model                        Class  \\\nVehicle ID                                                                      \n26587       1984  Alfa Romeo           GT V6 2.5             Minicompact Cars   \n27705       1984  Alfa Romeo           GT V6 2.5             Minicompact Cars   \n26561       1984  Alfa Romeo  Spider Veloce 2000                  Two Seaters   \n27681       1984  Alfa Romeo  Spider Veloce 2000                  Two Seaters   \n27550       1984  AM General   DJ Po Vehicle 2WD  Special Purpose Vehicle 2WD   \n\n           Fuel Type  Combined MPG (FT1)  \nVehicle ID                                \n26587        Regular                20.0  \n27705        Regular                20.0  \n26561        Regular                21.0  \n27681        Regular                21.0  \n27550        Regular                17.0  ",
      "text/html": "<div>\n<style scoped>\n    .dataframe tbody tr th:only-of-type {\n        vertical-align: middle;\n    }\n\n    .dataframe tbody tr th {\n        vertical-align: top;\n    }\n\n    .dataframe thead th {\n        text-align: right;\n    }\n</style>\n<table border=\"1\" class=\"dataframe\">\n  <thead>\n    <tr style=\"text-align: right;\">\n      <th></th>\n      <th>Year</th>\n      <th>Make</th>\n      <th>Model</th>\n      <th>Class</th>\n      <th>Fuel Type</th>\n      <th>Combined MPG (FT1)</th>\n    </tr>\n    <tr>\n      <th>Vehicle ID</th>\n      <th></th>\n      <th></th>\n      <th></th>\n      <th></th>\n      <th></th>\n      <th></th>\n    </tr>\n  </thead>\n  <tbody>\n    <tr>\n      <th>26587</th>\n      <td>1984</td>\n      <td>Alfa Romeo</td>\n      <td>GT V6 2.5</td>\n      <td>Minicompact Cars</td>\n      <td>Regular</td>\n      <td>20.0</td>\n    </tr>\n    <tr>\n      <th>27705</th>\n      <td>1984</td>\n      <td>Alfa Romeo</td>\n      <td>GT V6 2.5</td>\n      <td>Minicompact Cars</td>\n      <td>Regular</td>\n      <td>20.0</td>\n    </tr>\n    <tr>\n      <th>26561</th>\n      <td>1984</td>\n      <td>Alfa Romeo</td>\n      <td>Spider Veloce 2000</td>\n      <td>Two Seaters</td>\n      <td>Regular</td>\n      <td>21.0</td>\n    </tr>\n    <tr>\n      <th>27681</th>\n      <td>1984</td>\n      <td>Alfa Romeo</td>\n      <td>Spider Veloce 2000</td>\n      <td>Two Seaters</td>\n      <td>Regular</td>\n      <td>21.0</td>\n    </tr>\n    <tr>\n      <th>27550</th>\n      <td>1984</td>\n      <td>AM General</td>\n      <td>DJ Po Vehicle 2WD</td>\n      <td>Special Purpose Vehicle 2WD</td>\n      <td>Regular</td>\n      <td>17.0</td>\n    </tr>\n  </tbody>\n</table>\n</div>"
     },
     "metadata": {},
     "execution_count": 44
    }
   ],
   "source": [
    "fuel = pd.read_csv(\"dane/course-files/fuel.csv\", low_memory=False, usecols=['Vehicle ID','Year','Make','Model','Class','Fuel Type','Combined MPG (FT1)'], index_col=['Vehicle ID'])\n",
    "fuel.head()"
   ]
  },
  {
   "cell_type": "code",
   "execution_count": 45,
   "metadata": {},
   "outputs": [],
   "source": [
    "fuel.loc[27705, 'Class'] = np.NaN\n",
    "fuel.loc[26561, 'Class'] = np.NaN\n",
    "fuel.loc[27550, 'Fuel Type'] = np.NaN"
   ]
  },
  {
   "cell_type": "code",
   "execution_count": 46,
   "metadata": {},
   "outputs": [
    {
     "output_type": "execute_result",
     "data": {
      "text/plain": "Year                                         1984\nMake                                   AM General\nModel                           DJ Po Vehicle 2WD\nClass                 Special Purpose Vehicle 2WD\nFuel Type                                     NaN\nCombined MPG (FT1)                             17\nName: 27550, dtype: object"
     },
     "metadata": {},
     "execution_count": 46
    }
   ],
   "source": [
    "fuel.loc[27550]"
   ]
  },
  {
   "cell_type": "code",
   "execution_count": 47,
   "metadata": {},
   "outputs": [
    {
     "output_type": "execute_result",
     "data": {
      "text/plain": "            Year        Make               Model                        Class  \\\nVehicle ID                                                                      \n26587       1984  Alfa Romeo           GT V6 2.5             Minicompact Cars   \n27705       1984  Alfa Romeo           GT V6 2.5                          NaN   \n26561       1984  Alfa Romeo  Spider Veloce 2000                          NaN   \n27681       1984  Alfa Romeo  Spider Veloce 2000                  Two Seaters   \n27550       1984  AM General   DJ Po Vehicle 2WD  Special Purpose Vehicle 2WD   \n\n           Fuel Type  Combined MPG (FT1)  \nVehicle ID                                \n26587        Regular                20.0  \n27705        Regular                20.0  \n26561        Regular                21.0  \n27681        Regular                21.0  \n27550            NaN                17.0  ",
      "text/html": "<div>\n<style scoped>\n    .dataframe tbody tr th:only-of-type {\n        vertical-align: middle;\n    }\n\n    .dataframe tbody tr th {\n        vertical-align: top;\n    }\n\n    .dataframe thead th {\n        text-align: right;\n    }\n</style>\n<table border=\"1\" class=\"dataframe\">\n  <thead>\n    <tr style=\"text-align: right;\">\n      <th></th>\n      <th>Year</th>\n      <th>Make</th>\n      <th>Model</th>\n      <th>Class</th>\n      <th>Fuel Type</th>\n      <th>Combined MPG (FT1)</th>\n    </tr>\n    <tr>\n      <th>Vehicle ID</th>\n      <th></th>\n      <th></th>\n      <th></th>\n      <th></th>\n      <th></th>\n      <th></th>\n    </tr>\n  </thead>\n  <tbody>\n    <tr>\n      <th>26587</th>\n      <td>1984</td>\n      <td>Alfa Romeo</td>\n      <td>GT V6 2.5</td>\n      <td>Minicompact Cars</td>\n      <td>Regular</td>\n      <td>20.0</td>\n    </tr>\n    <tr>\n      <th>27705</th>\n      <td>1984</td>\n      <td>Alfa Romeo</td>\n      <td>GT V6 2.5</td>\n      <td>NaN</td>\n      <td>Regular</td>\n      <td>20.0</td>\n    </tr>\n    <tr>\n      <th>26561</th>\n      <td>1984</td>\n      <td>Alfa Romeo</td>\n      <td>Spider Veloce 2000</td>\n      <td>NaN</td>\n      <td>Regular</td>\n      <td>21.0</td>\n    </tr>\n    <tr>\n      <th>27681</th>\n      <td>1984</td>\n      <td>Alfa Romeo</td>\n      <td>Spider Veloce 2000</td>\n      <td>Two Seaters</td>\n      <td>Regular</td>\n      <td>21.0</td>\n    </tr>\n    <tr>\n      <th>27550</th>\n      <td>1984</td>\n      <td>AM General</td>\n      <td>DJ Po Vehicle 2WD</td>\n      <td>Special Purpose Vehicle 2WD</td>\n      <td>NaN</td>\n      <td>17.0</td>\n    </tr>\n  </tbody>\n</table>\n</div>"
     },
     "metadata": {},
     "execution_count": 47
    }
   ],
   "source": [
    "fuel.head()"
   ]
  },
  {
   "cell_type": "code",
   "execution_count": 48,
   "metadata": {},
   "outputs": [
    {
     "output_type": "execute_result",
     "data": {
      "text/plain": "            Year        Make               Model                        Class  \\\nVehicle ID                                                                      \n26587       1984  Alfa Romeo           GT V6 2.5             Minicompact Cars   \n27681       1984  Alfa Romeo  Spider Veloce 2000                  Two Seaters   \n28426       1984  AM General   DJ Po Vehicle 2WD  Special Purpose Vehicle 2WD   \n27549       1984  AM General    FJ8c Post Office  Special Purpose Vehicle 2WD   \n28425       1984  AM General    FJ8c Post Office  Special Purpose Vehicle 2WD   \n\n           Fuel Type  Combined MPG (FT1)  \nVehicle ID                                \n26587        Regular                20.0  \n27681        Regular                21.0  \n28426        Regular                17.0  \n27549        Regular                13.0  \n28425        Regular                13.0  ",
      "text/html": "<div>\n<style scoped>\n    .dataframe tbody tr th:only-of-type {\n        vertical-align: middle;\n    }\n\n    .dataframe tbody tr th {\n        vertical-align: top;\n    }\n\n    .dataframe thead th {\n        text-align: right;\n    }\n</style>\n<table border=\"1\" class=\"dataframe\">\n  <thead>\n    <tr style=\"text-align: right;\">\n      <th></th>\n      <th>Year</th>\n      <th>Make</th>\n      <th>Model</th>\n      <th>Class</th>\n      <th>Fuel Type</th>\n      <th>Combined MPG (FT1)</th>\n    </tr>\n    <tr>\n      <th>Vehicle ID</th>\n      <th></th>\n      <th></th>\n      <th></th>\n      <th></th>\n      <th></th>\n      <th></th>\n    </tr>\n  </thead>\n  <tbody>\n    <tr>\n      <th>26587</th>\n      <td>1984</td>\n      <td>Alfa Romeo</td>\n      <td>GT V6 2.5</td>\n      <td>Minicompact Cars</td>\n      <td>Regular</td>\n      <td>20.0</td>\n    </tr>\n    <tr>\n      <th>27681</th>\n      <td>1984</td>\n      <td>Alfa Romeo</td>\n      <td>Spider Veloce 2000</td>\n      <td>Two Seaters</td>\n      <td>Regular</td>\n      <td>21.0</td>\n    </tr>\n    <tr>\n      <th>28426</th>\n      <td>1984</td>\n      <td>AM General</td>\n      <td>DJ Po Vehicle 2WD</td>\n      <td>Special Purpose Vehicle 2WD</td>\n      <td>Regular</td>\n      <td>17.0</td>\n    </tr>\n    <tr>\n      <th>27549</th>\n      <td>1984</td>\n      <td>AM General</td>\n      <td>FJ8c Post Office</td>\n      <td>Special Purpose Vehicle 2WD</td>\n      <td>Regular</td>\n      <td>13.0</td>\n    </tr>\n    <tr>\n      <th>28425</th>\n      <td>1984</td>\n      <td>AM General</td>\n      <td>FJ8c Post Office</td>\n      <td>Special Purpose Vehicle 2WD</td>\n      <td>Regular</td>\n      <td>13.0</td>\n    </tr>\n  </tbody>\n</table>\n</div>"
     },
     "metadata": {},
     "execution_count": 48
    }
   ],
   "source": [
    "fuel.dropna().head()"
   ]
  },
  {
   "cell_type": "code",
   "execution_count": 49,
   "metadata": {},
   "outputs": [
    {
     "output_type": "execute_result",
     "data": {
      "text/plain": "            Year        Make\nVehicle ID                  \n26587       1984  Alfa Romeo\n27705       1984  Alfa Romeo\n26561       1984  Alfa Romeo\n27681       1984  Alfa Romeo\n27550       1984  AM General",
      "text/html": "<div>\n<style scoped>\n    .dataframe tbody tr th:only-of-type {\n        vertical-align: middle;\n    }\n\n    .dataframe tbody tr th {\n        vertical-align: top;\n    }\n\n    .dataframe thead th {\n        text-align: right;\n    }\n</style>\n<table border=\"1\" class=\"dataframe\">\n  <thead>\n    <tr style=\"text-align: right;\">\n      <th></th>\n      <th>Year</th>\n      <th>Make</th>\n    </tr>\n    <tr>\n      <th>Vehicle ID</th>\n      <th></th>\n      <th></th>\n    </tr>\n  </thead>\n  <tbody>\n    <tr>\n      <th>26587</th>\n      <td>1984</td>\n      <td>Alfa Romeo</td>\n    </tr>\n    <tr>\n      <th>27705</th>\n      <td>1984</td>\n      <td>Alfa Romeo</td>\n    </tr>\n    <tr>\n      <th>26561</th>\n      <td>1984</td>\n      <td>Alfa Romeo</td>\n    </tr>\n    <tr>\n      <th>27681</th>\n      <td>1984</td>\n      <td>Alfa Romeo</td>\n    </tr>\n    <tr>\n      <th>27550</th>\n      <td>1984</td>\n      <td>AM General</td>\n    </tr>\n  </tbody>\n</table>\n</div>"
     },
     "metadata": {},
     "execution_count": 49
    }
   ],
   "source": [
    "fuel.dropna(axis=1).head()"
   ]
  },
  {
   "cell_type": "code",
   "execution_count": 51,
   "metadata": {},
   "outputs": [
    {
     "output_type": "execute_result",
     "data": {
      "text/plain": "            Year        Make               Model                        Class  \\\nVehicle ID                                                                      \n26587       1984  Alfa Romeo           GT V6 2.5             Minicompact Cars   \n27681       1984  Alfa Romeo  Spider Veloce 2000                  Two Seaters   \n27550       1984  AM General   DJ Po Vehicle 2WD  Special Purpose Vehicle 2WD   \n28426       1984  AM General   DJ Po Vehicle 2WD  Special Purpose Vehicle 2WD   \n27549       1984  AM General    FJ8c Post Office  Special Purpose Vehicle 2WD   \n\n           Fuel Type  Combined MPG (FT1)  \nVehicle ID                                \n26587        Regular                20.0  \n27681        Regular                21.0  \n27550            NaN                17.0  \n28426        Regular                17.0  \n27549        Regular                13.0  ",
      "text/html": "<div>\n<style scoped>\n    .dataframe tbody tr th:only-of-type {\n        vertical-align: middle;\n    }\n\n    .dataframe tbody tr th {\n        vertical-align: top;\n    }\n\n    .dataframe thead th {\n        text-align: right;\n    }\n</style>\n<table border=\"1\" class=\"dataframe\">\n  <thead>\n    <tr style=\"text-align: right;\">\n      <th></th>\n      <th>Year</th>\n      <th>Make</th>\n      <th>Model</th>\n      <th>Class</th>\n      <th>Fuel Type</th>\n      <th>Combined MPG (FT1)</th>\n    </tr>\n    <tr>\n      <th>Vehicle ID</th>\n      <th></th>\n      <th></th>\n      <th></th>\n      <th></th>\n      <th></th>\n      <th></th>\n    </tr>\n  </thead>\n  <tbody>\n    <tr>\n      <th>26587</th>\n      <td>1984</td>\n      <td>Alfa Romeo</td>\n      <td>GT V6 2.5</td>\n      <td>Minicompact Cars</td>\n      <td>Regular</td>\n      <td>20.0</td>\n    </tr>\n    <tr>\n      <th>27681</th>\n      <td>1984</td>\n      <td>Alfa Romeo</td>\n      <td>Spider Veloce 2000</td>\n      <td>Two Seaters</td>\n      <td>Regular</td>\n      <td>21.0</td>\n    </tr>\n    <tr>\n      <th>27550</th>\n      <td>1984</td>\n      <td>AM General</td>\n      <td>DJ Po Vehicle 2WD</td>\n      <td>Special Purpose Vehicle 2WD</td>\n      <td>NaN</td>\n      <td>17.0</td>\n    </tr>\n    <tr>\n      <th>28426</th>\n      <td>1984</td>\n      <td>AM General</td>\n      <td>DJ Po Vehicle 2WD</td>\n      <td>Special Purpose Vehicle 2WD</td>\n      <td>Regular</td>\n      <td>17.0</td>\n    </tr>\n    <tr>\n      <th>27549</th>\n      <td>1984</td>\n      <td>AM General</td>\n      <td>FJ8c Post Office</td>\n      <td>Special Purpose Vehicle 2WD</td>\n      <td>Regular</td>\n      <td>13.0</td>\n    </tr>\n  </tbody>\n</table>\n</div>"
     },
     "metadata": {},
     "execution_count": 51
    }
   ],
   "source": [
    "fuel.dropna(subset=['Class']).head()"
   ]
  },
  {
   "cell_type": "code",
   "execution_count": 52,
   "metadata": {},
   "outputs": [
    {
     "output_type": "execute_result",
     "data": {
      "text/plain": "            Year        Make               Model                        Class  \\\nVehicle ID                                                                      \n26587       1984  Alfa Romeo           GT V6 2.5             Minicompact Cars   \n27705       1984  Alfa Romeo           GT V6 2.5                          NaN   \n26561       1984  Alfa Romeo  Spider Veloce 2000                          NaN   \n27681       1984  Alfa Romeo  Spider Veloce 2000                  Two Seaters   \n27550       1984  AM General   DJ Po Vehicle 2WD  Special Purpose Vehicle 2WD   \n\n           Fuel Type  Combined MPG (FT1)  \nVehicle ID                                \n26587        Regular                20.0  \n27705        Regular                20.0  \n26561        Regular                21.0  \n27681        Regular                21.0  \n27550            NaN                17.0  ",
      "text/html": "<div>\n<style scoped>\n    .dataframe tbody tr th:only-of-type {\n        vertical-align: middle;\n    }\n\n    .dataframe tbody tr th {\n        vertical-align: top;\n    }\n\n    .dataframe thead th {\n        text-align: right;\n    }\n</style>\n<table border=\"1\" class=\"dataframe\">\n  <thead>\n    <tr style=\"text-align: right;\">\n      <th></th>\n      <th>Year</th>\n      <th>Make</th>\n      <th>Model</th>\n      <th>Class</th>\n      <th>Fuel Type</th>\n      <th>Combined MPG (FT1)</th>\n    </tr>\n    <tr>\n      <th>Vehicle ID</th>\n      <th></th>\n      <th></th>\n      <th></th>\n      <th></th>\n      <th></th>\n      <th></th>\n    </tr>\n  </thead>\n  <tbody>\n    <tr>\n      <th>26587</th>\n      <td>1984</td>\n      <td>Alfa Romeo</td>\n      <td>GT V6 2.5</td>\n      <td>Minicompact Cars</td>\n      <td>Regular</td>\n      <td>20.0</td>\n    </tr>\n    <tr>\n      <th>27705</th>\n      <td>1984</td>\n      <td>Alfa Romeo</td>\n      <td>GT V6 2.5</td>\n      <td>NaN</td>\n      <td>Regular</td>\n      <td>20.0</td>\n    </tr>\n    <tr>\n      <th>26561</th>\n      <td>1984</td>\n      <td>Alfa Romeo</td>\n      <td>Spider Veloce 2000</td>\n      <td>NaN</td>\n      <td>Regular</td>\n      <td>21.0</td>\n    </tr>\n    <tr>\n      <th>27681</th>\n      <td>1984</td>\n      <td>Alfa Romeo</td>\n      <td>Spider Veloce 2000</td>\n      <td>Two Seaters</td>\n      <td>Regular</td>\n      <td>21.0</td>\n    </tr>\n    <tr>\n      <th>27550</th>\n      <td>1984</td>\n      <td>AM General</td>\n      <td>DJ Po Vehicle 2WD</td>\n      <td>Special Purpose Vehicle 2WD</td>\n      <td>NaN</td>\n      <td>17.0</td>\n    </tr>\n  </tbody>\n</table>\n</div>"
     },
     "metadata": {},
     "execution_count": 52
    }
   ],
   "source": [
    "fuel.head()"
   ]
  },
  {
   "cell_type": "code",
   "execution_count": 53,
   "metadata": {},
   "outputs": [
    {
     "output_type": "execute_result",
     "data": {
      "text/plain": "            Year        Make               Model                        Class  \\\nVehicle ID                                                                      \n26587       1984  Alfa Romeo           GT V6 2.5             Minicompact Cars   \n27681       1984  Alfa Romeo  Spider Veloce 2000                  Two Seaters   \n27550       1984  AM General   DJ Po Vehicle 2WD  Special Purpose Vehicle 2WD   \n28426       1984  AM General   DJ Po Vehicle 2WD  Special Purpose Vehicle 2WD   \n27549       1984  AM General    FJ8c Post Office  Special Purpose Vehicle 2WD   \n\n           Fuel Type  Combined MPG (FT1)  \nVehicle ID                                \n26587        Regular                20.0  \n27681        Regular                21.0  \n27550            NaN                17.0  \n28426        Regular                17.0  \n27549        Regular                13.0  ",
      "text/html": "<div>\n<style scoped>\n    .dataframe tbody tr th:only-of-type {\n        vertical-align: middle;\n    }\n\n    .dataframe tbody tr th {\n        vertical-align: top;\n    }\n\n    .dataframe thead th {\n        text-align: right;\n    }\n</style>\n<table border=\"1\" class=\"dataframe\">\n  <thead>\n    <tr style=\"text-align: right;\">\n      <th></th>\n      <th>Year</th>\n      <th>Make</th>\n      <th>Model</th>\n      <th>Class</th>\n      <th>Fuel Type</th>\n      <th>Combined MPG (FT1)</th>\n    </tr>\n    <tr>\n      <th>Vehicle ID</th>\n      <th></th>\n      <th></th>\n      <th></th>\n      <th></th>\n      <th></th>\n      <th></th>\n    </tr>\n  </thead>\n  <tbody>\n    <tr>\n      <th>26587</th>\n      <td>1984</td>\n      <td>Alfa Romeo</td>\n      <td>GT V6 2.5</td>\n      <td>Minicompact Cars</td>\n      <td>Regular</td>\n      <td>20.0</td>\n    </tr>\n    <tr>\n      <th>27681</th>\n      <td>1984</td>\n      <td>Alfa Romeo</td>\n      <td>Spider Veloce 2000</td>\n      <td>Two Seaters</td>\n      <td>Regular</td>\n      <td>21.0</td>\n    </tr>\n    <tr>\n      <th>27550</th>\n      <td>1984</td>\n      <td>AM General</td>\n      <td>DJ Po Vehicle 2WD</td>\n      <td>Special Purpose Vehicle 2WD</td>\n      <td>NaN</td>\n      <td>17.0</td>\n    </tr>\n    <tr>\n      <th>28426</th>\n      <td>1984</td>\n      <td>AM General</td>\n      <td>DJ Po Vehicle 2WD</td>\n      <td>Special Purpose Vehicle 2WD</td>\n      <td>Regular</td>\n      <td>17.0</td>\n    </tr>\n    <tr>\n      <th>27549</th>\n      <td>1984</td>\n      <td>AM General</td>\n      <td>FJ8c Post Office</td>\n      <td>Special Purpose Vehicle 2WD</td>\n      <td>Regular</td>\n      <td>13.0</td>\n    </tr>\n  </tbody>\n</table>\n</div>"
     },
     "metadata": {},
     "execution_count": 53
    }
   ],
   "source": [
    "fuel.dropna(subset=['Class'], inplace=True)\n",
    "fuel.head()"
   ]
  },
  {
   "cell_type": "code",
   "execution_count": null,
   "metadata": {},
   "outputs": [],
   "source": []
  }
 ],
 "metadata": {
  "language_info": {
   "codemirror_mode": {
    "name": "ipython",
    "version": 3
   },
   "file_extension": ".py",
   "mimetype": "text/x-python",
   "name": "python",
   "nbconvert_exporter": "python",
   "pygments_lexer": "ipython3",
   "version": "3.8.2-final"
  },
  "orig_nbformat": 2,
  "kernelspec": {
   "name": "python38264bitdatasciencef2t2jzuxvenv755777717192484c92e98af808cd61d4",
   "display_name": "Python 3.8.2 64-bit ('Data_Science-f2T2jZux': venv)"
  }
 },
 "nbformat": 4,
 "nbformat_minor": 2
}