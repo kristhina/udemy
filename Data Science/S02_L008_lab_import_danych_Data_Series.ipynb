{
 "cells": [
  {
   "cell_type": "code",
   "execution_count": 1,
   "metadata": {},
   "outputs": [],
   "source": [
    "import pandas as pd\n",
    "import numpy as np\n",
    "import matplotlib.pyplot as plt\n",
    "import math"
   ]
  },
  {
   "cell_type": "code",
   "execution_count": 5,
   "metadata": {},
   "outputs": [],
   "source": [
    "df_formal_education = pd.read_csv(\"dane/course-files/StackOverflowDeveloperSurvey.csv\", usecols=['FormalEducation'])"
   ]
  },
  {
   "cell_type": "code",
   "execution_count": 6,
   "metadata": {},
   "outputs": [
    {
     "output_type": "execute_result",
     "data": {
      "text/plain": "                                         FormalEducation\n0                                       Secondary school\n1      Some college/university study without earning ...\n2                                      Bachelor's degree\n3                                        Doctoral degree\n4                                        Master's degree\n...                                                  ...\n51387                                  Bachelor's degree\n51388                                    Master's degree\n51389  Some college/university study without earning ...\n51390                                  Bachelor's degree\n51391                                  Bachelor's degree\n\n[51392 rows x 1 columns]",
      "text/html": "<div>\n<style scoped>\n    .dataframe tbody tr th:only-of-type {\n        vertical-align: middle;\n    }\n\n    .dataframe tbody tr th {\n        vertical-align: top;\n    }\n\n    .dataframe thead th {\n        text-align: right;\n    }\n</style>\n<table border=\"1\" class=\"dataframe\">\n  <thead>\n    <tr style=\"text-align: right;\">\n      <th></th>\n      <th>FormalEducation</th>\n    </tr>\n  </thead>\n  <tbody>\n    <tr>\n      <th>0</th>\n      <td>Secondary school</td>\n    </tr>\n    <tr>\n      <th>1</th>\n      <td>Some college/university study without earning ...</td>\n    </tr>\n    <tr>\n      <th>2</th>\n      <td>Bachelor's degree</td>\n    </tr>\n    <tr>\n      <th>3</th>\n      <td>Doctoral degree</td>\n    </tr>\n    <tr>\n      <th>4</th>\n      <td>Master's degree</td>\n    </tr>\n    <tr>\n      <th>...</th>\n      <td>...</td>\n    </tr>\n    <tr>\n      <th>51387</th>\n      <td>Bachelor's degree</td>\n    </tr>\n    <tr>\n      <th>51388</th>\n      <td>Master's degree</td>\n    </tr>\n    <tr>\n      <th>51389</th>\n      <td>Some college/university study without earning ...</td>\n    </tr>\n    <tr>\n      <th>51390</th>\n      <td>Bachelor's degree</td>\n    </tr>\n    <tr>\n      <th>51391</th>\n      <td>Bachelor's degree</td>\n    </tr>\n  </tbody>\n</table>\n<p>51392 rows × 1 columns</p>\n</div>"
     },
     "metadata": {},
     "execution_count": 6
    }
   ],
   "source": [
    "df_formal_education"
   ]
  },
  {
   "cell_type": "code",
   "execution_count": 7,
   "metadata": {},
   "outputs": [
    {
     "output_type": "execute_result",
     "data": {
      "text/plain": "pandas.core.frame.DataFrame"
     },
     "metadata": {},
     "execution_count": 7
    }
   ],
   "source": [
    "type(df_formal_education)"
   ]
  },
  {
   "cell_type": "code",
   "execution_count": 8,
   "metadata": {},
   "outputs": [
    {
     "output_type": "execute_result",
     "data": {
      "text/plain": "                                     FormalEducation\n0                                   Secondary school\n1  Some college/university study without earning ...\n2                                  Bachelor's degree\n3                                    Doctoral degree\n4                                    Master's degree",
      "text/html": "<div>\n<style scoped>\n    .dataframe tbody tr th:only-of-type {\n        vertical-align: middle;\n    }\n\n    .dataframe tbody tr th {\n        vertical-align: top;\n    }\n\n    .dataframe thead th {\n        text-align: right;\n    }\n</style>\n<table border=\"1\" class=\"dataframe\">\n  <thead>\n    <tr style=\"text-align: right;\">\n      <th></th>\n      <th>FormalEducation</th>\n    </tr>\n  </thead>\n  <tbody>\n    <tr>\n      <th>0</th>\n      <td>Secondary school</td>\n    </tr>\n    <tr>\n      <th>1</th>\n      <td>Some college/university study without earning ...</td>\n    </tr>\n    <tr>\n      <th>2</th>\n      <td>Bachelor's degree</td>\n    </tr>\n    <tr>\n      <th>3</th>\n      <td>Doctoral degree</td>\n    </tr>\n    <tr>\n      <th>4</th>\n      <td>Master's degree</td>\n    </tr>\n  </tbody>\n</table>\n</div>"
     },
     "metadata": {},
     "execution_count": 8
    }
   ],
   "source": [
    "df_formal_education.head()"
   ]
  },
  {
   "cell_type": "code",
   "execution_count": 9,
   "metadata": {},
   "outputs": [],
   "source": [
    "ds_formal_education = pd.read_csv(\"dane/course-files/StackOverflowDeveloperSurvey.csv\", usecols=['FormalEducation'], squeeze=True)"
   ]
  },
  {
   "cell_type": "code",
   "execution_count": 10,
   "metadata": {},
   "outputs": [
    {
     "output_type": "execute_result",
     "data": {
      "text/plain": "pandas.core.series.Series"
     },
     "metadata": {},
     "execution_count": 10
    }
   ],
   "source": [
    "type(ds_formal_education)"
   ]
  },
  {
   "cell_type": "code",
   "execution_count": 12,
   "metadata": {},
   "outputs": [
    {
     "output_type": "execute_result",
     "data": {
      "text/plain": "51382                                      Master's degree\n51383               I never completed any formal education\n51384                                    Bachelor's degree\n51385                                      Master's degree\n51386    Some college/university study without earning ...\n51387                                    Bachelor's degree\n51388                                      Master's degree\n51389    Some college/university study without earning ...\n51390                                    Bachelor's degree\n51391                                    Bachelor's degree\nName: FormalEducation, dtype: object"
     },
     "metadata": {},
     "execution_count": 12
    }
   ],
   "source": [
    "ds_formal_education.tail(10)"
   ]
  },
  {
   "cell_type": "code",
   "execution_count": 13,
   "metadata": {},
   "outputs": [],
   "source": [
    "allInfo = pd.read_csv(\"dane/course-files/StackOverflowDeveloperSurvey.csv\")"
   ]
  },
  {
   "cell_type": "code",
   "execution_count": 16,
   "metadata": {},
   "outputs": [],
   "source": [
    "country= allInfo['Country']"
   ]
  },
  {
   "cell_type": "code",
   "execution_count": 18,
   "metadata": {},
   "outputs": [
    {
     "output_type": "execute_result",
     "data": {
      "text/plain": "0     United States\n1    United Kingdom\n2    United Kingdom\n3     United States\n4       Switzerland\nName: Country, dtype: object"
     },
     "metadata": {},
     "execution_count": 18
    }
   ],
   "source": [
    "country.head()"
   ]
  },
  {
   "cell_type": "code",
   "execution_count": 19,
   "metadata": {},
   "outputs": [],
   "source": [
    "filterOnlyUsa = country == \"United States\""
   ]
  },
  {
   "cell_type": "code",
   "execution_count": 20,
   "metadata": {},
   "outputs": [
    {
     "output_type": "execute_result",
     "data": {
      "text/plain": "0     True\n1    False\n2    False\n3     True\n4    False\nName: Country, dtype: bool"
     },
     "metadata": {},
     "execution_count": 20
    }
   ],
   "source": [
    "filterOnlyUsa.head()"
   ]
  },
  {
   "cell_type": "code",
   "execution_count": null,
   "metadata": {},
   "outputs": [],
   "source": []
  },
  {
   "cell_type": "code",
   "execution_count": 21,
   "metadata": {},
   "outputs": [
    {
     "output_type": "execute_result",
     "data": {
      "text/plain": "0              Secondary school\n3               Doctoral degree\n6               Master's degree\n10            Bachelor's degree\n15    Primary/elementary school\n17            Bachelor's degree\n18            Bachelor's degree\n25              Master's degree\n27            Bachelor's degree\n29            Bachelor's degree\nName: FormalEducation, dtype: object"
     },
     "metadata": {},
     "execution_count": 21
    }
   ],
   "source": [
    "ds_formal_education.where(filterOnlyUsa).dropna().head(10)"
   ]
  }
 ],
 "metadata": {
  "language_info": {
   "codemirror_mode": {
    "name": "ipython",
    "version": 3
   },
   "file_extension": ".py",
   "mimetype": "text/x-python",
   "name": "python",
   "nbconvert_exporter": "python",
   "pygments_lexer": "ipython3",
   "version": "3.8.2-final"
  },
  "orig_nbformat": 2,
  "kernelspec": {
   "name": "python38264bitdatasciencef2t2jzuxvenv755777717192484c92e98af808cd61d4",
   "display_name": "Python 3.8.2 64-bit ('Data_Science-f2T2jZux': venv)"
  }
 },
 "nbformat": 4,
 "nbformat_minor": 2
}