{
 "cells": [
  {
   "cell_type": "code",
   "execution_count": 1,
   "metadata": {},
   "outputs": [],
   "source": [
    "import pandas as pd"
   ]
  },
  {
   "cell_type": "code",
   "execution_count": 2,
   "metadata": {},
   "outputs": [
    {
     "output_type": "execute_result",
     "data": {
      "text/plain": "                     education  income  women  prestige  census  type\nname                                                                 \ngov.administrators       13.11   12351  11.16      68.8    1113  prof\ngeneral.managers         12.26   25879   4.02      69.1    1130  prof\naccountants              12.77    9271  15.70      63.4    1171  prof\npurchasing.officers      11.42    8865   9.11      56.8    1175  prof\nchemists                 14.62    8403  11.68      73.5    2111  prof",
      "text/html": "<div>\n<style scoped>\n    .dataframe tbody tr th:only-of-type {\n        vertical-align: middle;\n    }\n\n    .dataframe tbody tr th {\n        vertical-align: top;\n    }\n\n    .dataframe thead th {\n        text-align: right;\n    }\n</style>\n<table border=\"1\" class=\"dataframe\">\n  <thead>\n    <tr style=\"text-align: right;\">\n      <th></th>\n      <th>education</th>\n      <th>income</th>\n      <th>women</th>\n      <th>prestige</th>\n      <th>census</th>\n      <th>type</th>\n    </tr>\n    <tr>\n      <th>name</th>\n      <th></th>\n      <th></th>\n      <th></th>\n      <th></th>\n      <th></th>\n      <th></th>\n    </tr>\n  </thead>\n  <tbody>\n    <tr>\n      <th>gov.administrators</th>\n      <td>13.11</td>\n      <td>12351</td>\n      <td>11.16</td>\n      <td>68.8</td>\n      <td>1113</td>\n      <td>prof</td>\n    </tr>\n    <tr>\n      <th>general.managers</th>\n      <td>12.26</td>\n      <td>25879</td>\n      <td>4.02</td>\n      <td>69.1</td>\n      <td>1130</td>\n      <td>prof</td>\n    </tr>\n    <tr>\n      <th>accountants</th>\n      <td>12.77</td>\n      <td>9271</td>\n      <td>15.70</td>\n      <td>63.4</td>\n      <td>1171</td>\n      <td>prof</td>\n    </tr>\n    <tr>\n      <th>purchasing.officers</th>\n      <td>11.42</td>\n      <td>8865</td>\n      <td>9.11</td>\n      <td>56.8</td>\n      <td>1175</td>\n      <td>prof</td>\n    </tr>\n    <tr>\n      <th>chemists</th>\n      <td>14.62</td>\n      <td>8403</td>\n      <td>11.68</td>\n      <td>73.5</td>\n      <td>2111</td>\n      <td>prof</td>\n    </tr>\n  </tbody>\n</table>\n</div>"
     },
     "metadata": {},
     "execution_count": 2
    }
   ],
   "source": [
    "professions = pd.read_csv(\"dane/course-files/Prestige.csv\", index_col='name')\n",
    "professions.head()"
   ]
  },
  {
   "cell_type": "code",
   "execution_count": 4,
   "metadata": {},
   "outputs": [
    {
     "output_type": "execute_result",
     "data": {
      "text/plain": "                     education   income  women  prestige  census       type\nname                                                                       \ngov.administrators       13.11  12351.0  11.16      68.8  1113.0       prof\ngeneral.managers         12.26  25879.0   4.02      69.1  1130.0       prof\naccountants              12.77   9271.0  15.70      63.4  1171.0       prof\npurchasing.officers      11.42   8865.0   9.11      56.8  1175.0       prof\nchemists                 14.62   8403.0  11.68      73.5  2111.0  scientist",
      "text/html": "<div>\n<style scoped>\n    .dataframe tbody tr th:only-of-type {\n        vertical-align: middle;\n    }\n\n    .dataframe tbody tr th {\n        vertical-align: top;\n    }\n\n    .dataframe thead th {\n        text-align: right;\n    }\n</style>\n<table border=\"1\" class=\"dataframe\">\n  <thead>\n    <tr style=\"text-align: right;\">\n      <th></th>\n      <th>education</th>\n      <th>income</th>\n      <th>women</th>\n      <th>prestige</th>\n      <th>census</th>\n      <th>type</th>\n    </tr>\n    <tr>\n      <th>name</th>\n      <th></th>\n      <th></th>\n      <th></th>\n      <th></th>\n      <th></th>\n      <th></th>\n    </tr>\n  </thead>\n  <tbody>\n    <tr>\n      <th>gov.administrators</th>\n      <td>13.11</td>\n      <td>12351.0</td>\n      <td>11.16</td>\n      <td>68.8</td>\n      <td>1113.0</td>\n      <td>prof</td>\n    </tr>\n    <tr>\n      <th>general.managers</th>\n      <td>12.26</td>\n      <td>25879.0</td>\n      <td>4.02</td>\n      <td>69.1</td>\n      <td>1130.0</td>\n      <td>prof</td>\n    </tr>\n    <tr>\n      <th>accountants</th>\n      <td>12.77</td>\n      <td>9271.0</td>\n      <td>15.70</td>\n      <td>63.4</td>\n      <td>1171.0</td>\n      <td>prof</td>\n    </tr>\n    <tr>\n      <th>purchasing.officers</th>\n      <td>11.42</td>\n      <td>8865.0</td>\n      <td>9.11</td>\n      <td>56.8</td>\n      <td>1175.0</td>\n      <td>prof</td>\n    </tr>\n    <tr>\n      <th>chemists</th>\n      <td>14.62</td>\n      <td>8403.0</td>\n      <td>11.68</td>\n      <td>73.5</td>\n      <td>2111.0</td>\n      <td>scientist</td>\n    </tr>\n  </tbody>\n</table>\n</div>"
     },
     "metadata": {},
     "execution_count": 4
    }
   ],
   "source": [
    "professions.loc['chemists', 'type'] = 'scientist'\n",
    "professions.head()"
   ]
  },
  {
   "cell_type": "code",
   "execution_count": 5,
   "metadata": {},
   "outputs": [],
   "source": [
    "isScientist= professions['type'] == 'scientist'"
   ]
  },
  {
   "cell_type": "code",
   "execution_count": 6,
   "metadata": {},
   "outputs": [
    {
     "output_type": "execute_result",
     "data": {
      "text/plain": "name\ngov.administrators     False\ngeneral.managers       False\naccountants            False\npurchasing.officers    False\nchemists                True\nName: type, dtype: bool"
     },
     "metadata": {},
     "execution_count": 6
    }
   ],
   "source": [
    "isScientist.head()"
   ]
  },
  {
   "cell_type": "code",
   "execution_count": 8,
   "metadata": {},
   "outputs": [
    {
     "output_type": "execute_result",
     "data": {
      "text/plain": "                     education   income  women  prestige  census       type\nname                                                                       \ngov.administrators       13.11  12351.0  11.16      68.8  1113.0       prof\ngeneral.managers         12.26  25879.0   4.02      69.1  1130.0       prof\naccountants              12.77   9271.0  15.70      63.4  1171.0       prof\npurchasing.officers      11.42   8865.0   9.11      56.8  1175.0       prof\nchemists                 14.62   8403.0  11.68      90.0  2111.0  scientist",
      "text/html": "<div>\n<style scoped>\n    .dataframe tbody tr th:only-of-type {\n        vertical-align: middle;\n    }\n\n    .dataframe tbody tr th {\n        vertical-align: top;\n    }\n\n    .dataframe thead th {\n        text-align: right;\n    }\n</style>\n<table border=\"1\" class=\"dataframe\">\n  <thead>\n    <tr style=\"text-align: right;\">\n      <th></th>\n      <th>education</th>\n      <th>income</th>\n      <th>women</th>\n      <th>prestige</th>\n      <th>census</th>\n      <th>type</th>\n    </tr>\n    <tr>\n      <th>name</th>\n      <th></th>\n      <th></th>\n      <th></th>\n      <th></th>\n      <th></th>\n      <th></th>\n    </tr>\n  </thead>\n  <tbody>\n    <tr>\n      <th>gov.administrators</th>\n      <td>13.11</td>\n      <td>12351.0</td>\n      <td>11.16</td>\n      <td>68.8</td>\n      <td>1113.0</td>\n      <td>prof</td>\n    </tr>\n    <tr>\n      <th>general.managers</th>\n      <td>12.26</td>\n      <td>25879.0</td>\n      <td>4.02</td>\n      <td>69.1</td>\n      <td>1130.0</td>\n      <td>prof</td>\n    </tr>\n    <tr>\n      <th>accountants</th>\n      <td>12.77</td>\n      <td>9271.0</td>\n      <td>15.70</td>\n      <td>63.4</td>\n      <td>1171.0</td>\n      <td>prof</td>\n    </tr>\n    <tr>\n      <th>purchasing.officers</th>\n      <td>11.42</td>\n      <td>8865.0</td>\n      <td>9.11</td>\n      <td>56.8</td>\n      <td>1175.0</td>\n      <td>prof</td>\n    </tr>\n    <tr>\n      <th>chemists</th>\n      <td>14.62</td>\n      <td>8403.0</td>\n      <td>11.68</td>\n      <td>90.0</td>\n      <td>2111.0</td>\n      <td>scientist</td>\n    </tr>\n  </tbody>\n</table>\n</div>"
     },
     "metadata": {},
     "execution_count": 8
    }
   ],
   "source": [
    "professions.loc[isScientist, 'prestige'] = 90\n",
    "professions.head()"
   ]
  },
  {
   "cell_type": "code",
   "execution_count": 10,
   "metadata": {},
   "outputs": [
    {
     "output_type": "execute_result",
     "data": {
      "text/plain": "                     education   income  women  prestige  census       type\nname                                                                       \ngov.administrators       13.11  12351.0  11.16      68.8  1113.0       prof\ngeneral.managers         12.26  25879.0   4.02      69.1  1130.0       prof\naccountants              12.77   9271.0  15.70      63.4  1171.0       prof\npurchasing.officers      11.42   8865.0   9.11      56.8  1175.0       prof\nchemists                 14.62  12604.5  11.68      90.0  2111.0  scientist",
      "text/html": "<div>\n<style scoped>\n    .dataframe tbody tr th:only-of-type {\n        vertical-align: middle;\n    }\n\n    .dataframe tbody tr th {\n        vertical-align: top;\n    }\n\n    .dataframe thead th {\n        text-align: right;\n    }\n</style>\n<table border=\"1\" class=\"dataframe\">\n  <thead>\n    <tr style=\"text-align: right;\">\n      <th></th>\n      <th>education</th>\n      <th>income</th>\n      <th>women</th>\n      <th>prestige</th>\n      <th>census</th>\n      <th>type</th>\n    </tr>\n    <tr>\n      <th>name</th>\n      <th></th>\n      <th></th>\n      <th></th>\n      <th></th>\n      <th></th>\n      <th></th>\n    </tr>\n  </thead>\n  <tbody>\n    <tr>\n      <th>gov.administrators</th>\n      <td>13.11</td>\n      <td>12351.0</td>\n      <td>11.16</td>\n      <td>68.8</td>\n      <td>1113.0</td>\n      <td>prof</td>\n    </tr>\n    <tr>\n      <th>general.managers</th>\n      <td>12.26</td>\n      <td>25879.0</td>\n      <td>4.02</td>\n      <td>69.1</td>\n      <td>1130.0</td>\n      <td>prof</td>\n    </tr>\n    <tr>\n      <th>accountants</th>\n      <td>12.77</td>\n      <td>9271.0</td>\n      <td>15.70</td>\n      <td>63.4</td>\n      <td>1171.0</td>\n      <td>prof</td>\n    </tr>\n    <tr>\n      <th>purchasing.officers</th>\n      <td>11.42</td>\n      <td>8865.0</td>\n      <td>9.11</td>\n      <td>56.8</td>\n      <td>1175.0</td>\n      <td>prof</td>\n    </tr>\n    <tr>\n      <th>chemists</th>\n      <td>14.62</td>\n      <td>12604.5</td>\n      <td>11.68</td>\n      <td>90.0</td>\n      <td>2111.0</td>\n      <td>scientist</td>\n    </tr>\n  </tbody>\n</table>\n</div>"
     },
     "metadata": {},
     "execution_count": 10
    }
   ],
   "source": [
    "professions.loc[isScientist, 'income'] = professions.loc[isScientist, 'income']*1.5\n",
    "professions.head()"
   ]
  },
  {
   "cell_type": "code",
   "execution_count": 11,
   "metadata": {},
   "outputs": [
    {
     "output_type": "execute_result",
     "data": {
      "text/plain": "                     education    income  women  prestige  census       type\nname                                                                        \ngov.administrators       13.11  12351.00  11.16      68.8  1113.0       prof\ngeneral.managers         12.26  25879.00   4.02      69.1  1130.0       prof\naccountants              12.77   9271.00  15.70      63.4  1171.0       prof\npurchasing.officers      11.42   8865.00   9.11      56.8  1175.0       prof\nchemists                 14.62  18906.75  11.68      90.0  2111.0  scientist",
      "text/html": "<div>\n<style scoped>\n    .dataframe tbody tr th:only-of-type {\n        vertical-align: middle;\n    }\n\n    .dataframe tbody tr th {\n        vertical-align: top;\n    }\n\n    .dataframe thead th {\n        text-align: right;\n    }\n</style>\n<table border=\"1\" class=\"dataframe\">\n  <thead>\n    <tr style=\"text-align: right;\">\n      <th></th>\n      <th>education</th>\n      <th>income</th>\n      <th>women</th>\n      <th>prestige</th>\n      <th>census</th>\n      <th>type</th>\n    </tr>\n    <tr>\n      <th>name</th>\n      <th></th>\n      <th></th>\n      <th></th>\n      <th></th>\n      <th></th>\n      <th></th>\n    </tr>\n  </thead>\n  <tbody>\n    <tr>\n      <th>gov.administrators</th>\n      <td>13.11</td>\n      <td>12351.00</td>\n      <td>11.16</td>\n      <td>68.8</td>\n      <td>1113.0</td>\n      <td>prof</td>\n    </tr>\n    <tr>\n      <th>general.managers</th>\n      <td>12.26</td>\n      <td>25879.00</td>\n      <td>4.02</td>\n      <td>69.1</td>\n      <td>1130.0</td>\n      <td>prof</td>\n    </tr>\n    <tr>\n      <th>accountants</th>\n      <td>12.77</td>\n      <td>9271.00</td>\n      <td>15.70</td>\n      <td>63.4</td>\n      <td>1171.0</td>\n      <td>prof</td>\n    </tr>\n    <tr>\n      <th>purchasing.officers</th>\n      <td>11.42</td>\n      <td>8865.00</td>\n      <td>9.11</td>\n      <td>56.8</td>\n      <td>1175.0</td>\n      <td>prof</td>\n    </tr>\n    <tr>\n      <th>chemists</th>\n      <td>14.62</td>\n      <td>18906.75</td>\n      <td>11.68</td>\n      <td>90.0</td>\n      <td>2111.0</td>\n      <td>scientist</td>\n    </tr>\n  </tbody>\n</table>\n</div>"
     },
     "metadata": {},
     "execution_count": 11
    }
   ],
   "source": [
    "professions.loc[isScientist, 'income'] *=1.5\n",
    "professions.head()"
   ]
  },
  {
   "cell_type": "code",
   "execution_count": null,
   "metadata": {},
   "outputs": [],
   "source": []
  }
 ],
 "metadata": {
  "language_info": {
   "codemirror_mode": {
    "name": "ipython",
    "version": 3
   },
   "file_extension": ".py",
   "mimetype": "text/x-python",
   "name": "python",
   "nbconvert_exporter": "python",
   "pygments_lexer": "ipython3",
   "version": "3.8.2-final"
  },
  "orig_nbformat": 2,
  "kernelspec": {
   "name": "python38264bitdatasciencef2t2jzuxvenv755777717192484c92e98af808cd61d4",
   "display_name": "Python 3.8.2 64-bit ('Data_Science-f2T2jZux': venv)"
  }
 },
 "nbformat": 4,
 "nbformat_minor": 2
}