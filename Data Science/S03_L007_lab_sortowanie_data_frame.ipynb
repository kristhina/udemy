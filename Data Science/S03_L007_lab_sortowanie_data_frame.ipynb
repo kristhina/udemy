{
 "cells": [
  {
   "cell_type": "code",
   "execution_count": 18,
   "metadata": {},
   "outputs": [],
   "source": [
    "import pandas as pd\n",
    "import numpy as np"
   ]
  },
  {
   "cell_type": "code",
   "execution_count": 19,
   "metadata": {},
   "outputs": [
    {
     "output_type": "execute_result",
     "data": {
      "text/plain": "            Year        Make               Model                        Class  \\\nVehicle ID                                                                      \n26587       1984  Alfa Romeo           GT V6 2.5             Minicompact Cars   \n27705       1984  Alfa Romeo           GT V6 2.5             Minicompact Cars   \n26561       1984  Alfa Romeo  Spider Veloce 2000                  Two Seaters   \n27681       1984  Alfa Romeo  Spider Veloce 2000                  Two Seaters   \n27550       1984  AM General   DJ Po Vehicle 2WD  Special Purpose Vehicle 2WD   \n\n           Fuel Type  Combined MPG (FT1)  \nVehicle ID                                \n26587        Regular                20.0  \n27705        Regular                20.0  \n26561        Regular                21.0  \n27681        Regular                21.0  \n27550        Regular                17.0  ",
      "text/html": "<div>\n<style scoped>\n    .dataframe tbody tr th:only-of-type {\n        vertical-align: middle;\n    }\n\n    .dataframe tbody tr th {\n        vertical-align: top;\n    }\n\n    .dataframe thead th {\n        text-align: right;\n    }\n</style>\n<table border=\"1\" class=\"dataframe\">\n  <thead>\n    <tr style=\"text-align: right;\">\n      <th></th>\n      <th>Year</th>\n      <th>Make</th>\n      <th>Model</th>\n      <th>Class</th>\n      <th>Fuel Type</th>\n      <th>Combined MPG (FT1)</th>\n    </tr>\n    <tr>\n      <th>Vehicle ID</th>\n      <th></th>\n      <th></th>\n      <th></th>\n      <th></th>\n      <th></th>\n      <th></th>\n    </tr>\n  </thead>\n  <tbody>\n    <tr>\n      <th>26587</th>\n      <td>1984</td>\n      <td>Alfa Romeo</td>\n      <td>GT V6 2.5</td>\n      <td>Minicompact Cars</td>\n      <td>Regular</td>\n      <td>20.0</td>\n    </tr>\n    <tr>\n      <th>27705</th>\n      <td>1984</td>\n      <td>Alfa Romeo</td>\n      <td>GT V6 2.5</td>\n      <td>Minicompact Cars</td>\n      <td>Regular</td>\n      <td>20.0</td>\n    </tr>\n    <tr>\n      <th>26561</th>\n      <td>1984</td>\n      <td>Alfa Romeo</td>\n      <td>Spider Veloce 2000</td>\n      <td>Two Seaters</td>\n      <td>Regular</td>\n      <td>21.0</td>\n    </tr>\n    <tr>\n      <th>27681</th>\n      <td>1984</td>\n      <td>Alfa Romeo</td>\n      <td>Spider Veloce 2000</td>\n      <td>Two Seaters</td>\n      <td>Regular</td>\n      <td>21.0</td>\n    </tr>\n    <tr>\n      <th>27550</th>\n      <td>1984</td>\n      <td>AM General</td>\n      <td>DJ Po Vehicle 2WD</td>\n      <td>Special Purpose Vehicle 2WD</td>\n      <td>Regular</td>\n      <td>17.0</td>\n    </tr>\n  </tbody>\n</table>\n</div>"
     },
     "metadata": {},
     "execution_count": 19
    }
   ],
   "source": [
    "fuel = pd.read_csv(\"dane/course-files/fuel.csv\", low_memory=False, usecols=['Vehicle ID','Year','Make','Model','Class','Fuel Type','Combined MPG (FT1)'], index_col=['Vehicle ID'])\n",
    "fuel.head()"
   ]
  },
  {
   "cell_type": "code",
   "execution_count": 20,
   "metadata": {},
   "outputs": [],
   "source": [
    "fuel.loc[27681, 'Combined MPG (FT1)'] = np.NaN"
   ]
  },
  {
   "cell_type": "code",
   "execution_count": 21,
   "metadata": {},
   "outputs": [
    {
     "output_type": "execute_result",
     "data": {
      "text/plain": "            Year        Make               Model                        Class  \\\nVehicle ID                                                                      \n26587       1984  Alfa Romeo           GT V6 2.5             Minicompact Cars   \n27705       1984  Alfa Romeo           GT V6 2.5             Minicompact Cars   \n26561       1984  Alfa Romeo  Spider Veloce 2000                  Two Seaters   \n27681       1984  Alfa Romeo  Spider Veloce 2000                  Two Seaters   \n27550       1984  AM General   DJ Po Vehicle 2WD  Special Purpose Vehicle 2WD   \n\n           Fuel Type  Combined MPG (FT1)  \nVehicle ID                                \n26587        Regular                20.0  \n27705        Regular                20.0  \n26561        Regular                21.0  \n27681        Regular                 NaN  \n27550        Regular                17.0  ",
      "text/html": "<div>\n<style scoped>\n    .dataframe tbody tr th:only-of-type {\n        vertical-align: middle;\n    }\n\n    .dataframe tbody tr th {\n        vertical-align: top;\n    }\n\n    .dataframe thead th {\n        text-align: right;\n    }\n</style>\n<table border=\"1\" class=\"dataframe\">\n  <thead>\n    <tr style=\"text-align: right;\">\n      <th></th>\n      <th>Year</th>\n      <th>Make</th>\n      <th>Model</th>\n      <th>Class</th>\n      <th>Fuel Type</th>\n      <th>Combined MPG (FT1)</th>\n    </tr>\n    <tr>\n      <th>Vehicle ID</th>\n      <th></th>\n      <th></th>\n      <th></th>\n      <th></th>\n      <th></th>\n      <th></th>\n    </tr>\n  </thead>\n  <tbody>\n    <tr>\n      <th>26587</th>\n      <td>1984</td>\n      <td>Alfa Romeo</td>\n      <td>GT V6 2.5</td>\n      <td>Minicompact Cars</td>\n      <td>Regular</td>\n      <td>20.0</td>\n    </tr>\n    <tr>\n      <th>27705</th>\n      <td>1984</td>\n      <td>Alfa Romeo</td>\n      <td>GT V6 2.5</td>\n      <td>Minicompact Cars</td>\n      <td>Regular</td>\n      <td>20.0</td>\n    </tr>\n    <tr>\n      <th>26561</th>\n      <td>1984</td>\n      <td>Alfa Romeo</td>\n      <td>Spider Veloce 2000</td>\n      <td>Two Seaters</td>\n      <td>Regular</td>\n      <td>21.0</td>\n    </tr>\n    <tr>\n      <th>27681</th>\n      <td>1984</td>\n      <td>Alfa Romeo</td>\n      <td>Spider Veloce 2000</td>\n      <td>Two Seaters</td>\n      <td>Regular</td>\n      <td>NaN</td>\n    </tr>\n    <tr>\n      <th>27550</th>\n      <td>1984</td>\n      <td>AM General</td>\n      <td>DJ Po Vehicle 2WD</td>\n      <td>Special Purpose Vehicle 2WD</td>\n      <td>Regular</td>\n      <td>17.0</td>\n    </tr>\n  </tbody>\n</table>\n</div>"
     },
     "metadata": {},
     "execution_count": 21
    }
   ],
   "source": [
    "fuel.head()"
   ]
  },
  {
   "cell_type": "code",
   "execution_count": 22,
   "metadata": {},
   "outputs": [
    {
     "output_type": "execute_result",
     "data": {
      "text/plain": "            Year        Make                Model  \\\nVehicle ID                                          \n27550       1984  AM General    DJ Po Vehicle 2WD   \n28426       1984  AM General    DJ Po Vehicle 2WD   \n27549       1984  AM General     FJ8c Post Office   \n28425       1984  AM General     FJ8c Post Office   \n1032        1985  AM General  Post Office DJ5 2WD   \n\n                                  Class Fuel Type  Combined MPG (FT1)  \nVehicle ID                                                             \n27550       Special Purpose Vehicle 2WD   Regular                17.0  \n28426       Special Purpose Vehicle 2WD   Regular                17.0  \n27549       Special Purpose Vehicle 2WD   Regular                13.0  \n28425       Special Purpose Vehicle 2WD   Regular                13.0  \n1032        Special Purpose Vehicle 2WD   Regular                16.0  ",
      "text/html": "<div>\n<style scoped>\n    .dataframe tbody tr th:only-of-type {\n        vertical-align: middle;\n    }\n\n    .dataframe tbody tr th {\n        vertical-align: top;\n    }\n\n    .dataframe thead th {\n        text-align: right;\n    }\n</style>\n<table border=\"1\" class=\"dataframe\">\n  <thead>\n    <tr style=\"text-align: right;\">\n      <th></th>\n      <th>Year</th>\n      <th>Make</th>\n      <th>Model</th>\n      <th>Class</th>\n      <th>Fuel Type</th>\n      <th>Combined MPG (FT1)</th>\n    </tr>\n    <tr>\n      <th>Vehicle ID</th>\n      <th></th>\n      <th></th>\n      <th></th>\n      <th></th>\n      <th></th>\n      <th></th>\n    </tr>\n  </thead>\n  <tbody>\n    <tr>\n      <th>27550</th>\n      <td>1984</td>\n      <td>AM General</td>\n      <td>DJ Po Vehicle 2WD</td>\n      <td>Special Purpose Vehicle 2WD</td>\n      <td>Regular</td>\n      <td>17.0</td>\n    </tr>\n    <tr>\n      <th>28426</th>\n      <td>1984</td>\n      <td>AM General</td>\n      <td>DJ Po Vehicle 2WD</td>\n      <td>Special Purpose Vehicle 2WD</td>\n      <td>Regular</td>\n      <td>17.0</td>\n    </tr>\n    <tr>\n      <th>27549</th>\n      <td>1984</td>\n      <td>AM General</td>\n      <td>FJ8c Post Office</td>\n      <td>Special Purpose Vehicle 2WD</td>\n      <td>Regular</td>\n      <td>13.0</td>\n    </tr>\n    <tr>\n      <th>28425</th>\n      <td>1984</td>\n      <td>AM General</td>\n      <td>FJ8c Post Office</td>\n      <td>Special Purpose Vehicle 2WD</td>\n      <td>Regular</td>\n      <td>13.0</td>\n    </tr>\n    <tr>\n      <th>1032</th>\n      <td>1985</td>\n      <td>AM General</td>\n      <td>Post Office DJ5 2WD</td>\n      <td>Special Purpose Vehicle 2WD</td>\n      <td>Regular</td>\n      <td>16.0</td>\n    </tr>\n  </tbody>\n</table>\n</div>"
     },
     "metadata": {},
     "execution_count": 22
    }
   ],
   "source": [
    "fuel.sort_values(by=['Make','Model']).head()"
   ]
  },
  {
   "cell_type": "code",
   "execution_count": 23,
   "metadata": {},
   "outputs": [
    {
     "output_type": "execute_result",
     "data": {
      "text/plain": "            Year        Make           Model             Class    Fuel Type  \\\nVehicle ID                                                                    \n31673       2012  Mitsubishi          i-MiEV   Subcompact Cars  Electricity   \n32278       2012        Ford  Focus Electric      Compact Cars  Electricity   \n32276       2011         BMW        Active E   Subcompact Cars  Electricity   \n30979       2011      Nissan            Leaf      Midsize Cars  Electricity   \n30978       2008        MINI           MiniE  Minicompact Cars  Electricity   \n\n            Combined MPG (FT1)  \nVehicle ID                      \n31673                    112.0  \n32278                    105.0  \n32276                    102.0  \n30979                     99.0  \n30978                     98.0  ",
      "text/html": "<div>\n<style scoped>\n    .dataframe tbody tr th:only-of-type {\n        vertical-align: middle;\n    }\n\n    .dataframe tbody tr th {\n        vertical-align: top;\n    }\n\n    .dataframe thead th {\n        text-align: right;\n    }\n</style>\n<table border=\"1\" class=\"dataframe\">\n  <thead>\n    <tr style=\"text-align: right;\">\n      <th></th>\n      <th>Year</th>\n      <th>Make</th>\n      <th>Model</th>\n      <th>Class</th>\n      <th>Fuel Type</th>\n      <th>Combined MPG (FT1)</th>\n    </tr>\n    <tr>\n      <th>Vehicle ID</th>\n      <th></th>\n      <th></th>\n      <th></th>\n      <th></th>\n      <th></th>\n      <th></th>\n    </tr>\n  </thead>\n  <tbody>\n    <tr>\n      <th>31673</th>\n      <td>2012</td>\n      <td>Mitsubishi</td>\n      <td>i-MiEV</td>\n      <td>Subcompact Cars</td>\n      <td>Electricity</td>\n      <td>112.0</td>\n    </tr>\n    <tr>\n      <th>32278</th>\n      <td>2012</td>\n      <td>Ford</td>\n      <td>Focus Electric</td>\n      <td>Compact Cars</td>\n      <td>Electricity</td>\n      <td>105.0</td>\n    </tr>\n    <tr>\n      <th>32276</th>\n      <td>2011</td>\n      <td>BMW</td>\n      <td>Active E</td>\n      <td>Subcompact Cars</td>\n      <td>Electricity</td>\n      <td>102.0</td>\n    </tr>\n    <tr>\n      <th>30979</th>\n      <td>2011</td>\n      <td>Nissan</td>\n      <td>Leaf</td>\n      <td>Midsize Cars</td>\n      <td>Electricity</td>\n      <td>99.0</td>\n    </tr>\n    <tr>\n      <th>30978</th>\n      <td>2008</td>\n      <td>MINI</td>\n      <td>MiniE</td>\n      <td>Minicompact Cars</td>\n      <td>Electricity</td>\n      <td>98.0</td>\n    </tr>\n  </tbody>\n</table>\n</div>"
     },
     "metadata": {},
     "execution_count": 23
    }
   ],
   "source": [
    "fuel.sort_values(by=['Combined MPG (FT1)'], ascending=False).head()"
   ]
  },
  {
   "cell_type": "code",
   "execution_count": 24,
   "metadata": {},
   "outputs": [
    {
     "output_type": "execute_result",
     "data": {
      "text/plain": "            Year        Make                Model  \\\nVehicle ID                                          \n27550       1984  AM General    DJ Po Vehicle 2WD   \n28426       1984  AM General    DJ Po Vehicle 2WD   \n1032        1985  AM General  Post Office DJ5 2WD   \n27549       1984  AM General     FJ8c Post Office   \n28425       1984  AM General     FJ8c Post Office   \n\n                                  Class Fuel Type  Combined MPG (FT1)  \nVehicle ID                                                             \n27550       Special Purpose Vehicle 2WD   Regular                17.0  \n28426       Special Purpose Vehicle 2WD   Regular                17.0  \n1032        Special Purpose Vehicle 2WD   Regular                16.0  \n27549       Special Purpose Vehicle 2WD   Regular                13.0  \n28425       Special Purpose Vehicle 2WD   Regular                13.0  ",
      "text/html": "<div>\n<style scoped>\n    .dataframe tbody tr th:only-of-type {\n        vertical-align: middle;\n    }\n\n    .dataframe tbody tr th {\n        vertical-align: top;\n    }\n\n    .dataframe thead th {\n        text-align: right;\n    }\n</style>\n<table border=\"1\" class=\"dataframe\">\n  <thead>\n    <tr style=\"text-align: right;\">\n      <th></th>\n      <th>Year</th>\n      <th>Make</th>\n      <th>Model</th>\n      <th>Class</th>\n      <th>Fuel Type</th>\n      <th>Combined MPG (FT1)</th>\n    </tr>\n    <tr>\n      <th>Vehicle ID</th>\n      <th></th>\n      <th></th>\n      <th></th>\n      <th></th>\n      <th></th>\n      <th></th>\n    </tr>\n  </thead>\n  <tbody>\n    <tr>\n      <th>27550</th>\n      <td>1984</td>\n      <td>AM General</td>\n      <td>DJ Po Vehicle 2WD</td>\n      <td>Special Purpose Vehicle 2WD</td>\n      <td>Regular</td>\n      <td>17.0</td>\n    </tr>\n    <tr>\n      <th>28426</th>\n      <td>1984</td>\n      <td>AM General</td>\n      <td>DJ Po Vehicle 2WD</td>\n      <td>Special Purpose Vehicle 2WD</td>\n      <td>Regular</td>\n      <td>17.0</td>\n    </tr>\n    <tr>\n      <th>1032</th>\n      <td>1985</td>\n      <td>AM General</td>\n      <td>Post Office DJ5 2WD</td>\n      <td>Special Purpose Vehicle 2WD</td>\n      <td>Regular</td>\n      <td>16.0</td>\n    </tr>\n    <tr>\n      <th>27549</th>\n      <td>1984</td>\n      <td>AM General</td>\n      <td>FJ8c Post Office</td>\n      <td>Special Purpose Vehicle 2WD</td>\n      <td>Regular</td>\n      <td>13.0</td>\n    </tr>\n    <tr>\n      <th>28425</th>\n      <td>1984</td>\n      <td>AM General</td>\n      <td>FJ8c Post Office</td>\n      <td>Special Purpose Vehicle 2WD</td>\n      <td>Regular</td>\n      <td>13.0</td>\n    </tr>\n  </tbody>\n</table>\n</div>"
     },
     "metadata": {},
     "execution_count": 24
    }
   ],
   "source": [
    "fuel.sort_values(by=['Make','Combined MPG (FT1)'], ascending = [True, False]).head()"
   ]
  },
  {
   "cell_type": "code",
   "execution_count": 25,
   "metadata": {},
   "outputs": [
    {
     "output_type": "execute_result",
     "data": {
      "text/plain": "            Year         Make               Model        Class Fuel Type  \\\nVehicle ID                                                                 \n27681       1984   Alfa Romeo  Spider Veloce 2000  Two Seaters   Regular   \n32106       2012    Mitsubish                 NaN          NaN       NaN   \n2914        1987  Lamborghini            Countach  Two Seaters   Premium   \n6413        1990  Lamborghini            Countach  Two Seaters   Premium   \n5267        1989  Lamborghini            Countach  Two Seaters   Premium   \n\n            Combined MPG (FT1)  \nVehicle ID                      \n27681                      NaN  \n32106                      NaN  \n2914                       7.0  \n6413                       7.0  \n5267                       7.0  ",
      "text/html": "<div>\n<style scoped>\n    .dataframe tbody tr th:only-of-type {\n        vertical-align: middle;\n    }\n\n    .dataframe tbody tr th {\n        vertical-align: top;\n    }\n\n    .dataframe thead th {\n        text-align: right;\n    }\n</style>\n<table border=\"1\" class=\"dataframe\">\n  <thead>\n    <tr style=\"text-align: right;\">\n      <th></th>\n      <th>Year</th>\n      <th>Make</th>\n      <th>Model</th>\n      <th>Class</th>\n      <th>Fuel Type</th>\n      <th>Combined MPG (FT1)</th>\n    </tr>\n    <tr>\n      <th>Vehicle ID</th>\n      <th></th>\n      <th></th>\n      <th></th>\n      <th></th>\n      <th></th>\n      <th></th>\n    </tr>\n  </thead>\n  <tbody>\n    <tr>\n      <th>27681</th>\n      <td>1984</td>\n      <td>Alfa Romeo</td>\n      <td>Spider Veloce 2000</td>\n      <td>Two Seaters</td>\n      <td>Regular</td>\n      <td>NaN</td>\n    </tr>\n    <tr>\n      <th>32106</th>\n      <td>2012</td>\n      <td>Mitsubish</td>\n      <td>NaN</td>\n      <td>NaN</td>\n      <td>NaN</td>\n      <td>NaN</td>\n    </tr>\n    <tr>\n      <th>2914</th>\n      <td>1987</td>\n      <td>Lamborghini</td>\n      <td>Countach</td>\n      <td>Two Seaters</td>\n      <td>Premium</td>\n      <td>7.0</td>\n    </tr>\n    <tr>\n      <th>6413</th>\n      <td>1990</td>\n      <td>Lamborghini</td>\n      <td>Countach</td>\n      <td>Two Seaters</td>\n      <td>Premium</td>\n      <td>7.0</td>\n    </tr>\n    <tr>\n      <th>5267</th>\n      <td>1989</td>\n      <td>Lamborghini</td>\n      <td>Countach</td>\n      <td>Two Seaters</td>\n      <td>Premium</td>\n      <td>7.0</td>\n    </tr>\n  </tbody>\n</table>\n</div>"
     },
     "metadata": {},
     "execution_count": 25
    }
   ],
   "source": [
    "fuel.sort_values(by=['Combined MPG (FT1)'], na_position='first').head()"
   ]
  },
  {
   "cell_type": "code",
   "execution_count": 26,
   "metadata": {},
   "outputs": [
    {
     "output_type": "execute_result",
     "data": {
      "text/plain": "            Year         Make               Model        Class Fuel Type  \\\nVehicle ID                                                                 \n27681       1984   Alfa Romeo  Spider Veloce 2000  Two Seaters   Regular   \n32106       2012    Mitsubish                 NaN          NaN       NaN   \n2914        1987  Lamborghini            Countach  Two Seaters   Premium   \n6413        1990  Lamborghini            Countach  Two Seaters   Premium   \n5267        1989  Lamborghini            Countach  Two Seaters   Premium   \n\n            Combined MPG (FT1)  \nVehicle ID                      \n27681                      NaN  \n32106                      NaN  \n2914                       7.0  \n6413                       7.0  \n5267                       7.0  ",
      "text/html": "<div>\n<style scoped>\n    .dataframe tbody tr th:only-of-type {\n        vertical-align: middle;\n    }\n\n    .dataframe tbody tr th {\n        vertical-align: top;\n    }\n\n    .dataframe thead th {\n        text-align: right;\n    }\n</style>\n<table border=\"1\" class=\"dataframe\">\n  <thead>\n    <tr style=\"text-align: right;\">\n      <th></th>\n      <th>Year</th>\n      <th>Make</th>\n      <th>Model</th>\n      <th>Class</th>\n      <th>Fuel Type</th>\n      <th>Combined MPG (FT1)</th>\n    </tr>\n    <tr>\n      <th>Vehicle ID</th>\n      <th></th>\n      <th></th>\n      <th></th>\n      <th></th>\n      <th></th>\n      <th></th>\n    </tr>\n  </thead>\n  <tbody>\n    <tr>\n      <th>27681</th>\n      <td>1984</td>\n      <td>Alfa Romeo</td>\n      <td>Spider Veloce 2000</td>\n      <td>Two Seaters</td>\n      <td>Regular</td>\n      <td>NaN</td>\n    </tr>\n    <tr>\n      <th>32106</th>\n      <td>2012</td>\n      <td>Mitsubish</td>\n      <td>NaN</td>\n      <td>NaN</td>\n      <td>NaN</td>\n      <td>NaN</td>\n    </tr>\n    <tr>\n      <th>2914</th>\n      <td>1987</td>\n      <td>Lamborghini</td>\n      <td>Countach</td>\n      <td>Two Seaters</td>\n      <td>Premium</td>\n      <td>7.0</td>\n    </tr>\n    <tr>\n      <th>6413</th>\n      <td>1990</td>\n      <td>Lamborghini</td>\n      <td>Countach</td>\n      <td>Two Seaters</td>\n      <td>Premium</td>\n      <td>7.0</td>\n    </tr>\n    <tr>\n      <th>5267</th>\n      <td>1989</td>\n      <td>Lamborghini</td>\n      <td>Countach</td>\n      <td>Two Seaters</td>\n      <td>Premium</td>\n      <td>7.0</td>\n    </tr>\n  </tbody>\n</table>\n</div>"
     },
     "metadata": {},
     "execution_count": 26
    }
   ],
   "source": [
    "fuel.sort_values(by=['Combined MPG (FT1)'], na_position='first', inplace=True)\n",
    "fuel.head()"
   ]
  },
  {
   "cell_type": "code",
   "execution_count": 27,
   "metadata": {},
   "outputs": [
    {
     "output_type": "execute_result",
     "data": {
      "text/plain": "            Year        Make               Model        Class Fuel Type  \\\nVehicle ID                                                                \n1           1985  Alfa Romeo  Spider Veloce 2000  Two Seaters   Regular   \n2           1985     Bertone                X1/9  Two Seaters   Regular   \n3           1985   Chevrolet            Corvette  Two Seaters   Regular   \n4           1985   Chevrolet            Corvette  Two Seaters   Regular   \n5           1985      Nissan               300ZX  Two Seaters   Regular   \n\n            Combined MPG (FT1)  \nVehicle ID                      \n1                         21.0  \n2                         22.0  \n3                         17.0  \n4                         17.0  \n5                         16.0  ",
      "text/html": "<div>\n<style scoped>\n    .dataframe tbody tr th:only-of-type {\n        vertical-align: middle;\n    }\n\n    .dataframe tbody tr th {\n        vertical-align: top;\n    }\n\n    .dataframe thead th {\n        text-align: right;\n    }\n</style>\n<table border=\"1\" class=\"dataframe\">\n  <thead>\n    <tr style=\"text-align: right;\">\n      <th></th>\n      <th>Year</th>\n      <th>Make</th>\n      <th>Model</th>\n      <th>Class</th>\n      <th>Fuel Type</th>\n      <th>Combined MPG (FT1)</th>\n    </tr>\n    <tr>\n      <th>Vehicle ID</th>\n      <th></th>\n      <th></th>\n      <th></th>\n      <th></th>\n      <th></th>\n      <th></th>\n    </tr>\n  </thead>\n  <tbody>\n    <tr>\n      <th>1</th>\n      <td>1985</td>\n      <td>Alfa Romeo</td>\n      <td>Spider Veloce 2000</td>\n      <td>Two Seaters</td>\n      <td>Regular</td>\n      <td>21.0</td>\n    </tr>\n    <tr>\n      <th>2</th>\n      <td>1985</td>\n      <td>Bertone</td>\n      <td>X1/9</td>\n      <td>Two Seaters</td>\n      <td>Regular</td>\n      <td>22.0</td>\n    </tr>\n    <tr>\n      <th>3</th>\n      <td>1985</td>\n      <td>Chevrolet</td>\n      <td>Corvette</td>\n      <td>Two Seaters</td>\n      <td>Regular</td>\n      <td>17.0</td>\n    </tr>\n    <tr>\n      <th>4</th>\n      <td>1985</td>\n      <td>Chevrolet</td>\n      <td>Corvette</td>\n      <td>Two Seaters</td>\n      <td>Regular</td>\n      <td>17.0</td>\n    </tr>\n    <tr>\n      <th>5</th>\n      <td>1985</td>\n      <td>Nissan</td>\n      <td>300ZX</td>\n      <td>Two Seaters</td>\n      <td>Regular</td>\n      <td>16.0</td>\n    </tr>\n  </tbody>\n</table>\n</div>"
     },
     "metadata": {},
     "execution_count": 27
    }
   ],
   "source": [
    "fuel.sort_index().head()"
   ]
  },
  {
   "cell_type": "code",
   "execution_count": null,
   "metadata": {},
   "outputs": [],
   "source": []
  }
 ],
 "metadata": {
  "language_info": {
   "codemirror_mode": {
    "name": "ipython",
    "version": 3
   },
   "file_extension": ".py",
   "mimetype": "text/x-python",
   "name": "python",
   "nbconvert_exporter": "python",
   "pygments_lexer": "ipython3",
   "version": "3.8.2-final"
  },
  "orig_nbformat": 2,
  "kernelspec": {
   "name": "python38264bitdatasciencef2t2jzuxvenv755777717192484c92e98af808cd61d4",
   "display_name": "Python 3.8.2 64-bit ('Data_Science-f2T2jZux': venv)"
  }
 },
 "nbformat": 4,
 "nbformat_minor": 2
}