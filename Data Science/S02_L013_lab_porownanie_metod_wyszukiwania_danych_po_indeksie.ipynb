{
 "cells": [
  {
   "cell_type": "code",
   "execution_count": 1,
   "metadata": {},
   "outputs": [],
   "source": [
    "import pandas as pd\n",
    "import numpy as np\n",
    "import matplotlib.pyplot as plt\n",
    "import math"
   ]
  },
  {
   "cell_type": "code",
   "execution_count": 2,
   "metadata": {},
   "outputs": [
    {
     "output_type": "execute_result",
     "data": {
      "text/plain": "Symbol\nAF            Afghanistan\nAL                Albania\nDZ                Algeria\nAD                Andorra\nAO                 Angola\nAI               Anguilla\nAQ             Antarctica\nAG    Antigua and Barbuda\nSA           Saudi Arabia\nAR              Argentina\nAM                Armenia\nAW                  Aruba\nAU              Australia\nAT                Austria\nAZ             Azerbaijan\nBS                Bahamas\nBH                Bahrain\nBD             Bangladesh\nBB               Barbados\nBE                Belgium\nName: Name, dtype: object"
     },
     "metadata": {},
     "execution_count": 2
    }
   ],
   "source": [
    "countries = pd.read_csv(\"dane/course-files/countries.csv\", usecols=[\"Symbol\", \"Name\"], index_col = 'Symbol', squeeze=True)\n",
    "countries.head(20)"
   ]
  },
  {
   "cell_type": "code",
   "execution_count": 3,
   "metadata": {},
   "outputs": [
    {
     "output_type": "execute_result",
     "data": {
      "text/plain": "'France'"
     },
     "metadata": {},
     "execution_count": 3
    }
   ],
   "source": [
    "countries['FR']"
   ]
  },
  {
   "cell_type": "code",
   "execution_count": 4,
   "metadata": {},
   "outputs": [
    {
     "output_type": "execute_result",
     "data": {
      "text/plain": "'France'"
     },
     "metadata": {},
     "execution_count": 4
    }
   ],
   "source": [
    "countries.get(\"FR\")"
   ]
  },
  {
   "cell_type": "code",
   "execution_count": 5,
   "metadata": {},
   "outputs": [
    {
     "output_type": "execute_result",
     "data": {
      "text/plain": "'France'"
     },
     "metadata": {},
     "execution_count": 5
    }
   ],
   "source": [
    "countries.at['FR']"
   ]
  },
  {
   "cell_type": "code",
   "execution_count": 6,
   "metadata": {},
   "outputs": [
    {
     "output_type": "execute_result",
     "data": {
      "text/plain": "'France'"
     },
     "metadata": {},
     "execution_count": 6
    }
   ],
   "source": [
    "countries.loc['FR']"
   ]
  },
  {
   "cell_type": "code",
   "execution_count": 10,
   "metadata": {},
   "outputs": [
    {
     "output_type": "execute_result",
     "data": {
      "text/plain": "'Austria'"
     },
     "metadata": {},
     "execution_count": 10
    }
   ],
   "source": [
    "countries.iat[13]"
   ]
  },
  {
   "cell_type": "code",
   "execution_count": 11,
   "metadata": {},
   "outputs": [
    {
     "output_type": "execute_result",
     "data": {
      "text/plain": "'Austria'"
     },
     "metadata": {},
     "execution_count": 11
    }
   ],
   "source": [
    "countries.iloc[13]"
   ]
  },
  {
   "cell_type": "code",
   "execution_count": 12,
   "metadata": {},
   "outputs": [],
   "source": [
    "nordic = [\"FI\", \"SE\", \"NO\"]"
   ]
  },
  {
   "cell_type": "code",
   "execution_count": 13,
   "metadata": {},
   "outputs": [
    {
     "output_type": "execute_result",
     "data": {
      "text/plain": "Symbol\nFI    Finland\nSE     Sweden\nNO     Norway\nName: Name, dtype: object"
     },
     "metadata": {},
     "execution_count": 13
    }
   ],
   "source": [
    "countries[nordic]"
   ]
  },
  {
   "cell_type": "code",
   "execution_count": 14,
   "metadata": {},
   "outputs": [
    {
     "output_type": "execute_result",
     "data": {
      "text/plain": "Symbol\nFI    Finland\nSE     Sweden\nNO     Norway\nName: Name, dtype: object"
     },
     "metadata": {},
     "execution_count": 14
    }
   ],
   "source": [
    "countries.get(nordic)"
   ]
  },
  {
   "cell_type": "code",
   "execution_count": 17,
   "metadata": {},
   "outputs": [
    {
     "output_type": "execute_result",
     "data": {
      "text/plain": "Symbol\nFI    Finland\nSE     Sweden\nNO     Norway\nName: Name, dtype: object"
     },
     "metadata": {},
     "execution_count": 17
    }
   ],
   "source": [
    "countries.loc[nordic]"
   ]
  },
  {
   "cell_type": "code",
   "execution_count": null,
   "metadata": {},
   "outputs": [],
   "source": []
  }
 ],
 "metadata": {
  "language_info": {
   "codemirror_mode": {
    "name": "ipython",
    "version": 3
   },
   "file_extension": ".py",
   "mimetype": "text/x-python",
   "name": "python",
   "nbconvert_exporter": "python",
   "pygments_lexer": "ipython3",
   "version": "3.8.2-final"
  },
  "orig_nbformat": 2,
  "kernelspec": {
   "name": "python38264bitdatasciencef2t2jzuxvenv755777717192484c92e98af808cd61d4",
   "display_name": "Python 3.8.2 64-bit ('Data_Science-f2T2jZux': venv)"
  }
 },
 "nbformat": 4,
 "nbformat_minor": 2
}