{
 "cells": [
  {
   "cell_type": "code",
   "execution_count": 1,
   "metadata": {},
   "outputs": [],
   "source": [
    "import pandas as pd\n",
    "import numpy as np\n",
    "from datetime import datetime\n",
    "from datetime import timedelta\n",
    "import time"
   ]
  },
  {
   "cell_type": "code",
   "execution_count": 2,
   "metadata": {},
   "outputs": [],
   "source": [
    "df = pd.read_csv('dane/course-files/marathon_results_2016.csv', index_col='Bib', usecols=['Bib','40K','Half','Pace','Age','M/F','Country','State','City'])"
   ]
  },
  {
   "cell_type": "code",
   "execution_count": 4,
   "metadata": {},
   "outputs": [
    {
     "output_type": "execute_result",
     "data": {
      "text/plain": "     Age M/F         City State Country     Half      40K     Pace  \\\nBib                                                                  \n5     21   M  Addis Ababa   NaN     ETH 01:06:45 02:05:59  0:05:04   \n1     26   M         Ambo   NaN     ETH 01:06:46 02:05:59  0:05:06   \n6     31   M  Addis Ababa   NaN     ETH 01:06:44 02:06:47  0:05:07   \n11    33   M       Kitale   NaN     KEN 01:06:46 02:06:47  0:05:07   \n14    23   M      Eldoret   NaN     KEN 01:06:46 02:08:11  0:05:11   \n\n     TotalSeconds  HalfSeconds  \nBib                             \n5          7559.0       4005.0  \n1          7559.0       4006.0  \n6          7607.0       4004.0  \n11         7607.0       4006.0  \n14         7691.0       4006.0  ",
      "text/html": "<div>\n<style scoped>\n    .dataframe tbody tr th:only-of-type {\n        vertical-align: middle;\n    }\n\n    .dataframe tbody tr th {\n        vertical-align: top;\n    }\n\n    .dataframe thead th {\n        text-align: right;\n    }\n</style>\n<table border=\"1\" class=\"dataframe\">\n  <thead>\n    <tr style=\"text-align: right;\">\n      <th></th>\n      <th>Age</th>\n      <th>M/F</th>\n      <th>City</th>\n      <th>State</th>\n      <th>Country</th>\n      <th>Half</th>\n      <th>40K</th>\n      <th>Pace</th>\n      <th>TotalSeconds</th>\n      <th>HalfSeconds</th>\n    </tr>\n    <tr>\n      <th>Bib</th>\n      <th></th>\n      <th></th>\n      <th></th>\n      <th></th>\n      <th></th>\n      <th></th>\n      <th></th>\n      <th></th>\n      <th></th>\n      <th></th>\n    </tr>\n  </thead>\n  <tbody>\n    <tr>\n      <th>5</th>\n      <td>21</td>\n      <td>M</td>\n      <td>Addis Ababa</td>\n      <td>NaN</td>\n      <td>ETH</td>\n      <td>01:06:45</td>\n      <td>02:05:59</td>\n      <td>0:05:04</td>\n      <td>7559.0</td>\n      <td>4005.0</td>\n    </tr>\n    <tr>\n      <th>1</th>\n      <td>26</td>\n      <td>M</td>\n      <td>Ambo</td>\n      <td>NaN</td>\n      <td>ETH</td>\n      <td>01:06:46</td>\n      <td>02:05:59</td>\n      <td>0:05:06</td>\n      <td>7559.0</td>\n      <td>4006.0</td>\n    </tr>\n    <tr>\n      <th>6</th>\n      <td>31</td>\n      <td>M</td>\n      <td>Addis Ababa</td>\n      <td>NaN</td>\n      <td>ETH</td>\n      <td>01:06:44</td>\n      <td>02:06:47</td>\n      <td>0:05:07</td>\n      <td>7607.0</td>\n      <td>4004.0</td>\n    </tr>\n    <tr>\n      <th>11</th>\n      <td>33</td>\n      <td>M</td>\n      <td>Kitale</td>\n      <td>NaN</td>\n      <td>KEN</td>\n      <td>01:06:46</td>\n      <td>02:06:47</td>\n      <td>0:05:07</td>\n      <td>7607.0</td>\n      <td>4006.0</td>\n    </tr>\n    <tr>\n      <th>14</th>\n      <td>23</td>\n      <td>M</td>\n      <td>Eldoret</td>\n      <td>NaN</td>\n      <td>KEN</td>\n      <td>01:06:46</td>\n      <td>02:08:11</td>\n      <td>0:05:11</td>\n      <td>7691.0</td>\n      <td>4006.0</td>\n    </tr>\n  </tbody>\n</table>\n</div>"
     },
     "metadata": {},
     "execution_count": 4
    }
   ],
   "source": [
    "df['40K'] = df['40K'].apply(pd.to_timedelta)\n",
    "df['Half'] = df['Half'].apply(pd.to_timedelta)\n",
    "df['TotalSeconds'] = df['40K'].apply(lambda x: timedelta.total_seconds(x))\n",
    "df['HalfSeconds'] = df['Half'].apply(lambda x: timedelta.total_seconds(x))\n",
    "df.head()"
   ]
  },
  {
   "cell_type": "code",
   "execution_count": 5,
   "metadata": {},
   "outputs": [
    {
     "output_type": "stream",
     "name": "stdout",
     "text": "<class 'pandas.core.frame.DataFrame'>\nIndex: 26630 entries, 5 to 28487\nData columns (total 10 columns):\n #   Column        Non-Null Count  Dtype          \n---  ------        --------------  -----          \n 0   Age           26630 non-null  int64          \n 1   M/F           26630 non-null  object         \n 2   City          26629 non-null  object         \n 3   State         23783 non-null  object         \n 4   Country       26630 non-null  object         \n 5   Half          26630 non-null  timedelta64[ns]\n 6   40K           26630 non-null  timedelta64[ns]\n 7   Pace          26630 non-null  object         \n 8   TotalSeconds  26630 non-null  float64        \n 9   HalfSeconds   26630 non-null  float64        \ndtypes: float64(2), int64(1), object(5), timedelta64[ns](2)\nmemory usage: 3.5+ MB\n"
    }
   ],
   "source": [
    "df.info()"
   ]
  },
  {
   "cell_type": "code",
   "execution_count": 6,
   "metadata": {},
   "outputs": [
    {
     "output_type": "execute_result",
     "data": {
      "text/plain": "                Age                    Half                     40K  \\\ncount  26630.000000                   26630                   26630   \nmean      42.514044  0 days 01:49:25.497070  0 days 03:41:49.984829   \nstd       11.347955  0 days 00:18:06.943013  0 days 00:39:13.302840   \nmin       18.000000         0 days 00:00:00         0 days 00:00:00   \n25%       34.000000         0 days 01:36:51  0 days 03:14:50.250000   \n50%       43.000000         0 days 01:47:00         0 days 03:35:13   \n75%       51.000000         0 days 01:58:32         0 days 04:02:20   \nmax       83.000000         0 days 04:47:17         0 days 07:59:12   \n\n       TotalSeconds   HalfSeconds  \ncount  26630.000000  26630.000000  \nmean   13309.984829   6565.497071  \nstd     2353.302841   1086.943013  \nmin        0.000000      0.000000  \n25%    11690.250000   5811.000000  \n50%    12913.000000   6420.000000  \n75%    14540.000000   7112.000000  \nmax    28752.000000  17237.000000  ",
      "text/html": "<div>\n<style scoped>\n    .dataframe tbody tr th:only-of-type {\n        vertical-align: middle;\n    }\n\n    .dataframe tbody tr th {\n        vertical-align: top;\n    }\n\n    .dataframe thead th {\n        text-align: right;\n    }\n</style>\n<table border=\"1\" class=\"dataframe\">\n  <thead>\n    <tr style=\"text-align: right;\">\n      <th></th>\n      <th>Age</th>\n      <th>Half</th>\n      <th>40K</th>\n      <th>TotalSeconds</th>\n      <th>HalfSeconds</th>\n    </tr>\n  </thead>\n  <tbody>\n    <tr>\n      <th>count</th>\n      <td>26630.000000</td>\n      <td>26630</td>\n      <td>26630</td>\n      <td>26630.000000</td>\n      <td>26630.000000</td>\n    </tr>\n    <tr>\n      <th>mean</th>\n      <td>42.514044</td>\n      <td>0 days 01:49:25.497070</td>\n      <td>0 days 03:41:49.984829</td>\n      <td>13309.984829</td>\n      <td>6565.497071</td>\n    </tr>\n    <tr>\n      <th>std</th>\n      <td>11.347955</td>\n      <td>0 days 00:18:06.943013</td>\n      <td>0 days 00:39:13.302840</td>\n      <td>2353.302841</td>\n      <td>1086.943013</td>\n    </tr>\n    <tr>\n      <th>min</th>\n      <td>18.000000</td>\n      <td>0 days 00:00:00</td>\n      <td>0 days 00:00:00</td>\n      <td>0.000000</td>\n      <td>0.000000</td>\n    </tr>\n    <tr>\n      <th>25%</th>\n      <td>34.000000</td>\n      <td>0 days 01:36:51</td>\n      <td>0 days 03:14:50.250000</td>\n      <td>11690.250000</td>\n      <td>5811.000000</td>\n    </tr>\n    <tr>\n      <th>50%</th>\n      <td>43.000000</td>\n      <td>0 days 01:47:00</td>\n      <td>0 days 03:35:13</td>\n      <td>12913.000000</td>\n      <td>6420.000000</td>\n    </tr>\n    <tr>\n      <th>75%</th>\n      <td>51.000000</td>\n      <td>0 days 01:58:32</td>\n      <td>0 days 04:02:20</td>\n      <td>14540.000000</td>\n      <td>7112.000000</td>\n    </tr>\n    <tr>\n      <th>max</th>\n      <td>83.000000</td>\n      <td>0 days 04:47:17</td>\n      <td>0 days 07:59:12</td>\n      <td>28752.000000</td>\n      <td>17237.000000</td>\n    </tr>\n  </tbody>\n</table>\n</div>"
     },
     "metadata": {},
     "execution_count": 6
    }
   ],
   "source": [
    "df.describe()"
   ]
  },
  {
   "cell_type": "code",
   "execution_count": 8,
   "metadata": {},
   "outputs": [
    {
     "output_type": "execute_result",
     "data": {
      "text/plain": "Boston           722\nNew York         451\nChicago          261\nToronto          223\nSan Francisco    197\nName: City, dtype: int64"
     },
     "metadata": {},
     "execution_count": 8
    }
   ],
   "source": [
    "df['City'].value_counts().head()"
   ]
  },
  {
   "cell_type": "code",
   "execution_count": 10,
   "metadata": {},
   "outputs": [
    {
     "output_type": "execute_result",
     "data": {
      "text/plain": "array(['Addis Ababa', 'Ambo', 'Kitale', ..., 'Justin', 'Rossmoor',\n       'Reedsburg'], dtype=object)"
     },
     "metadata": {},
     "execution_count": 10
    }
   ],
   "source": [
    "df['City'].unique()"
   ]
  },
  {
   "cell_type": "code",
   "execution_count": 11,
   "metadata": {},
   "outputs": [
    {
     "output_type": "execute_result",
     "data": {
      "text/plain": "5832"
     },
     "metadata": {},
     "execution_count": 11
    }
   ],
   "source": [
    "df['City'].nunique()"
   ]
  },
  {
   "cell_type": "code",
   "execution_count": 12,
   "metadata": {},
   "outputs": [],
   "source": [
    "cities = df[\"City\"].unique()"
   ]
  },
  {
   "cell_type": "code",
   "execution_count": 13,
   "metadata": {},
   "outputs": [],
   "source": [
    "groups = {}"
   ]
  },
  {
   "cell_type": "code",
   "execution_count": 14,
   "metadata": {},
   "outputs": [],
   "source": [
    "for city in cities:\n",
    "    my_df = df.loc[df['City'] == city]\n",
    "    groups[city] = my_df"
   ]
  },
  {
   "cell_type": "code",
   "execution_count": 15,
   "metadata": {},
   "outputs": [
    {
     "output_type": "execute_result",
     "data": {
      "text/plain": "       Age M/F           City State Country     Half      40K     Pace  \\\nBib                                                                      \n796     28   M  San Francisco    CA     USA 01:18:12 02:29:21  0:06:02   \n36      30   M  San Francisco    CA     USA 01:14:21 02:30:00  0:06:05   \n1267    27   M  San Francisco    CA     USA 01:19:24 02:33:24  0:06:11   \n644     51   M  San Francisco    CA     USA 01:19:29 02:37:08  0:06:22   \n827     33   M  San Francisco    CA     USA 01:18:52 02:38:13  0:06:24   \n...    ...  ..            ...   ...     ...      ...      ...      ...   \n1793    39   M  San Francisco    CA     USA 01:54:27 05:00:46  0:12:08   \n31233   29   F  San Francisco    CA     USA 02:36:46 05:12:55  0:12:33   \n29460   24   M  San Francisco    CA     USA 02:22:32 05:33:13  0:13:24   \n26138   29   M  San Francisco    CA     USA 02:42:16 05:33:17  0:13:24   \n17736   32   F  San Francisco    CA     USA 02:45:21 05:39:13  0:13:27   \n\n       TotalSeconds  HalfSeconds  \nBib                               \n796          8961.0       4692.0  \n36           9000.0       4461.0  \n1267         9204.0       4764.0  \n644          9428.0       4769.0  \n827          9493.0       4732.0  \n...             ...          ...  \n1793        18046.0       6867.0  \n31233       18775.0       9406.0  \n29460       19993.0       8552.0  \n26138       19997.0       9736.0  \n17736       20353.0       9921.0  \n\n[197 rows x 10 columns]",
      "text/html": "<div>\n<style scoped>\n    .dataframe tbody tr th:only-of-type {\n        vertical-align: middle;\n    }\n\n    .dataframe tbody tr th {\n        vertical-align: top;\n    }\n\n    .dataframe thead th {\n        text-align: right;\n    }\n</style>\n<table border=\"1\" class=\"dataframe\">\n  <thead>\n    <tr style=\"text-align: right;\">\n      <th></th>\n      <th>Age</th>\n      <th>M/F</th>\n      <th>City</th>\n      <th>State</th>\n      <th>Country</th>\n      <th>Half</th>\n      <th>40K</th>\n      <th>Pace</th>\n      <th>TotalSeconds</th>\n      <th>HalfSeconds</th>\n    </tr>\n    <tr>\n      <th>Bib</th>\n      <th></th>\n      <th></th>\n      <th></th>\n      <th></th>\n      <th></th>\n      <th></th>\n      <th></th>\n      <th></th>\n      <th></th>\n      <th></th>\n    </tr>\n  </thead>\n  <tbody>\n    <tr>\n      <th>796</th>\n      <td>28</td>\n      <td>M</td>\n      <td>San Francisco</td>\n      <td>CA</td>\n      <td>USA</td>\n      <td>01:18:12</td>\n      <td>02:29:21</td>\n      <td>0:06:02</td>\n      <td>8961.0</td>\n      <td>4692.0</td>\n    </tr>\n    <tr>\n      <th>36</th>\n      <td>30</td>\n      <td>M</td>\n      <td>San Francisco</td>\n      <td>CA</td>\n      <td>USA</td>\n      <td>01:14:21</td>\n      <td>02:30:00</td>\n      <td>0:06:05</td>\n      <td>9000.0</td>\n      <td>4461.0</td>\n    </tr>\n    <tr>\n      <th>1267</th>\n      <td>27</td>\n      <td>M</td>\n      <td>San Francisco</td>\n      <td>CA</td>\n      <td>USA</td>\n      <td>01:19:24</td>\n      <td>02:33:24</td>\n      <td>0:06:11</td>\n      <td>9204.0</td>\n      <td>4764.0</td>\n    </tr>\n    <tr>\n      <th>644</th>\n      <td>51</td>\n      <td>M</td>\n      <td>San Francisco</td>\n      <td>CA</td>\n      <td>USA</td>\n      <td>01:19:29</td>\n      <td>02:37:08</td>\n      <td>0:06:22</td>\n      <td>9428.0</td>\n      <td>4769.0</td>\n    </tr>\n    <tr>\n      <th>827</th>\n      <td>33</td>\n      <td>M</td>\n      <td>San Francisco</td>\n      <td>CA</td>\n      <td>USA</td>\n      <td>01:18:52</td>\n      <td>02:38:13</td>\n      <td>0:06:24</td>\n      <td>9493.0</td>\n      <td>4732.0</td>\n    </tr>\n    <tr>\n      <th>...</th>\n      <td>...</td>\n      <td>...</td>\n      <td>...</td>\n      <td>...</td>\n      <td>...</td>\n      <td>...</td>\n      <td>...</td>\n      <td>...</td>\n      <td>...</td>\n      <td>...</td>\n    </tr>\n    <tr>\n      <th>1793</th>\n      <td>39</td>\n      <td>M</td>\n      <td>San Francisco</td>\n      <td>CA</td>\n      <td>USA</td>\n      <td>01:54:27</td>\n      <td>05:00:46</td>\n      <td>0:12:08</td>\n      <td>18046.0</td>\n      <td>6867.0</td>\n    </tr>\n    <tr>\n      <th>31233</th>\n      <td>29</td>\n      <td>F</td>\n      <td>San Francisco</td>\n      <td>CA</td>\n      <td>USA</td>\n      <td>02:36:46</td>\n      <td>05:12:55</td>\n      <td>0:12:33</td>\n      <td>18775.0</td>\n      <td>9406.0</td>\n    </tr>\n    <tr>\n      <th>29460</th>\n      <td>24</td>\n      <td>M</td>\n      <td>San Francisco</td>\n      <td>CA</td>\n      <td>USA</td>\n      <td>02:22:32</td>\n      <td>05:33:13</td>\n      <td>0:13:24</td>\n      <td>19993.0</td>\n      <td>8552.0</td>\n    </tr>\n    <tr>\n      <th>26138</th>\n      <td>29</td>\n      <td>M</td>\n      <td>San Francisco</td>\n      <td>CA</td>\n      <td>USA</td>\n      <td>02:42:16</td>\n      <td>05:33:17</td>\n      <td>0:13:24</td>\n      <td>19997.0</td>\n      <td>9736.0</td>\n    </tr>\n    <tr>\n      <th>17736</th>\n      <td>32</td>\n      <td>F</td>\n      <td>San Francisco</td>\n      <td>CA</td>\n      <td>USA</td>\n      <td>02:45:21</td>\n      <td>05:39:13</td>\n      <td>0:13:27</td>\n      <td>20353.0</td>\n      <td>9921.0</td>\n    </tr>\n  </tbody>\n</table>\n<p>197 rows × 10 columns</p>\n</div>"
     },
     "metadata": {},
     "execution_count": 15
    }
   ],
   "source": [
    "groups['San Francisco']"
   ]
  },
  {
   "cell_type": "code",
   "execution_count": 16,
   "metadata": {},
   "outputs": [
    {
     "output_type": "execute_result",
     "data": {
      "text/plain": "              Age                    Half                     40K  \\\ncount  197.000000                     197                     197   \nmean    36.309645  0 days 01:42:24.390862  0 days 03:25:35.335025   \nstd     10.600373  0 days 00:15:31.836366  0 days 00:34:13.037100   \nmin     22.000000         0 days 01:14:21         0 days 02:29:21   \n25%     28.000000         0 days 01:30:11         0 days 03:02:06   \n50%     34.000000         0 days 01:41:50         0 days 03:21:13   \n75%     42.000000         0 days 01:48:48         0 days 03:39:35   \nmax     80.000000         0 days 02:45:21         0 days 05:39:13   \n\n       TotalSeconds  HalfSeconds  \ncount    197.000000   197.000000  \nmean   12335.335025  6144.390863  \nstd     2053.037101   931.836367  \nmin     8961.000000  4461.000000  \n25%    10926.000000  5411.000000  \n50%    12073.000000  6110.000000  \n75%    13175.000000  6528.000000  \nmax    20353.000000  9921.000000  ",
      "text/html": "<div>\n<style scoped>\n    .dataframe tbody tr th:only-of-type {\n        vertical-align: middle;\n    }\n\n    .dataframe tbody tr th {\n        vertical-align: top;\n    }\n\n    .dataframe thead th {\n        text-align: right;\n    }\n</style>\n<table border=\"1\" class=\"dataframe\">\n  <thead>\n    <tr style=\"text-align: right;\">\n      <th></th>\n      <th>Age</th>\n      <th>Half</th>\n      <th>40K</th>\n      <th>TotalSeconds</th>\n      <th>HalfSeconds</th>\n    </tr>\n  </thead>\n  <tbody>\n    <tr>\n      <th>count</th>\n      <td>197.000000</td>\n      <td>197</td>\n      <td>197</td>\n      <td>197.000000</td>\n      <td>197.000000</td>\n    </tr>\n    <tr>\n      <th>mean</th>\n      <td>36.309645</td>\n      <td>0 days 01:42:24.390862</td>\n      <td>0 days 03:25:35.335025</td>\n      <td>12335.335025</td>\n      <td>6144.390863</td>\n    </tr>\n    <tr>\n      <th>std</th>\n      <td>10.600373</td>\n      <td>0 days 00:15:31.836366</td>\n      <td>0 days 00:34:13.037100</td>\n      <td>2053.037101</td>\n      <td>931.836367</td>\n    </tr>\n    <tr>\n      <th>min</th>\n      <td>22.000000</td>\n      <td>0 days 01:14:21</td>\n      <td>0 days 02:29:21</td>\n      <td>8961.000000</td>\n      <td>4461.000000</td>\n    </tr>\n    <tr>\n      <th>25%</th>\n      <td>28.000000</td>\n      <td>0 days 01:30:11</td>\n      <td>0 days 03:02:06</td>\n      <td>10926.000000</td>\n      <td>5411.000000</td>\n    </tr>\n    <tr>\n      <th>50%</th>\n      <td>34.000000</td>\n      <td>0 days 01:41:50</td>\n      <td>0 days 03:21:13</td>\n      <td>12073.000000</td>\n      <td>6110.000000</td>\n    </tr>\n    <tr>\n      <th>75%</th>\n      <td>42.000000</td>\n      <td>0 days 01:48:48</td>\n      <td>0 days 03:39:35</td>\n      <td>13175.000000</td>\n      <td>6528.000000</td>\n    </tr>\n    <tr>\n      <th>max</th>\n      <td>80.000000</td>\n      <td>0 days 02:45:21</td>\n      <td>0 days 05:39:13</td>\n      <td>20353.000000</td>\n      <td>9921.000000</td>\n    </tr>\n  </tbody>\n</table>\n</div>"
     },
     "metadata": {},
     "execution_count": 16
    }
   ],
   "source": [
    "groups['San Francisco'].describe()"
   ]
  },
  {
   "cell_type": "code",
   "execution_count": 17,
   "metadata": {},
   "outputs": [
    {
     "output_type": "execute_result",
     "data": {
      "text/plain": "            Age                    Half                     40K  TotalSeconds  \\\ncount   5.00000                       5                       5      5.000000   \nmean   25.00000  0 days 01:08:30.200000  0 days 02:13:47.600000   8027.600000   \nstd     4.84768  0 days 00:03:55.793765  0 days 00:10:07.503744    607.503745   \nmin    20.00000         0 days 01:06:44         0 days 02:05:59   7559.000000   \n25%    21.00000         0 days 01:06:45         0 days 02:06:47   7607.000000   \n50%    24.00000         0 days 01:06:45         0 days 02:10:57   7857.000000   \n75%    29.00000         0 days 01:06:45         0 days 02:14:23   8063.000000   \nmax    31.00000         0 days 01:15:32         0 days 02:30:52   9052.000000   \n\n       HalfSeconds  \ncount     5.000000  \nmean   4110.200000  \nstd     235.793766  \nmin    4004.000000  \n25%    4005.000000  \n50%    4005.000000  \n75%    4005.000000  \nmax    4532.000000  ",
      "text/html": "<div>\n<style scoped>\n    .dataframe tbody tr th:only-of-type {\n        vertical-align: middle;\n    }\n\n    .dataframe tbody tr th {\n        vertical-align: top;\n    }\n\n    .dataframe thead th {\n        text-align: right;\n    }\n</style>\n<table border=\"1\" class=\"dataframe\">\n  <thead>\n    <tr style=\"text-align: right;\">\n      <th></th>\n      <th>Age</th>\n      <th>Half</th>\n      <th>40K</th>\n      <th>TotalSeconds</th>\n      <th>HalfSeconds</th>\n    </tr>\n  </thead>\n  <tbody>\n    <tr>\n      <th>count</th>\n      <td>5.00000</td>\n      <td>5</td>\n      <td>5</td>\n      <td>5.000000</td>\n      <td>5.000000</td>\n    </tr>\n    <tr>\n      <th>mean</th>\n      <td>25.00000</td>\n      <td>0 days 01:08:30.200000</td>\n      <td>0 days 02:13:47.600000</td>\n      <td>8027.600000</td>\n      <td>4110.200000</td>\n    </tr>\n    <tr>\n      <th>std</th>\n      <td>4.84768</td>\n      <td>0 days 00:03:55.793765</td>\n      <td>0 days 00:10:07.503744</td>\n      <td>607.503745</td>\n      <td>235.793766</td>\n    </tr>\n    <tr>\n      <th>min</th>\n      <td>20.00000</td>\n      <td>0 days 01:06:44</td>\n      <td>0 days 02:05:59</td>\n      <td>7559.000000</td>\n      <td>4004.000000</td>\n    </tr>\n    <tr>\n      <th>25%</th>\n      <td>21.00000</td>\n      <td>0 days 01:06:45</td>\n      <td>0 days 02:06:47</td>\n      <td>7607.000000</td>\n      <td>4005.000000</td>\n    </tr>\n    <tr>\n      <th>50%</th>\n      <td>24.00000</td>\n      <td>0 days 01:06:45</td>\n      <td>0 days 02:10:57</td>\n      <td>7857.000000</td>\n      <td>4005.000000</td>\n    </tr>\n    <tr>\n      <th>75%</th>\n      <td>29.00000</td>\n      <td>0 days 01:06:45</td>\n      <td>0 days 02:14:23</td>\n      <td>8063.000000</td>\n      <td>4005.000000</td>\n    </tr>\n    <tr>\n      <th>max</th>\n      <td>31.00000</td>\n      <td>0 days 01:15:32</td>\n      <td>0 days 02:30:52</td>\n      <td>9052.000000</td>\n      <td>4532.000000</td>\n    </tr>\n  </tbody>\n</table>\n</div>"
     },
     "metadata": {},
     "execution_count": 17
    }
   ],
   "source": [
    "groups['Addis Ababa'].describe()"
   ]
  },
  {
   "cell_type": "code",
   "execution_count": null,
   "metadata": {},
   "outputs": [],
   "source": []
  }
 ],
 "metadata": {
  "language_info": {
   "codemirror_mode": {
    "name": "ipython",
    "version": 3
   },
   "file_extension": ".py",
   "mimetype": "text/x-python",
   "name": "python",
   "nbconvert_exporter": "python",
   "pygments_lexer": "ipython3",
   "version": "3.8.2-final"
  },
  "orig_nbformat": 2,
  "kernelspec": {
   "name": "python38264bitdatasciencef2t2jzuxvenv755777717192484c92e98af808cd61d4",
   "display_name": "Python 3.8.2 64-bit ('Data_Science-f2T2jZux': venv)"
  }
 },
 "nbformat": 4,
 "nbformat_minor": 2
}