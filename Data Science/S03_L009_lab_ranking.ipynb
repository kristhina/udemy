{
 "cells": [
  {
   "cell_type": "code",
   "execution_count": 27,
   "metadata": {},
   "outputs": [
    {
     "output_type": "execute_result",
     "data": {
      "text/plain": "                   Title  Employees  Profits  Assets\nRank                                                \n1                Walmart    2300000  13643.0  198825\n2     Berkshire Hathaway     367700  24074.0  620854\n3                  Apple     116000  45687.0  321686\n4            Exxon Mobil      72700   7840.0  330314\n5               McKesson      68000   2258.0   56563",
      "text/html": "<div>\n<style scoped>\n    .dataframe tbody tr th:only-of-type {\n        vertical-align: middle;\n    }\n\n    .dataframe tbody tr th {\n        vertical-align: top;\n    }\n\n    .dataframe thead th {\n        text-align: right;\n    }\n</style>\n<table border=\"1\" class=\"dataframe\">\n  <thead>\n    <tr style=\"text-align: right;\">\n      <th></th>\n      <th>Title</th>\n      <th>Employees</th>\n      <th>Profits</th>\n      <th>Assets</th>\n    </tr>\n    <tr>\n      <th>Rank</th>\n      <th></th>\n      <th></th>\n      <th></th>\n      <th></th>\n    </tr>\n  </thead>\n  <tbody>\n    <tr>\n      <th>1</th>\n      <td>Walmart</td>\n      <td>2300000</td>\n      <td>13643.0</td>\n      <td>198825</td>\n    </tr>\n    <tr>\n      <th>2</th>\n      <td>Berkshire Hathaway</td>\n      <td>367700</td>\n      <td>24074.0</td>\n      <td>620854</td>\n    </tr>\n    <tr>\n      <th>3</th>\n      <td>Apple</td>\n      <td>116000</td>\n      <td>45687.0</td>\n      <td>321686</td>\n    </tr>\n    <tr>\n      <th>4</th>\n      <td>Exxon Mobil</td>\n      <td>72700</td>\n      <td>7840.0</td>\n      <td>330314</td>\n    </tr>\n    <tr>\n      <th>5</th>\n      <td>McKesson</td>\n      <td>68000</td>\n      <td>2258.0</td>\n      <td>56563</td>\n    </tr>\n  </tbody>\n</table>\n</div>"
     },
     "metadata": {},
     "execution_count": 27
    }
   ],
   "source": [
    "import pandas as pd\n",
    "import numpy as np\n",
    "fortune = pd.read_csv(\"dane/course-files/Fortune_500_2017.csv\", usecols=['Rank','Title','Employees','Profits','Assets'], index_col = 'Rank')\n",
    "fortune.head()"
   ]
  },
  {
   "cell_type": "code",
   "execution_count": 29,
   "metadata": {},
   "outputs": [
    {
     "output_type": "execute_result",
     "data": {
      "text/plain": "Rank\n1      1.0\n2      7.0\n3     57.0\n4     94.0\n5    104.5\nName: Employees, dtype: float64"
     },
     "metadata": {},
     "execution_count": 29
    }
   ],
   "source": [
    "fortune[\"Employees\"].rank(ascending=False).head()"
   ]
  },
  {
   "cell_type": "code",
   "execution_count": 31,
   "metadata": {},
   "outputs": [],
   "source": [
    "fortune[\"RankByEmployee\"] = fortune[\"Employees\"].rank(ascending=False)"
   ]
  },
  {
   "cell_type": "code",
   "execution_count": 32,
   "metadata": {},
   "outputs": [
    {
     "output_type": "execute_result",
     "data": {
      "text/plain": "                   Title  Employees  Profits  Assets  RankByEmployee\nRank                                                                \n1                Walmart    2300000  13643.0  198825             1.0\n2     Berkshire Hathaway     367700  24074.0  620854             7.0\n3                  Apple     116000  45687.0  321686            57.0\n4            Exxon Mobil      72700   7840.0  330314            94.0\n5               McKesson      68000   2258.0   56563           104.5",
      "text/html": "<div>\n<style scoped>\n    .dataframe tbody tr th:only-of-type {\n        vertical-align: middle;\n    }\n\n    .dataframe tbody tr th {\n        vertical-align: top;\n    }\n\n    .dataframe thead th {\n        text-align: right;\n    }\n</style>\n<table border=\"1\" class=\"dataframe\">\n  <thead>\n    <tr style=\"text-align: right;\">\n      <th></th>\n      <th>Title</th>\n      <th>Employees</th>\n      <th>Profits</th>\n      <th>Assets</th>\n      <th>RankByEmployee</th>\n    </tr>\n    <tr>\n      <th>Rank</th>\n      <th></th>\n      <th></th>\n      <th></th>\n      <th></th>\n      <th></th>\n    </tr>\n  </thead>\n  <tbody>\n    <tr>\n      <th>1</th>\n      <td>Walmart</td>\n      <td>2300000</td>\n      <td>13643.0</td>\n      <td>198825</td>\n      <td>1.0</td>\n    </tr>\n    <tr>\n      <th>2</th>\n      <td>Berkshire Hathaway</td>\n      <td>367700</td>\n      <td>24074.0</td>\n      <td>620854</td>\n      <td>7.0</td>\n    </tr>\n    <tr>\n      <th>3</th>\n      <td>Apple</td>\n      <td>116000</td>\n      <td>45687.0</td>\n      <td>321686</td>\n      <td>57.0</td>\n    </tr>\n    <tr>\n      <th>4</th>\n      <td>Exxon Mobil</td>\n      <td>72700</td>\n      <td>7840.0</td>\n      <td>330314</td>\n      <td>94.0</td>\n    </tr>\n    <tr>\n      <th>5</th>\n      <td>McKesson</td>\n      <td>68000</td>\n      <td>2258.0</td>\n      <td>56563</td>\n      <td>104.5</td>\n    </tr>\n  </tbody>\n</table>\n</div>"
     },
     "metadata": {},
     "execution_count": 32
    }
   ],
   "source": [
    "fortune.head()"
   ]
  },
  {
   "cell_type": "code",
   "execution_count": 34,
   "metadata": {},
   "outputs": [
    {
     "output_type": "execute_result",
     "data": {
      "text/plain": "Rank\n1     11.0\n2      3.0\n3      1.0\n4     27.0\n5    102.0\nName: Profits, dtype: float64"
     },
     "metadata": {},
     "execution_count": 34
    }
   ],
   "source": [
    "fortune['Profits'].rank(ascending=False).head()"
   ]
  },
  {
   "cell_type": "code",
   "execution_count": 35,
   "metadata": {},
   "outputs": [],
   "source": [
    "fortune[\"RankByProfits\"] = fortune['Profits'].rank(ascending=False)"
   ]
  },
  {
   "cell_type": "code",
   "execution_count": 36,
   "metadata": {},
   "outputs": [
    {
     "output_type": "execute_result",
     "data": {
      "text/plain": "                   Title  Employees  Profits  Assets  RankByEmployee  \\\nRank                                                                   \n1                Walmart    2300000  13643.0  198825             1.0   \n2     Berkshire Hathaway     367700  24074.0  620854             7.0   \n3                  Apple     116000  45687.0  321686            57.0   \n4            Exxon Mobil      72700   7840.0  330314            94.0   \n5               McKesson      68000   2258.0   56563           104.5   \n\n      RankByProfits  \nRank                 \n1              11.0  \n2               3.0  \n3               1.0  \n4              27.0  \n5             102.0  ",
      "text/html": "<div>\n<style scoped>\n    .dataframe tbody tr th:only-of-type {\n        vertical-align: middle;\n    }\n\n    .dataframe tbody tr th {\n        vertical-align: top;\n    }\n\n    .dataframe thead th {\n        text-align: right;\n    }\n</style>\n<table border=\"1\" class=\"dataframe\">\n  <thead>\n    <tr style=\"text-align: right;\">\n      <th></th>\n      <th>Title</th>\n      <th>Employees</th>\n      <th>Profits</th>\n      <th>Assets</th>\n      <th>RankByEmployee</th>\n      <th>RankByProfits</th>\n    </tr>\n    <tr>\n      <th>Rank</th>\n      <th></th>\n      <th></th>\n      <th></th>\n      <th></th>\n      <th></th>\n      <th></th>\n    </tr>\n  </thead>\n  <tbody>\n    <tr>\n      <th>1</th>\n      <td>Walmart</td>\n      <td>2300000</td>\n      <td>13643.0</td>\n      <td>198825</td>\n      <td>1.0</td>\n      <td>11.0</td>\n    </tr>\n    <tr>\n      <th>2</th>\n      <td>Berkshire Hathaway</td>\n      <td>367700</td>\n      <td>24074.0</td>\n      <td>620854</td>\n      <td>7.0</td>\n      <td>3.0</td>\n    </tr>\n    <tr>\n      <th>3</th>\n      <td>Apple</td>\n      <td>116000</td>\n      <td>45687.0</td>\n      <td>321686</td>\n      <td>57.0</td>\n      <td>1.0</td>\n    </tr>\n    <tr>\n      <th>4</th>\n      <td>Exxon Mobil</td>\n      <td>72700</td>\n      <td>7840.0</td>\n      <td>330314</td>\n      <td>94.0</td>\n      <td>27.0</td>\n    </tr>\n    <tr>\n      <th>5</th>\n      <td>McKesson</td>\n      <td>68000</td>\n      <td>2258.0</td>\n      <td>56563</td>\n      <td>104.5</td>\n      <td>102.0</td>\n    </tr>\n  </tbody>\n</table>\n</div>"
     },
     "metadata": {},
     "execution_count": 36
    }
   ],
   "source": [
    "fortune.head()"
   ]
  },
  {
   "cell_type": "code",
   "execution_count": 37,
   "metadata": {},
   "outputs": [
    {
     "output_type": "execute_result",
     "data": {
      "text/plain": "                      Title  Employees  Profits   Assets  RankByEmployee  \\\nRank                                                                       \n20               Fannie Mae       7000  12313.0  3287968           446.5   \n21        J.P. Morgan Chase     243355  24733.0  2490972            20.0   \n26    Bank of America Corp.     208024  17906.0  2187702            29.0   \n\n      RankByProfits  \nRank                 \n20             15.0  \n21              2.0  \n26              6.0  ",
      "text/html": "<div>\n<style scoped>\n    .dataframe tbody tr th:only-of-type {\n        vertical-align: middle;\n    }\n\n    .dataframe tbody tr th {\n        vertical-align: top;\n    }\n\n    .dataframe thead th {\n        text-align: right;\n    }\n</style>\n<table border=\"1\" class=\"dataframe\">\n  <thead>\n    <tr style=\"text-align: right;\">\n      <th></th>\n      <th>Title</th>\n      <th>Employees</th>\n      <th>Profits</th>\n      <th>Assets</th>\n      <th>RankByEmployee</th>\n      <th>RankByProfits</th>\n    </tr>\n    <tr>\n      <th>Rank</th>\n      <th></th>\n      <th></th>\n      <th></th>\n      <th></th>\n      <th></th>\n      <th></th>\n    </tr>\n  </thead>\n  <tbody>\n    <tr>\n      <th>20</th>\n      <td>Fannie Mae</td>\n      <td>7000</td>\n      <td>12313.0</td>\n      <td>3287968</td>\n      <td>446.5</td>\n      <td>15.0</td>\n    </tr>\n    <tr>\n      <th>21</th>\n      <td>J.P. Morgan Chase</td>\n      <td>243355</td>\n      <td>24733.0</td>\n      <td>2490972</td>\n      <td>20.0</td>\n      <td>2.0</td>\n    </tr>\n    <tr>\n      <th>26</th>\n      <td>Bank of America Corp.</td>\n      <td>208024</td>\n      <td>17906.0</td>\n      <td>2187702</td>\n      <td>29.0</td>\n      <td>6.0</td>\n    </tr>\n  </tbody>\n</table>\n</div>"
     },
     "metadata": {},
     "execution_count": 37
    }
   ],
   "source": [
    "fortune.nlargest(3, ['Assets'])"
   ]
  },
  {
   "cell_type": "code",
   "execution_count": 39,
   "metadata": {},
   "outputs": [
    {
     "output_type": "execute_result",
     "data": {
      "text/plain": "                       Title  Employees  Profits  Assets  RankByEmployee  \\\nRank                                                                       \n395   A-Mark Precious Metals         83      9.3     437           500.0   \n247        Core-Mark Holding       7688     54.2    1497           434.0   \n495                 Big Lots      23150    152.8    1608           266.0   \n\n      RankByProfits  \nRank                 \n395           434.0  \n247           430.0  \n495           403.0  ",
      "text/html": "<div>\n<style scoped>\n    .dataframe tbody tr th:only-of-type {\n        vertical-align: middle;\n    }\n\n    .dataframe tbody tr th {\n        vertical-align: top;\n    }\n\n    .dataframe thead th {\n        text-align: right;\n    }\n</style>\n<table border=\"1\" class=\"dataframe\">\n  <thead>\n    <tr style=\"text-align: right;\">\n      <th></th>\n      <th>Title</th>\n      <th>Employees</th>\n      <th>Profits</th>\n      <th>Assets</th>\n      <th>RankByEmployee</th>\n      <th>RankByProfits</th>\n    </tr>\n    <tr>\n      <th>Rank</th>\n      <th></th>\n      <th></th>\n      <th></th>\n      <th></th>\n      <th></th>\n      <th></th>\n    </tr>\n  </thead>\n  <tbody>\n    <tr>\n      <th>395</th>\n      <td>A-Mark Precious Metals</td>\n      <td>83</td>\n      <td>9.3</td>\n      <td>437</td>\n      <td>500.0</td>\n      <td>434.0</td>\n    </tr>\n    <tr>\n      <th>247</th>\n      <td>Core-Mark Holding</td>\n      <td>7688</td>\n      <td>54.2</td>\n      <td>1497</td>\n      <td>434.0</td>\n      <td>430.0</td>\n    </tr>\n    <tr>\n      <th>495</th>\n      <td>Big Lots</td>\n      <td>23150</td>\n      <td>152.8</td>\n      <td>1608</td>\n      <td>266.0</td>\n      <td>403.0</td>\n    </tr>\n  </tbody>\n</table>\n</div>"
     },
     "metadata": {},
     "execution_count": 39
    }
   ],
   "source": [
    "fortune.nsmallest(3, 'Assets')"
   ]
  },
  {
   "cell_type": "code",
   "execution_count": null,
   "metadata": {},
   "outputs": [],
   "source": []
  }
 ],
 "metadata": {
  "language_info": {
   "codemirror_mode": {
    "name": "ipython",
    "version": 3
   },
   "file_extension": ".py",
   "mimetype": "text/x-python",
   "name": "python",
   "nbconvert_exporter": "python",
   "pygments_lexer": "ipython3",
   "version": "3.8.2-final"
  },
  "orig_nbformat": 2,
  "kernelspec": {
   "name": "python38264bitdatasciencef2t2jzuxvenv755777717192484c92e98af808cd61d4",
   "display_name": "Python 3.8.2 64-bit ('Data_Science-f2T2jZux': venv)"
  }
 },
 "nbformat": 4,
 "nbformat_minor": 2
}