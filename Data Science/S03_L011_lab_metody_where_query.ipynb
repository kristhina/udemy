{
 "cells": [
  {
   "cell_type": "code",
   "execution_count": 1,
   "metadata": {},
   "outputs": [],
   "source": [
    "import pandas as pd\n",
    "import numpy as np"
   ]
  },
  {
   "cell_type": "code",
   "execution_count": 5,
   "metadata": {},
   "outputs": [
    {
     "output_type": "execute_result",
     "data": {
      "text/plain": "                          name       genus   vore         order  conservation  \\\nID                                                                              \n1                      Cheetah    Acinonyx  carni     Carnivora            lc   \n2                   Owl monkey       Aotus   omni      Primates             0   \n3              Mountain beaver  Aplodontia  herbi      Rodentia            nt   \n4   Greater short-tailed shrew     Blarina   omni  Soricomorpha            lc   \n5                          Cow         Bos  herbi  Artiodactyla  domesticated   \n\n    sleep_total  sleep_rem  sleep_cycle  awake  brainwt   bodywt  \nID                                                                \n1          12.1        0.0     0.000000   11.9  0.00000   50.000  \n2          17.0        1.8     0.000000    7.0  0.01550    0.480  \n3          14.4        2.4     0.000000    9.6  0.00000    1.350  \n4          14.9        2.3     0.133333    9.1  0.00029    0.019  \n5           4.0        0.7     0.666667   20.0  0.42300  600.000  ",
      "text/html": "<div>\n<style scoped>\n    .dataframe tbody tr th:only-of-type {\n        vertical-align: middle;\n    }\n\n    .dataframe tbody tr th {\n        vertical-align: top;\n    }\n\n    .dataframe thead th {\n        text-align: right;\n    }\n</style>\n<table border=\"1\" class=\"dataframe\">\n  <thead>\n    <tr style=\"text-align: right;\">\n      <th></th>\n      <th>name</th>\n      <th>genus</th>\n      <th>vore</th>\n      <th>order</th>\n      <th>conservation</th>\n      <th>sleep_total</th>\n      <th>sleep_rem</th>\n      <th>sleep_cycle</th>\n      <th>awake</th>\n      <th>brainwt</th>\n      <th>bodywt</th>\n    </tr>\n    <tr>\n      <th>ID</th>\n      <th></th>\n      <th></th>\n      <th></th>\n      <th></th>\n      <th></th>\n      <th></th>\n      <th></th>\n      <th></th>\n      <th></th>\n      <th></th>\n      <th></th>\n    </tr>\n  </thead>\n  <tbody>\n    <tr>\n      <th>1</th>\n      <td>Cheetah</td>\n      <td>Acinonyx</td>\n      <td>carni</td>\n      <td>Carnivora</td>\n      <td>lc</td>\n      <td>12.1</td>\n      <td>0.0</td>\n      <td>0.000000</td>\n      <td>11.9</td>\n      <td>0.00000</td>\n      <td>50.000</td>\n    </tr>\n    <tr>\n      <th>2</th>\n      <td>Owl monkey</td>\n      <td>Aotus</td>\n      <td>omni</td>\n      <td>Primates</td>\n      <td>0</td>\n      <td>17.0</td>\n      <td>1.8</td>\n      <td>0.000000</td>\n      <td>7.0</td>\n      <td>0.01550</td>\n      <td>0.480</td>\n    </tr>\n    <tr>\n      <th>3</th>\n      <td>Mountain beaver</td>\n      <td>Aplodontia</td>\n      <td>herbi</td>\n      <td>Rodentia</td>\n      <td>nt</td>\n      <td>14.4</td>\n      <td>2.4</td>\n      <td>0.000000</td>\n      <td>9.6</td>\n      <td>0.00000</td>\n      <td>1.350</td>\n    </tr>\n    <tr>\n      <th>4</th>\n      <td>Greater short-tailed shrew</td>\n      <td>Blarina</td>\n      <td>omni</td>\n      <td>Soricomorpha</td>\n      <td>lc</td>\n      <td>14.9</td>\n      <td>2.3</td>\n      <td>0.133333</td>\n      <td>9.1</td>\n      <td>0.00029</td>\n      <td>0.019</td>\n    </tr>\n    <tr>\n      <th>5</th>\n      <td>Cow</td>\n      <td>Bos</td>\n      <td>herbi</td>\n      <td>Artiodactyla</td>\n      <td>domesticated</td>\n      <td>4.0</td>\n      <td>0.7</td>\n      <td>0.666667</td>\n      <td>20.0</td>\n      <td>0.42300</td>\n      <td>600.000</td>\n    </tr>\n  </tbody>\n</table>\n</div>"
     },
     "metadata": {},
     "execution_count": 5
    }
   ],
   "source": [
    "animals = pd.read_csv(\"dane/course-files/sleep_time.csv\", index_col='ID').fillna(0)\n",
    "animals.head()"
   ]
  },
  {
   "cell_type": "code",
   "execution_count": 6,
   "metadata": {},
   "outputs": [],
   "source": [
    "herbi = animals.where(animals.vore == 'herbi')"
   ]
  },
  {
   "cell_type": "code",
   "execution_count": 8,
   "metadata": {},
   "outputs": [
    {
     "output_type": "execute_result",
     "data": {
      "text/plain": "83"
     },
     "metadata": {},
     "execution_count": 8
    }
   ],
   "source": [
    "len(herbi)"
   ]
  },
  {
   "cell_type": "code",
   "execution_count": 9,
   "metadata": {},
   "outputs": [
    {
     "output_type": "execute_result",
     "data": {
      "text/plain": "32"
     },
     "metadata": {},
     "execution_count": 9
    }
   ],
   "source": [
    "len(herbi.dropna())"
   ]
  },
  {
   "cell_type": "code",
   "execution_count": 10,
   "metadata": {},
   "outputs": [
    {
     "output_type": "execute_result",
     "data": {
      "text/plain": "83"
     },
     "metadata": {},
     "execution_count": 10
    }
   ],
   "source": [
    "carni = animals.where(animals.vore == 'carni')\n",
    "len(carni)"
   ]
  },
  {
   "cell_type": "code",
   "execution_count": 11,
   "metadata": {},
   "outputs": [
    {
     "output_type": "execute_result",
     "data": {
      "text/plain": "19"
     },
     "metadata": {},
     "execution_count": 11
    }
   ],
   "source": [
    "len(carni.dropna())"
   ]
  },
  {
   "cell_type": "code",
   "execution_count": 12,
   "metadata": {},
   "outputs": [
    {
     "output_type": "execute_result",
     "data": {
      "text/plain": "83"
     },
     "metadata": {},
     "execution_count": 12
    }
   ],
   "source": [
    "omni = animals.where(animals.vore == 'omni')\n",
    "len(omni)"
   ]
  },
  {
   "cell_type": "code",
   "execution_count": 14,
   "metadata": {},
   "outputs": [
    {
     "output_type": "execute_result",
     "data": {
      "text/plain": "20"
     },
     "metadata": {},
     "execution_count": 14
    }
   ],
   "source": [
    "len(omni.dropna())"
   ]
  },
  {
   "cell_type": "code",
   "execution_count": 15,
   "metadata": {},
   "outputs": [
    {
     "output_type": "stream",
     "name": "stdout",
     "text": "carni mean sleep time: 10.378947368421052\nherbi mean sleep time: 9.509374999999999\nomni mean sleep time: 10.925\n"
    }
   ],
   "source": [
    "print('carni mean sleep time:', carni['sleep_total'].mean())\n",
    "print('herbi mean sleep time:', herbi['sleep_total'].mean())\n",
    "print('omni mean sleep time:', omni['sleep_total'].mean())"
   ]
  },
  {
   "cell_type": "code",
   "execution_count": 19,
   "metadata": {},
   "outputs": [
    {
     "output_type": "execute_result",
     "data": {
      "text/plain": "                              name         genus     vore            order  \\\nID                                                                           \n2                       Owl monkey         Aotus     omni         Primates   \n3                  Mountain beaver    Aplodontia    herbi         Rodentia   \n4       Greater short-tailed shrew       Blarina     omni     Soricomorpha   \n6                 Three-toed sloth      Bradypus    herbi           Pilosa   \n18            Long-nosed armadillo       Dasypus    carni        Cingulata   \n20          North American Opossum     Didelphis     omni  Didelphimorphia   \n22                   Big brown bat     Eptesicus  insecti       Chiroptera   \n27       Western american chipmunk      Eutamias    herbi         Rodentia   \n37            Thick-tailed opposum    Lutreolina    carni  Didelphimorphia   \n39                Mongolian gerbil      Meriones    herbi         Rodentia   \n40                  Golden hamster  Mesocricetus    herbi         Rodentia   \n43                Little brown bat        Myotis  insecti       Chiroptera   \n44            Round-tailed muskrat      Neofiber    herbi         Rodentia   \n47      Northern grasshopper mouse     Onychomys    carni         Rodentia   \n51                           Tiger      Panthera    carni        Carnivora   \n62                 Giant armadillo    Priodontes  insecti        Cingulata   \n70          Arctic ground squirrel  Spermophilus    herbi         Rodentia   \n72  Golden-mantled ground squirrel  Spermophilus    herbi         Rodentia   \n76       Eastern american chipmunk        Tamias    herbi         Rodentia   \n78                          Tenrec        Tenrec     omni     Afrosoricida   \n\n   conservation  sleep_total  sleep_rem  sleep_cycle  awake  brainwt   bodywt  \nID                                                                             \n2             0         17.0        1.8     0.000000    7.0  0.01550    0.480  \n3            nt         14.4        2.4     0.000000    9.6  0.00000    1.350  \n4            lc         14.9        2.3     0.133333    9.1  0.00029    0.019  \n6             0         14.4        2.2     0.766667    9.6  0.00000    3.850  \n18           lc         17.4        3.1     0.383333    6.6  0.01080    3.500  \n20           lc         18.0        4.9     0.333333    6.0  0.00630    1.700  \n22           lc         19.7        3.9     0.116667    4.3  0.00030    0.023  \n27            0         14.9        0.0     0.000000    9.1  0.00000    0.071  \n37           lc         19.4        6.6     0.000000    4.6  0.00000    0.370  \n39           lc         14.2        1.9     0.000000    9.8  0.00000    0.053  \n40           en         14.3        3.1     0.200000    9.7  0.00100    0.120  \n43            0         19.9        2.0     0.200000    4.1  0.00025    0.010  \n44           nt         14.6        0.0     0.000000    9.4  0.00000    0.266  \n47           lc         14.5        0.0     0.000000    9.5  0.00000    0.028  \n51           en         15.8        0.0     0.000000    8.2  0.00000  162.564  \n62           en         18.1        6.1     0.000000    5.9  0.08100   60.000  \n70           lc         16.6        0.0     0.000000    7.4  0.00570    0.920  \n72           lc         15.9        3.0     0.000000    8.1  0.00000    0.205  \n76            0         15.8        0.0     0.000000    8.2  0.00000    0.112  \n78            0         15.6        2.3     0.000000    8.4  0.00260    0.900  ",
      "text/html": "<div>\n<style scoped>\n    .dataframe tbody tr th:only-of-type {\n        vertical-align: middle;\n    }\n\n    .dataframe tbody tr th {\n        vertical-align: top;\n    }\n\n    .dataframe thead th {\n        text-align: right;\n    }\n</style>\n<table border=\"1\" class=\"dataframe\">\n  <thead>\n    <tr style=\"text-align: right;\">\n      <th></th>\n      <th>name</th>\n      <th>genus</th>\n      <th>vore</th>\n      <th>order</th>\n      <th>conservation</th>\n      <th>sleep_total</th>\n      <th>sleep_rem</th>\n      <th>sleep_cycle</th>\n      <th>awake</th>\n      <th>brainwt</th>\n      <th>bodywt</th>\n    </tr>\n    <tr>\n      <th>ID</th>\n      <th></th>\n      <th></th>\n      <th></th>\n      <th></th>\n      <th></th>\n      <th></th>\n      <th></th>\n      <th></th>\n      <th></th>\n      <th></th>\n      <th></th>\n    </tr>\n  </thead>\n  <tbody>\n    <tr>\n      <th>2</th>\n      <td>Owl monkey</td>\n      <td>Aotus</td>\n      <td>omni</td>\n      <td>Primates</td>\n      <td>0</td>\n      <td>17.0</td>\n      <td>1.8</td>\n      <td>0.000000</td>\n      <td>7.0</td>\n      <td>0.01550</td>\n      <td>0.480</td>\n    </tr>\n    <tr>\n      <th>3</th>\n      <td>Mountain beaver</td>\n      <td>Aplodontia</td>\n      <td>herbi</td>\n      <td>Rodentia</td>\n      <td>nt</td>\n      <td>14.4</td>\n      <td>2.4</td>\n      <td>0.000000</td>\n      <td>9.6</td>\n      <td>0.00000</td>\n      <td>1.350</td>\n    </tr>\n    <tr>\n      <th>4</th>\n      <td>Greater short-tailed shrew</td>\n      <td>Blarina</td>\n      <td>omni</td>\n      <td>Soricomorpha</td>\n      <td>lc</td>\n      <td>14.9</td>\n      <td>2.3</td>\n      <td>0.133333</td>\n      <td>9.1</td>\n      <td>0.00029</td>\n      <td>0.019</td>\n    </tr>\n    <tr>\n      <th>6</th>\n      <td>Three-toed sloth</td>\n      <td>Bradypus</td>\n      <td>herbi</td>\n      <td>Pilosa</td>\n      <td>0</td>\n      <td>14.4</td>\n      <td>2.2</td>\n      <td>0.766667</td>\n      <td>9.6</td>\n      <td>0.00000</td>\n      <td>3.850</td>\n    </tr>\n    <tr>\n      <th>18</th>\n      <td>Long-nosed armadillo</td>\n      <td>Dasypus</td>\n      <td>carni</td>\n      <td>Cingulata</td>\n      <td>lc</td>\n      <td>17.4</td>\n      <td>3.1</td>\n      <td>0.383333</td>\n      <td>6.6</td>\n      <td>0.01080</td>\n      <td>3.500</td>\n    </tr>\n    <tr>\n      <th>20</th>\n      <td>North American Opossum</td>\n      <td>Didelphis</td>\n      <td>omni</td>\n      <td>Didelphimorphia</td>\n      <td>lc</td>\n      <td>18.0</td>\n      <td>4.9</td>\n      <td>0.333333</td>\n      <td>6.0</td>\n      <td>0.00630</td>\n      <td>1.700</td>\n    </tr>\n    <tr>\n      <th>22</th>\n      <td>Big brown bat</td>\n      <td>Eptesicus</td>\n      <td>insecti</td>\n      <td>Chiroptera</td>\n      <td>lc</td>\n      <td>19.7</td>\n      <td>3.9</td>\n      <td>0.116667</td>\n      <td>4.3</td>\n      <td>0.00030</td>\n      <td>0.023</td>\n    </tr>\n    <tr>\n      <th>27</th>\n      <td>Western american chipmunk</td>\n      <td>Eutamias</td>\n      <td>herbi</td>\n      <td>Rodentia</td>\n      <td>0</td>\n      <td>14.9</td>\n      <td>0.0</td>\n      <td>0.000000</td>\n      <td>9.1</td>\n      <td>0.00000</td>\n      <td>0.071</td>\n    </tr>\n    <tr>\n      <th>37</th>\n      <td>Thick-tailed opposum</td>\n      <td>Lutreolina</td>\n      <td>carni</td>\n      <td>Didelphimorphia</td>\n      <td>lc</td>\n      <td>19.4</td>\n      <td>6.6</td>\n      <td>0.000000</td>\n      <td>4.6</td>\n      <td>0.00000</td>\n      <td>0.370</td>\n    </tr>\n    <tr>\n      <th>39</th>\n      <td>Mongolian gerbil</td>\n      <td>Meriones</td>\n      <td>herbi</td>\n      <td>Rodentia</td>\n      <td>lc</td>\n      <td>14.2</td>\n      <td>1.9</td>\n      <td>0.000000</td>\n      <td>9.8</td>\n      <td>0.00000</td>\n      <td>0.053</td>\n    </tr>\n    <tr>\n      <th>40</th>\n      <td>Golden hamster</td>\n      <td>Mesocricetus</td>\n      <td>herbi</td>\n      <td>Rodentia</td>\n      <td>en</td>\n      <td>14.3</td>\n      <td>3.1</td>\n      <td>0.200000</td>\n      <td>9.7</td>\n      <td>0.00100</td>\n      <td>0.120</td>\n    </tr>\n    <tr>\n      <th>43</th>\n      <td>Little brown bat</td>\n      <td>Myotis</td>\n      <td>insecti</td>\n      <td>Chiroptera</td>\n      <td>0</td>\n      <td>19.9</td>\n      <td>2.0</td>\n      <td>0.200000</td>\n      <td>4.1</td>\n      <td>0.00025</td>\n      <td>0.010</td>\n    </tr>\n    <tr>\n      <th>44</th>\n      <td>Round-tailed muskrat</td>\n      <td>Neofiber</td>\n      <td>herbi</td>\n      <td>Rodentia</td>\n      <td>nt</td>\n      <td>14.6</td>\n      <td>0.0</td>\n      <td>0.000000</td>\n      <td>9.4</td>\n      <td>0.00000</td>\n      <td>0.266</td>\n    </tr>\n    <tr>\n      <th>47</th>\n      <td>Northern grasshopper mouse</td>\n      <td>Onychomys</td>\n      <td>carni</td>\n      <td>Rodentia</td>\n      <td>lc</td>\n      <td>14.5</td>\n      <td>0.0</td>\n      <td>0.000000</td>\n      <td>9.5</td>\n      <td>0.00000</td>\n      <td>0.028</td>\n    </tr>\n    <tr>\n      <th>51</th>\n      <td>Tiger</td>\n      <td>Panthera</td>\n      <td>carni</td>\n      <td>Carnivora</td>\n      <td>en</td>\n      <td>15.8</td>\n      <td>0.0</td>\n      <td>0.000000</td>\n      <td>8.2</td>\n      <td>0.00000</td>\n      <td>162.564</td>\n    </tr>\n    <tr>\n      <th>62</th>\n      <td>Giant armadillo</td>\n      <td>Priodontes</td>\n      <td>insecti</td>\n      <td>Cingulata</td>\n      <td>en</td>\n      <td>18.1</td>\n      <td>6.1</td>\n      <td>0.000000</td>\n      <td>5.9</td>\n      <td>0.08100</td>\n      <td>60.000</td>\n    </tr>\n    <tr>\n      <th>70</th>\n      <td>Arctic ground squirrel</td>\n      <td>Spermophilus</td>\n      <td>herbi</td>\n      <td>Rodentia</td>\n      <td>lc</td>\n      <td>16.6</td>\n      <td>0.0</td>\n      <td>0.000000</td>\n      <td>7.4</td>\n      <td>0.00570</td>\n      <td>0.920</td>\n    </tr>\n    <tr>\n      <th>72</th>\n      <td>Golden-mantled ground squirrel</td>\n      <td>Spermophilus</td>\n      <td>herbi</td>\n      <td>Rodentia</td>\n      <td>lc</td>\n      <td>15.9</td>\n      <td>3.0</td>\n      <td>0.000000</td>\n      <td>8.1</td>\n      <td>0.00000</td>\n      <td>0.205</td>\n    </tr>\n    <tr>\n      <th>76</th>\n      <td>Eastern american chipmunk</td>\n      <td>Tamias</td>\n      <td>herbi</td>\n      <td>Rodentia</td>\n      <td>0</td>\n      <td>15.8</td>\n      <td>0.0</td>\n      <td>0.000000</td>\n      <td>8.2</td>\n      <td>0.00000</td>\n      <td>0.112</td>\n    </tr>\n    <tr>\n      <th>78</th>\n      <td>Tenrec</td>\n      <td>Tenrec</td>\n      <td>omni</td>\n      <td>Afrosoricida</td>\n      <td>0</td>\n      <td>15.6</td>\n      <td>2.3</td>\n      <td>0.000000</td>\n      <td>8.4</td>\n      <td>0.00260</td>\n      <td>0.900</td>\n    </tr>\n  </tbody>\n</table>\n</div>"
     },
     "metadata": {},
     "execution_count": 19
    }
   ],
   "source": [
    "animals.query(\"sleep_total > 14\")"
   ]
  },
  {
   "cell_type": "code",
   "execution_count": 21,
   "metadata": {},
   "outputs": [
    {
     "output_type": "execute_result",
     "data": {
      "text/plain": "                              name         genus   vore     order  \\\nID                                                                  \n3                  Mountain beaver    Aplodontia  herbi  Rodentia   \n6                 Three-toed sloth      Bradypus  herbi    Pilosa   \n27       Western american chipmunk      Eutamias  herbi  Rodentia   \n39                Mongolian gerbil      Meriones  herbi  Rodentia   \n40                  Golden hamster  Mesocricetus  herbi  Rodentia   \n44            Round-tailed muskrat      Neofiber  herbi  Rodentia   \n70          Arctic ground squirrel  Spermophilus  herbi  Rodentia   \n72  Golden-mantled ground squirrel  Spermophilus  herbi  Rodentia   \n76       Eastern american chipmunk        Tamias  herbi  Rodentia   \n\n   conservation  sleep_total  sleep_rem  sleep_cycle  awake  brainwt  bodywt  \nID                                                                            \n3            nt         14.4        2.4     0.000000    9.6   0.0000   1.350  \n6             0         14.4        2.2     0.766667    9.6   0.0000   3.850  \n27            0         14.9        0.0     0.000000    9.1   0.0000   0.071  \n39           lc         14.2        1.9     0.000000    9.8   0.0000   0.053  \n40           en         14.3        3.1     0.200000    9.7   0.0010   0.120  \n44           nt         14.6        0.0     0.000000    9.4   0.0000   0.266  \n70           lc         16.6        0.0     0.000000    7.4   0.0057   0.920  \n72           lc         15.9        3.0     0.000000    8.1   0.0000   0.205  \n76            0         15.8        0.0     0.000000    8.2   0.0000   0.112  ",
      "text/html": "<div>\n<style scoped>\n    .dataframe tbody tr th:only-of-type {\n        vertical-align: middle;\n    }\n\n    .dataframe tbody tr th {\n        vertical-align: top;\n    }\n\n    .dataframe thead th {\n        text-align: right;\n    }\n</style>\n<table border=\"1\" class=\"dataframe\">\n  <thead>\n    <tr style=\"text-align: right;\">\n      <th></th>\n      <th>name</th>\n      <th>genus</th>\n      <th>vore</th>\n      <th>order</th>\n      <th>conservation</th>\n      <th>sleep_total</th>\n      <th>sleep_rem</th>\n      <th>sleep_cycle</th>\n      <th>awake</th>\n      <th>brainwt</th>\n      <th>bodywt</th>\n    </tr>\n    <tr>\n      <th>ID</th>\n      <th></th>\n      <th></th>\n      <th></th>\n      <th></th>\n      <th></th>\n      <th></th>\n      <th></th>\n      <th></th>\n      <th></th>\n      <th></th>\n      <th></th>\n    </tr>\n  </thead>\n  <tbody>\n    <tr>\n      <th>3</th>\n      <td>Mountain beaver</td>\n      <td>Aplodontia</td>\n      <td>herbi</td>\n      <td>Rodentia</td>\n      <td>nt</td>\n      <td>14.4</td>\n      <td>2.4</td>\n      <td>0.000000</td>\n      <td>9.6</td>\n      <td>0.0000</td>\n      <td>1.350</td>\n    </tr>\n    <tr>\n      <th>6</th>\n      <td>Three-toed sloth</td>\n      <td>Bradypus</td>\n      <td>herbi</td>\n      <td>Pilosa</td>\n      <td>0</td>\n      <td>14.4</td>\n      <td>2.2</td>\n      <td>0.766667</td>\n      <td>9.6</td>\n      <td>0.0000</td>\n      <td>3.850</td>\n    </tr>\n    <tr>\n      <th>27</th>\n      <td>Western american chipmunk</td>\n      <td>Eutamias</td>\n      <td>herbi</td>\n      <td>Rodentia</td>\n      <td>0</td>\n      <td>14.9</td>\n      <td>0.0</td>\n      <td>0.000000</td>\n      <td>9.1</td>\n      <td>0.0000</td>\n      <td>0.071</td>\n    </tr>\n    <tr>\n      <th>39</th>\n      <td>Mongolian gerbil</td>\n      <td>Meriones</td>\n      <td>herbi</td>\n      <td>Rodentia</td>\n      <td>lc</td>\n      <td>14.2</td>\n      <td>1.9</td>\n      <td>0.000000</td>\n      <td>9.8</td>\n      <td>0.0000</td>\n      <td>0.053</td>\n    </tr>\n    <tr>\n      <th>40</th>\n      <td>Golden hamster</td>\n      <td>Mesocricetus</td>\n      <td>herbi</td>\n      <td>Rodentia</td>\n      <td>en</td>\n      <td>14.3</td>\n      <td>3.1</td>\n      <td>0.200000</td>\n      <td>9.7</td>\n      <td>0.0010</td>\n      <td>0.120</td>\n    </tr>\n    <tr>\n      <th>44</th>\n      <td>Round-tailed muskrat</td>\n      <td>Neofiber</td>\n      <td>herbi</td>\n      <td>Rodentia</td>\n      <td>nt</td>\n      <td>14.6</td>\n      <td>0.0</td>\n      <td>0.000000</td>\n      <td>9.4</td>\n      <td>0.0000</td>\n      <td>0.266</td>\n    </tr>\n    <tr>\n      <th>70</th>\n      <td>Arctic ground squirrel</td>\n      <td>Spermophilus</td>\n      <td>herbi</td>\n      <td>Rodentia</td>\n      <td>lc</td>\n      <td>16.6</td>\n      <td>0.0</td>\n      <td>0.000000</td>\n      <td>7.4</td>\n      <td>0.0057</td>\n      <td>0.920</td>\n    </tr>\n    <tr>\n      <th>72</th>\n      <td>Golden-mantled ground squirrel</td>\n      <td>Spermophilus</td>\n      <td>herbi</td>\n      <td>Rodentia</td>\n      <td>lc</td>\n      <td>15.9</td>\n      <td>3.0</td>\n      <td>0.000000</td>\n      <td>8.1</td>\n      <td>0.0000</td>\n      <td>0.205</td>\n    </tr>\n    <tr>\n      <th>76</th>\n      <td>Eastern american chipmunk</td>\n      <td>Tamias</td>\n      <td>herbi</td>\n      <td>Rodentia</td>\n      <td>0</td>\n      <td>15.8</td>\n      <td>0.0</td>\n      <td>0.000000</td>\n      <td>8.2</td>\n      <td>0.0000</td>\n      <td>0.112</td>\n    </tr>\n  </tbody>\n</table>\n</div>"
     },
     "metadata": {},
     "execution_count": 21
    }
   ],
   "source": [
    "animals.query(\"sleep_total > 14 and vore == 'herbi'\")"
   ]
  },
  {
   "cell_type": "code",
   "execution_count": 22,
   "metadata": {},
   "outputs": [
    {
     "output_type": "execute_result",
     "data": {
      "text/plain": "                name       genus   vore     order conservation  sleep_total  \\\nID                                                                            \n3    Mountain beaver  Aplodontia  herbi  Rodentia           nt         14.4   \n6   Three-toed sloth    Bradypus  herbi    Pilosa            0         14.4   \n\n    sleep_rem  sleep_cycle  awake  brainwt  bodywt  \nID                                                  \n3         2.4     0.000000    9.6      0.0    1.35  \n6         2.2     0.766667    9.6      0.0    3.85  ",
      "text/html": "<div>\n<style scoped>\n    .dataframe tbody tr th:only-of-type {\n        vertical-align: middle;\n    }\n\n    .dataframe tbody tr th {\n        vertical-align: top;\n    }\n\n    .dataframe thead th {\n        text-align: right;\n    }\n</style>\n<table border=\"1\" class=\"dataframe\">\n  <thead>\n    <tr style=\"text-align: right;\">\n      <th></th>\n      <th>name</th>\n      <th>genus</th>\n      <th>vore</th>\n      <th>order</th>\n      <th>conservation</th>\n      <th>sleep_total</th>\n      <th>sleep_rem</th>\n      <th>sleep_cycle</th>\n      <th>awake</th>\n      <th>brainwt</th>\n      <th>bodywt</th>\n    </tr>\n    <tr>\n      <th>ID</th>\n      <th></th>\n      <th></th>\n      <th></th>\n      <th></th>\n      <th></th>\n      <th></th>\n      <th></th>\n      <th></th>\n      <th></th>\n      <th></th>\n      <th></th>\n    </tr>\n  </thead>\n  <tbody>\n    <tr>\n      <th>3</th>\n      <td>Mountain beaver</td>\n      <td>Aplodontia</td>\n      <td>herbi</td>\n      <td>Rodentia</td>\n      <td>nt</td>\n      <td>14.4</td>\n      <td>2.4</td>\n      <td>0.000000</td>\n      <td>9.6</td>\n      <td>0.0</td>\n      <td>1.35</td>\n    </tr>\n    <tr>\n      <th>6</th>\n      <td>Three-toed sloth</td>\n      <td>Bradypus</td>\n      <td>herbi</td>\n      <td>Pilosa</td>\n      <td>0</td>\n      <td>14.4</td>\n      <td>2.2</td>\n      <td>0.766667</td>\n      <td>9.6</td>\n      <td>0.0</td>\n      <td>3.85</td>\n    </tr>\n  </tbody>\n</table>\n</div>"
     },
     "metadata": {},
     "execution_count": 22
    }
   ],
   "source": [
    "animals.query(\"sleep_total > 14 and vore == 'herbi' and bodywt > 1\")"
   ]
  },
  {
   "cell_type": "code",
   "execution_count": null,
   "metadata": {},
   "outputs": [],
   "source": []
  }
 ],
 "metadata": {
  "language_info": {
   "codemirror_mode": {
    "name": "ipython",
    "version": 3
   },
   "file_extension": ".py",
   "mimetype": "text/x-python",
   "name": "python",
   "nbconvert_exporter": "python",
   "pygments_lexer": "ipython3",
   "version": "3.8.2-final"
  },
  "orig_nbformat": 2,
  "kernelspec": {
   "name": "python38264bitdatasciencef2t2jzuxvenv755777717192484c92e98af808cd61d4",
   "display_name": "Python 3.8.2 64-bit ('Data_Science-f2T2jZux': venv)"
  }
 },
 "nbformat": 4,
 "nbformat_minor": 2
}