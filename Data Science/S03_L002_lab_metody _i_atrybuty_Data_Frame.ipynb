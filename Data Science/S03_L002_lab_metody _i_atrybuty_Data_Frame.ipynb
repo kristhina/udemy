{
 "cells": [
  {
   "cell_type": "code",
   "execution_count": 1,
   "metadata": {},
   "outputs": [],
   "source": [
    "import pandas as pd"
   ]
  },
  {
   "cell_type": "code",
   "execution_count": 4,
   "metadata": {},
   "outputs": [
    {
     "output_type": "execute_result",
     "data": {
      "text/plain": "   Vehicle ID  Year        Make               Model  \\\n0       26587  1984  Alfa Romeo           GT V6 2.5   \n1       27705  1984  Alfa Romeo           GT V6 2.5   \n2       26561  1984  Alfa Romeo  Spider Veloce 2000   \n3       27681  1984  Alfa Romeo  Spider Veloce 2000   \n4       27550  1984  AM General   DJ Po Vehicle 2WD   \n\n                         Class Fuel Type  Combined MPG (FT1)  \n0             Minicompact Cars   Regular                20.0  \n1             Minicompact Cars   Regular                20.0  \n2                  Two Seaters   Regular                21.0  \n3                  Two Seaters   Regular                21.0  \n4  Special Purpose Vehicle 2WD   Regular                17.0  ",
      "text/html": "<div>\n<style scoped>\n    .dataframe tbody tr th:only-of-type {\n        vertical-align: middle;\n    }\n\n    .dataframe tbody tr th {\n        vertical-align: top;\n    }\n\n    .dataframe thead th {\n        text-align: right;\n    }\n</style>\n<table border=\"1\" class=\"dataframe\">\n  <thead>\n    <tr style=\"text-align: right;\">\n      <th></th>\n      <th>Vehicle ID</th>\n      <th>Year</th>\n      <th>Make</th>\n      <th>Model</th>\n      <th>Class</th>\n      <th>Fuel Type</th>\n      <th>Combined MPG (FT1)</th>\n    </tr>\n  </thead>\n  <tbody>\n    <tr>\n      <th>0</th>\n      <td>26587</td>\n      <td>1984</td>\n      <td>Alfa Romeo</td>\n      <td>GT V6 2.5</td>\n      <td>Minicompact Cars</td>\n      <td>Regular</td>\n      <td>20.0</td>\n    </tr>\n    <tr>\n      <th>1</th>\n      <td>27705</td>\n      <td>1984</td>\n      <td>Alfa Romeo</td>\n      <td>GT V6 2.5</td>\n      <td>Minicompact Cars</td>\n      <td>Regular</td>\n      <td>20.0</td>\n    </tr>\n    <tr>\n      <th>2</th>\n      <td>26561</td>\n      <td>1984</td>\n      <td>Alfa Romeo</td>\n      <td>Spider Veloce 2000</td>\n      <td>Two Seaters</td>\n      <td>Regular</td>\n      <td>21.0</td>\n    </tr>\n    <tr>\n      <th>3</th>\n      <td>27681</td>\n      <td>1984</td>\n      <td>Alfa Romeo</td>\n      <td>Spider Veloce 2000</td>\n      <td>Two Seaters</td>\n      <td>Regular</td>\n      <td>21.0</td>\n    </tr>\n    <tr>\n      <th>4</th>\n      <td>27550</td>\n      <td>1984</td>\n      <td>AM General</td>\n      <td>DJ Po Vehicle 2WD</td>\n      <td>Special Purpose Vehicle 2WD</td>\n      <td>Regular</td>\n      <td>17.0</td>\n    </tr>\n  </tbody>\n</table>\n</div>"
     },
     "metadata": {},
     "execution_count": 4
    }
   ],
   "source": [
    "fuel = pd.read_csv(\"dane/course-files/fuel.csv\", low_memory=False, usecols=['Vehicle ID','Year','Make','Model','Class','Fuel Type','Combined MPG (FT1)'])\n",
    "fuel.head()"
   ]
  },
  {
   "cell_type": "code",
   "execution_count": 5,
   "metadata": {},
   "outputs": [
    {
     "output_type": "stream",
     "name": "stdout",
     "text": "<class 'pandas.core.frame.DataFrame'>\nRangeIndex: 31684 entries, 0 to 31683\nData columns (total 7 columns):\n #   Column              Non-Null Count  Dtype  \n---  ------              --------------  -----  \n 0   Vehicle ID          31684 non-null  int64  \n 1   Year                31684 non-null  int64  \n 2   Make                31684 non-null  object \n 3   Model               31683 non-null  object \n 4   Class               31683 non-null  object \n 5   Fuel Type           31683 non-null  object \n 6   Combined MPG (FT1)  31683 non-null  float64\ndtypes: float64(1), int64(2), object(4)\nmemory usage: 1.7+ MB\n"
    }
   ],
   "source": [
    "fuel.info()"
   ]
  },
  {
   "cell_type": "code",
   "execution_count": 7,
   "metadata": {},
   "outputs": [
    {
     "output_type": "execute_result",
     "data": {
      "text/plain": "Vehicle ID              int64\nYear                    int64\nMake                   object\nModel                  object\nClass                  object\nFuel Type              object\nCombined MPG (FT1)    float64\ndtype: object"
     },
     "metadata": {},
     "execution_count": 7
    }
   ],
   "source": [
    "fuel.dtypes"
   ]
  },
  {
   "cell_type": "code",
   "execution_count": 10,
   "metadata": {},
   "outputs": [
    {
     "output_type": "execute_result",
     "data": {
      "text/plain": "object     4\nint64      2\nfloat64    1\ndtype: int64"
     },
     "metadata": {},
     "execution_count": 10
    }
   ],
   "source": [
    "fuel.dtypes.value_counts()"
   ]
  },
  {
   "cell_type": "code",
   "execution_count": 11,
   "metadata": {},
   "outputs": [
    {
     "output_type": "execute_result",
     "data": {
      "text/plain": "Chevrolet        3389\nFord             2721\nDodge            2361\nGMC              2174\nToyota           1599\nBMW              1180\nNissan           1082\nMercedes-Benz     948\nMitsubishi        937\nPontiac           893\nName: Make, dtype: int64"
     },
     "metadata": {},
     "execution_count": 11
    }
   ],
   "source": [
    "fuel[\"Make\"].value_counts().head(10)"
   ]
  },
  {
   "cell_type": "code",
   "execution_count": 13,
   "metadata": {},
   "outputs": [
    {
     "output_type": "execute_result",
     "data": {
      "text/plain": "RangeIndex(start=0, stop=31684, step=1)"
     },
     "metadata": {},
     "execution_count": 13
    }
   ],
   "source": [
    "fuel.index"
   ]
  },
  {
   "cell_type": "code",
   "execution_count": 14,
   "metadata": {},
   "outputs": [
    {
     "output_type": "execute_result",
     "data": {
      "text/plain": "Index(['Vehicle ID', 'Year', 'Make', 'Model', 'Class', 'Fuel Type',\n       'Combined MPG (FT1)'],\n      dtype='object')"
     },
     "metadata": {},
     "execution_count": 14
    }
   ],
   "source": [
    "fuel.columns"
   ]
  },
  {
   "cell_type": "code",
   "execution_count": 15,
   "metadata": {},
   "outputs": [
    {
     "output_type": "execute_result",
     "data": {
      "text/plain": "array([[26587, 1984, 'Alfa Romeo', ..., 'Minicompact Cars', 'Regular',\n        20.0],\n       [27705, 1984, 'Alfa Romeo', ..., 'Minicompact Cars', 'Regular',\n        20.0],\n       [26561, 1984, 'Alfa Romeo', ..., 'Two Seaters', 'Regular', 21.0],\n       ...,\n       [32065, 2012, 'Mitsubishi', ..., 'Compact Cars', 'Premium', 19.0],\n       [32064, 2012, 'Mitsubishi', ..., 'Compact Cars', 'Premium', 19.0],\n       [32106, 2012, 'Mitsubish', ..., nan, nan, nan]], dtype=object)"
     },
     "metadata": {},
     "execution_count": 15
    }
   ],
   "source": [
    "fuel.values"
   ]
  },
  {
   "cell_type": "code",
   "execution_count": 16,
   "metadata": {},
   "outputs": [
    {
     "output_type": "execute_result",
     "data": {
      "text/plain": "[RangeIndex(start=0, stop=31684, step=1),\n Index(['Vehicle ID', 'Year', 'Make', 'Model', 'Class', 'Fuel Type',\n        'Combined MPG (FT1)'],\n       dtype='object')]"
     },
     "metadata": {},
     "execution_count": 16
    }
   ],
   "source": [
    "fuel.axes"
   ]
  },
  {
   "cell_type": "code",
   "execution_count": 17,
   "metadata": {},
   "outputs": [
    {
     "output_type": "execute_result",
     "data": {
      "text/plain": "(31684, 7)"
     },
     "metadata": {},
     "execution_count": 17
    }
   ],
   "source": [
    "fuel.shape"
   ]
  },
  {
   "cell_type": "code",
   "execution_count": 19,
   "metadata": {},
   "outputs": [
    {
     "output_type": "execute_result",
     "data": {
      "text/plain": "<bound method DataFrame.count of        Vehicle ID  Year        Make               Model  \\\n0           26587  1984  Alfa Romeo           GT V6 2.5   \n1           27705  1984  Alfa Romeo           GT V6 2.5   \n2           26561  1984  Alfa Romeo  Spider Veloce 2000   \n3           27681  1984  Alfa Romeo  Spider Veloce 2000   \n4           27550  1984  AM General   DJ Po Vehicle 2WD   \n...           ...   ...         ...                 ...   \n31679       32060  2012  Mitsubishi              Lancer   \n31680       32063  2012  Mitsubishi          Lancer AWD   \n31681       32065  2012  Mitsubishi    Lancer Evolution   \n31682       32064  2012  Mitsubishi    Lancer Evolution   \n31683       32106  2012   Mitsubish                 NaN   \n\n                             Class Fuel Type  Combined MPG (FT1)  \n0                 Minicompact Cars   Regular                20.0  \n1                 Minicompact Cars   Regular                20.0  \n2                      Two Seaters   Regular                21.0  \n3                      Two Seaters   Regular                21.0  \n4      Special Purpose Vehicle 2WD   Regular                17.0  \n...                            ...       ...                 ...  \n31679                 Compact Cars   Regular                25.0  \n31680                 Compact Cars   Regular                25.0  \n31681                 Compact Cars   Premium                19.0  \n31682                 Compact Cars   Premium                19.0  \n31683                          NaN       NaN                 NaN  \n\n[31684 rows x 7 columns]>"
     },
     "metadata": {},
     "execution_count": 19
    }
   ],
   "source": [
    "fuel.count"
   ]
  },
  {
   "cell_type": "code",
   "execution_count": 21,
   "metadata": {},
   "outputs": [
    {
     "output_type": "execute_result",
     "data": {
      "text/plain": "31684"
     },
     "metadata": {},
     "execution_count": 21
    }
   ],
   "source": [
    "len(fuel)"
   ]
  },
  {
   "cell_type": "code",
   "execution_count": 22,
   "metadata": {},
   "outputs": [
    {
     "output_type": "execute_result",
     "data": {
      "text/plain": "Vehicle ID            31684\nYear                  31684\nMake                  31684\nModel                 31683\nClass                 31683\nFuel Type             31683\nCombined MPG (FT1)    31683\ndtype: int64"
     },
     "metadata": {},
     "execution_count": 22
    }
   ],
   "source": [
    "fuel.count()"
   ]
  },
  {
   "cell_type": "code",
   "execution_count": null,
   "metadata": {},
   "outputs": [],
   "source": []
  }
 ],
 "metadata": {
  "language_info": {
   "codemirror_mode": {
    "name": "ipython",
    "version": 3
   },
   "file_extension": ".py",
   "mimetype": "text/x-python",
   "name": "python",
   "nbconvert_exporter": "python",
   "pygments_lexer": "ipython3",
   "version": "3.8.2-final"
  },
  "orig_nbformat": 2,
  "kernelspec": {
   "name": "python38264bitdatasciencef2t2jzuxvenv755777717192484c92e98af808cd61d4",
   "display_name": "Python 3.8.2 64-bit ('Data_Science-f2T2jZux': venv)"
  }
 },
 "nbformat": 4,
 "nbformat_minor": 2
}