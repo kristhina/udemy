{
 "cells": [
  {
   "cell_type": "code",
   "execution_count": 1,
   "metadata": {},
   "outputs": [],
   "source": [
    "import pandas as pd\n",
    "import numpy as np"
   ]
  },
  {
   "cell_type": "code",
   "execution_count": 2,
   "metadata": {},
   "outputs": [
    {
     "output_type": "execute_result",
     "data": {
      "text/plain": "   Year        Make               Model  Range (FT1)  City Range (FT1)\n0  1984  Alfa Romeo           GT V6 2.5          0.0               0.0\n1  1984  Alfa Romeo           GT V6 2.5          0.0               0.0\n2  1984  Alfa Romeo  Spider Veloce 2000          0.0               0.0\n3  1984  Alfa Romeo  Spider Veloce 2000          0.0               0.0\n4  1984  AM General   DJ Po Vehicle 2WD          0.0               0.0",
      "text/html": "<div>\n<style scoped>\n    .dataframe tbody tr th:only-of-type {\n        vertical-align: middle;\n    }\n\n    .dataframe tbody tr th {\n        vertical-align: top;\n    }\n\n    .dataframe thead th {\n        text-align: right;\n    }\n</style>\n<table border=\"1\" class=\"dataframe\">\n  <thead>\n    <tr style=\"text-align: right;\">\n      <th></th>\n      <th>Year</th>\n      <th>Make</th>\n      <th>Model</th>\n      <th>Range (FT1)</th>\n      <th>City Range (FT1)</th>\n    </tr>\n  </thead>\n  <tbody>\n    <tr>\n      <th>0</th>\n      <td>1984</td>\n      <td>Alfa Romeo</td>\n      <td>GT V6 2.5</td>\n      <td>0.0</td>\n      <td>0.0</td>\n    </tr>\n    <tr>\n      <th>1</th>\n      <td>1984</td>\n      <td>Alfa Romeo</td>\n      <td>GT V6 2.5</td>\n      <td>0.0</td>\n      <td>0.0</td>\n    </tr>\n    <tr>\n      <th>2</th>\n      <td>1984</td>\n      <td>Alfa Romeo</td>\n      <td>Spider Veloce 2000</td>\n      <td>0.0</td>\n      <td>0.0</td>\n    </tr>\n    <tr>\n      <th>3</th>\n      <td>1984</td>\n      <td>Alfa Romeo</td>\n      <td>Spider Veloce 2000</td>\n      <td>0.0</td>\n      <td>0.0</td>\n    </tr>\n    <tr>\n      <th>4</th>\n      <td>1984</td>\n      <td>AM General</td>\n      <td>DJ Po Vehicle 2WD</td>\n      <td>0.0</td>\n      <td>0.0</td>\n    </tr>\n  </tbody>\n</table>\n</div>"
     },
     "metadata": {},
     "execution_count": 2
    }
   ],
   "source": [
    "fuel = pd.read_csv(\"dane/course-files/fuel.csv\", usecols=['Year','Make','Model','Range (FT1)','City Range (FT1)'])\n",
    "fuel.head()"
   ]
  },
  {
   "cell_type": "code",
   "execution_count": 3,
   "metadata": {},
   "outputs": [],
   "source": [
    "fuel.set_index(['Year','Make','Model'], inplace=True)"
   ]
  },
  {
   "cell_type": "code",
   "execution_count": 4,
   "metadata": {},
   "outputs": [
    {
     "output_type": "execute_result",
     "data": {
      "text/plain": "                                    Range (FT1)  City Range (FT1)\nYear Make       Model                                            \n1984 Alfa Romeo GT V6 2.5                   0.0               0.0\n                GT V6 2.5                   0.0               0.0\n                Spider Veloce 2000          0.0               0.0\n                Spider Veloce 2000          0.0               0.0\n     AM General DJ Po Vehicle 2WD           0.0               0.0",
      "text/html": "<div>\n<style scoped>\n    .dataframe tbody tr th:only-of-type {\n        vertical-align: middle;\n    }\n\n    .dataframe tbody tr th {\n        vertical-align: top;\n    }\n\n    .dataframe thead th {\n        text-align: right;\n    }\n</style>\n<table border=\"1\" class=\"dataframe\">\n  <thead>\n    <tr style=\"text-align: right;\">\n      <th></th>\n      <th></th>\n      <th></th>\n      <th>Range (FT1)</th>\n      <th>City Range (FT1)</th>\n    </tr>\n    <tr>\n      <th>Year</th>\n      <th>Make</th>\n      <th>Model</th>\n      <th></th>\n      <th></th>\n    </tr>\n  </thead>\n  <tbody>\n    <tr>\n      <th rowspan=\"5\" valign=\"top\">1984</th>\n      <th rowspan=\"4\" valign=\"top\">Alfa Romeo</th>\n      <th>GT V6 2.5</th>\n      <td>0.0</td>\n      <td>0.0</td>\n    </tr>\n    <tr>\n      <th>GT V6 2.5</th>\n      <td>0.0</td>\n      <td>0.0</td>\n    </tr>\n    <tr>\n      <th>Spider Veloce 2000</th>\n      <td>0.0</td>\n      <td>0.0</td>\n    </tr>\n    <tr>\n      <th>Spider Veloce 2000</th>\n      <td>0.0</td>\n      <td>0.0</td>\n    </tr>\n    <tr>\n      <th>AM General</th>\n      <th>DJ Po Vehicle 2WD</th>\n      <td>0.0</td>\n      <td>0.0</td>\n    </tr>\n  </tbody>\n</table>\n</div>"
     },
     "metadata": {},
     "execution_count": 4
    }
   ],
   "source": [
    "fuel.head()"
   ]
  },
  {
   "cell_type": "code",
   "execution_count": 5,
   "metadata": {},
   "outputs": [],
   "source": [
    "fuel.sort_index(inplace=True)"
   ]
  },
  {
   "cell_type": "code",
   "execution_count": 6,
   "metadata": {},
   "outputs": [
    {
     "output_type": "execute_result",
     "data": {
      "text/plain": "                                   Range (FT1)  City Range (FT1)\nYear Make       Model                                           \n1984 AM General DJ Po Vehicle 2WD          0.0               0.0\n                DJ Po Vehicle 2WD          0.0               0.0\n                FJ8c Post Office           0.0               0.0\n                FJ8c Post Office           0.0               0.0\n     Alfa Romeo GT V6 2.5                  0.0               0.0",
      "text/html": "<div>\n<style scoped>\n    .dataframe tbody tr th:only-of-type {\n        vertical-align: middle;\n    }\n\n    .dataframe tbody tr th {\n        vertical-align: top;\n    }\n\n    .dataframe thead th {\n        text-align: right;\n    }\n</style>\n<table border=\"1\" class=\"dataframe\">\n  <thead>\n    <tr style=\"text-align: right;\">\n      <th></th>\n      <th></th>\n      <th></th>\n      <th>Range (FT1)</th>\n      <th>City Range (FT1)</th>\n    </tr>\n    <tr>\n      <th>Year</th>\n      <th>Make</th>\n      <th>Model</th>\n      <th></th>\n      <th></th>\n    </tr>\n  </thead>\n  <tbody>\n    <tr>\n      <th rowspan=\"5\" valign=\"top\">1984</th>\n      <th rowspan=\"4\" valign=\"top\">AM General</th>\n      <th>DJ Po Vehicle 2WD</th>\n      <td>0.0</td>\n      <td>0.0</td>\n    </tr>\n    <tr>\n      <th>DJ Po Vehicle 2WD</th>\n      <td>0.0</td>\n      <td>0.0</td>\n    </tr>\n    <tr>\n      <th>FJ8c Post Office</th>\n      <td>0.0</td>\n      <td>0.0</td>\n    </tr>\n    <tr>\n      <th>FJ8c Post Office</th>\n      <td>0.0</td>\n      <td>0.0</td>\n    </tr>\n    <tr>\n      <th>Alfa Romeo</th>\n      <th>GT V6 2.5</th>\n      <td>0.0</td>\n      <td>0.0</td>\n    </tr>\n  </tbody>\n</table>\n</div>"
     },
     "metadata": {},
     "execution_count": 6
    }
   ],
   "source": [
    "fuel.head()"
   ]
  },
  {
   "cell_type": "code",
   "execution_count": 11,
   "metadata": {},
   "outputs": [
    {
     "output_type": "execute_result",
     "data": {
      "text/plain": "                              Range (FT1)  City Range (FT1)\nMake       Model                                           \nAM General DJ Po Vehicle 2WD          0.0               0.0\n           DJ Po Vehicle 2WD          0.0               0.0\n           FJ8c Post Office           0.0               0.0\n           FJ8c Post Office           0.0               0.0\nAlfa Romeo GT V6 2.5                  0.0               0.0\n...                                   ...               ...\nVolvo      760 GLE                    0.0               0.0\n           760 GLE                    0.0               0.0\n           760 GLE                    0.0               0.0\n           760 GLE                    0.0               0.0\n           760 GLE                    0.0               0.0\n\n[1964 rows x 2 columns]",
      "text/html": "<div>\n<style scoped>\n    .dataframe tbody tr th:only-of-type {\n        vertical-align: middle;\n    }\n\n    .dataframe tbody tr th {\n        vertical-align: top;\n    }\n\n    .dataframe thead th {\n        text-align: right;\n    }\n</style>\n<table border=\"1\" class=\"dataframe\">\n  <thead>\n    <tr style=\"text-align: right;\">\n      <th></th>\n      <th></th>\n      <th>Range (FT1)</th>\n      <th>City Range (FT1)</th>\n    </tr>\n    <tr>\n      <th>Make</th>\n      <th>Model</th>\n      <th></th>\n      <th></th>\n    </tr>\n  </thead>\n  <tbody>\n    <tr>\n      <th rowspan=\"4\" valign=\"top\">AM General</th>\n      <th>DJ Po Vehicle 2WD</th>\n      <td>0.0</td>\n      <td>0.0</td>\n    </tr>\n    <tr>\n      <th>DJ Po Vehicle 2WD</th>\n      <td>0.0</td>\n      <td>0.0</td>\n    </tr>\n    <tr>\n      <th>FJ8c Post Office</th>\n      <td>0.0</td>\n      <td>0.0</td>\n    </tr>\n    <tr>\n      <th>FJ8c Post Office</th>\n      <td>0.0</td>\n      <td>0.0</td>\n    </tr>\n    <tr>\n      <th>Alfa Romeo</th>\n      <th>GT V6 2.5</th>\n      <td>0.0</td>\n      <td>0.0</td>\n    </tr>\n    <tr>\n      <th>...</th>\n      <th>...</th>\n      <td>...</td>\n      <td>...</td>\n    </tr>\n    <tr>\n      <th rowspan=\"5\" valign=\"top\">Volvo</th>\n      <th>760 GLE</th>\n      <td>0.0</td>\n      <td>0.0</td>\n    </tr>\n    <tr>\n      <th>760 GLE</th>\n      <td>0.0</td>\n      <td>0.0</td>\n    </tr>\n    <tr>\n      <th>760 GLE</th>\n      <td>0.0</td>\n      <td>0.0</td>\n    </tr>\n    <tr>\n      <th>760 GLE</th>\n      <td>0.0</td>\n      <td>0.0</td>\n    </tr>\n    <tr>\n      <th>760 GLE</th>\n      <td>0.0</td>\n      <td>0.0</td>\n    </tr>\n  </tbody>\n</table>\n<p>1964 rows × 2 columns</p>\n</div>"
     },
     "metadata": {},
     "execution_count": 11
    }
   ],
   "source": [
    "fuel.loc[1984]"
   ]
  },
  {
   "cell_type": "code",
   "execution_count": 12,
   "metadata": {},
   "outputs": [
    {
     "output_type": "execute_result",
     "data": {
      "text/plain": "                    Range (FT1)  City Range (FT1)\nModel                                            \nGT V6 2.5                   0.0               0.0\nGT V6 2.5                   0.0               0.0\nSpider Veloce 2000          0.0               0.0\nSpider Veloce 2000          0.0               0.0",
      "text/html": "<div>\n<style scoped>\n    .dataframe tbody tr th:only-of-type {\n        vertical-align: middle;\n    }\n\n    .dataframe tbody tr th {\n        vertical-align: top;\n    }\n\n    .dataframe thead th {\n        text-align: right;\n    }\n</style>\n<table border=\"1\" class=\"dataframe\">\n  <thead>\n    <tr style=\"text-align: right;\">\n      <th></th>\n      <th>Range (FT1)</th>\n      <th>City Range (FT1)</th>\n    </tr>\n    <tr>\n      <th>Model</th>\n      <th></th>\n      <th></th>\n    </tr>\n  </thead>\n  <tbody>\n    <tr>\n      <th>GT V6 2.5</th>\n      <td>0.0</td>\n      <td>0.0</td>\n    </tr>\n    <tr>\n      <th>GT V6 2.5</th>\n      <td>0.0</td>\n      <td>0.0</td>\n    </tr>\n    <tr>\n      <th>Spider Veloce 2000</th>\n      <td>0.0</td>\n      <td>0.0</td>\n    </tr>\n    <tr>\n      <th>Spider Veloce 2000</th>\n      <td>0.0</td>\n      <td>0.0</td>\n    </tr>\n  </tbody>\n</table>\n</div>"
     },
     "metadata": {},
     "execution_count": 12
    }
   ],
   "source": [
    "fuel.loc[(1984, 'Alfa Romeo')]"
   ]
  },
  {
   "cell_type": "code",
   "execution_count": 13,
   "metadata": {},
   "outputs": [
    {
     "output_type": "execute_result",
     "data": {
      "text/plain": "                                    Range (FT1)  City Range (FT1)\nYear Make       Model                                            \n1984 Alfa Romeo Spider Veloce 2000          0.0               0.0\n                Spider Veloce 2000          0.0               0.0",
      "text/html": "<div>\n<style scoped>\n    .dataframe tbody tr th:only-of-type {\n        vertical-align: middle;\n    }\n\n    .dataframe tbody tr th {\n        vertical-align: top;\n    }\n\n    .dataframe thead th {\n        text-align: right;\n    }\n</style>\n<table border=\"1\" class=\"dataframe\">\n  <thead>\n    <tr style=\"text-align: right;\">\n      <th></th>\n      <th></th>\n      <th></th>\n      <th>Range (FT1)</th>\n      <th>City Range (FT1)</th>\n    </tr>\n    <tr>\n      <th>Year</th>\n      <th>Make</th>\n      <th>Model</th>\n      <th></th>\n      <th></th>\n    </tr>\n  </thead>\n  <tbody>\n    <tr>\n      <th rowspan=\"2\" valign=\"top\">1984</th>\n      <th rowspan=\"2\" valign=\"top\">Alfa Romeo</th>\n      <th>Spider Veloce 2000</th>\n      <td>0.0</td>\n      <td>0.0</td>\n    </tr>\n    <tr>\n      <th>Spider Veloce 2000</th>\n      <td>0.0</td>\n      <td>0.0</td>\n    </tr>\n  </tbody>\n</table>\n</div>"
     },
     "metadata": {},
     "execution_count": 13
    }
   ],
   "source": [
    "fuel.loc[(1984,'Alfa Romeo','Spider Veloce 2000')]"
   ]
  },
  {
   "cell_type": "code",
   "execution_count": 14,
   "metadata": {},
   "outputs": [
    {
     "output_type": "execute_result",
     "data": {
      "text/plain": "Year  Make        Model             \n1984  Alfa Romeo  Spider Veloce 2000    0.0\n                  Spider Veloce 2000    0.0\nName: Range (FT1), dtype: float64"
     },
     "metadata": {},
     "execution_count": 14
    }
   ],
   "source": [
    "fuel.loc[(1984,'Alfa Romeo','Spider Veloce 2000'), 'Range (FT1)']"
   ]
  },
  {
   "cell_type": "code",
   "execution_count": 15,
   "metadata": {},
   "outputs": [],
   "source": [
    "fuel = fuel.transpose()"
   ]
  },
  {
   "cell_type": "code",
   "execution_count": 16,
   "metadata": {},
   "outputs": [
    {
     "output_type": "execute_result",
     "data": {
      "text/plain": "Year                          1984                                     \\\nMake                    AM General                                      \nModel            DJ Po Vehicle 2WD DJ Po Vehicle 2WD FJ8c Post Office   \nRange (FT1)                    0.0               0.0              0.0   \nCity Range (FT1)               0.0               0.0              0.0   \n\nYear                                                                       \\\nMake                              Alfa Romeo                                \nModel            FJ8c Post Office  GT V6 2.5 GT V6 2.5 Spider Veloce 2000   \nRange (FT1)                   0.0        0.0       0.0                0.0   \nCity Range (FT1)              0.0        0.0       0.0                0.0   \n\nYear                                                                       \\\nMake                                American Motors Corporation             \nModel            Spider Veloce 2000                   Eagle 4WD Eagle 4WD   \nRange (FT1)                     0.0                         0.0       0.0   \nCity Range (FT1)                0.0                         0.0       0.0   \n\nYear              ...       2012                                     \\\nMake              ... Mitsubishi                                      \nModel             ...     Galant Lancer Lancer Lancer Lancer Lancer   \nRange (FT1)       ...        0.0    0.0    0.0    0.0    0.0    0.0   \nCity Range (FT1)  ...        0.0    0.0    0.0    0.0    0.0    0.0   \n\nYear                                                                    \nMake                                                                    \nModel            Lancer AWD Lancer Evolution Lancer Evolution   i-MiEV  \nRange (FT1)             0.0              0.0              0.0  62.0000  \nCity Range (FT1)        0.0              0.0              0.0  68.5545  \n\n[2 rows x 31684 columns]",
      "text/html": "<div>\n<style scoped>\n    .dataframe tbody tr th:only-of-type {\n        vertical-align: middle;\n    }\n\n    .dataframe tbody tr th {\n        vertical-align: top;\n    }\n\n    .dataframe thead tr th {\n        text-align: left;\n    }\n</style>\n<table border=\"1\" class=\"dataframe\">\n  <thead>\n    <tr>\n      <th>Year</th>\n      <th colspan=\"10\" halign=\"left\">1984</th>\n      <th>...</th>\n      <th colspan=\"10\" halign=\"left\">2012</th>\n    </tr>\n    <tr>\n      <th>Make</th>\n      <th colspan=\"4\" halign=\"left\">AM General</th>\n      <th colspan=\"4\" halign=\"left\">Alfa Romeo</th>\n      <th colspan=\"2\" halign=\"left\">American Motors Corporation</th>\n      <th>...</th>\n      <th colspan=\"10\" halign=\"left\">Mitsubishi</th>\n    </tr>\n    <tr>\n      <th>Model</th>\n      <th>DJ Po Vehicle 2WD</th>\n      <th>DJ Po Vehicle 2WD</th>\n      <th>FJ8c Post Office</th>\n      <th>FJ8c Post Office</th>\n      <th>GT V6 2.5</th>\n      <th>GT V6 2.5</th>\n      <th>Spider Veloce 2000</th>\n      <th>Spider Veloce 2000</th>\n      <th>Eagle 4WD</th>\n      <th>Eagle 4WD</th>\n      <th>...</th>\n      <th>Galant</th>\n      <th>Lancer</th>\n      <th>Lancer</th>\n      <th>Lancer</th>\n      <th>Lancer</th>\n      <th>Lancer</th>\n      <th>Lancer AWD</th>\n      <th>Lancer Evolution</th>\n      <th>Lancer Evolution</th>\n      <th>i-MiEV</th>\n    </tr>\n  </thead>\n  <tbody>\n    <tr>\n      <th>Range (FT1)</th>\n      <td>0.0</td>\n      <td>0.0</td>\n      <td>0.0</td>\n      <td>0.0</td>\n      <td>0.0</td>\n      <td>0.0</td>\n      <td>0.0</td>\n      <td>0.0</td>\n      <td>0.0</td>\n      <td>0.0</td>\n      <td>...</td>\n      <td>0.0</td>\n      <td>0.0</td>\n      <td>0.0</td>\n      <td>0.0</td>\n      <td>0.0</td>\n      <td>0.0</td>\n      <td>0.0</td>\n      <td>0.0</td>\n      <td>0.0</td>\n      <td>62.0000</td>\n    </tr>\n    <tr>\n      <th>City Range (FT1)</th>\n      <td>0.0</td>\n      <td>0.0</td>\n      <td>0.0</td>\n      <td>0.0</td>\n      <td>0.0</td>\n      <td>0.0</td>\n      <td>0.0</td>\n      <td>0.0</td>\n      <td>0.0</td>\n      <td>0.0</td>\n      <td>...</td>\n      <td>0.0</td>\n      <td>0.0</td>\n      <td>0.0</td>\n      <td>0.0</td>\n      <td>0.0</td>\n      <td>0.0</td>\n      <td>0.0</td>\n      <td>0.0</td>\n      <td>0.0</td>\n      <td>68.5545</td>\n    </tr>\n  </tbody>\n</table>\n<p>2 rows × 31684 columns</p>\n</div>"
     },
     "metadata": {},
     "execution_count": 16
    }
   ],
   "source": [
    "fuel.head()"
   ]
  },
  {
   "cell_type": "code",
   "execution_count": 17,
   "metadata": {},
   "outputs": [
    {
     "output_type": "execute_result",
     "data": {
      "text/plain": "Year  Make        Model            \n1984  AM General  DJ Po Vehicle 2WD     0.0\n                  DJ Po Vehicle 2WD     0.0\n                  FJ8c Post Office      0.0\n                  FJ8c Post Office      0.0\n      Alfa Romeo  GT V6 2.5             0.0\n                                       ... \n2012  Mitsubishi  Lancer                0.0\n                  Lancer AWD            0.0\n                  Lancer Evolution      0.0\n                  Lancer Evolution      0.0\n                  i-MiEV               62.0\nName: Range (FT1), Length: 31684, dtype: float64"
     },
     "metadata": {},
     "execution_count": 17
    }
   ],
   "source": [
    "fuel.loc['Range (FT1)']"
   ]
  },
  {
   "cell_type": "code",
   "execution_count": 18,
   "metadata": {},
   "outputs": [
    {
     "output_type": "execute_result",
     "data": {
      "text/plain": "Make        Model            \nAM General  DJ Po Vehicle 2WD    0.0\n            DJ Po Vehicle 2WD    0.0\n            FJ8c Post Office     0.0\n            FJ8c Post Office     0.0\nAlfa Romeo  GT V6 2.5            0.0\n                                ... \nVolvo       760 GLE              0.0\n            760 GLE              0.0\n            760 GLE              0.0\n            760 GLE              0.0\n            760 GLE              0.0\nName: Range (FT1), Length: 1964, dtype: float64"
     },
     "metadata": {},
     "execution_count": 18
    }
   ],
   "source": [
    "fuel.loc['Range (FT1)', 1984]"
   ]
  },
  {
   "cell_type": "code",
   "execution_count": 19,
   "metadata": {},
   "outputs": [
    {
     "output_type": "execute_result",
     "data": {
      "text/plain": "Model\nGT V6 2.5             0.0\nGT V6 2.5             0.0\nSpider Veloce 2000    0.0\nSpider Veloce 2000    0.0\nName: Range (FT1), dtype: float64"
     },
     "metadata": {},
     "execution_count": 19
    }
   ],
   "source": [
    "fuel.loc['Range (FT1)', (1984, \"Alfa Romeo\")]"
   ]
  },
  {
   "cell_type": "code",
   "execution_count": 20,
   "metadata": {},
   "outputs": [
    {
     "output_type": "execute_result",
     "data": {
      "text/plain": "Year  Make        Model             \n1984  Alfa Romeo  Spider Veloce 2000    0.0\n                  Spider Veloce 2000    0.0\nName: Range (FT1), dtype: float64"
     },
     "metadata": {},
     "execution_count": 20
    }
   ],
   "source": [
    "fuel.loc['Range (FT1)', (1984, \"Alfa Romeo\", \"Spider Veloce 2000\")]"
   ]
  },
  {
   "cell_type": "code",
   "execution_count": null,
   "metadata": {},
   "outputs": [],
   "source": []
  }
 ],
 "metadata": {
  "language_info": {
   "codemirror_mode": {
    "name": "ipython",
    "version": 3
   },
   "file_extension": ".py",
   "mimetype": "text/x-python",
   "name": "python",
   "nbconvert_exporter": "python",
   "pygments_lexer": "ipython3",
   "version": "3.8.2-final"
  },
  "orig_nbformat": 2,
  "kernelspec": {
   "name": "python38264bitdatasciencef2t2jzuxvenv755777717192484c92e98af808cd61d4",
   "display_name": "Python 3.8.2 64-bit ('Data_Science-f2T2jZux': venv)"
  }
 },
 "nbformat": 4,
 "nbformat_minor": 2
}