{
 "cells": [
  {
   "cell_type": "code",
   "execution_count": 4,
   "metadata": {},
   "outputs": [],
   "source": [
    "import pandas as pd\n",
    "import numpy as np\n",
    "from datetime import datetime\n",
    "from datetime import timedelta\n",
    "import time"
   ]
  },
  {
   "cell_type": "code",
   "execution_count": 6,
   "metadata": {},
   "outputs": [],
   "source": [
    "df = pd.read_csv('dane/course-files/marathon_results_2016.csv', index_col='Bib', usecols=['Bib','40K','Half','Pace','Age','M/F','Country','State','City'])"
   ]
  },
  {
   "cell_type": "code",
   "execution_count": 7,
   "metadata": {},
   "outputs": [
    {
     "output_type": "execute_result",
     "data": {
      "text/plain": "     Age M/F         City State Country     Half      40K     Pace  \\\nBib                                                                  \n5     21   M  Addis Ababa   NaN     ETH 01:06:45 02:05:59  0:05:04   \n1     26   M         Ambo   NaN     ETH 01:06:46 02:05:59  0:05:06   \n6     31   M  Addis Ababa   NaN     ETH 01:06:44 02:06:47  0:05:07   \n11    33   M       Kitale   NaN     KEN 01:06:46 02:06:47  0:05:07   \n14    23   M      Eldoret   NaN     KEN 01:06:46 02:08:11  0:05:11   \n\n     TotalSeconds  HalfSeconds  \nBib                             \n5          7559.0       4005.0  \n1          7559.0       4006.0  \n6          7607.0       4004.0  \n11         7607.0       4006.0  \n14         7691.0       4006.0  ",
      "text/html": "<div>\n<style scoped>\n    .dataframe tbody tr th:only-of-type {\n        vertical-align: middle;\n    }\n\n    .dataframe tbody tr th {\n        vertical-align: top;\n    }\n\n    .dataframe thead th {\n        text-align: right;\n    }\n</style>\n<table border=\"1\" class=\"dataframe\">\n  <thead>\n    <tr style=\"text-align: right;\">\n      <th></th>\n      <th>Age</th>\n      <th>M/F</th>\n      <th>City</th>\n      <th>State</th>\n      <th>Country</th>\n      <th>Half</th>\n      <th>40K</th>\n      <th>Pace</th>\n      <th>TotalSeconds</th>\n      <th>HalfSeconds</th>\n    </tr>\n    <tr>\n      <th>Bib</th>\n      <th></th>\n      <th></th>\n      <th></th>\n      <th></th>\n      <th></th>\n      <th></th>\n      <th></th>\n      <th></th>\n      <th></th>\n      <th></th>\n    </tr>\n  </thead>\n  <tbody>\n    <tr>\n      <th>5</th>\n      <td>21</td>\n      <td>M</td>\n      <td>Addis Ababa</td>\n      <td>NaN</td>\n      <td>ETH</td>\n      <td>01:06:45</td>\n      <td>02:05:59</td>\n      <td>0:05:04</td>\n      <td>7559.0</td>\n      <td>4005.0</td>\n    </tr>\n    <tr>\n      <th>1</th>\n      <td>26</td>\n      <td>M</td>\n      <td>Ambo</td>\n      <td>NaN</td>\n      <td>ETH</td>\n      <td>01:06:46</td>\n      <td>02:05:59</td>\n      <td>0:05:06</td>\n      <td>7559.0</td>\n      <td>4006.0</td>\n    </tr>\n    <tr>\n      <th>6</th>\n      <td>31</td>\n      <td>M</td>\n      <td>Addis Ababa</td>\n      <td>NaN</td>\n      <td>ETH</td>\n      <td>01:06:44</td>\n      <td>02:06:47</td>\n      <td>0:05:07</td>\n      <td>7607.0</td>\n      <td>4004.0</td>\n    </tr>\n    <tr>\n      <th>11</th>\n      <td>33</td>\n      <td>M</td>\n      <td>Kitale</td>\n      <td>NaN</td>\n      <td>KEN</td>\n      <td>01:06:46</td>\n      <td>02:06:47</td>\n      <td>0:05:07</td>\n      <td>7607.0</td>\n      <td>4006.0</td>\n    </tr>\n    <tr>\n      <th>14</th>\n      <td>23</td>\n      <td>M</td>\n      <td>Eldoret</td>\n      <td>NaN</td>\n      <td>KEN</td>\n      <td>01:06:46</td>\n      <td>02:08:11</td>\n      <td>0:05:11</td>\n      <td>7691.0</td>\n      <td>4006.0</td>\n    </tr>\n  </tbody>\n</table>\n</div>"
     },
     "metadata": {},
     "execution_count": 7
    }
   ],
   "source": [
    "df['40K'] = df['40K'].apply(pd.to_timedelta)\n",
    "df['Half'] = df['Half'].apply(pd.to_timedelta)\n",
    "df['TotalSeconds'] = df['40K'].apply(lambda x: timedelta.total_seconds(x))\n",
    "df['HalfSeconds'] = df['Half'].apply(lambda x: timedelta.total_seconds(x))\n",
    "df.head()"
   ]
  },
  {
   "cell_type": "code",
   "execution_count": 8,
   "metadata": {},
   "outputs": [],
   "source": [
    "group_city = df.groupby(by='City')"
   ]
  },
  {
   "cell_type": "code",
   "execution_count": 9,
   "metadata": {},
   "outputs": [
    {
     "output_type": "execute_result",
     "data": {
      "text/plain": "City\n0851 Oslo           1\n20832               1\n34-120 Andrychow    2\n5700 Svendborg      1\n95630               1\n                   ..\nZurich              7\nZweibruecken        5\nZwevegem            1\nZwolle              1\nhingham             1\nLength: 5832, dtype: int64"
     },
     "metadata": {},
     "execution_count": 9
    }
   ],
   "source": [
    "group_city.size()"
   ]
  },
  {
   "cell_type": "code",
   "execution_count": 13,
   "metadata": {},
   "outputs": [
    {
     "output_type": "execute_result",
     "data": {
      "text/plain": "'19725'], dtype='object', name='Bib'),\n 'Cave Springs': Index(['5478'], dtype='object', name='Bib'),\n 'Caxias Do Sul - Rs': Index(['6683'], dtype='object', name='Bib'),\n 'Cayce': Index(['25842'], dtype='object', name='Bib'),\n 'Cebu City': Index(['F37'], dtype='object', name='Bib'),\n 'Cecil': Index(['15084'], dtype='object', name='Bib'),\n 'Cedar Crest': Index(['21657'], dtype='object', name='Bib'),\n 'Cedar Falls': Index(['6687', '21749', '9878', '25935', '24802', '19965'], dtype='object', name='Bib'),\n 'Cedar Hills': Index(['19039', '17589'], dtype='object', name='Bib'),\n 'Cedar Knolls': Index(['1332'], dtype='object', name='Bib'),\n 'Cedar Lake': Index(['17100'], dtype='object', name='Bib'),\n 'Cedar Park': Index(['6432', '743', '20437', '19813', '25404', '19068'], dtype='object', name='Bib'),\n 'Cedar Rapids': Index(['1875', '6661', '1899', '3936', '9310', '17938', '13856'], dtype='object', name='Bib'),\n 'Cedarburg': Index(['21227', '24423'], dtype='object', name='Bib'),\n 'Celbridge': Index(['3778'], dtype='object', name='Bib'),\n 'Celebration': Index(['23433'], dtype='object', name='Bib'),\n 'Celina': Index(['6740', '14970'], dtype='object', name='Bib'),\n 'Cellatica': Index(['31458'], dtype='object', name='Bib'),\n 'Centennial': Index(['919', '6507', '4751', '2786', '16968', '12754', '11244', '23044',\n        '11510', '24726', '12812', '24836', '29393'],\n       dtype='object', name='Bib'),\n 'Center Ossipee': Index(['14792'], dtype='object', name='Bib'),\n 'Center Point': Index(['12624'], dtype='object', name='Bib'),\n 'Centereach': Index(['13044'], dtype='object', name='Bib'),\n 'Centerport': Index(['27524', '30824', '27519', '28272', '27521'], dtype='object', name='Bib'),\n 'Centerville': Index(['1150', '8107', '6867', '28255', '27160', '19934', '26229'], dtype='object', name='Bib'),\n 'Central Square': Index(['13824'], dtype='object', name='Bib'),\n 'Centre Hall': Index(['2843'], dtype='object', name='Bib'),\n 'Centreville': Index(['16664'], dtype='object', name='Bib'),\n 'Centurion': Index(['2617'], dtype='object', name='Bib'),\n 'Cergy': Index(['17775'], dtype='object', name='Bib'),\n 'Cerritos': Index(['4686', '14205', '24361'], dtype='object', name='Bib'),\n 'Cessnock': Index(['18886'], dtype='object', name='Bib'),\n 'Chadds Ford': Index(['5918', '13334'], dtype='object', name='Bib'),\n 'Chagrin Falls': Index(['4662', '2761', '12689', '9746', '11001', '17827', '10851', '5533',\n        '17915'],\n       dtype='object', name='Bib'),\n 'Chai Wan': Index(['14149'], dtype='object', name='Bib'),\n 'Chalfont': Index(['6458', '16939', '22269'], dtype='object', name='Bib'),\n 'Chalfont St Peter': Index(['1058'], dtype='object', name='Bib'),\n 'Chambersburg': Index(['5077', '11103', '8779', '9228', '18170', '20528'], dtype='object', name='Bib'),\n 'Chambly': Index(['9155', '22040', '26272'], dtype='object', name='Bib'),\n 'Champaign': Index(['2781', '11202', '4813', '8008', '17036', '14453'], dtype='object', name='Bib'),\n 'Champlin': Index(['2365', '2983', '11308', '19843'], dtype='object', name='Bib'),\n 'Chandler': Index(['279', '4396', '5501', '3837', '16779', '10879', '19649', '18884',\n        '19808', '17951', '21285', '21396'],\n       dtype='object', name='Bib'),\n 'Changhua': Index(['22050'], dtype='object', name='Bib'),\n 'Changhua County': Index(['5339'], dtype='object', name='Bib'),\n 'Chanhassen': Index(['1274', '16712', '8837', '5409', '11305', '16575', '11004', '11808',\n        '19917', '19530', '12366'],\n       dtype='object', name='Bib'),\n 'Chantilly': Index(['2633', '22538', '19448', '16260'], dtype='object', name='Bib'),\n 'Chapel Hill': Index(['222', '1375', '2480', '2744', '4183', '5482', '9271', '13296', '13664',\n        '10285', '18870', '17920', '13848', '10090', '18888', '10751', '11408',\n        '21570', '18349', '14723', '20072', '17567', '22471', '27889', '25980',\n        '26648', '24975'],\n       dtype='object', name='Bib'),\n 'Chapin': Index(['20102'], dtype='object', name='Bib'),\n 'Chapmanville': Index(['14918'], dtype='object', name='Bib'),\n 'Chappaqua': Index(['781', '5489', '12361', '14978'], dtype='object', name='Bib'),\n 'Charleston': Index(['4131', '10847', '9282', '4127', '4941', '2844', '16367', '16138',\n        '4025', '17671', '14511', '16964', '25577', '23175', '29505', '31852'],\n       dtype='object', name='Bib'),\n 'Charlestown': Index(['F21', '3512', '8059', '6194', '12021', '2258', '12784', '17906',\n        '30978', '9373', '2376', '30399', '31259', '13724', '26706', '29919',\n        '30808', '8235', '18973', '27730', '20687', '17372', '29083', '12938',\n        '28943', '27760', '30331', '27518', '29021', '30629', '27555', '30503',\n        '30350', '13820', '30167', '27214', '28335', '30139', '32129', '29509',\n        '31025', '30529', '27062', '26537', '28139', '27579', '28237', '29323',\n        '29195', '27711', '30729', '27601', '29144', '26500', '29053', '30168',\n        '31302', '26698', '30728', '30125', '26898', '30522', '29002', '28993',\n        '29166', '31098', '29055', '27347', '30746', '28743', '28742', '28513',\n        '27589', '27077', '27588', '30526', '30800', '27604', '28718', '30911',\n        '27798', '30710', '26952', '28708', '30164', '30776', '31396', '27637'],\n       dtype='object', name='Bib'),\n 'Charlotte': Index(['1540', 'F22', '292', '899', '1752', '741', '2182', '2122', '5191',\n        '2194', '723', '1873', '9116', '5928', '5220', '5022', '5032', '5604',\n        '14580', '4064', '4314', '2923', '5793', '7057', '7151', '7649',\n        '10972', '9934', '14934', '17869', '6119', '19219', '4821', '8363',\n        '12343', '13098', '13829', '14097', '16870', '11056', '12761', '18272',\n        '7076', '13096', '20858', '12507', '20213', '17830', '12178', '18956',\n        '17609', '17942', '16869', '16689', '18245', '23035', '13009', '21869',\n        '13687', '12908', '29205', '25312', '22197', '25231', '28091', '21923',\n        '25378', '22748', '25084', '14886', '26536', '27525', '13709', '28160',\n        '25791', '25435', '5328', '25769', '27625'],\n       dtype='object', name='Bib'),\n 'Charlottenlund': Index(['17819'], dtype='object', name='Bib'),\n 'Charlottesville': Index(['3005', '269', '1330', '4840', '4490', '5936', '3242', '16764', '10317',\n        '12579', '18729', '17506', '18687', '19532', '24843', '18912', '24721',\n        '11945', '28726', '22293', '24200', '23301'],\n       dtype='object', name='Bib'),\n 'Charlottetown': Index(['369', '18078', '21967'], dtype='object', name='Bib'),\n 'Charlton': Index(['2136', '9503', '28586', '27455', '31857', '27339'], dtype='object', name='Bib'),\n 'Chaska': Index(['9477', '10431', '19871', '17016', '1207'], dtype='object', name='Bib'),\n 'Chateau Richer': Index(['22141'], dtype='object', name='Bib'),\n 'Chateauneuf Sur Charente': Index(['5163'], dtype='object', name='Bib'),\n 'Chatham': Index(['438', '5615', '8859', '10576', '3519', '8514', '11079', '14593',\n        '22895', '21354', '30910', '28114', '28115'],\n       dtype='object', name='Bib'),\n 'Chattanooga': Index(['20960', '10101', '21146', '25355', '28197', '26127', '15583'], dtype='object', name='Bib'),\n 'Chelmsford': Index(['3395', '3397', '9226', '3698', '2598', '20901', '20190', '14048',\n        '30308', '22174', '31116', '23435', '22312', '32091', '22324', '30452',\n        '29235', '27068', '27758', '28502', '27620'],\n       dtype='object', name='Bib'),\n 'Chelsea': Index(['4126', '2046', '12130', '19034', '30312', '28497', '30457', '28922'], dtype='object', name='Bib'),\n 'Cheltenham': Index(['4058', '26000', '25582'], dtype='object', name='Bib'),\n 'Chemnitz': Index(['26055'], dtype='object', name='Bib'),\n 'Cheng Du': Index(['12105'], dtype='object', name='Bib'),\n 'Chengdu': Index(['31409', '31410'], dtype='object', name='Bib'),\n 'Chengdu ?sichuan Province': Index(['12975'], dtype='object', name='Bib'),\n 'Chengdu Sichuan': Index(['11821', '18851'], dtype='object', name='Bib'),\n 'Cherokee': Index(['15552'], dtype='object', name='Bib'),\n 'Cherry Hill': Index(['3157', '30279'], dtype='object', name='Bib'),\n 'Cherry Valley': Index(['23164', '26597'], dtype='object', name='Bib'),\n 'Chesapeake': Index(['6330', '8714', '4340', '19931', '20310', '27911', '23256'], dtype='object', name='Bib'),\n 'Cheshire': Index(['20442', '23147', '18809', '20634', '17244', '23506'], dtype='object', name='Bib'),\n 'Chesnee': Index(['15512'], dtype='object', name='Bib'),\n 'Chester': Index(['6025', '10276', '5837', '13403', '20853', '22838', '28681', '31473',\n        '24518', '31471'],\n       dtype='object', name='Bib'),\n 'Chester Springs': Index(['8555', '17691', '18896', '25424'], dtype='object', name='Bib'),\n 'Chesterbrook': Index(['4301', '20703'], dtype='object', name='Bib'),\n 'Chesterfield': Index(['1576', '3003', '9269', '2490', '17516', '20636', '21785', '3774',\n        '19290', '12873', '25765', '23361', '30617'],\n       dtype='object', name='Bib'),\n 'Chesterland': Index(['2725'], dtype='object', name='Bib'),\n 'Chesterton': Index(['25676', '26728'], dtype='object', name='Bib'),\n 'Chestnut': Index(['17199'], dtype='object', name='Bib'),\n 'Chestnut Hill': Index(['847', '5893', '29565', '28538', '7078', '32072', '27782', '26401',\n        '26914', '29349', '29006', '29513', '29084', '29636', '28914', '30915',\n        '30726', '30765', '28055', '30930', '30789', '26717', '28778', '29883',\n        '27789', '27530'],\n       dtype='object', name='Bib'),\n 'Cheung Sha Wan': Index(['10892'], dtype='object', name='Bib'),\n 'Chevilly Larue': Index(['19919'], dtype='object', name='Bib'),\n 'Chevy Chase': Index(['3912', '5307', '17751', '10659', '22267', '22372', '22975', '27690'], dtype='object', name='Bib'),\n 'Cheyenne': Index(['6731', '13944', '24299', '8916'], dtype='object', name='Bib'),\n 'Chiaravalle - An': Index(['31626'], dtype='object', name='Bib'),\n 'Chiba': Index(['1796', '31703', '17053', '31721'], dtype='object', name='Bib'),\n 'Chicago': Index(['742', '216', '370', '896', '946', '755', '854', '311', '1205', '1519',\n        ...\n        '14172', '14178', '29447', '26948', '15525', '26257', '29660', '23294',\n        '31446', '15539'],\n       dtype='object', name='Bib', length=261),\n 'Chichester': Index(['5602', '12688', '3354'], dtype='object', name='Bib'),\n 'Chico': Index(['9190', '19129', '24199'], dtype='object', name='Bib'),\n 'Chicopee': Index(['9762', '25341', '28336', '30619'], dtype='object', name='Bib'),\n 'Chicoutimi': Index(['1434', '3554', '3711'], dtype='object', name='Bib'),\n 'Chihuahua': Index(['5794', '298', '11684', '8226', '20201', '23470', '25226'], dtype='object', name='Bib'),\n 'Chillicothe': Index(['19171'], dtype='object', name='Bib'),\n 'Chilton': Index(['23327', '25539'], dtype='object', name='Bib'),\n 'Chinnor': Index(['13933'], dtype='object', name='Bib'),\n 'Chino': Index(['3801'], dtype='object', name='Bib'),\n 'Chino Hills': Index(['4226', '11114', '9575', '22606', '10075', '19778', '22760', '26991'], dtype='object', name='Bib'),\n 'Chippewa Falls': Index(['13008'], dtype='object', name='Bib'),\n 'Chipstead': Index(['20757'], dtype='object', name='Bib'),\n 'Chislehurst': Index(['6519'], dtype='object', name='Bib'),\n 'Choctaw': Index(['5164', '20373', '24459'], dtype='object', name='Bib'),\n 'Chongqing': Index(['3955'], dtype='object', name='Bib'),\n 'Christchurch': Index(['5818'], dtype='object', name='Bib'),\n 'Christiansburg': Index(['24113'], dtype='object', name='Bib'),\n 'Christiansted': Index(['27381'], dtype='object', name='Bib'),\n 'Chuckey': Index(['8536'], dtype='object', name='Bib'),\n 'Chula Vista': Index(['2240', '5290', '10562', '23254'], dtype='object', name='Bib'),\n 'Chunchula': Index(['17894'], dtype='object', name='Bib'),\n 'Churchville': Index(['27479'], dtype='object', name='Bib'),\n 'Churubusco': Index(['5324', '4938'], dtype='object', name='Bib'),\n 'Cicero': Index(['13391', '10699', '7173'], dtype='object', name='Bib'),\n 'Cicinnati': Index(['9830'], dtype='object', name='Bib'),\n 'Cincinnati': Index(['667', '5295', '10286', '3886', '1491', '9527', '2261', '4786', '6191',\n        '5838', '6860', '1629', '3623', '10523', '7622', '5352', '3533', '3203',\n        '10083', '6443', '6479', '11895', '10095', '10950', '9676', '16119',\n        '17546', '10210', '10682', '7683', '9081', '17239', '4942', '6586',\n        '14767', '17791', '13615', '14885', '17269', '9920', '11849', '16127',\n        '395', '16091', '3619', '6614', '19160', '12411', '5033', '19194',\n        '17745', '20245', '17067', '20826', '3451', '17955', '12466', '15107',\n        '22455', '11862', '14963', '22107', '17439', '3744', '24067', '24351',\n        '24029', '22886', '13573', '25154', '25126', '24315', '29219', '24886',\n        '25713', '18931', '19117', '21900', '25794', '25427', '31115', '22735',\n        '11528', '26076', '30374', '12676', '30458', '29031'],\n       dtype='object', name='Bib'),\n 'Cingoli-Mc': Index(['9994'], dtype='object', name='Bib'),\n 'Circle Pines': Index(['14849'], dtype='object', name='Bib'),\n 'Citrus Heights': Index(['3313', '20742', '17329', '26298'], dtype='object', name='Bib'),\n 'City Beach': Index(['5549'], dtype='object', name='Bib'),\n 'Ciudad Autonoma De Buenos Aires': Index(['2795', '22648'], dtype='object', name='Bib'),\n 'Ciudad De Buenos Aires': Index(['6475', '31574'], dtype='object', name='Bib'),\n 'Ciudad De Guatemala': Index(['8633'], dtype='object', name='Bib'),\n 'Ciudad De Mexico': Index(['16527'], dtype='object', name='Bib'),\n 'Ciudad De México': Index(['3635', '12083', '25188'], dtype='object', name='Bib'),\n 'Ciudad Guzman Jalisco': Index(['4071'], dtype='object', name='Bib'),\n 'Ciudad Victoria, Tamaulipas': Index(['20615'], dtype='object', name='Bib'),\n 'Ciudad de México': Index(['4070'], dtype='object', name='Bib'),\n 'Cividate Al Piano': Index(['31526'], dtype='object', name='Bib'),\n 'Clackamas': Index(['12682'], dtype='object', name='Bib'),\n 'Clancy': Index(['16074'], dtype='object', name='Bib'),\n 'Clanton': Index(['14611'], dtype='object', name='Bib'),\n 'Clara': Index(['31755'], dtype='object', name='Bib'),\n 'Clare': Index(['7211'], dtype='object', name='Bib'),\n 'Claremont': Index(['11031', '10772', '7432', '15403', '19431', '5316', '18157', '22681',\n        '27115'],\n       dtype='object', name='Bib'),\n 'Claremore': Index(['11624', '16667'], dtype='object', name='Bib'),\n 'Clarendon Hills': Index(['9816', '17308'], dtype='object', name='Bib'),\n 'Clarenville': Index(['5108'], dtype='object', name='Bib'),\n 'Clarks': Index(['26015'], dtype='object', name='Bib'),\n 'Clarks Green': Index(['21916'], dtype='object', name='Bib'),\n 'Clarks Summit': Index(['16303'], dtype='object', name='Bib'),\n 'Clarksboro': Index(['15547'], dtype='object', name='Bib'),\n 'Clarksburg': Index(['17872'], dtype='object', name='Bib'),\n 'Clarkston': Index(['650', '257', '2085', '3809', '13707', '12951', '11155', '20684',\n        '9564', '19271', '24930', '27967', '14085'],\n       dtype='object', name='Bib'),\n 'Clarksville': Index(['11569', '14052', '16263', '9728', '12607', '14891', '15302'], dtype='object', name='Bib'),\n 'Clathymore, Perthshire': Index(['22398'], dtype='object', name='Bib'),\n 'Clawson': Index(['19135', '19941'], dtype='object', name='Bib'),\n 'Clay': Index(['8974'], dtype='object', name='Bib'),\n 'Clayfield': Index(['27288'], dtype='object', name='Bib'),\n 'Claymont': Index(['4822'], dtype='object', name='Bib'),\n 'Clayton': Index(['581', '3738', '7614', '5310', '5809', '21563', '23341', '22169'], dtype='object', name='Bib'),\n 'Clear Lake': Index(['21390'], dtype='object', name='Bib'),\n 'Clearfield': Index(['14241', '7221'], dtype='object', name='Bib'),\n 'Clearwater': Index(['16795', '25472'], dtype='object', name='Bib'),\n 'Cleethorpes': Index(['13916'], dtype='object', name='Bib'),\n 'Clemmons': Index(['18277'], dtype='object', name='Bib'),\n 'Clemson': Index(['2155', '20443', '18308', '15320'], dtype='object', name='Bib'),\n 'Clermont': Index(['2494', '17720', '21682', '18109', '25936'], dtype='object', name='Bib'),\n 'Cleveland': Index(['4275', '3372', '6645', '6885', '4292', '13679', '18087', '14451',\n        '13910', '17944', '2954', '16581'],\n       dtype='object', name='Bib'),\n 'Cleveland Heights': Index(['1154', '5865', '6290', '1910', '9968', '16895', '24890'], dtype='object', name='Bib'),\n 'Cleves': Index(['4101'], dtype='object', name='Bib'),\n 'Cliffside Park': Index(['4859'], dtype='object', name='Bib'),\n 'Clifton': Index(['10685', '12155', '17639', '15179', '25893'], dtype='object', name='Bib'),\n 'Clifton Park': Index(['2783', '5671', '8496', '9872', '13502', '10672', '18362', '19493',\n        '17975'],\n       dtype='object', name='Bib'),\n 'Clinton': Index(['4540', '29684', '16819', '23581', '12304', '14956', '18047', '23021',\n        '8281', '30538'],\n       dtype='object', name='Bib'),\n 'Clinton Corners': Index(['8439'], dtype='object', name='Bib'),\n 'Clinton Township': Index(['1254', '26324'], dtype='object', name='Bib'),\n 'Clive': Index(['10567'], dtype='object', name='Bib'),\n 'Clonakilty': Index(['31751'], dtype='object', name='Bib'),\n 'Clondalkin': Index(['3988'], dtype='object', name='Bib'),\n 'Cloquet': Index(['8203', '23476'], dtype='object', name='Bib'),\n 'Closter': Index(['6556', '19061', '30054'], dtype='object', name='Bib'),\n 'Cloudcroft': Index(['4863', '24081'], dtype='object', name='Bib'),\n 'Clover': Index(['22221'], dtype='object', name='Bib'),\n 'Clovis': Index(['16787', '23286'], dtype='object', name='Bib'),\n 'Clute': Index(['22205'], dtype='object', name='Bib'),\n 'Clyde Hill': Index(['5531', '11610'], dtype='object', name='Bib'),\n 'Clymer': Index(['12477'], dtype='object', name='Bib'),\n 'Co Cork': Index(['19748'], dtype='object', name='Bib'),\n 'Co Down, N Ireland': Index(['31748', '31738'], dtype='object', name='Bib'),\n 'Co Dublin': Index(['5488', '29535', '24816'], dtype='object', name='Bib'),\n 'Co Galway': Index(['10201', '28930'], dtype='object', name='Bib'),\n 'Co Kildare': Index(['31795'], dtype='object', name='Bib'),\n 'Co Limerick': Index(['31726', '31728'], dtype='object', name='Bib'),\n 'Co Tyrone, N Ireland': Index(['31789'], dtype='object', name='Bib'),\n 'Co Wexford': Index(['29417'], dtype='object', name='Bib'),\n 'Co Wicklow': Index(['27999'], dtype='object', name='Bib'),\n 'Coatesville': Index(['19657'], dtype='object', name='Bib'),\n 'Cobourg': Index(['7501'], dtype='object', name='Bib'),\n 'Cochrane': Index(['3058', '20507', '17354', '17785'], dtype='object', name='Bib'),\n 'Cockeysville': Index(['6469', '24743', '25335'], dtype='object', name='Bib'),\n 'Cocoa': Index(['12101'], dtype='object', name='Bib'),\n 'Coconut Creek': Index(['5662'], dtype='object', name='Bib'),\n 'Cody': Index(['8717', '26804'], dtype='object', name='Bib'),\n 'Coeur D Alene': Index(['8145'], dtype='object', name='Bib'),\n \"Coeur D'Alene\": Index(['903', '6417'], dtype='object', name='Bib'),\n 'Cohasset': Index(['5511', '20414', '28747', '30100', '6309', '29236', '28018', '30740',\n        '30465', '30685', '30992', '30866', '30462'],\n       dtype='object', name='Bib'),\n 'Cohoes': Index(['26697'], dtype='object', name='Bib'),\n 'Cohutta': Index(['1787'], dtype='object', name='Bib'),\n 'Cokeville': Index(['16514'], dtype='object', name='Bib'),\n 'Colbert': Index(['19345'], dtype='object', name='Bib'),\n 'Colchester': Index(['4410', '1884', '15250', '19528', '7080', '32078', '22902', '17343',\n        '21601', '21987'],\n       dtype='object', name='Bib'),\n 'Cold Spring Harbor': Index(['6869'], dtype='object', name='Bib'),\n 'Coldwater': Index(['17413', '21952', '21914'], dtype='object', name='Bib'),\n 'Coleraine': Index(['18426'], dtype='object', name='Bib'),\n 'Colina': Index(['1573'], dtype='object', name='Bib'),\n 'Colina, Santiago': Index(['31997'], dtype='object', name='Bib'),\n 'College Park': Index(['12202', '22249'], dtype='object', name='Bib'),\n 'College Station': Index(['1541', '5306', '23207'], dtype='object', name='Bib'),\n 'Collegeville': Index(['3069', '8671', '3226', '10138', '18552', '18817', '21611', '19210',\n        '21423', '16942', '20632'],\n       dtype='object', name='Bib'),\n 'Colleyville': Index(['5686', '12095', '22387', '21983', '24435'], dtype='object', name='Bib'),\n ...}"
     },
     "metadata": {},
     "execution_count": 13
    }
   ],
   "source": [
    "group_city.groups"
   ]
  },
  {
   "cell_type": "code",
   "execution_count": 14,
   "metadata": {},
   "outputs": [
    {
     "output_type": "execute_result",
     "data": {
      "text/plain": "      Age M/F State Country     Half      40K     Pace  TotalSeconds  \\\nBib                                                                    \n796    28   M    CA     USA 01:18:12 02:29:21  0:06:02        8961.0   \n36     30   M    CA     USA 01:14:21 02:30:00  0:06:05        9000.0   \n1267   27   M    CA     USA 01:19:24 02:33:24  0:06:11        9204.0   \n644    51   M    CA     USA 01:19:29 02:37:08  0:06:22        9428.0   \n827    33   M    CA     USA 01:18:52 02:38:13  0:06:24        9493.0   \n\n      HalfSeconds  \nBib                \n796        4692.0  \n36         4461.0  \n1267       4764.0  \n644        4769.0  \n827        4732.0  ",
      "text/html": "<div>\n<style scoped>\n    .dataframe tbody tr th:only-of-type {\n        vertical-align: middle;\n    }\n\n    .dataframe tbody tr th {\n        vertical-align: top;\n    }\n\n    .dataframe thead th {\n        text-align: right;\n    }\n</style>\n<table border=\"1\" class=\"dataframe\">\n  <thead>\n    <tr style=\"text-align: right;\">\n      <th></th>\n      <th>Age</th>\n      <th>M/F</th>\n      <th>State</th>\n      <th>Country</th>\n      <th>Half</th>\n      <th>40K</th>\n      <th>Pace</th>\n      <th>TotalSeconds</th>\n      <th>HalfSeconds</th>\n    </tr>\n    <tr>\n      <th>Bib</th>\n      <th></th>\n      <th></th>\n      <th></th>\n      <th></th>\n      <th></th>\n      <th></th>\n      <th></th>\n      <th></th>\n      <th></th>\n    </tr>\n  </thead>\n  <tbody>\n    <tr>\n      <th>796</th>\n      <td>28</td>\n      <td>M</td>\n      <td>CA</td>\n      <td>USA</td>\n      <td>01:18:12</td>\n      <td>02:29:21</td>\n      <td>0:06:02</td>\n      <td>8961.0</td>\n      <td>4692.0</td>\n    </tr>\n    <tr>\n      <th>36</th>\n      <td>30</td>\n      <td>M</td>\n      <td>CA</td>\n      <td>USA</td>\n      <td>01:14:21</td>\n      <td>02:30:00</td>\n      <td>0:06:05</td>\n      <td>9000.0</td>\n      <td>4461.0</td>\n    </tr>\n    <tr>\n      <th>1267</th>\n      <td>27</td>\n      <td>M</td>\n      <td>CA</td>\n      <td>USA</td>\n      <td>01:19:24</td>\n      <td>02:33:24</td>\n      <td>0:06:11</td>\n      <td>9204.0</td>\n      <td>4764.0</td>\n    </tr>\n    <tr>\n      <th>644</th>\n      <td>51</td>\n      <td>M</td>\n      <td>CA</td>\n      <td>USA</td>\n      <td>01:19:29</td>\n      <td>02:37:08</td>\n      <td>0:06:22</td>\n      <td>9428.0</td>\n      <td>4769.0</td>\n    </tr>\n    <tr>\n      <th>827</th>\n      <td>33</td>\n      <td>M</td>\n      <td>CA</td>\n      <td>USA</td>\n      <td>01:18:52</td>\n      <td>02:38:13</td>\n      <td>0:06:24</td>\n      <td>9493.0</td>\n      <td>4732.0</td>\n    </tr>\n  </tbody>\n</table>\n</div>"
     },
     "metadata": {},
     "execution_count": 14
    }
   ],
   "source": [
    "group_city.get_group('San Francisco').head()"
   ]
  },
  {
   "cell_type": "code",
   "execution_count": 15,
   "metadata": {},
   "outputs": [
    {
     "output_type": "execute_result",
     "data": {
      "text/plain": "Age                            36.3096\nHalf            0 days 01:42:24.390862\n40K             0 days 03:25:35.335025\nTotalSeconds                   12335.3\nHalfSeconds                    6144.39\ndtype: object"
     },
     "metadata": {},
     "execution_count": 15
    }
   ],
   "source": [
    "group_city.get_group('San Francisco').mean()"
   ]
  },
  {
   "cell_type": "code",
   "execution_count": 16,
   "metadata": {},
   "outputs": [
    {
     "output_type": "execute_result",
     "data": {
      "text/plain": "Timedelta('0 days 03:25:35.335025')"
     },
     "metadata": {},
     "execution_count": 16
    }
   ],
   "source": [
    "group_city.get_group('San Francisco')['40K'].mean()"
   ]
  },
  {
   "cell_type": "code",
   "execution_count": 17,
   "metadata": {},
   "outputs": [
    {
     "output_type": "execute_result",
     "data": {
      "text/plain": "Timedelta('0 days 03:55:11')"
     },
     "metadata": {},
     "execution_count": 17
    }
   ],
   "source": [
    "group_city.get_group('34-120 Andrychow')['40K'].mean()"
   ]
  },
  {
   "cell_type": "code",
   "execution_count": 18,
   "metadata": {},
   "outputs": [
    {
     "output_type": "execute_result",
     "data": {
      "text/plain": "                  Age M/F State Country     Half      40K     Pace  \\\nCity                                                                 \n0851 Oslo          39   F   NaN     NOR 01:35:31 03:15:24  0:07:55   \n20832              35   M    MD     USA 01:35:57 03:14:00  0:07:51   \n34-120 Andrychow   44   F   NaN     POL 01:58:39 03:55:09  0:09:28   \n5700 Svendborg     58   M   NaN     DEN 01:49:12 03:44:58  0:09:05   \n95630              46   F    CA     USA 01:50:25 03:37:23  0:08:44   \n...               ...  ..   ...     ...      ...      ...      ...   \nZurich             42   M   NaN     SUI 01:32:09 03:03:15  0:07:26   \nZweibruecken       58   F   NaN     GER 02:22:22 04:56:52  0:11:57   \nZwevegem           61   M   NaN     BEL 02:15:30 04:42:02  0:11:18   \nZwolle             46   M   NaN     NED 01:33:21 03:04:11  0:07:27   \nhingham            32   M    MA     USA 01:24:38 02:45:08  0:06:39   \n\n                  TotalSeconds  HalfSeconds  \nCity                                         \n0851 Oslo              11724.0       5731.0  \n20832                  11640.0       5757.0  \n34-120 Andrychow       14109.0       7119.0  \n5700 Svendborg         13498.0       6552.0  \n95630                  13043.0       6625.0  \n...                        ...          ...  \nZurich                 10995.0       5529.0  \nZweibruecken           17812.0       8542.0  \nZwevegem               16922.0       8130.0  \nZwolle                 11051.0       5601.0  \nhingham                 9908.0       5078.0  \n\n[5832 rows x 9 columns]",
      "text/html": "<div>\n<style scoped>\n    .dataframe tbody tr th:only-of-type {\n        vertical-align: middle;\n    }\n\n    .dataframe tbody tr th {\n        vertical-align: top;\n    }\n\n    .dataframe thead th {\n        text-align: right;\n    }\n</style>\n<table border=\"1\" class=\"dataframe\">\n  <thead>\n    <tr style=\"text-align: right;\">\n      <th></th>\n      <th>Age</th>\n      <th>M/F</th>\n      <th>State</th>\n      <th>Country</th>\n      <th>Half</th>\n      <th>40K</th>\n      <th>Pace</th>\n      <th>TotalSeconds</th>\n      <th>HalfSeconds</th>\n    </tr>\n    <tr>\n      <th>City</th>\n      <th></th>\n      <th></th>\n      <th></th>\n      <th></th>\n      <th></th>\n      <th></th>\n      <th></th>\n      <th></th>\n      <th></th>\n    </tr>\n  </thead>\n  <tbody>\n    <tr>\n      <th>0851 Oslo</th>\n      <td>39</td>\n      <td>F</td>\n      <td>NaN</td>\n      <td>NOR</td>\n      <td>01:35:31</td>\n      <td>03:15:24</td>\n      <td>0:07:55</td>\n      <td>11724.0</td>\n      <td>5731.0</td>\n    </tr>\n    <tr>\n      <th>20832</th>\n      <td>35</td>\n      <td>M</td>\n      <td>MD</td>\n      <td>USA</td>\n      <td>01:35:57</td>\n      <td>03:14:00</td>\n      <td>0:07:51</td>\n      <td>11640.0</td>\n      <td>5757.0</td>\n    </tr>\n    <tr>\n      <th>34-120 Andrychow</th>\n      <td>44</td>\n      <td>F</td>\n      <td>NaN</td>\n      <td>POL</td>\n      <td>01:58:39</td>\n      <td>03:55:09</td>\n      <td>0:09:28</td>\n      <td>14109.0</td>\n      <td>7119.0</td>\n    </tr>\n    <tr>\n      <th>5700 Svendborg</th>\n      <td>58</td>\n      <td>M</td>\n      <td>NaN</td>\n      <td>DEN</td>\n      <td>01:49:12</td>\n      <td>03:44:58</td>\n      <td>0:09:05</td>\n      <td>13498.0</td>\n      <td>6552.0</td>\n    </tr>\n    <tr>\n      <th>95630</th>\n      <td>46</td>\n      <td>F</td>\n      <td>CA</td>\n      <td>USA</td>\n      <td>01:50:25</td>\n      <td>03:37:23</td>\n      <td>0:08:44</td>\n      <td>13043.0</td>\n      <td>6625.0</td>\n    </tr>\n    <tr>\n      <th>...</th>\n      <td>...</td>\n      <td>...</td>\n      <td>...</td>\n      <td>...</td>\n      <td>...</td>\n      <td>...</td>\n      <td>...</td>\n      <td>...</td>\n      <td>...</td>\n    </tr>\n    <tr>\n      <th>Zurich</th>\n      <td>42</td>\n      <td>M</td>\n      <td>NaN</td>\n      <td>SUI</td>\n      <td>01:32:09</td>\n      <td>03:03:15</td>\n      <td>0:07:26</td>\n      <td>10995.0</td>\n      <td>5529.0</td>\n    </tr>\n    <tr>\n      <th>Zweibruecken</th>\n      <td>58</td>\n      <td>F</td>\n      <td>NaN</td>\n      <td>GER</td>\n      <td>02:22:22</td>\n      <td>04:56:52</td>\n      <td>0:11:57</td>\n      <td>17812.0</td>\n      <td>8542.0</td>\n    </tr>\n    <tr>\n      <th>Zwevegem</th>\n      <td>61</td>\n      <td>M</td>\n      <td>NaN</td>\n      <td>BEL</td>\n      <td>02:15:30</td>\n      <td>04:42:02</td>\n      <td>0:11:18</td>\n      <td>16922.0</td>\n      <td>8130.0</td>\n    </tr>\n    <tr>\n      <th>Zwolle</th>\n      <td>46</td>\n      <td>M</td>\n      <td>NaN</td>\n      <td>NED</td>\n      <td>01:33:21</td>\n      <td>03:04:11</td>\n      <td>0:07:27</td>\n      <td>11051.0</td>\n      <td>5601.0</td>\n    </tr>\n    <tr>\n      <th>hingham</th>\n      <td>32</td>\n      <td>M</td>\n      <td>MA</td>\n      <td>USA</td>\n      <td>01:24:38</td>\n      <td>02:45:08</td>\n      <td>0:06:39</td>\n      <td>9908.0</td>\n      <td>5078.0</td>\n    </tr>\n  </tbody>\n</table>\n<p>5832 rows × 9 columns</p>\n</div>"
     },
     "metadata": {},
     "execution_count": 18
    }
   ],
   "source": [
    "group_city.first()"
   ]
  },
  {
   "cell_type": "code",
   "execution_count": 20,
   "metadata": {},
   "outputs": [],
   "source": [
    "group_age = df.groupby(by = 'Age')"
   ]
  },
  {
   "cell_type": "code",
   "execution_count": 22,
   "metadata": {},
   "outputs": [
    {
     "output_type": "execute_result",
     "data": {
      "text/plain": "Timedelta('0 days 03:36:54.583333')"
     },
     "metadata": {},
     "execution_count": 22
    }
   ],
   "source": [
    "group_age.get_group(20)['40K'].mean()"
   ]
  },
  {
   "cell_type": "code",
   "execution_count": 23,
   "metadata": {},
   "outputs": [
    {
     "output_type": "execute_result",
     "data": {
      "text/plain": "Timedelta('0 days 03:35:22.724557')"
     },
     "metadata": {},
     "execution_count": 23
    }
   ],
   "source": [
    "group_age.get_group(40)['40K'].mean()"
   ]
  },
  {
   "cell_type": "code",
   "execution_count": 28,
   "metadata": {
    "tags": []
   },
   "outputs": [
    {
     "output_type": "stream",
     "name": "stdout",
     "text": "M/F         City State Country     Half      40K     Pace  TotalSeconds  \\\nAge                                                                           \n18    M      Needham    MA     USA 01:22:35 02:38:30  0:06:23        9510.0   \n19    M   Plainfield    IL     USA 01:25:28 02:42:30  0:06:33        9750.0   \n20    M  Addis Ababa    MI     ETH 01:06:45 02:14:23  0:05:26        8063.0   \n21    M  Addis Ababa    MA     ETH 01:06:45 02:05:59  0:05:04        7559.0   \n22    M       Eugene    OR     USA 01:13:53 02:24:35  0:05:52        8675.0   \n\n     HalfSeconds  \nAge               \n18        4955.0  \n19        5128.0  \n20        4005.0  \n21        4005.0  \n22        4433.0  \n"
    }
   ],
   "source": [
    "print(group_age.first().head())"
   ]
  },
  {
   "cell_type": "code",
   "execution_count": null,
   "metadata": {},
   "outputs": [],
   "source": []
  }
 ],
 "metadata": {
  "language_info": {
   "codemirror_mode": {
    "name": "ipython",
    "version": 3
   },
   "file_extension": ".py",
   "mimetype": "text/x-python",
   "name": "python",
   "nbconvert_exporter": "python",
   "pygments_lexer": "ipython3",
   "version": 3
  },
  "orig_nbformat": 2,
  "kernelspec": {
   "name": "python_defaultSpec_1594037468517",
   "display_name": "Python 3.8.2 64-bit ('Data Science': pipenv)"
  }
 },
 "nbformat": 4,
 "nbformat_minor": 2
}