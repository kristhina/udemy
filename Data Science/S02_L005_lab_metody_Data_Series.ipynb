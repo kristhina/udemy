{
 "cells": [
  {
   "cell_type": "code",
   "execution_count": 26,
   "metadata": {},
   "outputs": [],
   "source": [
    "import pandas as pd\n",
    "import numpy as np\n",
    "from matplotlib import pyplot as plt\n",
    "import math"
   ]
  },
  {
   "cell_type": "code",
   "execution_count": 27,
   "metadata": {},
   "outputs": [],
   "source": [
    "cities = [\"Shanghai\", \"Beijing\", \"Istanbul\"]\n",
    "population = [24183300, 20794100, 15030000]"
   ]
  },
  {
   "cell_type": "code",
   "execution_count": 28,
   "metadata": {},
   "outputs": [
    {
     "output_type": "execute_result",
     "data": {
      "text/plain": "Shanghai    24183300\nBeijing     20794100\nIstanbul    15030000\ndtype: int64"
     },
     "metadata": {},
     "execution_count": 28
    }
   ],
   "source": [
    "citypop = pd.Series(population,cities)\n",
    "citypop"
   ]
  },
  {
   "cell_type": "code",
   "execution_count": 29,
   "metadata": {},
   "outputs": [
    {
     "output_type": "execute_result",
     "data": {
      "text/plain": "Shanghai    24183300\nBeijing     20794100\nIstanbul    15030000\ndtype: int64"
     },
     "metadata": {},
     "execution_count": 29
    }
   ],
   "source": [
    "citypop = pd.Series(data = population, index=cities)\n",
    "citypop"
   ]
  },
  {
   "cell_type": "code",
   "execution_count": 30,
   "metadata": {},
   "outputs": [
    {
     "output_type": "execute_result",
     "data": {
      "text/plain": "60007400"
     },
     "metadata": {},
     "execution_count": 30
    }
   ],
   "source": [
    "citypop.sum()"
   ]
  },
  {
   "cell_type": "code",
   "execution_count": 31,
   "metadata": {},
   "outputs": [
    {
     "output_type": "execute_result",
     "data": {
      "text/plain": "20002466.666666668"
     },
     "metadata": {},
     "execution_count": 31
    }
   ],
   "source": [
    "citypop.mean()"
   ]
  },
  {
   "cell_type": "code",
   "execution_count": 32,
   "metadata": {},
   "outputs": [
    {
     "output_type": "execute_result",
     "data": {
      "text/plain": "Index(['Shanghai', 'Beijing', 'Istanbul'], dtype='object')"
     },
     "metadata": {},
     "execution_count": 32
    }
   ],
   "source": [
    "citypop.index"
   ]
  },
  {
   "cell_type": "code",
   "execution_count": 33,
   "metadata": {},
   "outputs": [
    {
     "output_type": "execute_result",
     "data": {
      "text/plain": "Index(['Shanghai', 'Beijing', 'Istanbul'], dtype='object')"
     },
     "metadata": {},
     "execution_count": 33
    }
   ],
   "source": [
    "citypop.keys()"
   ]
  },
  {
   "cell_type": "code",
   "execution_count": 35,
   "metadata": {},
   "outputs": [
    {
     "output_type": "execute_result",
     "data": {
      "text/plain": "array([24183300, 20794100, 15030000])"
     },
     "metadata": {},
     "execution_count": 35
    }
   ],
   "source": [
    "citypop.values"
   ]
  },
  {
   "cell_type": "code",
   "execution_count": null,
   "metadata": {},
   "outputs": [],
   "source": []
  }
 ],
 "metadata": {
  "language_info": {
   "codemirror_mode": {
    "name": "ipython",
    "version": 3
   },
   "file_extension": ".py",
   "mimetype": "text/x-python",
   "name": "python",
   "nbconvert_exporter": "python",
   "pygments_lexer": "ipython3",
   "version": "3.8.2-final"
  },
  "orig_nbformat": 2,
  "kernelspec": {
   "name": "python38264bitdatasciencef2t2jzuxvenv755777717192484c92e98af808cd61d4",
   "display_name": "Python 3.8.2 64-bit ('Data_Science-f2T2jZux': venv)"
  }
 },
 "nbformat": 4,
 "nbformat_minor": 2
}