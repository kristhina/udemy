{
 "cells": [
  {
   "cell_type": "code",
   "execution_count": 40,
   "metadata": {},
   "outputs": [],
   "source": [
    "import pandas as pd\n",
    "import numpy as np"
   ]
  },
  {
   "cell_type": "code",
   "execution_count": 41,
   "metadata": {},
   "outputs": [],
   "source": [
    "surveys = pd.read_csv(\"dane/course-files/StackOverflowDeveloperSurvey2018.csv\", usecols=['Country','Gender','OperatingSystem'],low_memory=False)"
   ]
  },
  {
   "cell_type": "code",
   "execution_count": 43,
   "metadata": {},
   "outputs": [
    {
     "output_type": "execute_result",
     "data": {
      "text/plain": "          Country OperatingSystem Gender\n0           Kenya     Linux-based   Male\n1  United Kingdom     Linux-based   Male\n2   United States             NaN    NaN\n3   United States         Windows   Male\n4    South Africa         Windows   Male",
      "text/html": "<div>\n<style scoped>\n    .dataframe tbody tr th:only-of-type {\n        vertical-align: middle;\n    }\n\n    .dataframe tbody tr th {\n        vertical-align: top;\n    }\n\n    .dataframe thead th {\n        text-align: right;\n    }\n</style>\n<table border=\"1\" class=\"dataframe\">\n  <thead>\n    <tr style=\"text-align: right;\">\n      <th></th>\n      <th>Country</th>\n      <th>OperatingSystem</th>\n      <th>Gender</th>\n    </tr>\n  </thead>\n  <tbody>\n    <tr>\n      <th>0</th>\n      <td>Kenya</td>\n      <td>Linux-based</td>\n      <td>Male</td>\n    </tr>\n    <tr>\n      <th>1</th>\n      <td>United Kingdom</td>\n      <td>Linux-based</td>\n      <td>Male</td>\n    </tr>\n    <tr>\n      <th>2</th>\n      <td>United States</td>\n      <td>NaN</td>\n      <td>NaN</td>\n    </tr>\n    <tr>\n      <th>3</th>\n      <td>United States</td>\n      <td>Windows</td>\n      <td>Male</td>\n    </tr>\n    <tr>\n      <th>4</th>\n      <td>South Africa</td>\n      <td>Windows</td>\n      <td>Male</td>\n    </tr>\n  </tbody>\n</table>\n</div>"
     },
     "metadata": {},
     "execution_count": 43
    }
   ],
   "source": [
    "surveys.head()"
   ]
  },
  {
   "cell_type": "code",
   "execution_count": 46,
   "metadata": {},
   "outputs": [
    {
     "output_type": "execute_result",
     "data": {
      "text/plain": "False"
     },
     "metadata": {},
     "execution_count": 46
    }
   ],
   "source": [
    "surveys.Country.is_unique"
   ]
  },
  {
   "cell_type": "code",
   "execution_count": 47,
   "metadata": {},
   "outputs": [
    {
     "output_type": "execute_result",
     "data": {
      "text/plain": "array(['Kenya', 'United Kingdom', 'United States', 'South Africa',\n       'Nigeria', 'India', 'Spain', 'Croatia', 'Netherlands', 'Israel',\n       'Sweden', 'Chile', 'Australia', 'Greece', 'Poland', 'Belgium',\n       'Argentina', 'Germany', 'Russian Federation', 'Indonesia',\n       'Ireland', 'France', 'Ukraine', 'Denmark', 'Dominican Republic',\n       'China', 'Latvia', 'Algeria', 'Colombia', 'Japan', 'Finland',\n       'Romania', 'Brazil', 'Bulgaria', 'Iran, Islamic Republic of...',\n       'Nepal', 'Bangladesh', 'Pakistan', 'Canada', 'Jordan', 'Portugal',\n       'Italy', 'New Zealand', 'Turkey', 'Czech Republic', 'Viet Nam',\n       'Austria', 'Egypt', 'Malaysia', 'Mozambique', 'Thailand',\n       'Slovakia', 'Lebanon', 'Mexico', 'Hong Kong (S.A.R.)', 'Norway',\n       'Myanmar', 'Switzerland', 'South Korea', 'Hungary', 'Armenia',\n       'Kazakhstan', 'United Arab Emirates', 'Singapore', 'Qatar',\n       'Bosnia and Herzegovina', 'Bahrain', 'Sri Lanka', 'Cambodia',\n       'Serbia', 'Philippines', 'Peru', 'Botswana', 'Paraguay', 'Georgia',\n       'Uruguay', 'Belarus', 'Lithuania', 'Afghanistan', 'Estonia',\n       'Malta', 'Costa Rica', 'Ghana', 'Taiwan', 'Morocco', 'Albania',\n       'Saudi Arabia', 'Slovenia', 'Uzbekistan', 'Republic of Korea',\n       'El Salvador', 'Iceland', 'Venezuela, Bolivarian Republic of...',\n       'Nicaragua', 'Other Country (Not Listed Above)', 'Tunisia',\n       'The former Yugoslav Republic of Macedonia',\n       'Micronesia, Federated States of...', 'Madagascar', 'Rwanda',\n       'Yemen', 'Uganda', 'United Republic of Tanzania', 'Cameroon',\n       'Cuba', 'Ethiopia', 'Oman', 'Ecuador', 'Angola',\n       'Republic of Moldova', 'Honduras', 'Azerbaijan', 'Cyprus',\n       'Bhutan', 'Guatemala', 'Syrian Arab Republic', 'Kuwait',\n       'Luxembourg', 'Jamaica', 'Zimbabwe', 'San Marino', 'Fiji',\n       'Liechtenstein', 'Burundi', 'Bolivia', 'Mauritius', 'Somalia',\n       'Montenegro', 'Mongolia', 'Sudan', 'Maldives', 'Turkmenistan',\n       'Panama', 'Barbados', 'Lesotho', 'Namibia', 'Gabon', 'Kyrgyzstan',\n       'Swaziland', 'Antigua and Barbuda', 'Marshall Islands',\n       'Trinidad and Tobago', 'Senegal', 'Iraq', 'Haiti', 'Malawi',\n       'Benin', 'Libyan Arab Jamahiriya', 'Tajikistan',\n       'Democratic Republic of the Congo', 'Andorra', 'Guinea',\n       \"Côte d'Ivoire\", 'Bahamas', 'Central African Republic', 'Monaco',\n       'Gambia', 'Sierra Leone', 'Togo', 'Palau', 'Zambia', 'Grenada',\n       'Burkina Faso', 'Belize', 'Congo, Republic of the...', 'Suriname',\n       'Timor-Leste', 'Dominica', 'Solomon Islands', 'Saint Lucia',\n       'Niger', 'Guyana', 'Nauru', 'Mauritania', 'Mali', 'Liberia',\n       'Brunei Darussalam', 'North Korea', 'Cape Verde', 'Eritrea',\n       \"Democratic People's Republic of Korea\", 'Djibouti', nan,\n       'Guinea-Bissau'], dtype=object)"
     },
     "metadata": {},
     "execution_count": 47
    }
   ],
   "source": [
    "surveys.Country.unique()"
   ]
  },
  {
   "cell_type": "code",
   "execution_count": 48,
   "metadata": {},
   "outputs": [
    {
     "output_type": "execute_result",
     "data": {
      "text/plain": "183"
     },
     "metadata": {},
     "execution_count": 48
    }
   ],
   "source": [
    "surveys.Country.nunique()"
   ]
  },
  {
   "cell_type": "code",
   "execution_count": 49,
   "metadata": {},
   "outputs": [
    {
     "output_type": "execute_result",
     "data": {
      "text/plain": "184"
     },
     "metadata": {},
     "execution_count": 49
    }
   ],
   "source": [
    "len(surveys.Country.unique())"
   ]
  },
  {
   "cell_type": "code",
   "execution_count": 52,
   "metadata": {},
   "outputs": [],
   "source": [
    "duplicatesKeepFirst = surveys.duplicated(subset = \"Country\")"
   ]
  },
  {
   "cell_type": "code",
   "execution_count": 53,
   "metadata": {},
   "outputs": [
    {
     "output_type": "execute_result",
     "data": {
      "text/plain": "          Country OperatingSystem  Gender\n0           Kenya     Linux-based    Male\n1  United Kingdom     Linux-based    Male\n2   United States             NaN     NaN\n4    South Africa         Windows    Male\n7         Nigeria         Windows  Female",
      "text/html": "<div>\n<style scoped>\n    .dataframe tbody tr th:only-of-type {\n        vertical-align: middle;\n    }\n\n    .dataframe tbody tr th {\n        vertical-align: top;\n    }\n\n    .dataframe thead th {\n        text-align: right;\n    }\n</style>\n<table border=\"1\" class=\"dataframe\">\n  <thead>\n    <tr style=\"text-align: right;\">\n      <th></th>\n      <th>Country</th>\n      <th>OperatingSystem</th>\n      <th>Gender</th>\n    </tr>\n  </thead>\n  <tbody>\n    <tr>\n      <th>0</th>\n      <td>Kenya</td>\n      <td>Linux-based</td>\n      <td>Male</td>\n    </tr>\n    <tr>\n      <th>1</th>\n      <td>United Kingdom</td>\n      <td>Linux-based</td>\n      <td>Male</td>\n    </tr>\n    <tr>\n      <th>2</th>\n      <td>United States</td>\n      <td>NaN</td>\n      <td>NaN</td>\n    </tr>\n    <tr>\n      <th>4</th>\n      <td>South Africa</td>\n      <td>Windows</td>\n      <td>Male</td>\n    </tr>\n    <tr>\n      <th>7</th>\n      <td>Nigeria</td>\n      <td>Windows</td>\n      <td>Female</td>\n    </tr>\n  </tbody>\n</table>\n</div>"
     },
     "metadata": {},
     "execution_count": 53
    }
   ],
   "source": [
    "surveys[~duplicatesKeepFirst].head()"
   ]
  },
  {
   "cell_type": "code",
   "execution_count": 54,
   "metadata": {},
   "outputs": [
    {
     "output_type": "execute_result",
     "data": {
      "text/plain": "184"
     },
     "metadata": {},
     "execution_count": 54
    }
   ],
   "source": [
    "len(surveys[~duplicatesKeepFirst])"
   ]
  },
  {
   "cell_type": "code",
   "execution_count": 56,
   "metadata": {},
   "outputs": [],
   "source": [
    "duplicatesCountryOperatingSystem = surveys.duplicated(subset = [\"Country\", \"OperatingSystem\"])"
   ]
  },
  {
   "cell_type": "code",
   "execution_count": 57,
   "metadata": {},
   "outputs": [],
   "source": [
    "no_duplicates = surveys[~duplicatesCountryOperatingSystem]"
   ]
  },
  {
   "cell_type": "code",
   "execution_count": 58,
   "metadata": {},
   "outputs": [
    {
     "output_type": "execute_result",
     "data": {
      "text/plain": "      Country OperatingSystem Gender\n30     Poland     Linux-based   Male\n34     Poland         Windows   Male\n232    Poland             NaN    NaN\n854    Poland           MacOS   Male\n72587  Poland        BSD/Unix    NaN",
      "text/html": "<div>\n<style scoped>\n    .dataframe tbody tr th:only-of-type {\n        vertical-align: middle;\n    }\n\n    .dataframe tbody tr th {\n        vertical-align: top;\n    }\n\n    .dataframe thead th {\n        text-align: right;\n    }\n</style>\n<table border=\"1\" class=\"dataframe\">\n  <thead>\n    <tr style=\"text-align: right;\">\n      <th></th>\n      <th>Country</th>\n      <th>OperatingSystem</th>\n      <th>Gender</th>\n    </tr>\n  </thead>\n  <tbody>\n    <tr>\n      <th>30</th>\n      <td>Poland</td>\n      <td>Linux-based</td>\n      <td>Male</td>\n    </tr>\n    <tr>\n      <th>34</th>\n      <td>Poland</td>\n      <td>Windows</td>\n      <td>Male</td>\n    </tr>\n    <tr>\n      <th>232</th>\n      <td>Poland</td>\n      <td>NaN</td>\n      <td>NaN</td>\n    </tr>\n    <tr>\n      <th>854</th>\n      <td>Poland</td>\n      <td>MacOS</td>\n      <td>Male</td>\n    </tr>\n    <tr>\n      <th>72587</th>\n      <td>Poland</td>\n      <td>BSD/Unix</td>\n      <td>NaN</td>\n    </tr>\n  </tbody>\n</table>\n</div>"
     },
     "metadata": {},
     "execution_count": 58
    }
   ],
   "source": [
    "no_duplicates[no_duplicates[\"Country\"]==\"Poland\"]"
   ]
  },
  {
   "cell_type": "code",
   "execution_count": null,
   "metadata": {},
   "outputs": [],
   "source": []
  }
 ],
 "metadata": {
  "language_info": {
   "codemirror_mode": {
    "name": "ipython",
    "version": 3
   },
   "file_extension": ".py",
   "mimetype": "text/x-python",
   "name": "python",
   "nbconvert_exporter": "python",
   "pygments_lexer": "ipython3",
   "version": "3.8.2-final"
  },
  "orig_nbformat": 2,
  "kernelspec": {
   "name": "python38264bitdatasciencef2t2jzuxvenv755777717192484c92e98af808cd61d4",
   "display_name": "Python 3.8.2 64-bit ('Data_Science-f2T2jZux': venv)"
  }
 },
 "nbformat": 4,
 "nbformat_minor": 2
}