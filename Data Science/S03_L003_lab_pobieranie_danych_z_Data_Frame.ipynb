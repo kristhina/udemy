{
 "cells": [
  {
   "cell_type": "code",
   "execution_count": 1,
   "metadata": {},
   "outputs": [],
   "source": [
    "import pandas as pd"
   ]
  },
  {
   "cell_type": "code",
   "execution_count": 2,
   "metadata": {},
   "outputs": [
    {
     "output_type": "execute_result",
     "data": {
      "text/plain": "   Vehicle ID  Year        Make               Model  \\\n0       26587  1984  Alfa Romeo           GT V6 2.5   \n1       27705  1984  Alfa Romeo           GT V6 2.5   \n2       26561  1984  Alfa Romeo  Spider Veloce 2000   \n3       27681  1984  Alfa Romeo  Spider Veloce 2000   \n4       27550  1984  AM General   DJ Po Vehicle 2WD   \n\n                         Class Fuel Type  Combined MPG (FT1)  \n0             Minicompact Cars   Regular                20.0  \n1             Minicompact Cars   Regular                20.0  \n2                  Two Seaters   Regular                21.0  \n3                  Two Seaters   Regular                21.0  \n4  Special Purpose Vehicle 2WD   Regular                17.0  ",
      "text/html": "<div>\n<style scoped>\n    .dataframe tbody tr th:only-of-type {\n        vertical-align: middle;\n    }\n\n    .dataframe tbody tr th {\n        vertical-align: top;\n    }\n\n    .dataframe thead th {\n        text-align: right;\n    }\n</style>\n<table border=\"1\" class=\"dataframe\">\n  <thead>\n    <tr style=\"text-align: right;\">\n      <th></th>\n      <th>Vehicle ID</th>\n      <th>Year</th>\n      <th>Make</th>\n      <th>Model</th>\n      <th>Class</th>\n      <th>Fuel Type</th>\n      <th>Combined MPG (FT1)</th>\n    </tr>\n  </thead>\n  <tbody>\n    <tr>\n      <th>0</th>\n      <td>26587</td>\n      <td>1984</td>\n      <td>Alfa Romeo</td>\n      <td>GT V6 2.5</td>\n      <td>Minicompact Cars</td>\n      <td>Regular</td>\n      <td>20.0</td>\n    </tr>\n    <tr>\n      <th>1</th>\n      <td>27705</td>\n      <td>1984</td>\n      <td>Alfa Romeo</td>\n      <td>GT V6 2.5</td>\n      <td>Minicompact Cars</td>\n      <td>Regular</td>\n      <td>20.0</td>\n    </tr>\n    <tr>\n      <th>2</th>\n      <td>26561</td>\n      <td>1984</td>\n      <td>Alfa Romeo</td>\n      <td>Spider Veloce 2000</td>\n      <td>Two Seaters</td>\n      <td>Regular</td>\n      <td>21.0</td>\n    </tr>\n    <tr>\n      <th>3</th>\n      <td>27681</td>\n      <td>1984</td>\n      <td>Alfa Romeo</td>\n      <td>Spider Veloce 2000</td>\n      <td>Two Seaters</td>\n      <td>Regular</td>\n      <td>21.0</td>\n    </tr>\n    <tr>\n      <th>4</th>\n      <td>27550</td>\n      <td>1984</td>\n      <td>AM General</td>\n      <td>DJ Po Vehicle 2WD</td>\n      <td>Special Purpose Vehicle 2WD</td>\n      <td>Regular</td>\n      <td>17.0</td>\n    </tr>\n  </tbody>\n</table>\n</div>"
     },
     "metadata": {},
     "execution_count": 2
    }
   ],
   "source": [
    "fuel = pd.read_csv(\"dane/course-files/fuel.csv\", low_memory=False, usecols=['Vehicle ID','Year','Make','Model','Class','Fuel Type','Combined MPG (FT1)'])\n",
    "fuel.head()"
   ]
  },
  {
   "cell_type": "code",
   "execution_count": 3,
   "metadata": {},
   "outputs": [
    {
     "output_type": "execute_result",
     "data": {
      "text/plain": "0    Alfa Romeo\n1    Alfa Romeo\n2    Alfa Romeo\n3    Alfa Romeo\n4    AM General\nName: Make, dtype: object"
     },
     "metadata": {},
     "execution_count": 3
    }
   ],
   "source": [
    "fuel.Make.head()"
   ]
  },
  {
   "cell_type": "code",
   "execution_count": 7,
   "metadata": {},
   "outputs": [
    {
     "output_type": "execute_result",
     "data": {
      "text/plain": "Chevrolet    3389\nFord         2721\nDodge        2361\nGMC          2174\nToyota       1599\nName: Make, dtype: int64"
     },
     "metadata": {},
     "execution_count": 7
    }
   ],
   "source": [
    "fuel.Make.value_counts().head()"
   ]
  },
  {
   "cell_type": "code",
   "execution_count": 8,
   "metadata": {},
   "outputs": [
    {
     "output_type": "execute_result",
     "data": {
      "text/plain": "26784"
     },
     "metadata": {},
     "execution_count": 8
    }
   ],
   "source": [
    "fuel['Vehicle ID'][1873]"
   ]
  },
  {
   "cell_type": "code",
   "execution_count": 9,
   "metadata": {},
   "outputs": [
    {
     "output_type": "execute_result",
     "data": {
      "text/plain": "29.0"
     },
     "metadata": {},
     "execution_count": 9
    }
   ],
   "source": [
    "fuel['Combined MPG (FT1)'][fuel['Vehicle ID'][1873]]"
   ]
  },
  {
   "cell_type": "code",
   "execution_count": 12,
   "metadata": {},
   "outputs": [
    {
     "output_type": "execute_result",
     "data": {
      "text/plain": "112.0"
     },
     "metadata": {},
     "execution_count": 12
    }
   ],
   "source": [
    "fuel['Combined MPG (FT1)'].max()"
   ]
  },
  {
   "cell_type": "code",
   "execution_count": 13,
   "metadata": {},
   "outputs": [
    {
     "output_type": "execute_result",
     "data": {
      "text/plain": "31674"
     },
     "metadata": {},
     "execution_count": 13
    }
   ],
   "source": [
    "fuel['Combined MPG (FT1)'].idxmax()"
   ]
  },
  {
   "cell_type": "code",
   "execution_count": 16,
   "metadata": {},
   "outputs": [
    {
     "output_type": "execute_result",
     "data": {
      "text/plain": "Vehicle ID                      31673\nYear                             2012\nMake                       Mitsubishi\nModel                          i-MiEV\nClass                 Subcompact Cars\nFuel Type                 Electricity\nCombined MPG (FT1)                112\nName: 31674, dtype: object"
     },
     "metadata": {},
     "execution_count": 16
    }
   ],
   "source": [
    "fuel.loc[fuel['Combined MPG (FT1)'].idxmax()]"
   ]
  },
  {
   "cell_type": "code",
   "execution_count": 17,
   "metadata": {},
   "outputs": [],
   "source": [
    "shortfuel = fuel[['Make', 'Model']]"
   ]
  },
  {
   "cell_type": "code",
   "execution_count": 18,
   "metadata": {},
   "outputs": [
    {
     "output_type": "execute_result",
     "data": {
      "text/plain": "         Make               Model\n0  Alfa Romeo           GT V6 2.5\n1  Alfa Romeo           GT V6 2.5\n2  Alfa Romeo  Spider Veloce 2000\n3  Alfa Romeo  Spider Veloce 2000\n4  AM General   DJ Po Vehicle 2WD",
      "text/html": "<div>\n<style scoped>\n    .dataframe tbody tr th:only-of-type {\n        vertical-align: middle;\n    }\n\n    .dataframe tbody tr th {\n        vertical-align: top;\n    }\n\n    .dataframe thead th {\n        text-align: right;\n    }\n</style>\n<table border=\"1\" class=\"dataframe\">\n  <thead>\n    <tr style=\"text-align: right;\">\n      <th></th>\n      <th>Make</th>\n      <th>Model</th>\n    </tr>\n  </thead>\n  <tbody>\n    <tr>\n      <th>0</th>\n      <td>Alfa Romeo</td>\n      <td>GT V6 2.5</td>\n    </tr>\n    <tr>\n      <th>1</th>\n      <td>Alfa Romeo</td>\n      <td>GT V6 2.5</td>\n    </tr>\n    <tr>\n      <th>2</th>\n      <td>Alfa Romeo</td>\n      <td>Spider Veloce 2000</td>\n    </tr>\n    <tr>\n      <th>3</th>\n      <td>Alfa Romeo</td>\n      <td>Spider Veloce 2000</td>\n    </tr>\n    <tr>\n      <th>4</th>\n      <td>AM General</td>\n      <td>DJ Po Vehicle 2WD</td>\n    </tr>\n  </tbody>\n</table>\n</div>"
     },
     "metadata": {},
     "execution_count": 18
    }
   ],
   "source": [
    "shortfuel.head()"
   ]
  },
  {
   "cell_type": "code",
   "execution_count": null,
   "metadata": {},
   "outputs": [],
   "source": []
  }
 ],
 "metadata": {
  "language_info": {
   "codemirror_mode": {
    "name": "ipython",
    "version": 3
   },
   "file_extension": ".py",
   "mimetype": "text/x-python",
   "name": "python",
   "nbconvert_exporter": "python",
   "pygments_lexer": "ipython3",
   "version": "3.8.2-final"
  },
  "orig_nbformat": 2,
  "kernelspec": {
   "name": "python38264bitdatasciencef2t2jzuxvenv755777717192484c92e98af808cd61d4",
   "display_name": "Python 3.8.2 64-bit ('Data_Science-f2T2jZux': venv)"
  }
 },
 "nbformat": 4,
 "nbformat_minor": 2
}