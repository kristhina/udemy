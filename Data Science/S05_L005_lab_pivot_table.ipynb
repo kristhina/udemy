{
 "cells": [
  {
   "cell_type": "code",
   "execution_count": 1,
   "metadata": {},
   "outputs": [],
   "source": [
    "import pandas as pd\n",
    "import numpy as np\n",
    "from datetime import datetime\n",
    "from datetime import timedelta\n",
    "import time"
   ]
  },
  {
   "cell_type": "code",
   "execution_count": 4,
   "metadata": {},
   "outputs": [
    {
     "output_type": "execute_result",
     "data": {
      "text/plain": "     Age M/F         City State Country     Half      40K     Pace\nBib                                                               \n5     21   M  Addis Ababa   NaN     ETH  1:06:45  2:05:59  0:05:04\n1     26   M         Ambo   NaN     ETH  1:06:46  2:05:59  0:05:06\n6     31   M  Addis Ababa   NaN     ETH  1:06:44  2:06:47  0:05:07\n11    33   M       Kitale   NaN     KEN  1:06:46  2:06:47  0:05:07\n14    23   M      Eldoret   NaN     KEN  1:06:46  2:08:11  0:05:11",
      "text/html": "<div>\n<style scoped>\n    .dataframe tbody tr th:only-of-type {\n        vertical-align: middle;\n    }\n\n    .dataframe tbody tr th {\n        vertical-align: top;\n    }\n\n    .dataframe thead th {\n        text-align: right;\n    }\n</style>\n<table border=\"1\" class=\"dataframe\">\n  <thead>\n    <tr style=\"text-align: right;\">\n      <th></th>\n      <th>Age</th>\n      <th>M/F</th>\n      <th>City</th>\n      <th>State</th>\n      <th>Country</th>\n      <th>Half</th>\n      <th>40K</th>\n      <th>Pace</th>\n    </tr>\n    <tr>\n      <th>Bib</th>\n      <th></th>\n      <th></th>\n      <th></th>\n      <th></th>\n      <th></th>\n      <th></th>\n      <th></th>\n      <th></th>\n    </tr>\n  </thead>\n  <tbody>\n    <tr>\n      <th>5</th>\n      <td>21</td>\n      <td>M</td>\n      <td>Addis Ababa</td>\n      <td>NaN</td>\n      <td>ETH</td>\n      <td>1:06:45</td>\n      <td>2:05:59</td>\n      <td>0:05:04</td>\n    </tr>\n    <tr>\n      <th>1</th>\n      <td>26</td>\n      <td>M</td>\n      <td>Ambo</td>\n      <td>NaN</td>\n      <td>ETH</td>\n      <td>1:06:46</td>\n      <td>2:05:59</td>\n      <td>0:05:06</td>\n    </tr>\n    <tr>\n      <th>6</th>\n      <td>31</td>\n      <td>M</td>\n      <td>Addis Ababa</td>\n      <td>NaN</td>\n      <td>ETH</td>\n      <td>1:06:44</td>\n      <td>2:06:47</td>\n      <td>0:05:07</td>\n    </tr>\n    <tr>\n      <th>11</th>\n      <td>33</td>\n      <td>M</td>\n      <td>Kitale</td>\n      <td>NaN</td>\n      <td>KEN</td>\n      <td>1:06:46</td>\n      <td>2:06:47</td>\n      <td>0:05:07</td>\n    </tr>\n    <tr>\n      <th>14</th>\n      <td>23</td>\n      <td>M</td>\n      <td>Eldoret</td>\n      <td>NaN</td>\n      <td>KEN</td>\n      <td>1:06:46</td>\n      <td>2:08:11</td>\n      <td>0:05:11</td>\n    </tr>\n  </tbody>\n</table>\n</div>"
     },
     "metadata": {},
     "execution_count": 4
    }
   ],
   "source": [
    "df = pd.read_csv(\"dane/course-files/marathon_results_2016.csv\", index_col='Bib', usecols= ['Bib','40K','Half','Pace','Age','M/F', 'Country','State','City'])\n",
    "df.head()"
   ]
  },
  {
   "cell_type": "code",
   "execution_count": 5,
   "metadata": {},
   "outputs": [],
   "source": [
    "df['40K'] = df['40K'].apply(pd.to_timedelta)\n",
    "df['Half'] = df['Half'].apply(pd.to_timedelta)\n",
    "df['TotalSeconds'] = df['40K'].apply(lambda x: timedelta.total_seconds\n",
    "(x))\n",
    "df['HalfSeconds'] = df['Half'].apply(lambda x: timedelta.total_seconds\n",
    "(x))"
   ]
  },
  {
   "cell_type": "code",
   "execution_count": 6,
   "metadata": {},
   "outputs": [
    {
     "output_type": "execute_result",
     "data": {
      "text/plain": "     Age M/F         City State Country     Half      40K     Pace  \\\nBib                                                                  \n5     21   M  Addis Ababa   NaN     ETH 01:06:45 02:05:59  0:05:04   \n1     26   M         Ambo   NaN     ETH 01:06:46 02:05:59  0:05:06   \n6     31   M  Addis Ababa   NaN     ETH 01:06:44 02:06:47  0:05:07   \n11    33   M       Kitale   NaN     KEN 01:06:46 02:06:47  0:05:07   \n14    23   M      Eldoret   NaN     KEN 01:06:46 02:08:11  0:05:11   \n\n     TotalSeconds  HalfSeconds  \nBib                             \n5          7559.0       4005.0  \n1          7559.0       4006.0  \n6          7607.0       4004.0  \n11         7607.0       4006.0  \n14         7691.0       4006.0  ",
      "text/html": "<div>\n<style scoped>\n    .dataframe tbody tr th:only-of-type {\n        vertical-align: middle;\n    }\n\n    .dataframe tbody tr th {\n        vertical-align: top;\n    }\n\n    .dataframe thead th {\n        text-align: right;\n    }\n</style>\n<table border=\"1\" class=\"dataframe\">\n  <thead>\n    <tr style=\"text-align: right;\">\n      <th></th>\n      <th>Age</th>\n      <th>M/F</th>\n      <th>City</th>\n      <th>State</th>\n      <th>Country</th>\n      <th>Half</th>\n      <th>40K</th>\n      <th>Pace</th>\n      <th>TotalSeconds</th>\n      <th>HalfSeconds</th>\n    </tr>\n    <tr>\n      <th>Bib</th>\n      <th></th>\n      <th></th>\n      <th></th>\n      <th></th>\n      <th></th>\n      <th></th>\n      <th></th>\n      <th></th>\n      <th></th>\n      <th></th>\n    </tr>\n  </thead>\n  <tbody>\n    <tr>\n      <th>5</th>\n      <td>21</td>\n      <td>M</td>\n      <td>Addis Ababa</td>\n      <td>NaN</td>\n      <td>ETH</td>\n      <td>01:06:45</td>\n      <td>02:05:59</td>\n      <td>0:05:04</td>\n      <td>7559.0</td>\n      <td>4005.0</td>\n    </tr>\n    <tr>\n      <th>1</th>\n      <td>26</td>\n      <td>M</td>\n      <td>Ambo</td>\n      <td>NaN</td>\n      <td>ETH</td>\n      <td>01:06:46</td>\n      <td>02:05:59</td>\n      <td>0:05:06</td>\n      <td>7559.0</td>\n      <td>4006.0</td>\n    </tr>\n    <tr>\n      <th>6</th>\n      <td>31</td>\n      <td>M</td>\n      <td>Addis Ababa</td>\n      <td>NaN</td>\n      <td>ETH</td>\n      <td>01:06:44</td>\n      <td>02:06:47</td>\n      <td>0:05:07</td>\n      <td>7607.0</td>\n      <td>4004.0</td>\n    </tr>\n    <tr>\n      <th>11</th>\n      <td>33</td>\n      <td>M</td>\n      <td>Kitale</td>\n      <td>NaN</td>\n      <td>KEN</td>\n      <td>01:06:46</td>\n      <td>02:06:47</td>\n      <td>0:05:07</td>\n      <td>7607.0</td>\n      <td>4006.0</td>\n    </tr>\n    <tr>\n      <th>14</th>\n      <td>23</td>\n      <td>M</td>\n      <td>Eldoret</td>\n      <td>NaN</td>\n      <td>KEN</td>\n      <td>01:06:46</td>\n      <td>02:08:11</td>\n      <td>0:05:11</td>\n      <td>7691.0</td>\n      <td>4006.0</td>\n    </tr>\n  </tbody>\n</table>\n</div>"
     },
     "metadata": {},
     "execution_count": 6
    }
   ],
   "source": [
    "df.head()"
   ]
  },
  {
   "cell_type": "code",
   "execution_count": 10,
   "metadata": {},
   "outputs": [
    {
     "output_type": "execute_result",
     "data": {
      "text/plain": "M/F             F             M\nAge                            \n18   16050.666667  14554.615385\n19   15351.958333  12156.529412\n20   13835.931818  12111.100000\n21   14681.027027  12408.360465\n22   14366.421053  11872.666667",
      "text/html": "<div>\n<style scoped>\n    .dataframe tbody tr th:only-of-type {\n        vertical-align: middle;\n    }\n\n    .dataframe tbody tr th {\n        vertical-align: top;\n    }\n\n    .dataframe thead th {\n        text-align: right;\n    }\n</style>\n<table border=\"1\" class=\"dataframe\">\n  <thead>\n    <tr style=\"text-align: right;\">\n      <th>M/F</th>\n      <th>F</th>\n      <th>M</th>\n    </tr>\n    <tr>\n      <th>Age</th>\n      <th></th>\n      <th></th>\n    </tr>\n  </thead>\n  <tbody>\n    <tr>\n      <th>18</th>\n      <td>16050.666667</td>\n      <td>14554.615385</td>\n    </tr>\n    <tr>\n      <th>19</th>\n      <td>15351.958333</td>\n      <td>12156.529412</td>\n    </tr>\n    <tr>\n      <th>20</th>\n      <td>13835.931818</td>\n      <td>12111.100000</td>\n    </tr>\n    <tr>\n      <th>21</th>\n      <td>14681.027027</td>\n      <td>12408.360465</td>\n    </tr>\n    <tr>\n      <th>22</th>\n      <td>14366.421053</td>\n      <td>11872.666667</td>\n    </tr>\n  </tbody>\n</table>\n</div>"
     },
     "metadata": {},
     "execution_count": 10
    }
   ],
   "source": [
    "df.pivot_table(values = 'TotalSeconds', index = 'Age', columns = 'M/F', aggfunc='mean').head()"
   ]
  },
  {
   "cell_type": "code",
   "execution_count": 11,
   "metadata": {},
   "outputs": [
    {
     "output_type": "execute_result",
     "data": {
      "text/plain": "     HalfSeconds               TotalSeconds              \nM/F            F            M             F             M\nAge                                                      \n18   7999.888889  7078.538462  16050.666667  14554.615385\n19   7473.666667  5817.764706  15351.958333  12156.529412\n20   6871.045455  5716.800000  13835.931818  12111.100000\n21   7148.554054  5929.627907  14681.027027  12408.360465\n22   7091.097744  5751.000000  14366.421053  11872.666667",
      "text/html": "<div>\n<style scoped>\n    .dataframe tbody tr th:only-of-type {\n        vertical-align: middle;\n    }\n\n    .dataframe tbody tr th {\n        vertical-align: top;\n    }\n\n    .dataframe thead tr th {\n        text-align: left;\n    }\n\n    .dataframe thead tr:last-of-type th {\n        text-align: right;\n    }\n</style>\n<table border=\"1\" class=\"dataframe\">\n  <thead>\n    <tr>\n      <th></th>\n      <th colspan=\"2\" halign=\"left\">HalfSeconds</th>\n      <th colspan=\"2\" halign=\"left\">TotalSeconds</th>\n    </tr>\n    <tr>\n      <th>M/F</th>\n      <th>F</th>\n      <th>M</th>\n      <th>F</th>\n      <th>M</th>\n    </tr>\n    <tr>\n      <th>Age</th>\n      <th></th>\n      <th></th>\n      <th></th>\n      <th></th>\n    </tr>\n  </thead>\n  <tbody>\n    <tr>\n      <th>18</th>\n      <td>7999.888889</td>\n      <td>7078.538462</td>\n      <td>16050.666667</td>\n      <td>14554.615385</td>\n    </tr>\n    <tr>\n      <th>19</th>\n      <td>7473.666667</td>\n      <td>5817.764706</td>\n      <td>15351.958333</td>\n      <td>12156.529412</td>\n    </tr>\n    <tr>\n      <th>20</th>\n      <td>6871.045455</td>\n      <td>5716.800000</td>\n      <td>13835.931818</td>\n      <td>12111.100000</td>\n    </tr>\n    <tr>\n      <th>21</th>\n      <td>7148.554054</td>\n      <td>5929.627907</td>\n      <td>14681.027027</td>\n      <td>12408.360465</td>\n    </tr>\n    <tr>\n      <th>22</th>\n      <td>7091.097744</td>\n      <td>5751.000000</td>\n      <td>14366.421053</td>\n      <td>11872.666667</td>\n    </tr>\n  </tbody>\n</table>\n</div>"
     },
     "metadata": {},
     "execution_count": 11
    }
   ],
   "source": [
    "df.pivot_table(values = ['HalfSeconds','TotalSeconds'], index = 'Age', columns = 'M/F', aggfunc='mean').head()"
   ]
  },
  {
   "cell_type": "code",
   "execution_count": 12,
   "metadata": {},
   "outputs": [],
   "source": [
    "pt = df.pivot_table(values = ['HalfSeconds','TotalSeconds'], index = 'Age', columns = 'M/F', aggfunc='mean')"
   ]
  },
  {
   "cell_type": "code",
   "execution_count": 16,
   "metadata": {},
   "outputs": [
    {
     "output_type": "execute_result",
     "data": {
      "text/plain": "M/F            F                          M              \n     HalfSeconds  TotalSeconds  HalfSeconds  TotalSeconds\nAge                                                      \n18   7999.888889  16050.666667  7078.538462  14554.615385\n19   7473.666667  15351.958333  5817.764706  12156.529412\n20   6871.045455  13835.931818  5716.800000  12111.100000\n21   7148.554054  14681.027027  5929.627907  12408.360465\n22   7091.097744  14366.421053  5751.000000  11872.666667",
      "text/html": "<div>\n<style scoped>\n    .dataframe tbody tr th:only-of-type {\n        vertical-align: middle;\n    }\n\n    .dataframe tbody tr th {\n        vertical-align: top;\n    }\n\n    .dataframe thead tr th {\n        text-align: left;\n    }\n\n    .dataframe thead tr:last-of-type th {\n        text-align: right;\n    }\n</style>\n<table border=\"1\" class=\"dataframe\">\n  <thead>\n    <tr>\n      <th>M/F</th>\n      <th colspan=\"2\" halign=\"left\">F</th>\n      <th colspan=\"2\" halign=\"left\">M</th>\n    </tr>\n    <tr>\n      <th></th>\n      <th>HalfSeconds</th>\n      <th>TotalSeconds</th>\n      <th>HalfSeconds</th>\n      <th>TotalSeconds</th>\n    </tr>\n    <tr>\n      <th>Age</th>\n      <th></th>\n      <th></th>\n      <th></th>\n      <th></th>\n    </tr>\n  </thead>\n  <tbody>\n    <tr>\n      <th>18</th>\n      <td>7999.888889</td>\n      <td>16050.666667</td>\n      <td>7078.538462</td>\n      <td>14554.615385</td>\n    </tr>\n    <tr>\n      <th>19</th>\n      <td>7473.666667</td>\n      <td>15351.958333</td>\n      <td>5817.764706</td>\n      <td>12156.529412</td>\n    </tr>\n    <tr>\n      <th>20</th>\n      <td>6871.045455</td>\n      <td>13835.931818</td>\n      <td>5716.800000</td>\n      <td>12111.100000</td>\n    </tr>\n    <tr>\n      <th>21</th>\n      <td>7148.554054</td>\n      <td>14681.027027</td>\n      <td>5929.627907</td>\n      <td>12408.360465</td>\n    </tr>\n    <tr>\n      <th>22</th>\n      <td>7091.097744</td>\n      <td>14366.421053</td>\n      <td>5751.000000</td>\n      <td>11872.666667</td>\n    </tr>\n  </tbody>\n</table>\n</div>"
     },
     "metadata": {},
     "execution_count": 16
    }
   ],
   "source": [
    "pt.swaplevel(axis = 'columns').sort_index(axis = \"columns\").head()"
   ]
  },
  {
   "cell_type": "code",
   "execution_count": 18,
   "metadata": {},
   "outputs": [],
   "source": [
    "pt2 = df.pivot_table(index = 'Age', columns = 'M/F', values = 'City', aggfunc = \"count\")"
   ]
  },
  {
   "cell_type": "code",
   "execution_count": 19,
   "metadata": {},
   "outputs": [
    {
     "output_type": "execute_result",
     "data": {
      "text/plain": "M/F      F     M\nAge             \n18     9.0  13.0\n19    24.0  17.0\n20    44.0  40.0\n21    74.0  86.0\n22   133.0  93.0",
      "text/html": "<div>\n<style scoped>\n    .dataframe tbody tr th:only-of-type {\n        vertical-align: middle;\n    }\n\n    .dataframe tbody tr th {\n        vertical-align: top;\n    }\n\n    .dataframe thead th {\n        text-align: right;\n    }\n</style>\n<table border=\"1\" class=\"dataframe\">\n  <thead>\n    <tr style=\"text-align: right;\">\n      <th>M/F</th>\n      <th>F</th>\n      <th>M</th>\n    </tr>\n    <tr>\n      <th>Age</th>\n      <th></th>\n      <th></th>\n    </tr>\n  </thead>\n  <tbody>\n    <tr>\n      <th>18</th>\n      <td>9.0</td>\n      <td>13.0</td>\n    </tr>\n    <tr>\n      <th>19</th>\n      <td>24.0</td>\n      <td>17.0</td>\n    </tr>\n    <tr>\n      <th>20</th>\n      <td>44.0</td>\n      <td>40.0</td>\n    </tr>\n    <tr>\n      <th>21</th>\n      <td>74.0</td>\n      <td>86.0</td>\n    </tr>\n    <tr>\n      <th>22</th>\n      <td>133.0</td>\n      <td>93.0</td>\n    </tr>\n  </tbody>\n</table>\n</div>"
     },
     "metadata": {},
     "execution_count": 19
    }
   ],
   "source": [
    "pt2.head()"
   ]
  },
  {
   "cell_type": "code",
   "execution_count": 22,
   "metadata": {},
   "outputs": [
    {
     "output_type": "execute_result",
     "data": {
      "text/plain": "     City\nAge      \n18     22\n19     41\n20     84\n21    160\n22    226",
      "text/html": "<div>\n<style scoped>\n    .dataframe tbody tr th:only-of-type {\n        vertical-align: middle;\n    }\n\n    .dataframe tbody tr th {\n        vertical-align: top;\n    }\n\n    .dataframe thead th {\n        text-align: right;\n    }\n</style>\n<table border=\"1\" class=\"dataframe\">\n  <thead>\n    <tr style=\"text-align: right;\">\n      <th></th>\n      <th>City</th>\n    </tr>\n    <tr>\n      <th>Age</th>\n      <th></th>\n    </tr>\n  </thead>\n  <tbody>\n    <tr>\n      <th>18</th>\n      <td>22</td>\n    </tr>\n    <tr>\n      <th>19</th>\n      <td>41</td>\n    </tr>\n    <tr>\n      <th>20</th>\n      <td>84</td>\n    </tr>\n    <tr>\n      <th>21</th>\n      <td>160</td>\n    </tr>\n    <tr>\n      <th>22</th>\n      <td>226</td>\n    </tr>\n  </tbody>\n</table>\n</div>"
     },
     "metadata": {},
     "execution_count": 22
    }
   ],
   "source": [
    "df.pivot_table(index = 'Age', values = 'City', aggfunc = \"count\").head()"
   ]
  },
  {
   "cell_type": "code",
   "execution_count": 20,
   "metadata": {},
   "outputs": [
    {
     "output_type": "execute_result",
     "data": {
      "text/plain": "         City\nCountry      \nALB         1\nAND         1\nARG        26\nAUS       152\nAUT        27",
      "text/html": "<div>\n<style scoped>\n    .dataframe tbody tr th:only-of-type {\n        vertical-align: middle;\n    }\n\n    .dataframe tbody tr th {\n        vertical-align: top;\n    }\n\n    .dataframe thead th {\n        text-align: right;\n    }\n</style>\n<table border=\"1\" class=\"dataframe\">\n  <thead>\n    <tr style=\"text-align: right;\">\n      <th></th>\n      <th>City</th>\n    </tr>\n    <tr>\n      <th>Country</th>\n      <th></th>\n    </tr>\n  </thead>\n  <tbody>\n    <tr>\n      <th>ALB</th>\n      <td>1</td>\n    </tr>\n    <tr>\n      <th>AND</th>\n      <td>1</td>\n    </tr>\n    <tr>\n      <th>ARG</th>\n      <td>26</td>\n    </tr>\n    <tr>\n      <th>AUS</th>\n      <td>152</td>\n    </tr>\n    <tr>\n      <th>AUT</th>\n      <td>27</td>\n    </tr>\n  </tbody>\n</table>\n</div>"
     },
     "metadata": {},
     "execution_count": 20
    }
   ],
   "source": [
    "df.pivot_table(index=\"Country\",aggfunc='count',values='City').head()"
   ]
  },
  {
   "cell_type": "code",
   "execution_count": 23,
   "metadata": {},
   "outputs": [],
   "source": [
    "df_country = df.pivot_table(index=\"Country\",aggfunc='count',values='City')"
   ]
  },
  {
   "cell_type": "code",
   "execution_count": 30,
   "metadata": {},
   "outputs": [
    {
     "output_type": "execute_result",
     "data": {
      "text/plain": "         City\nCountry      \nALB         1\nVGB         1\nUGA         1\nROU         1\nPAK         1",
      "text/html": "<div>\n<style scoped>\n    .dataframe tbody tr th:only-of-type {\n        vertical-align: middle;\n    }\n\n    .dataframe tbody tr th {\n        vertical-align: top;\n    }\n\n    .dataframe thead th {\n        text-align: right;\n    }\n</style>\n<table border=\"1\" class=\"dataframe\">\n  <thead>\n    <tr style=\"text-align: right;\">\n      <th></th>\n      <th>City</th>\n    </tr>\n    <tr>\n      <th>Country</th>\n      <th></th>\n    </tr>\n  </thead>\n  <tbody>\n    <tr>\n      <th>ALB</th>\n      <td>1</td>\n    </tr>\n    <tr>\n      <th>VGB</th>\n      <td>1</td>\n    </tr>\n    <tr>\n      <th>UGA</th>\n      <td>1</td>\n    </tr>\n    <tr>\n      <th>ROU</th>\n      <td>1</td>\n    </tr>\n    <tr>\n      <th>PAK</th>\n      <td>1</td>\n    </tr>\n  </tbody>\n</table>\n</div>"
     },
     "metadata": {},
     "execution_count": 30
    }
   ],
   "source": [
    "df_country.sort_values(by=\"City\").head()"
   ]
  },
  {
   "cell_type": "code",
   "execution_count": 31,
   "metadata": {},
   "outputs": [],
   "source": [
    "df_cities = df.pivot_table(index = [\"Country\", \"State\", \"City\"], aggfunc = 'mean', values = \"TotalSeconds\")"
   ]
  },
  {
   "cell_type": "code",
   "execution_count": 32,
   "metadata": {},
   "outputs": [
    {
     "output_type": "execute_result",
     "data": {
      "text/plain": "                         TotalSeconds\nCountry State City                   \nCAN     AB    Airdrie    11211.000000\n              Ardrossan  12644.000000\n              Calgary    12546.186813\n              Cochrane   12879.500000\n              Devon      14414.500000",
      "text/html": "<div>\n<style scoped>\n    .dataframe tbody tr th:only-of-type {\n        vertical-align: middle;\n    }\n\n    .dataframe tbody tr th {\n        vertical-align: top;\n    }\n\n    .dataframe thead th {\n        text-align: right;\n    }\n</style>\n<table border=\"1\" class=\"dataframe\">\n  <thead>\n    <tr style=\"text-align: right;\">\n      <th></th>\n      <th></th>\n      <th></th>\n      <th>TotalSeconds</th>\n    </tr>\n    <tr>\n      <th>Country</th>\n      <th>State</th>\n      <th>City</th>\n      <th></th>\n    </tr>\n  </thead>\n  <tbody>\n    <tr>\n      <th rowspan=\"5\" valign=\"top\">CAN</th>\n      <th rowspan=\"5\" valign=\"top\">AB</th>\n      <th>Airdrie</th>\n      <td>11211.000000</td>\n    </tr>\n    <tr>\n      <th>Ardrossan</th>\n      <td>12644.000000</td>\n    </tr>\n    <tr>\n      <th>Calgary</th>\n      <td>12546.186813</td>\n    </tr>\n    <tr>\n      <th>Cochrane</th>\n      <td>12879.500000</td>\n    </tr>\n    <tr>\n      <th>Devon</th>\n      <td>14414.500000</td>\n    </tr>\n  </tbody>\n</table>\n</div>"
     },
     "metadata": {},
     "execution_count": 32
    }
   ],
   "source": [
    "df_cities.head()"
   ]
  },
  {
   "cell_type": "code",
   "execution_count": 34,
   "metadata": {},
   "outputs": [
    {
     "output_type": "execute_result",
     "data": {
      "text/plain": "                            TotalSeconds\nCountry State City                      \nUSA     WI    Reedsburg          28461.0\n        TX    Justin             23816.0\n        MS    Olive Branch       21878.0\n        FL    Estero             21468.0\n        TX    Fresno             20919.0",
      "text/html": "<div>\n<style scoped>\n    .dataframe tbody tr th:only-of-type {\n        vertical-align: middle;\n    }\n\n    .dataframe tbody tr th {\n        vertical-align: top;\n    }\n\n    .dataframe thead th {\n        text-align: right;\n    }\n</style>\n<table border=\"1\" class=\"dataframe\">\n  <thead>\n    <tr style=\"text-align: right;\">\n      <th></th>\n      <th></th>\n      <th></th>\n      <th>TotalSeconds</th>\n    </tr>\n    <tr>\n      <th>Country</th>\n      <th>State</th>\n      <th>City</th>\n      <th></th>\n    </tr>\n  </thead>\n  <tbody>\n    <tr>\n      <th rowspan=\"5\" valign=\"top\">USA</th>\n      <th>WI</th>\n      <th>Reedsburg</th>\n      <td>28461.0</td>\n    </tr>\n    <tr>\n      <th>TX</th>\n      <th>Justin</th>\n      <td>23816.0</td>\n    </tr>\n    <tr>\n      <th>MS</th>\n      <th>Olive Branch</th>\n      <td>21878.0</td>\n    </tr>\n    <tr>\n      <th>FL</th>\n      <th>Estero</th>\n      <td>21468.0</td>\n    </tr>\n    <tr>\n      <th>TX</th>\n      <th>Fresno</th>\n      <td>20919.0</td>\n    </tr>\n  </tbody>\n</table>\n</div>"
     },
     "metadata": {},
     "execution_count": 34
    }
   ],
   "source": [
    "df_cities.sort_values(by=\"TotalSeconds\", ascending=False).head()"
   ]
  },
  {
   "cell_type": "code",
   "execution_count": null,
   "metadata": {},
   "outputs": [],
   "source": []
  }
 ],
 "metadata": {
  "language_info": {
   "codemirror_mode": {
    "name": "ipython",
    "version": 3
   },
   "file_extension": ".py",
   "mimetype": "text/x-python",
   "name": "python",
   "nbconvert_exporter": "python",
   "pygments_lexer": "ipython3",
   "version": "3.8.2-final"
  },
  "orig_nbformat": 2,
  "kernelspec": {
   "name": "python38264bitdatasciencef2t2jzuxvenv755777717192484c92e98af808cd61d4",
   "display_name": "Python 3.8.2 64-bit ('Data_Science-f2T2jZux': venv)"
  }
 },
 "nbformat": 4,
 "nbformat_minor": 2
}