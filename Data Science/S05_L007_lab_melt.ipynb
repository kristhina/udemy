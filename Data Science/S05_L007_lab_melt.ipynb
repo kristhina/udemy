{
 "cells": [
  {
   "cell_type": "code",
   "execution_count": 1,
   "metadata": {},
   "outputs": [],
   "source": [
    "import pandas as pd\n",
    "import numpy as np"
   ]
  },
  {
   "cell_type": "code",
   "execution_count": 7,
   "metadata": {},
   "outputs": [],
   "source": [
    "from datetime import datetime\n",
    "from datetime import timedelta\n",
    "import time"
   ]
  },
  {
   "cell_type": "code",
   "execution_count": 8,
   "metadata": {},
   "outputs": [],
   "source": [
    "df = pd.read_csv(\"dane/course-files/marathon_results_2016.csv\", index_col='Bib', usecols=['Bib','40K','Half','Pace','Age','M/F','Country','State','City'])"
   ]
  },
  {
   "cell_type": "code",
   "execution_count": 9,
   "metadata": {},
   "outputs": [
    {
     "output_type": "execute_result",
     "data": {
      "text/plain": "     Age M/F         City State Country     Half      40K     Pace\nBib                                                               \n5     21   M  Addis Ababa   NaN     ETH  1:06:45  2:05:59  0:05:04\n1     26   M         Ambo   NaN     ETH  1:06:46  2:05:59  0:05:06\n6     31   M  Addis Ababa   NaN     ETH  1:06:44  2:06:47  0:05:07\n11    33   M       Kitale   NaN     KEN  1:06:46  2:06:47  0:05:07\n14    23   M      Eldoret   NaN     KEN  1:06:46  2:08:11  0:05:11",
      "text/html": "<div>\n<style scoped>\n    .dataframe tbody tr th:only-of-type {\n        vertical-align: middle;\n    }\n\n    .dataframe tbody tr th {\n        vertical-align: top;\n    }\n\n    .dataframe thead th {\n        text-align: right;\n    }\n</style>\n<table border=\"1\" class=\"dataframe\">\n  <thead>\n    <tr style=\"text-align: right;\">\n      <th></th>\n      <th>Age</th>\n      <th>M/F</th>\n      <th>City</th>\n      <th>State</th>\n      <th>Country</th>\n      <th>Half</th>\n      <th>40K</th>\n      <th>Pace</th>\n    </tr>\n    <tr>\n      <th>Bib</th>\n      <th></th>\n      <th></th>\n      <th></th>\n      <th></th>\n      <th></th>\n      <th></th>\n      <th></th>\n      <th></th>\n    </tr>\n  </thead>\n  <tbody>\n    <tr>\n      <th>5</th>\n      <td>21</td>\n      <td>M</td>\n      <td>Addis Ababa</td>\n      <td>NaN</td>\n      <td>ETH</td>\n      <td>1:06:45</td>\n      <td>2:05:59</td>\n      <td>0:05:04</td>\n    </tr>\n    <tr>\n      <th>1</th>\n      <td>26</td>\n      <td>M</td>\n      <td>Ambo</td>\n      <td>NaN</td>\n      <td>ETH</td>\n      <td>1:06:46</td>\n      <td>2:05:59</td>\n      <td>0:05:06</td>\n    </tr>\n    <tr>\n      <th>6</th>\n      <td>31</td>\n      <td>M</td>\n      <td>Addis Ababa</td>\n      <td>NaN</td>\n      <td>ETH</td>\n      <td>1:06:44</td>\n      <td>2:06:47</td>\n      <td>0:05:07</td>\n    </tr>\n    <tr>\n      <th>11</th>\n      <td>33</td>\n      <td>M</td>\n      <td>Kitale</td>\n      <td>NaN</td>\n      <td>KEN</td>\n      <td>1:06:46</td>\n      <td>2:06:47</td>\n      <td>0:05:07</td>\n    </tr>\n    <tr>\n      <th>14</th>\n      <td>23</td>\n      <td>M</td>\n      <td>Eldoret</td>\n      <td>NaN</td>\n      <td>KEN</td>\n      <td>1:06:46</td>\n      <td>2:08:11</td>\n      <td>0:05:11</td>\n    </tr>\n  </tbody>\n</table>\n</div>"
     },
     "metadata": {},
     "execution_count": 9
    }
   ],
   "source": [
    "df.head()"
   ]
  },
  {
   "cell_type": "code",
   "execution_count": 10,
   "metadata": {},
   "outputs": [
    {
     "output_type": "execute_result",
     "data": {
      "text/plain": "M/F             F             M\nAge                            \n18   16050.666667  14554.615385\n19   15351.958333  12156.529412\n20   13835.931818  12111.100000\n21   14681.027027  12408.360465\n22   14366.421053  11872.666667",
      "text/html": "<div>\n<style scoped>\n    .dataframe tbody tr th:only-of-type {\n        vertical-align: middle;\n    }\n\n    .dataframe tbody tr th {\n        vertical-align: top;\n    }\n\n    .dataframe thead th {\n        text-align: right;\n    }\n</style>\n<table border=\"1\" class=\"dataframe\">\n  <thead>\n    <tr style=\"text-align: right;\">\n      <th>M/F</th>\n      <th>F</th>\n      <th>M</th>\n    </tr>\n    <tr>\n      <th>Age</th>\n      <th></th>\n      <th></th>\n    </tr>\n  </thead>\n  <tbody>\n    <tr>\n      <th>18</th>\n      <td>16050.666667</td>\n      <td>14554.615385</td>\n    </tr>\n    <tr>\n      <th>19</th>\n      <td>15351.958333</td>\n      <td>12156.529412</td>\n    </tr>\n    <tr>\n      <th>20</th>\n      <td>13835.931818</td>\n      <td>12111.100000</td>\n    </tr>\n    <tr>\n      <th>21</th>\n      <td>14681.027027</td>\n      <td>12408.360465</td>\n    </tr>\n    <tr>\n      <th>22</th>\n      <td>14366.421053</td>\n      <td>11872.666667</td>\n    </tr>\n  </tbody>\n</table>\n</div>"
     },
     "metadata": {},
     "execution_count": 10
    }
   ],
   "source": [
    "df['40K'] = df['40K'].apply(pd.to_timedelta)\n",
    "df['Half'] = df['Half'].apply(pd.to_timedelta)\n",
    "df['TotalSeconds'] = df['40K'].apply(lambda x: timedelta.total_seconds(x))\n",
    "df['HalfSeconds'] = df['Half'].apply(lambda x: timedelta.total_seconds(x))\n",
    "df = df.pivot_table(index=\"Age\",columns=\"M/F\",values=\"TotalSeconds\").head()\n",
    "df.head()"
   ]
  },
  {
   "cell_type": "code",
   "execution_count": 11,
   "metadata": {},
   "outputs": [],
   "source": [
    "df.reset_index(inplace=True)"
   ]
  },
  {
   "cell_type": "code",
   "execution_count": 12,
   "metadata": {},
   "outputs": [
    {
     "output_type": "execute_result",
     "data": {
      "text/plain": "M/F  Age             F             M\n0     18  16050.666667  14554.615385\n1     19  15351.958333  12156.529412\n2     20  13835.931818  12111.100000\n3     21  14681.027027  12408.360465\n4     22  14366.421053  11872.666667",
      "text/html": "<div>\n<style scoped>\n    .dataframe tbody tr th:only-of-type {\n        vertical-align: middle;\n    }\n\n    .dataframe tbody tr th {\n        vertical-align: top;\n    }\n\n    .dataframe thead th {\n        text-align: right;\n    }\n</style>\n<table border=\"1\" class=\"dataframe\">\n  <thead>\n    <tr style=\"text-align: right;\">\n      <th>M/F</th>\n      <th>Age</th>\n      <th>F</th>\n      <th>M</th>\n    </tr>\n  </thead>\n  <tbody>\n    <tr>\n      <th>0</th>\n      <td>18</td>\n      <td>16050.666667</td>\n      <td>14554.615385</td>\n    </tr>\n    <tr>\n      <th>1</th>\n      <td>19</td>\n      <td>15351.958333</td>\n      <td>12156.529412</td>\n    </tr>\n    <tr>\n      <th>2</th>\n      <td>20</td>\n      <td>13835.931818</td>\n      <td>12111.100000</td>\n    </tr>\n    <tr>\n      <th>3</th>\n      <td>21</td>\n      <td>14681.027027</td>\n      <td>12408.360465</td>\n    </tr>\n    <tr>\n      <th>4</th>\n      <td>22</td>\n      <td>14366.421053</td>\n      <td>11872.666667</td>\n    </tr>\n  </tbody>\n</table>\n</div>"
     },
     "metadata": {},
     "execution_count": 12
    }
   ],
   "source": [
    "df.head()"
   ]
  },
  {
   "cell_type": "code",
   "execution_count": 13,
   "metadata": {},
   "outputs": [
    {
     "output_type": "execute_result",
     "data": {
      "text/plain": "   Age M/F         value\n0   18   F  16050.666667\n1   19   F  15351.958333\n2   20   F  13835.931818\n3   21   F  14681.027027\n4   22   F  14366.421053",
      "text/html": "<div>\n<style scoped>\n    .dataframe tbody tr th:only-of-type {\n        vertical-align: middle;\n    }\n\n    .dataframe tbody tr th {\n        vertical-align: top;\n    }\n\n    .dataframe thead th {\n        text-align: right;\n    }\n</style>\n<table border=\"1\" class=\"dataframe\">\n  <thead>\n    <tr style=\"text-align: right;\">\n      <th></th>\n      <th>Age</th>\n      <th>M/F</th>\n      <th>value</th>\n    </tr>\n  </thead>\n  <tbody>\n    <tr>\n      <th>0</th>\n      <td>18</td>\n      <td>F</td>\n      <td>16050.666667</td>\n    </tr>\n    <tr>\n      <th>1</th>\n      <td>19</td>\n      <td>F</td>\n      <td>15351.958333</td>\n    </tr>\n    <tr>\n      <th>2</th>\n      <td>20</td>\n      <td>F</td>\n      <td>13835.931818</td>\n    </tr>\n    <tr>\n      <th>3</th>\n      <td>21</td>\n      <td>F</td>\n      <td>14681.027027</td>\n    </tr>\n    <tr>\n      <th>4</th>\n      <td>22</td>\n      <td>F</td>\n      <td>14366.421053</td>\n    </tr>\n  </tbody>\n</table>\n</div>"
     },
     "metadata": {},
     "execution_count": 13
    }
   ],
   "source": [
    "df.melt(id_vars=\"Age\").head()"
   ]
  },
  {
   "cell_type": "code",
   "execution_count": 14,
   "metadata": {},
   "outputs": [
    {
     "output_type": "execute_result",
     "data": {
      "text/plain": "   Age M/F  Total_Seconds\n0   18   F   16050.666667\n1   19   F   15351.958333\n2   20   F   13835.931818\n3   21   F   14681.027027\n4   22   F   14366.421053",
      "text/html": "<div>\n<style scoped>\n    .dataframe tbody tr th:only-of-type {\n        vertical-align: middle;\n    }\n\n    .dataframe tbody tr th {\n        vertical-align: top;\n    }\n\n    .dataframe thead th {\n        text-align: right;\n    }\n</style>\n<table border=\"1\" class=\"dataframe\">\n  <thead>\n    <tr style=\"text-align: right;\">\n      <th></th>\n      <th>Age</th>\n      <th>M/F</th>\n      <th>Total_Seconds</th>\n    </tr>\n  </thead>\n  <tbody>\n    <tr>\n      <th>0</th>\n      <td>18</td>\n      <td>F</td>\n      <td>16050.666667</td>\n    </tr>\n    <tr>\n      <th>1</th>\n      <td>19</td>\n      <td>F</td>\n      <td>15351.958333</td>\n    </tr>\n    <tr>\n      <th>2</th>\n      <td>20</td>\n      <td>F</td>\n      <td>13835.931818</td>\n    </tr>\n    <tr>\n      <th>3</th>\n      <td>21</td>\n      <td>F</td>\n      <td>14681.027027</td>\n    </tr>\n    <tr>\n      <th>4</th>\n      <td>22</td>\n      <td>F</td>\n      <td>14366.421053</td>\n    </tr>\n  </tbody>\n</table>\n</div>"
     },
     "metadata": {},
     "execution_count": 14
    }
   ],
   "source": [
    "df.melt(id_vars=\"Age\", value_name = \"Total_Seconds\").head()"
   ]
  },
  {
   "cell_type": "code",
   "execution_count": 15,
   "metadata": {},
   "outputs": [
    {
     "output_type": "execute_result",
     "data": {
      "text/plain": "   Age Sex  Total_Seconds\n0   18   F   16050.666667\n1   19   F   15351.958333\n2   20   F   13835.931818\n3   21   F   14681.027027\n4   22   F   14366.421053",
      "text/html": "<div>\n<style scoped>\n    .dataframe tbody tr th:only-of-type {\n        vertical-align: middle;\n    }\n\n    .dataframe tbody tr th {\n        vertical-align: top;\n    }\n\n    .dataframe thead th {\n        text-align: right;\n    }\n</style>\n<table border=\"1\" class=\"dataframe\">\n  <thead>\n    <tr style=\"text-align: right;\">\n      <th></th>\n      <th>Age</th>\n      <th>Sex</th>\n      <th>Total_Seconds</th>\n    </tr>\n  </thead>\n  <tbody>\n    <tr>\n      <th>0</th>\n      <td>18</td>\n      <td>F</td>\n      <td>16050.666667</td>\n    </tr>\n    <tr>\n      <th>1</th>\n      <td>19</td>\n      <td>F</td>\n      <td>15351.958333</td>\n    </tr>\n    <tr>\n      <th>2</th>\n      <td>20</td>\n      <td>F</td>\n      <td>13835.931818</td>\n    </tr>\n    <tr>\n      <th>3</th>\n      <td>21</td>\n      <td>F</td>\n      <td>14681.027027</td>\n    </tr>\n    <tr>\n      <th>4</th>\n      <td>22</td>\n      <td>F</td>\n      <td>14366.421053</td>\n    </tr>\n  </tbody>\n</table>\n</div>"
     },
     "metadata": {},
     "execution_count": 15
    }
   ],
   "source": [
    "df.melt(id_vars=\"Age\", value_name = \"Total_Seconds\", var_name = \"Sex\").head()"
   ]
  },
  {
   "cell_type": "code",
   "execution_count": 16,
   "metadata": {},
   "outputs": [],
   "source": [
    "df = pd.read_csv(\"dane/course-files/marathon_results_2016.csv\", index_col='Bib', usecols=['Bib','40K','Half','Pace','Age','M/F','Country','State','City'])"
   ]
  },
  {
   "cell_type": "code",
   "execution_count": 18,
   "metadata": {},
   "outputs": [
    {
     "output_type": "execute_result",
     "data": {
      "text/plain": "     HalfSeconds               TotalSeconds              \nM/F            F            M             F             M\nAge                                                      \n18   7999.888889  7078.538462  16050.666667  14554.615385\n19   7473.666667  5817.764706  15351.958333  12156.529412\n20   6871.045455  5716.800000  13835.931818  12111.100000\n21   7148.554054  5929.627907  14681.027027  12408.360465\n22   7091.097744  5751.000000  14366.421053  11872.666667",
      "text/html": "<div>\n<style scoped>\n    .dataframe tbody tr th:only-of-type {\n        vertical-align: middle;\n    }\n\n    .dataframe tbody tr th {\n        vertical-align: top;\n    }\n\n    .dataframe thead tr th {\n        text-align: left;\n    }\n\n    .dataframe thead tr:last-of-type th {\n        text-align: right;\n    }\n</style>\n<table border=\"1\" class=\"dataframe\">\n  <thead>\n    <tr>\n      <th></th>\n      <th colspan=\"2\" halign=\"left\">HalfSeconds</th>\n      <th colspan=\"2\" halign=\"left\">TotalSeconds</th>\n    </tr>\n    <tr>\n      <th>M/F</th>\n      <th>F</th>\n      <th>M</th>\n      <th>F</th>\n      <th>M</th>\n    </tr>\n    <tr>\n      <th>Age</th>\n      <th></th>\n      <th></th>\n      <th></th>\n      <th></th>\n    </tr>\n  </thead>\n  <tbody>\n    <tr>\n      <th>18</th>\n      <td>7999.888889</td>\n      <td>7078.538462</td>\n      <td>16050.666667</td>\n      <td>14554.615385</td>\n    </tr>\n    <tr>\n      <th>19</th>\n      <td>7473.666667</td>\n      <td>5817.764706</td>\n      <td>15351.958333</td>\n      <td>12156.529412</td>\n    </tr>\n    <tr>\n      <th>20</th>\n      <td>6871.045455</td>\n      <td>5716.800000</td>\n      <td>13835.931818</td>\n      <td>12111.100000</td>\n    </tr>\n    <tr>\n      <th>21</th>\n      <td>7148.554054</td>\n      <td>5929.627907</td>\n      <td>14681.027027</td>\n      <td>12408.360465</td>\n    </tr>\n    <tr>\n      <th>22</th>\n      <td>7091.097744</td>\n      <td>5751.000000</td>\n      <td>14366.421053</td>\n      <td>11872.666667</td>\n    </tr>\n  </tbody>\n</table>\n</div>"
     },
     "metadata": {},
     "execution_count": 18
    }
   ],
   "source": [
    "df['40K'] = df['40K'].apply(pd.to_timedelta)\n",
    "df['Half'] = df['Half'].apply(pd.to_timedelta)\n",
    "df['TotalSeconds'] = df['40K'].apply(lambda x: timedelta.total_seconds(x))\n",
    "df['HalfSeconds'] = df['Half'].apply(lambda x: timedelta.total_seconds(x))\n",
    "df = df.pivot_table(index=\"Age\",columns=\"M/F\",values=[\"HalfSeconds\",\"TotalSeconds\"]).head()\n",
    "df.head()"
   ]
  },
  {
   "cell_type": "code",
   "execution_count": 19,
   "metadata": {},
   "outputs": [],
   "source": [
    "df.reset_index(inplace = True)"
   ]
  },
  {
   "cell_type": "code",
   "execution_count": 20,
   "metadata": {},
   "outputs": [
    {
     "output_type": "execute_result",
     "data": {
      "text/plain": "    Age  HalfSeconds               TotalSeconds              \nM/F                F            M             F             M\n0    18  7999.888889  7078.538462  16050.666667  14554.615385\n1    19  7473.666667  5817.764706  15351.958333  12156.529412\n2    20  6871.045455  5716.800000  13835.931818  12111.100000\n3    21  7148.554054  5929.627907  14681.027027  12408.360465\n4    22  7091.097744  5751.000000  14366.421053  11872.666667",
      "text/html": "<div>\n<style scoped>\n    .dataframe tbody tr th:only-of-type {\n        vertical-align: middle;\n    }\n\n    .dataframe tbody tr th {\n        vertical-align: top;\n    }\n\n    .dataframe thead tr th {\n        text-align: left;\n    }\n</style>\n<table border=\"1\" class=\"dataframe\">\n  <thead>\n    <tr>\n      <th></th>\n      <th>Age</th>\n      <th colspan=\"2\" halign=\"left\">HalfSeconds</th>\n      <th colspan=\"2\" halign=\"left\">TotalSeconds</th>\n    </tr>\n    <tr>\n      <th>M/F</th>\n      <th></th>\n      <th>F</th>\n      <th>M</th>\n      <th>F</th>\n      <th>M</th>\n    </tr>\n  </thead>\n  <tbody>\n    <tr>\n      <th>0</th>\n      <td>18</td>\n      <td>7999.888889</td>\n      <td>7078.538462</td>\n      <td>16050.666667</td>\n      <td>14554.615385</td>\n    </tr>\n    <tr>\n      <th>1</th>\n      <td>19</td>\n      <td>7473.666667</td>\n      <td>5817.764706</td>\n      <td>15351.958333</td>\n      <td>12156.529412</td>\n    </tr>\n    <tr>\n      <th>2</th>\n      <td>20</td>\n      <td>6871.045455</td>\n      <td>5716.800000</td>\n      <td>13835.931818</td>\n      <td>12111.100000</td>\n    </tr>\n    <tr>\n      <th>3</th>\n      <td>21</td>\n      <td>7148.554054</td>\n      <td>5929.627907</td>\n      <td>14681.027027</td>\n      <td>12408.360465</td>\n    </tr>\n    <tr>\n      <th>4</th>\n      <td>22</td>\n      <td>7091.097744</td>\n      <td>5751.000000</td>\n      <td>14366.421053</td>\n      <td>11872.666667</td>\n    </tr>\n  </tbody>\n</table>\n</div>"
     },
     "metadata": {},
     "execution_count": 20
    }
   ],
   "source": [
    "df.head()"
   ]
  },
  {
   "cell_type": "code",
   "execution_count": 21,
   "metadata": {},
   "outputs": [
    {
     "output_type": "execute_result",
     "data": {
      "text/plain": "   Age          NaN M/F        value\n0   18  HalfSeconds   F  7999.888889\n1   19  HalfSeconds   F  7473.666667\n2   20  HalfSeconds   F  6871.045455\n3   21  HalfSeconds   F  7148.554054\n4   22  HalfSeconds   F  7091.097744",
      "text/html": "<div>\n<style scoped>\n    .dataframe tbody tr th:only-of-type {\n        vertical-align: middle;\n    }\n\n    .dataframe tbody tr th {\n        vertical-align: top;\n    }\n\n    .dataframe thead th {\n        text-align: right;\n    }\n</style>\n<table border=\"1\" class=\"dataframe\">\n  <thead>\n    <tr style=\"text-align: right;\">\n      <th></th>\n      <th>Age</th>\n      <th>NaN</th>\n      <th>M/F</th>\n      <th>value</th>\n    </tr>\n  </thead>\n  <tbody>\n    <tr>\n      <th>0</th>\n      <td>18</td>\n      <td>HalfSeconds</td>\n      <td>F</td>\n      <td>7999.888889</td>\n    </tr>\n    <tr>\n      <th>1</th>\n      <td>19</td>\n      <td>HalfSeconds</td>\n      <td>F</td>\n      <td>7473.666667</td>\n    </tr>\n    <tr>\n      <th>2</th>\n      <td>20</td>\n      <td>HalfSeconds</td>\n      <td>F</td>\n      <td>6871.045455</td>\n    </tr>\n    <tr>\n      <th>3</th>\n      <td>21</td>\n      <td>HalfSeconds</td>\n      <td>F</td>\n      <td>7148.554054</td>\n    </tr>\n    <tr>\n      <th>4</th>\n      <td>22</td>\n      <td>HalfSeconds</td>\n      <td>F</td>\n      <td>7091.097744</td>\n    </tr>\n  </tbody>\n</table>\n</div>"
     },
     "metadata": {},
     "execution_count": 21
    }
   ],
   "source": [
    "df.melt(id_vars = \"Age\").head()"
   ]
  },
  {
   "cell_type": "code",
   "execution_count": 22,
   "metadata": {},
   "outputs": [
    {
     "output_type": "execute_result",
     "data": {
      "text/plain": "   Age          NaN M/F        value\n0   18  HalfSeconds   F  7999.888889\n1   19  HalfSeconds   F  7473.666667\n2   20  HalfSeconds   F  6871.045455\n3   21  HalfSeconds   F  7148.554054\n4   22  HalfSeconds   F  7091.097744",
      "text/html": "<div>\n<style scoped>\n    .dataframe tbody tr th:only-of-type {\n        vertical-align: middle;\n    }\n\n    .dataframe tbody tr th {\n        vertical-align: top;\n    }\n\n    .dataframe thead th {\n        text-align: right;\n    }\n</style>\n<table border=\"1\" class=\"dataframe\">\n  <thead>\n    <tr style=\"text-align: right;\">\n      <th></th>\n      <th>Age</th>\n      <th>NaN</th>\n      <th>M/F</th>\n      <th>value</th>\n    </tr>\n  </thead>\n  <tbody>\n    <tr>\n      <th>0</th>\n      <td>18</td>\n      <td>HalfSeconds</td>\n      <td>F</td>\n      <td>7999.888889</td>\n    </tr>\n    <tr>\n      <th>1</th>\n      <td>19</td>\n      <td>HalfSeconds</td>\n      <td>F</td>\n      <td>7473.666667</td>\n    </tr>\n    <tr>\n      <th>2</th>\n      <td>20</td>\n      <td>HalfSeconds</td>\n      <td>F</td>\n      <td>6871.045455</td>\n    </tr>\n    <tr>\n      <th>3</th>\n      <td>21</td>\n      <td>HalfSeconds</td>\n      <td>F</td>\n      <td>7148.554054</td>\n    </tr>\n    <tr>\n      <th>4</th>\n      <td>22</td>\n      <td>HalfSeconds</td>\n      <td>F</td>\n      <td>7091.097744</td>\n    </tr>\n  </tbody>\n</table>\n</div>"
     },
     "metadata": {},
     "execution_count": 22
    }
   ],
   "source": [
    "df.melt(id_vars=\"Age\",value_vars=[\"HalfSeconds\",\"TotalSeconds\"]).head()"
   ]
  },
  {
   "cell_type": "code",
   "execution_count": 24,
   "metadata": {},
   "outputs": [
    {
     "output_type": "execute_result",
     "data": {
      "text/plain": "   Age          NaN M/F         Time\n0   18  HalfSeconds   F  7999.888889\n1   19  HalfSeconds   F  7473.666667\n2   20  HalfSeconds   F  6871.045455\n3   21  HalfSeconds   F  7148.554054\n4   22  HalfSeconds   F  7091.097744",
      "text/html": "<div>\n<style scoped>\n    .dataframe tbody tr th:only-of-type {\n        vertical-align: middle;\n    }\n\n    .dataframe tbody tr th {\n        vertical-align: top;\n    }\n\n    .dataframe thead th {\n        text-align: right;\n    }\n</style>\n<table border=\"1\" class=\"dataframe\">\n  <thead>\n    <tr style=\"text-align: right;\">\n      <th></th>\n      <th>Age</th>\n      <th>NaN</th>\n      <th>M/F</th>\n      <th>Time</th>\n    </tr>\n  </thead>\n  <tbody>\n    <tr>\n      <th>0</th>\n      <td>18</td>\n      <td>HalfSeconds</td>\n      <td>F</td>\n      <td>7999.888889</td>\n    </tr>\n    <tr>\n      <th>1</th>\n      <td>19</td>\n      <td>HalfSeconds</td>\n      <td>F</td>\n      <td>7473.666667</td>\n    </tr>\n    <tr>\n      <th>2</th>\n      <td>20</td>\n      <td>HalfSeconds</td>\n      <td>F</td>\n      <td>6871.045455</td>\n    </tr>\n    <tr>\n      <th>3</th>\n      <td>21</td>\n      <td>HalfSeconds</td>\n      <td>F</td>\n      <td>7148.554054</td>\n    </tr>\n    <tr>\n      <th>4</th>\n      <td>22</td>\n      <td>HalfSeconds</td>\n      <td>F</td>\n      <td>7091.097744</td>\n    </tr>\n  </tbody>\n</table>\n</div>"
     },
     "metadata": {},
     "execution_count": 24
    }
   ],
   "source": [
    "df.melt(id_vars=\"Age\",value_vars=[\"HalfSeconds\",\"TotalSeconds\"],value_name=\"Time\").head()"
   ]
  },
  {
   "cell_type": "code",
   "execution_count": null,
   "metadata": {},
   "outputs": [],
   "source": []
  }
 ],
 "metadata": {
  "language_info": {
   "codemirror_mode": {
    "name": "ipython",
    "version": 3
   },
   "file_extension": ".py",
   "mimetype": "text/x-python",
   "name": "python",
   "nbconvert_exporter": "python",
   "pygments_lexer": "ipython3",
   "version": "3.8.2-final"
  },
  "orig_nbformat": 2,
  "kernelspec": {
   "name": "python38264bitdatasciencef2t2jzuxvenv755777717192484c92e98af808cd61d4",
   "display_name": "Python 3.8.2 64-bit ('Data_Science-f2T2jZux': venv)"
  }
 },
 "nbformat": 4,
 "nbformat_minor": 2
}