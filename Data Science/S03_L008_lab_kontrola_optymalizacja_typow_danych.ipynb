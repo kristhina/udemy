{
 "cells": [
  {
   "cell_type": "code",
   "execution_count": 2,
   "metadata": {},
   "outputs": [],
   "source": [
    "import pandas as pd\n",
    "import numpy as np"
   ]
  },
  {
   "cell_type": "code",
   "execution_count": 11,
   "metadata": {},
   "outputs": [
    {
     "output_type": "execute_result",
     "data": {
      "text/plain": "            Year        Make               Model                        Class  \\\nVehicle ID                                                                      \n26587       1984  Alfa Romeo           GT V6 2.5             Minicompact Cars   \n27705       1984  Alfa Romeo           GT V6 2.5             Minicompact Cars   \n26561       1984  Alfa Romeo  Spider Veloce 2000                  Two Seaters   \n27681       1984  Alfa Romeo  Spider Veloce 2000                  Two Seaters   \n27550       1984  AM General   DJ Po Vehicle 2WD  Special Purpose Vehicle 2WD   \n\n           Fuel Type  Combined MPG (FT1)  \nVehicle ID                                \n26587        Regular                20.0  \n27705        Regular                20.0  \n26561        Regular                21.0  \n27681        Regular                21.0  \n27550        Regular                17.0  ",
      "text/html": "<div>\n<style scoped>\n    .dataframe tbody tr th:only-of-type {\n        vertical-align: middle;\n    }\n\n    .dataframe tbody tr th {\n        vertical-align: top;\n    }\n\n    .dataframe thead th {\n        text-align: right;\n    }\n</style>\n<table border=\"1\" class=\"dataframe\">\n  <thead>\n    <tr style=\"text-align: right;\">\n      <th></th>\n      <th>Year</th>\n      <th>Make</th>\n      <th>Model</th>\n      <th>Class</th>\n      <th>Fuel Type</th>\n      <th>Combined MPG (FT1)</th>\n    </tr>\n    <tr>\n      <th>Vehicle ID</th>\n      <th></th>\n      <th></th>\n      <th></th>\n      <th></th>\n      <th></th>\n      <th></th>\n    </tr>\n  </thead>\n  <tbody>\n    <tr>\n      <th>26587</th>\n      <td>1984</td>\n      <td>Alfa Romeo</td>\n      <td>GT V6 2.5</td>\n      <td>Minicompact Cars</td>\n      <td>Regular</td>\n      <td>20.0</td>\n    </tr>\n    <tr>\n      <th>27705</th>\n      <td>1984</td>\n      <td>Alfa Romeo</td>\n      <td>GT V6 2.5</td>\n      <td>Minicompact Cars</td>\n      <td>Regular</td>\n      <td>20.0</td>\n    </tr>\n    <tr>\n      <th>26561</th>\n      <td>1984</td>\n      <td>Alfa Romeo</td>\n      <td>Spider Veloce 2000</td>\n      <td>Two Seaters</td>\n      <td>Regular</td>\n      <td>21.0</td>\n    </tr>\n    <tr>\n      <th>27681</th>\n      <td>1984</td>\n      <td>Alfa Romeo</td>\n      <td>Spider Veloce 2000</td>\n      <td>Two Seaters</td>\n      <td>Regular</td>\n      <td>21.0</td>\n    </tr>\n    <tr>\n      <th>27550</th>\n      <td>1984</td>\n      <td>AM General</td>\n      <td>DJ Po Vehicle 2WD</td>\n      <td>Special Purpose Vehicle 2WD</td>\n      <td>Regular</td>\n      <td>17.0</td>\n    </tr>\n  </tbody>\n</table>\n</div>"
     },
     "metadata": {},
     "execution_count": 11
    }
   ],
   "source": [
    "fuel = pd.read_csv(\"dane/course-files/fuel.csv\", low_memory=False, usecols=['Vehicle ID','Year','Make','Model','Class','Fuel Type','Combined MPG (FT1)'], index_col=['Vehicle ID'])\n",
    "fuel.head()"
   ]
  },
  {
   "cell_type": "code",
   "execution_count": 12,
   "metadata": {},
   "outputs": [
    {
     "output_type": "stream",
     "name": "stdout",
     "text": "<class 'pandas.core.frame.DataFrame'>\nInt64Index: 31684 entries, 26587 to 32106\nData columns (total 6 columns):\n #   Column              Non-Null Count  Dtype  \n---  ------              --------------  -----  \n 0   Year                31684 non-null  int64  \n 1   Make                31684 non-null  object \n 2   Model               31683 non-null  object \n 3   Class               31683 non-null  object \n 4   Fuel Type           31683 non-null  object \n 5   Combined MPG (FT1)  31683 non-null  float64\ndtypes: float64(1), int64(1), object(4)\nmemory usage: 8.9 MB\n"
    }
   ],
   "source": [
    "fuel.info(memory_usage='deep')"
   ]
  },
  {
   "cell_type": "code",
   "execution_count": 15,
   "metadata": {},
   "outputs": [],
   "source": [
    "fuel['Year'] = fuel['Year'].astype('int32')"
   ]
  },
  {
   "cell_type": "code",
   "execution_count": 16,
   "metadata": {},
   "outputs": [
    {
     "output_type": "stream",
     "name": "stdout",
     "text": "<class 'pandas.core.frame.DataFrame'>\nInt64Index: 31684 entries, 26587 to 32106\nData columns (total 6 columns):\n #   Column              Non-Null Count  Dtype  \n---  ------              --------------  -----  \n 0   Year                31684 non-null  int32  \n 1   Make                31684 non-null  object \n 2   Model               31683 non-null  object \n 3   Class               31683 non-null  object \n 4   Fuel Type           31683 non-null  object \n 5   Combined MPG (FT1)  31683 non-null  float64\ndtypes: float64(1), int32(1), object(4)\nmemory usage: 8.8 MB\n"
    }
   ],
   "source": [
    "fuel.info(memory_usage='deep')"
   ]
  },
  {
   "cell_type": "code",
   "execution_count": 18,
   "metadata": {},
   "outputs": [
    {
     "output_type": "execute_result",
     "data": {
      "text/plain": "Chevrolet                 3389\nFord                      2721\nDodge                     2361\nGMC                       2174\nToyota                    1599\n                          ... \nCODA Automotive              1\nMcLaren Automotive           1\nExcalibur Autos              1\nE. P. Dutton, Inc.           1\nLambda Control Systems       1\nName: Make, Length: 128, dtype: int64"
     },
     "metadata": {},
     "execution_count": 18
    }
   ],
   "source": [
    "fuel['Make'].value_counts()"
   ]
  },
  {
   "cell_type": "code",
   "execution_count": 19,
   "metadata": {},
   "outputs": [],
   "source": [
    "fuel['Make']=fuel['Make'].astype('category')"
   ]
  },
  {
   "cell_type": "code",
   "execution_count": 20,
   "metadata": {},
   "outputs": [
    {
     "output_type": "stream",
     "name": "stdout",
     "text": "<class 'pandas.core.frame.DataFrame'>\nInt64Index: 31684 entries, 26587 to 32106\nData columns (total 6 columns):\n #   Column              Non-Null Count  Dtype   \n---  ------              --------------  -----   \n 0   Year                31684 non-null  int32   \n 1   Make                31684 non-null  category\n 2   Model               31683 non-null  object  \n 3   Class               31683 non-null  object  \n 4   Fuel Type           31683 non-null  object  \n 5   Combined MPG (FT1)  31683 non-null  float64 \ndtypes: category(1), float64(1), int32(1), object(3)\nmemory usage: 8.2 MB\n"
    }
   ],
   "source": [
    "fuel.info(memory_usage='deep')"
   ]
  },
  {
   "cell_type": "code",
   "execution_count": 21,
   "metadata": {},
   "outputs": [],
   "source": [
    "fuel['Model']=fuel['Model'].astype('category')\n",
    "fuel['Class']=fuel['Class'].astype('category')\n",
    "fuel['Fuel Type']=fuel['Fuel Type'].astype('category')"
   ]
  },
  {
   "cell_type": "code",
   "execution_count": 22,
   "metadata": {},
   "outputs": [
    {
     "output_type": "stream",
     "name": "stdout",
     "text": "<class 'pandas.core.frame.DataFrame'>\nInt64Index: 31684 entries, 26587 to 32106\nData columns (total 6 columns):\n #   Column              Non-Null Count  Dtype   \n---  ------              --------------  -----   \n 0   Year                31684 non-null  int32   \n 1   Make                31684 non-null  category\n 2   Model               31683 non-null  category\n 3   Class               31683 non-null  category\n 4   Fuel Type           31683 non-null  category\n 5   Combined MPG (FT1)  31683 non-null  float64 \ndtypes: category(4), float64(1), int32(1)\nmemory usage: 2.3 MB\n"
    }
   ],
   "source": [
    "fuel.info(memory_usage='deep')"
   ]
  },
  {
   "cell_type": "code",
   "execution_count": 23,
   "metadata": {},
   "outputs": [],
   "source": [
    "fuel['Combined MPG (FT1)']=fuel['Combined MPG (FT1)'].astype('float')"
   ]
  },
  {
   "cell_type": "code",
   "execution_count": 24,
   "metadata": {},
   "outputs": [
    {
     "output_type": "stream",
     "name": "stdout",
     "text": "<class 'pandas.core.frame.DataFrame'>\nInt64Index: 31684 entries, 26587 to 32106\nData columns (total 6 columns):\n #   Column              Non-Null Count  Dtype   \n---  ------              --------------  -----   \n 0   Year                31684 non-null  int32   \n 1   Make                31684 non-null  category\n 2   Model               31683 non-null  category\n 3   Class               31683 non-null  category\n 4   Fuel Type           31683 non-null  category\n 5   Combined MPG (FT1)  31683 non-null  float64 \ndtypes: category(4), float64(1), int32(1)\nmemory usage: 2.3 MB\n"
    }
   ],
   "source": [
    "fuel.info(memory_usage='deep')"
   ]
  },
  {
   "cell_type": "code",
   "execution_count": null,
   "metadata": {},
   "outputs": [],
   "source": []
  }
 ],
 "metadata": {
  "language_info": {
   "codemirror_mode": {
    "name": "ipython",
    "version": 3
   },
   "file_extension": ".py",
   "mimetype": "text/x-python",
   "name": "python",
   "nbconvert_exporter": "python",
   "pygments_lexer": "ipython3",
   "version": "3.8.2-final"
  },
  "orig_nbformat": 2,
  "kernelspec": {
   "name": "python38264bitdatasciencef2t2jzuxvenv755777717192484c92e98af808cd61d4",
   "display_name": "Python 3.8.2 64-bit ('Data_Science-f2T2jZux': venv)"
  }
 },
 "nbformat": 4,
 "nbformat_minor": 2
}