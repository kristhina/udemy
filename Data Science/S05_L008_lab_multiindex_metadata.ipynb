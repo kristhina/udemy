{
 "cells": [
  {
   "cell_type": "code",
   "execution_count": 2,
   "metadata": {},
   "outputs": [
    {
     "output_type": "execute_result",
     "data": {
      "text/plain": "   Activity Period Operating Airline Operating Airline IATA Code  \\\n0           200507      ATA Airlines                          TZ   \n1           200507      ATA Airlines                          TZ   \n2           200507      ATA Airlines                          TZ   \n3           200507        Air Canada                          AC   \n4           200507        Air Canada                          AC   \n\n  Published Airline Published Airline IATA Code    GEO Summary GEO Region  \\\n0      ATA Airlines                          TZ       Domestic         US   \n1      ATA Airlines                          TZ       Domestic         US   \n2      ATA Airlines                          TZ       Domestic         US   \n3        Air Canada                          AC  International     Canada   \n4        Air Canada                          AC  International     Canada   \n\n  Activity Type Code Price Category Code    Terminal Boarding Area  \\\n0           Deplaned            Low Fare  Terminal 1             B   \n1           Enplaned            Low Fare  Terminal 1             B   \n2     Thru / Transit            Low Fare  Terminal 1             B   \n3           Deplaned               Other  Terminal 1             B   \n4           Enplaned               Other  Terminal 1             B   \n\n   Passenger Count  \n0            27271  \n1            29131  \n2             5415  \n3            35156  \n4            34090  ",
      "text/html": "<div>\n<style scoped>\n    .dataframe tbody tr th:only-of-type {\n        vertical-align: middle;\n    }\n\n    .dataframe tbody tr th {\n        vertical-align: top;\n    }\n\n    .dataframe thead th {\n        text-align: right;\n    }\n</style>\n<table border=\"1\" class=\"dataframe\">\n  <thead>\n    <tr style=\"text-align: right;\">\n      <th></th>\n      <th>Activity Period</th>\n      <th>Operating Airline</th>\n      <th>Operating Airline IATA Code</th>\n      <th>Published Airline</th>\n      <th>Published Airline IATA Code</th>\n      <th>GEO Summary</th>\n      <th>GEO Region</th>\n      <th>Activity Type Code</th>\n      <th>Price Category Code</th>\n      <th>Terminal</th>\n      <th>Boarding Area</th>\n      <th>Passenger Count</th>\n    </tr>\n  </thead>\n  <tbody>\n    <tr>\n      <th>0</th>\n      <td>200507</td>\n      <td>ATA Airlines</td>\n      <td>TZ</td>\n      <td>ATA Airlines</td>\n      <td>TZ</td>\n      <td>Domestic</td>\n      <td>US</td>\n      <td>Deplaned</td>\n      <td>Low Fare</td>\n      <td>Terminal 1</td>\n      <td>B</td>\n      <td>27271</td>\n    </tr>\n    <tr>\n      <th>1</th>\n      <td>200507</td>\n      <td>ATA Airlines</td>\n      <td>TZ</td>\n      <td>ATA Airlines</td>\n      <td>TZ</td>\n      <td>Domestic</td>\n      <td>US</td>\n      <td>Enplaned</td>\n      <td>Low Fare</td>\n      <td>Terminal 1</td>\n      <td>B</td>\n      <td>29131</td>\n    </tr>\n    <tr>\n      <th>2</th>\n      <td>200507</td>\n      <td>ATA Airlines</td>\n      <td>TZ</td>\n      <td>ATA Airlines</td>\n      <td>TZ</td>\n      <td>Domestic</td>\n      <td>US</td>\n      <td>Thru / Transit</td>\n      <td>Low Fare</td>\n      <td>Terminal 1</td>\n      <td>B</td>\n      <td>5415</td>\n    </tr>\n    <tr>\n      <th>3</th>\n      <td>200507</td>\n      <td>Air Canada</td>\n      <td>AC</td>\n      <td>Air Canada</td>\n      <td>AC</td>\n      <td>International</td>\n      <td>Canada</td>\n      <td>Deplaned</td>\n      <td>Other</td>\n      <td>Terminal 1</td>\n      <td>B</td>\n      <td>35156</td>\n    </tr>\n    <tr>\n      <th>4</th>\n      <td>200507</td>\n      <td>Air Canada</td>\n      <td>AC</td>\n      <td>Air Canada</td>\n      <td>AC</td>\n      <td>International</td>\n      <td>Canada</td>\n      <td>Enplaned</td>\n      <td>Other</td>\n      <td>Terminal 1</td>\n      <td>B</td>\n      <td>34090</td>\n    </tr>\n  </tbody>\n</table>\n</div>"
     },
     "metadata": {},
     "execution_count": 2
    }
   ],
   "source": [
    "import pandas as pd\n",
    "import numpy as np\n",
    "air = pd.read_csv(\"dane/course-files/Air_Traffic_Passenger_Statistics.csv\")\n",
    "air.head()"
   ]
  },
  {
   "cell_type": "code",
   "execution_count": 3,
   "metadata": {},
   "outputs": [
    {
     "output_type": "execute_result",
     "data": {
      "text/plain": "RangeIndex(start=0, stop=18398, step=1)"
     },
     "metadata": {},
     "execution_count": 3
    }
   ],
   "source": [
    "air.index"
   ]
  },
  {
   "cell_type": "code",
   "execution_count": 4,
   "metadata": {},
   "outputs": [],
   "source": [
    "air.set_index([\"Operating Airline\", \"Activity Period\"], inplace = True)"
   ]
  },
  {
   "cell_type": "code",
   "execution_count": 6,
   "metadata": {},
   "outputs": [
    {
     "output_type": "execute_result",
     "data": {
      "text/plain": "                                  Operating Airline IATA Code  \\\nOperating Airline Activity Period                               \nATA Airlines      200507                                   TZ   \n                  200507                                   TZ   \n                  200507                                   TZ   \nAir Canada        200507                                   AC   \n                  200507                                   AC   \nAir China         200507                                   CA   \n                  200507                                   CA   \nAir France        200507                                   AF   \n                  200507                                   AF   \nAir New Zealand   200507                                   NZ   \n\n                                  Published Airline  \\\nOperating Airline Activity Period                     \nATA Airlines      200507               ATA Airlines   \n                  200507               ATA Airlines   \n                  200507               ATA Airlines   \nAir Canada        200507                 Air Canada   \n                  200507                 Air Canada   \nAir China         200507                  Air China   \n                  200507                  Air China   \nAir France        200507                 Air France   \n                  200507                 Air France   \nAir New Zealand   200507            Air New Zealand   \n\n                                  Published Airline IATA Code    GEO Summary  \\\nOperating Airline Activity Period                                              \nATA Airlines      200507                                   TZ       Domestic   \n                  200507                                   TZ       Domestic   \n                  200507                                   TZ       Domestic   \nAir Canada        200507                                   AC  International   \n                  200507                                   AC  International   \nAir China         200507                                   CA  International   \n                  200507                                   CA  International   \nAir France        200507                                   AF  International   \n                  200507                                   AF  International   \nAir New Zealand   200507                                   NZ  International   \n\n                                            GEO Region Activity Type Code  \\\nOperating Airline Activity Period                                           \nATA Airlines      200507                            US           Deplaned   \n                  200507                            US           Enplaned   \n                  200507                            US     Thru / Transit   \nAir Canada        200507                        Canada           Deplaned   \n                  200507                        Canada           Enplaned   \nAir China         200507                          Asia           Deplaned   \n                  200507                          Asia           Enplaned   \nAir France        200507                        Europe           Deplaned   \n                  200507                        Europe           Enplaned   \nAir New Zealand   200507           Australia / Oceania           Deplaned   \n\n                                  Price Category Code       Terminal  \\\nOperating Airline Activity Period                                      \nATA Airlines      200507                     Low Fare     Terminal 1   \n                  200507                     Low Fare     Terminal 1   \n                  200507                     Low Fare     Terminal 1   \nAir Canada        200507                        Other     Terminal 1   \n                  200507                        Other     Terminal 1   \nAir China         200507                        Other  International   \n                  200507                        Other  International   \nAir France        200507                        Other  International   \n                  200507                        Other  International   \nAir New Zealand   200507                        Other  International   \n\n                                  Boarding Area  Passenger Count  \nOperating Airline Activity Period                                 \nATA Airlines      200507                      B            27271  \n                  200507                      B            29131  \n                  200507                      B             5415  \nAir Canada        200507                      B            35156  \n                  200507                      B            34090  \nAir China         200507                      G             6263  \n                  200507                      G             5500  \nAir France        200507                      A            12050  \n                  200507                      A            11638  \nAir New Zealand   200507                      G             4998  ",
      "text/html": "<div>\n<style scoped>\n    .dataframe tbody tr th:only-of-type {\n        vertical-align: middle;\n    }\n\n    .dataframe tbody tr th {\n        vertical-align: top;\n    }\n\n    .dataframe thead th {\n        text-align: right;\n    }\n</style>\n<table border=\"1\" class=\"dataframe\">\n  <thead>\n    <tr style=\"text-align: right;\">\n      <th></th>\n      <th></th>\n      <th>Operating Airline IATA Code</th>\n      <th>Published Airline</th>\n      <th>Published Airline IATA Code</th>\n      <th>GEO Summary</th>\n      <th>GEO Region</th>\n      <th>Activity Type Code</th>\n      <th>Price Category Code</th>\n      <th>Terminal</th>\n      <th>Boarding Area</th>\n      <th>Passenger Count</th>\n    </tr>\n    <tr>\n      <th>Operating Airline</th>\n      <th>Activity Period</th>\n      <th></th>\n      <th></th>\n      <th></th>\n      <th></th>\n      <th></th>\n      <th></th>\n      <th></th>\n      <th></th>\n      <th></th>\n      <th></th>\n    </tr>\n  </thead>\n  <tbody>\n    <tr>\n      <th rowspan=\"3\" valign=\"top\">ATA Airlines</th>\n      <th>200507</th>\n      <td>TZ</td>\n      <td>ATA Airlines</td>\n      <td>TZ</td>\n      <td>Domestic</td>\n      <td>US</td>\n      <td>Deplaned</td>\n      <td>Low Fare</td>\n      <td>Terminal 1</td>\n      <td>B</td>\n      <td>27271</td>\n    </tr>\n    <tr>\n      <th>200507</th>\n      <td>TZ</td>\n      <td>ATA Airlines</td>\n      <td>TZ</td>\n      <td>Domestic</td>\n      <td>US</td>\n      <td>Enplaned</td>\n      <td>Low Fare</td>\n      <td>Terminal 1</td>\n      <td>B</td>\n      <td>29131</td>\n    </tr>\n    <tr>\n      <th>200507</th>\n      <td>TZ</td>\n      <td>ATA Airlines</td>\n      <td>TZ</td>\n      <td>Domestic</td>\n      <td>US</td>\n      <td>Thru / Transit</td>\n      <td>Low Fare</td>\n      <td>Terminal 1</td>\n      <td>B</td>\n      <td>5415</td>\n    </tr>\n    <tr>\n      <th rowspan=\"2\" valign=\"top\">Air Canada</th>\n      <th>200507</th>\n      <td>AC</td>\n      <td>Air Canada</td>\n      <td>AC</td>\n      <td>International</td>\n      <td>Canada</td>\n      <td>Deplaned</td>\n      <td>Other</td>\n      <td>Terminal 1</td>\n      <td>B</td>\n      <td>35156</td>\n    </tr>\n    <tr>\n      <th>200507</th>\n      <td>AC</td>\n      <td>Air Canada</td>\n      <td>AC</td>\n      <td>International</td>\n      <td>Canada</td>\n      <td>Enplaned</td>\n      <td>Other</td>\n      <td>Terminal 1</td>\n      <td>B</td>\n      <td>34090</td>\n    </tr>\n    <tr>\n      <th rowspan=\"2\" valign=\"top\">Air China</th>\n      <th>200507</th>\n      <td>CA</td>\n      <td>Air China</td>\n      <td>CA</td>\n      <td>International</td>\n      <td>Asia</td>\n      <td>Deplaned</td>\n      <td>Other</td>\n      <td>International</td>\n      <td>G</td>\n      <td>6263</td>\n    </tr>\n    <tr>\n      <th>200507</th>\n      <td>CA</td>\n      <td>Air China</td>\n      <td>CA</td>\n      <td>International</td>\n      <td>Asia</td>\n      <td>Enplaned</td>\n      <td>Other</td>\n      <td>International</td>\n      <td>G</td>\n      <td>5500</td>\n    </tr>\n    <tr>\n      <th rowspan=\"2\" valign=\"top\">Air France</th>\n      <th>200507</th>\n      <td>AF</td>\n      <td>Air France</td>\n      <td>AF</td>\n      <td>International</td>\n      <td>Europe</td>\n      <td>Deplaned</td>\n      <td>Other</td>\n      <td>International</td>\n      <td>A</td>\n      <td>12050</td>\n    </tr>\n    <tr>\n      <th>200507</th>\n      <td>AF</td>\n      <td>Air France</td>\n      <td>AF</td>\n      <td>International</td>\n      <td>Europe</td>\n      <td>Enplaned</td>\n      <td>Other</td>\n      <td>International</td>\n      <td>A</td>\n      <td>11638</td>\n    </tr>\n    <tr>\n      <th>Air New Zealand</th>\n      <th>200507</th>\n      <td>NZ</td>\n      <td>Air New Zealand</td>\n      <td>NZ</td>\n      <td>International</td>\n      <td>Australia / Oceania</td>\n      <td>Deplaned</td>\n      <td>Other</td>\n      <td>International</td>\n      <td>G</td>\n      <td>4998</td>\n    </tr>\n  </tbody>\n</table>\n</div>"
     },
     "metadata": {},
     "execution_count": 6
    }
   ],
   "source": [
    "air.head(10)"
   ]
  },
  {
   "cell_type": "code",
   "execution_count": 7,
   "metadata": {},
   "outputs": [
    {
     "output_type": "execute_result",
     "data": {
      "text/plain": "MultiIndex([(    'ATA Airlines', 200507),\n            (    'ATA Airlines', 200507),\n            (    'ATA Airlines', 200507),\n            (      'Air Canada', 200507),\n            (      'Air Canada', 200507),\n            (       'Air China', 200507),\n            (       'Air China', 200507),\n            (      'Air France', 200507),\n            (      'Air France', 200507),\n            ( 'Air New Zealand', 200507),\n            ...\n            (  'Virgin America', 201803),\n            (  'Virgin America', 201803),\n            (  'Virgin America', 201803),\n            ( 'Virgin Atlantic', 201803),\n            ( 'Virgin Atlantic', 201803),\n            ('Volaris Airlines', 201803),\n            ('Volaris Airlines', 201803),\n            (         'WOW Air', 201803),\n            (         'WOW Air', 201803),\n            (         'WOW Air', 201803)],\n           names=['Operating Airline', 'Activity Period'], length=18398)"
     },
     "metadata": {},
     "execution_count": 7
    }
   ],
   "source": [
    "air.index"
   ]
  },
  {
   "cell_type": "code",
   "execution_count": 8,
   "metadata": {},
   "outputs": [
    {
     "output_type": "execute_result",
     "data": {
      "text/plain": "('ATA Airlines', 200507)"
     },
     "metadata": {},
     "execution_count": 8
    }
   ],
   "source": [
    "air.index[0]"
   ]
  },
  {
   "cell_type": "code",
   "execution_count": 9,
   "metadata": {},
   "outputs": [
    {
     "output_type": "execute_result",
     "data": {
      "text/plain": "Index(['ATA Airlines', 'ATA Airlines', 'ATA Airlines', 'Air Canada',\n       'Air Canada', 'Air China', 'Air China', 'Air France', 'Air France',\n       'Air New Zealand',\n       ...\n       'Virgin America', 'Virgin America', 'Virgin America', 'Virgin Atlantic',\n       'Virgin Atlantic', 'Volaris Airlines', 'Volaris Airlines', 'WOW Air',\n       'WOW Air', 'WOW Air'],\n      dtype='object', name='Operating Airline', length=18398)"
     },
     "metadata": {},
     "execution_count": 9
    }
   ],
   "source": [
    "air.index.get_level_values(0)"
   ]
  },
  {
   "cell_type": "code",
   "execution_count": 10,
   "metadata": {},
   "outputs": [
    {
     "output_type": "execute_result",
     "data": {
      "text/plain": "Int64Index([200507, 200507, 200507, 200507, 200507, 200507, 200507, 200507,\n            200507, 200507,\n            ...\n            201803, 201803, 201803, 201803, 201803, 201803, 201803, 201803,\n            201803, 201803],\n           dtype='int64', name='Activity Period', length=18398)"
     },
     "metadata": {},
     "execution_count": 10
    }
   ],
   "source": [
    "air.index.get_level_values(1)"
   ]
  },
  {
   "cell_type": "code",
   "execution_count": 11,
   "metadata": {},
   "outputs": [
    {
     "output_type": "execute_result",
     "data": {
      "text/plain": "  Operating Airline  Activity Period Operating Airline IATA Code  \\\n0      ATA Airlines           200507                          TZ   \n1      ATA Airlines           200507                          TZ   \n2      ATA Airlines           200507                          TZ   \n3        Air Canada           200507                          AC   \n4        Air Canada           200507                          AC   \n\n  Published Airline Published Airline IATA Code    GEO Summary GEO Region  \\\n0      ATA Airlines                          TZ       Domestic         US   \n1      ATA Airlines                          TZ       Domestic         US   \n2      ATA Airlines                          TZ       Domestic         US   \n3        Air Canada                          AC  International     Canada   \n4        Air Canada                          AC  International     Canada   \n\n  Activity Type Code Price Category Code    Terminal Boarding Area  \\\n0           Deplaned            Low Fare  Terminal 1             B   \n1           Enplaned            Low Fare  Terminal 1             B   \n2     Thru / Transit            Low Fare  Terminal 1             B   \n3           Deplaned               Other  Terminal 1             B   \n4           Enplaned               Other  Terminal 1             B   \n\n   Passenger Count  \n0            27271  \n1            29131  \n2             5415  \n3            35156  \n4            34090  ",
      "text/html": "<div>\n<style scoped>\n    .dataframe tbody tr th:only-of-type {\n        vertical-align: middle;\n    }\n\n    .dataframe tbody tr th {\n        vertical-align: top;\n    }\n\n    .dataframe thead th {\n        text-align: right;\n    }\n</style>\n<table border=\"1\" class=\"dataframe\">\n  <thead>\n    <tr style=\"text-align: right;\">\n      <th></th>\n      <th>Operating Airline</th>\n      <th>Activity Period</th>\n      <th>Operating Airline IATA Code</th>\n      <th>Published Airline</th>\n      <th>Published Airline IATA Code</th>\n      <th>GEO Summary</th>\n      <th>GEO Region</th>\n      <th>Activity Type Code</th>\n      <th>Price Category Code</th>\n      <th>Terminal</th>\n      <th>Boarding Area</th>\n      <th>Passenger Count</th>\n    </tr>\n  </thead>\n  <tbody>\n    <tr>\n      <th>0</th>\n      <td>ATA Airlines</td>\n      <td>200507</td>\n      <td>TZ</td>\n      <td>ATA Airlines</td>\n      <td>TZ</td>\n      <td>Domestic</td>\n      <td>US</td>\n      <td>Deplaned</td>\n      <td>Low Fare</td>\n      <td>Terminal 1</td>\n      <td>B</td>\n      <td>27271</td>\n    </tr>\n    <tr>\n      <th>1</th>\n      <td>ATA Airlines</td>\n      <td>200507</td>\n      <td>TZ</td>\n      <td>ATA Airlines</td>\n      <td>TZ</td>\n      <td>Domestic</td>\n      <td>US</td>\n      <td>Enplaned</td>\n      <td>Low Fare</td>\n      <td>Terminal 1</td>\n      <td>B</td>\n      <td>29131</td>\n    </tr>\n    <tr>\n      <th>2</th>\n      <td>ATA Airlines</td>\n      <td>200507</td>\n      <td>TZ</td>\n      <td>ATA Airlines</td>\n      <td>TZ</td>\n      <td>Domestic</td>\n      <td>US</td>\n      <td>Thru / Transit</td>\n      <td>Low Fare</td>\n      <td>Terminal 1</td>\n      <td>B</td>\n      <td>5415</td>\n    </tr>\n    <tr>\n      <th>3</th>\n      <td>Air Canada</td>\n      <td>200507</td>\n      <td>AC</td>\n      <td>Air Canada</td>\n      <td>AC</td>\n      <td>International</td>\n      <td>Canada</td>\n      <td>Deplaned</td>\n      <td>Other</td>\n      <td>Terminal 1</td>\n      <td>B</td>\n      <td>35156</td>\n    </tr>\n    <tr>\n      <th>4</th>\n      <td>Air Canada</td>\n      <td>200507</td>\n      <td>AC</td>\n      <td>Air Canada</td>\n      <td>AC</td>\n      <td>International</td>\n      <td>Canada</td>\n      <td>Enplaned</td>\n      <td>Other</td>\n      <td>Terminal 1</td>\n      <td>B</td>\n      <td>34090</td>\n    </tr>\n  </tbody>\n</table>\n</div>"
     },
     "metadata": {},
     "execution_count": 11
    }
   ],
   "source": [
    "air.reset_index(inplace = True)\n",
    "air.head()"
   ]
  },
  {
   "cell_type": "code",
   "execution_count": 13,
   "metadata": {},
   "outputs": [],
   "source": [
    "air.set_index([\"Activity Period\", \"Operating Airline\"], inplace = True)"
   ]
  },
  {
   "cell_type": "code",
   "execution_count": 14,
   "metadata": {},
   "outputs": [
    {
     "output_type": "execute_result",
     "data": {
      "text/plain": "                                  Operating Airline IATA Code  \\\nActivity Period Operating Airline                               \n200507          ATA Airlines                               TZ   \n                ATA Airlines                               TZ   \n                ATA Airlines                               TZ   \n                Air Canada                                 AC   \n                Air Canada                                 AC   \n\n                                  Published Airline  \\\nActivity Period Operating Airline                     \n200507          ATA Airlines           ATA Airlines   \n                ATA Airlines           ATA Airlines   \n                ATA Airlines           ATA Airlines   \n                Air Canada               Air Canada   \n                Air Canada               Air Canada   \n\n                                  Published Airline IATA Code    GEO Summary  \\\nActivity Period Operating Airline                                              \n200507          ATA Airlines                               TZ       Domestic   \n                ATA Airlines                               TZ       Domestic   \n                ATA Airlines                               TZ       Domestic   \n                Air Canada                                 AC  International   \n                Air Canada                                 AC  International   \n\n                                  GEO Region Activity Type Code  \\\nActivity Period Operating Airline                                 \n200507          ATA Airlines              US           Deplaned   \n                ATA Airlines              US           Enplaned   \n                ATA Airlines              US     Thru / Transit   \n                Air Canada            Canada           Deplaned   \n                Air Canada            Canada           Enplaned   \n\n                                  Price Category Code    Terminal  \\\nActivity Period Operating Airline                                   \n200507          ATA Airlines                 Low Fare  Terminal 1   \n                ATA Airlines                 Low Fare  Terminal 1   \n                ATA Airlines                 Low Fare  Terminal 1   \n                Air Canada                      Other  Terminal 1   \n                Air Canada                      Other  Terminal 1   \n\n                                  Boarding Area  Passenger Count  \nActivity Period Operating Airline                                 \n200507          ATA Airlines                  B            27271  \n                ATA Airlines                  B            29131  \n                ATA Airlines                  B             5415  \n                Air Canada                    B            35156  \n                Air Canada                    B            34090  ",
      "text/html": "<div>\n<style scoped>\n    .dataframe tbody tr th:only-of-type {\n        vertical-align: middle;\n    }\n\n    .dataframe tbody tr th {\n        vertical-align: top;\n    }\n\n    .dataframe thead th {\n        text-align: right;\n    }\n</style>\n<table border=\"1\" class=\"dataframe\">\n  <thead>\n    <tr style=\"text-align: right;\">\n      <th></th>\n      <th></th>\n      <th>Operating Airline IATA Code</th>\n      <th>Published Airline</th>\n      <th>Published Airline IATA Code</th>\n      <th>GEO Summary</th>\n      <th>GEO Region</th>\n      <th>Activity Type Code</th>\n      <th>Price Category Code</th>\n      <th>Terminal</th>\n      <th>Boarding Area</th>\n      <th>Passenger Count</th>\n    </tr>\n    <tr>\n      <th>Activity Period</th>\n      <th>Operating Airline</th>\n      <th></th>\n      <th></th>\n      <th></th>\n      <th></th>\n      <th></th>\n      <th></th>\n      <th></th>\n      <th></th>\n      <th></th>\n      <th></th>\n    </tr>\n  </thead>\n  <tbody>\n    <tr>\n      <th rowspan=\"5\" valign=\"top\">200507</th>\n      <th>ATA Airlines</th>\n      <td>TZ</td>\n      <td>ATA Airlines</td>\n      <td>TZ</td>\n      <td>Domestic</td>\n      <td>US</td>\n      <td>Deplaned</td>\n      <td>Low Fare</td>\n      <td>Terminal 1</td>\n      <td>B</td>\n      <td>27271</td>\n    </tr>\n    <tr>\n      <th>ATA Airlines</th>\n      <td>TZ</td>\n      <td>ATA Airlines</td>\n      <td>TZ</td>\n      <td>Domestic</td>\n      <td>US</td>\n      <td>Enplaned</td>\n      <td>Low Fare</td>\n      <td>Terminal 1</td>\n      <td>B</td>\n      <td>29131</td>\n    </tr>\n    <tr>\n      <th>ATA Airlines</th>\n      <td>TZ</td>\n      <td>ATA Airlines</td>\n      <td>TZ</td>\n      <td>Domestic</td>\n      <td>US</td>\n      <td>Thru / Transit</td>\n      <td>Low Fare</td>\n      <td>Terminal 1</td>\n      <td>B</td>\n      <td>5415</td>\n    </tr>\n    <tr>\n      <th>Air Canada</th>\n      <td>AC</td>\n      <td>Air Canada</td>\n      <td>AC</td>\n      <td>International</td>\n      <td>Canada</td>\n      <td>Deplaned</td>\n      <td>Other</td>\n      <td>Terminal 1</td>\n      <td>B</td>\n      <td>35156</td>\n    </tr>\n    <tr>\n      <th>Air Canada</th>\n      <td>AC</td>\n      <td>Air Canada</td>\n      <td>AC</td>\n      <td>International</td>\n      <td>Canada</td>\n      <td>Enplaned</td>\n      <td>Other</td>\n      <td>Terminal 1</td>\n      <td>B</td>\n      <td>34090</td>\n    </tr>\n  </tbody>\n</table>\n</div>"
     },
     "metadata": {},
     "execution_count": 14
    }
   ],
   "source": [
    "air.head()"
   ]
  },
  {
   "cell_type": "code",
   "execution_count": 15,
   "metadata": {},
   "outputs": [
    {
     "output_type": "execute_result",
     "data": {
      "text/plain": "MultiIndex([(200507,     'ATA Airlines'),\n            (200507,     'ATA Airlines'),\n            (200507,     'ATA Airlines'),\n            (200507,       'Air Canada'),\n            (200507,       'Air Canada'),\n            (200507,        'Air China'),\n            (200507,        'Air China'),\n            (200507,       'Air France'),\n            (200507,       'Air France'),\n            (200507,  'Air New Zealand'),\n            ...\n            (201803,   'Virgin America'),\n            (201803,   'Virgin America'),\n            (201803,   'Virgin America'),\n            (201803,  'Virgin Atlantic'),\n            (201803,  'Virgin Atlantic'),\n            (201803, 'Volaris Airlines'),\n            (201803, 'Volaris Airlines'),\n            (201803,          'WOW Air'),\n            (201803,          'WOW Air'),\n            (201803,          'WOW Air')],\n           names=['Activity Period', 'Operating Airline'], length=18398)"
     },
     "metadata": {},
     "execution_count": 15
    }
   ],
   "source": [
    "air.index"
   ]
  },
  {
   "cell_type": "code",
   "execution_count": 16,
   "metadata": {},
   "outputs": [
    {
     "output_type": "execute_result",
     "data": {
      "text/plain": "(200507, 'ATA Airlines')"
     },
     "metadata": {},
     "execution_count": 16
    }
   ],
   "source": [
    "air.index[0]"
   ]
  },
  {
   "cell_type": "code",
   "execution_count": 17,
   "metadata": {},
   "outputs": [
    {
     "output_type": "execute_result",
     "data": {
      "text/plain": "Int64Index([200507, 200507, 200507, 200507, 200507, 200507, 200507, 200507,\n            200507, 200507,\n            ...\n            201803, 201803, 201803, 201803, 201803, 201803, 201803, 201803,\n            201803, 201803],\n           dtype='int64', name='Activity Period', length=18398)"
     },
     "metadata": {},
     "execution_count": 17
    }
   ],
   "source": [
    "air.index.get_level_values(0)"
   ]
  },
  {
   "cell_type": "code",
   "execution_count": 18,
   "metadata": {},
   "outputs": [
    {
     "output_type": "execute_result",
     "data": {
      "text/plain": "Index(['ATA Airlines', 'ATA Airlines', 'ATA Airlines', 'Air Canada',\n       'Air Canada', 'Air China', 'Air China', 'Air France', 'Air France',\n       'Air New Zealand',\n       ...\n       'Virgin America', 'Virgin America', 'Virgin America', 'Virgin Atlantic',\n       'Virgin Atlantic', 'Volaris Airlines', 'Volaris Airlines', 'WOW Air',\n       'WOW Air', 'WOW Air'],\n      dtype='object', name='Operating Airline', length=18398)"
     },
     "metadata": {},
     "execution_count": 18
    }
   ],
   "source": [
    "air.index.get_level_values(1)"
   ]
  },
  {
   "cell_type": "code",
   "execution_count": 19,
   "metadata": {},
   "outputs": [
    {
     "output_type": "execute_result",
     "data": {
      "text/plain": "FrozenList(['Activity Period', 'Operating Airline'])"
     },
     "metadata": {},
     "execution_count": 19
    }
   ],
   "source": [
    "air.index.names"
   ]
  },
  {
   "cell_type": "code",
   "execution_count": null,
   "metadata": {},
   "outputs": [],
   "source": []
  }
 ],
 "metadata": {
  "language_info": {
   "codemirror_mode": {
    "name": "ipython",
    "version": 3
   },
   "file_extension": ".py",
   "mimetype": "text/x-python",
   "name": "python",
   "nbconvert_exporter": "python",
   "pygments_lexer": "ipython3",
   "version": "3.8.2-final"
  },
  "orig_nbformat": 2,
  "kernelspec": {
   "name": "python38264bitdatasciencef2t2jzuxvenv755777717192484c92e98af808cd61d4",
   "display_name": "Python 3.8.2 64-bit ('Data_Science-f2T2jZux': venv)"
  }
 },
 "nbformat": 4,
 "nbformat_minor": 2
}